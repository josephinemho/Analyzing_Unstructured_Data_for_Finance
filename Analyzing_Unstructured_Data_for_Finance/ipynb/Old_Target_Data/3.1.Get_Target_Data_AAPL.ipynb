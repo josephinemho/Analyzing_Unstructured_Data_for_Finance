{
 "cells": [
  {
   "cell_type": "markdown",
   "metadata": {},
   "source": [
    "# Part 3 -- Get Target Data (AAPL)\n",
    "\n",
    "Get our target data (Apple stocks) and perform calculations. We want to look at the Close price to determine whether stocks went up/down/neutral compared to the previous day. This will be a **classification model** and we will set our threshold of up/down/neutral to a change of 1%."
   ]
  },
  {
   "cell_type": "markdown",
   "metadata": {},
   "source": [
    "**Load lib codes**"
   ]
  },
  {
   "cell_type": "code",
   "execution_count": 2,
   "metadata": {
    "collapsed": true
   },
   "outputs": [],
   "source": [
    "from os import chdir\n",
    "chdir('/home/jovyan/work/Portfolio/Analyzing_Unstructured_Data_for_Finance/')\n",
    "\n",
    "from lib import *\n",
    "# suppress_warnings()"
   ]
  },
  {
   "cell_type": "code",
   "execution_count": 3,
   "metadata": {},
   "outputs": [
    {
     "name": "stdout",
     "output_type": "stream",
     "text": [
      "Requirement already satisfied (use --upgrade to upgrade): pandas-datareader in /opt/conda/lib/python3.5/site-packages\n",
      "Requirement already satisfied (use --upgrade to upgrade): requests-file in /opt/conda/lib/python3.5/site-packages (from pandas-datareader)\n",
      "Requirement already satisfied (use --upgrade to upgrade): requests-ftp in /opt/conda/lib/python3.5/site-packages (from pandas-datareader)\n",
      "Requirement already satisfied (use --upgrade to upgrade): requests>=2.3.0 in /opt/conda/lib/python3.5/site-packages (from pandas-datareader)\n",
      "Requirement already satisfied (use --upgrade to upgrade): pandas>=0.17.0 in /opt/conda/lib/python3.5/site-packages (from pandas-datareader)\n",
      "Requirement already satisfied (use --upgrade to upgrade): six in /opt/conda/lib/python3.5/site-packages (from requests-file->pandas-datareader)\n",
      "Requirement already satisfied (use --upgrade to upgrade): python-dateutil>=2 in /opt/conda/lib/python3.5/site-packages (from pandas>=0.17.0->pandas-datareader)\n",
      "Requirement already satisfied (use --upgrade to upgrade): pytz>=2011k in /opt/conda/lib/python3.5/site-packages (from pandas>=0.17.0->pandas-datareader)\n",
      "Requirement already satisfied (use --upgrade to upgrade): numpy>=1.7.0 in /opt/conda/lib/python3.5/site-packages (from pandas>=0.17.0->pandas-datareader)\n",
      "\u001b[33mYou are using pip version 8.1.2, however version 9.0.1 is available.\n",
      "You should consider upgrading via the 'pip install --upgrade pip' command.\u001b[0m\n"
     ]
    }
   ],
   "source": [
    "!pip install pandas-datareader"
   ]
  },
  {
   "cell_type": "code",
   "execution_count": 4,
   "metadata": {
    "collapsed": true,
    "scrolled": true
   },
   "outputs": [],
   "source": [
    "import pandas_datareader.data as web"
   ]
  },
  {
   "cell_type": "code",
   "execution_count": 5,
   "metadata": {
    "collapsed": true
   },
   "outputs": [],
   "source": [
    "start = dt.datetime(2009,6,11)\n",
    "end = dt.datetime(2017,6,11)\n",
    "AAPL_df = web.DataReader('AAPL', 'google', start, end)"
   ]
  },
  {
   "cell_type": "code",
   "execution_count": 6,
   "metadata": {
    "collapsed": true,
    "scrolled": true
   },
   "outputs": [],
   "source": [
    "AAPL_df = AAPL_df.reset_index()"
   ]
  },
  {
   "cell_type": "code",
   "execution_count": 7,
   "metadata": {
    "scrolled": true
   },
   "outputs": [
    {
     "data": {
      "text/html": [
       "<div>\n",
       "<table border=\"1\" class=\"dataframe\">\n",
       "  <thead>\n",
       "    <tr style=\"text-align: right;\">\n",
       "      <th></th>\n",
       "      <th>Date</th>\n",
       "      <th>Open</th>\n",
       "      <th>High</th>\n",
       "      <th>Low</th>\n",
       "      <th>Close</th>\n",
       "      <th>Volume</th>\n",
       "    </tr>\n",
       "  </thead>\n",
       "  <tbody>\n",
       "    <tr>\n",
       "      <th>0</th>\n",
       "      <td>2009-06-11</td>\n",
       "      <td>19.94</td>\n",
       "      <td>20.22</td>\n",
       "      <td>19.79</td>\n",
       "      <td>19.99</td>\n",
       "      <td>131205851</td>\n",
       "    </tr>\n",
       "    <tr>\n",
       "      <th>1</th>\n",
       "      <td>2009-06-12</td>\n",
       "      <td>19.83</td>\n",
       "      <td>19.87</td>\n",
       "      <td>19.43</td>\n",
       "      <td>19.57</td>\n",
       "      <td>140771232</td>\n",
       "    </tr>\n",
       "    <tr>\n",
       "      <th>2</th>\n",
       "      <td>2009-06-15</td>\n",
       "      <td>19.43</td>\n",
       "      <td>19.56</td>\n",
       "      <td>19.27</td>\n",
       "      <td>19.44</td>\n",
       "      <td>134987111</td>\n",
       "    </tr>\n",
       "    <tr>\n",
       "      <th>3</th>\n",
       "      <td>2009-06-16</td>\n",
       "      <td>19.52</td>\n",
       "      <td>19.78</td>\n",
       "      <td>19.44</td>\n",
       "      <td>19.48</td>\n",
       "      <td>128701237</td>\n",
       "    </tr>\n",
       "    <tr>\n",
       "      <th>4</th>\n",
       "      <td>2009-06-17</td>\n",
       "      <td>19.52</td>\n",
       "      <td>19.64</td>\n",
       "      <td>19.22</td>\n",
       "      <td>19.37</td>\n",
       "      <td>142853172</td>\n",
       "    </tr>\n",
       "  </tbody>\n",
       "</table>\n",
       "</div>"
      ],
      "text/plain": [
       "        Date   Open   High    Low  Close     Volume\n",
       "0 2009-06-11  19.94  20.22  19.79  19.99  131205851\n",
       "1 2009-06-12  19.83  19.87  19.43  19.57  140771232\n",
       "2 2009-06-15  19.43  19.56  19.27  19.44  134987111\n",
       "3 2009-06-16  19.52  19.78  19.44  19.48  128701237\n",
       "4 2009-06-17  19.52  19.64  19.22  19.37  142853172"
      ]
     },
     "execution_count": 7,
     "metadata": {},
     "output_type": "execute_result"
    }
   ],
   "source": [
    "AAPL_df.head()"
   ]
  },
  {
   "cell_type": "code",
   "execution_count": 8,
   "metadata": {
    "collapsed": true
   },
   "outputs": [],
   "source": [
    "AAPL_df['Diff'] = AAPL_df['Close'].diff()"
   ]
  },
  {
   "cell_type": "code",
   "execution_count": 9,
   "metadata": {
    "scrolled": true
   },
   "outputs": [
    {
     "data": {
      "text/html": [
       "<div>\n",
       "<table border=\"1\" class=\"dataframe\">\n",
       "  <thead>\n",
       "    <tr style=\"text-align: right;\">\n",
       "      <th></th>\n",
       "      <th>Date</th>\n",
       "      <th>Open</th>\n",
       "      <th>High</th>\n",
       "      <th>Low</th>\n",
       "      <th>Close</th>\n",
       "      <th>Volume</th>\n",
       "      <th>Diff</th>\n",
       "    </tr>\n",
       "  </thead>\n",
       "  <tbody>\n",
       "    <tr>\n",
       "      <th>0</th>\n",
       "      <td>2009-06-11</td>\n",
       "      <td>19.94</td>\n",
       "      <td>20.22</td>\n",
       "      <td>19.79</td>\n",
       "      <td>19.99</td>\n",
       "      <td>131205851</td>\n",
       "      <td>NaN</td>\n",
       "    </tr>\n",
       "    <tr>\n",
       "      <th>1</th>\n",
       "      <td>2009-06-12</td>\n",
       "      <td>19.83</td>\n",
       "      <td>19.87</td>\n",
       "      <td>19.43</td>\n",
       "      <td>19.57</td>\n",
       "      <td>140771232</td>\n",
       "      <td>-0.42</td>\n",
       "    </tr>\n",
       "    <tr>\n",
       "      <th>2</th>\n",
       "      <td>2009-06-15</td>\n",
       "      <td>19.43</td>\n",
       "      <td>19.56</td>\n",
       "      <td>19.27</td>\n",
       "      <td>19.44</td>\n",
       "      <td>134987111</td>\n",
       "      <td>-0.13</td>\n",
       "    </tr>\n",
       "    <tr>\n",
       "      <th>3</th>\n",
       "      <td>2009-06-16</td>\n",
       "      <td>19.52</td>\n",
       "      <td>19.78</td>\n",
       "      <td>19.44</td>\n",
       "      <td>19.48</td>\n",
       "      <td>128701237</td>\n",
       "      <td>0.04</td>\n",
       "    </tr>\n",
       "    <tr>\n",
       "      <th>4</th>\n",
       "      <td>2009-06-17</td>\n",
       "      <td>19.52</td>\n",
       "      <td>19.64</td>\n",
       "      <td>19.22</td>\n",
       "      <td>19.37</td>\n",
       "      <td>142853172</td>\n",
       "      <td>-0.11</td>\n",
       "    </tr>\n",
       "  </tbody>\n",
       "</table>\n",
       "</div>"
      ],
      "text/plain": [
       "        Date   Open   High    Low  Close     Volume  Diff\n",
       "0 2009-06-11  19.94  20.22  19.79  19.99  131205851   NaN\n",
       "1 2009-06-12  19.83  19.87  19.43  19.57  140771232 -0.42\n",
       "2 2009-06-15  19.43  19.56  19.27  19.44  134987111 -0.13\n",
       "3 2009-06-16  19.52  19.78  19.44  19.48  128701237  0.04\n",
       "4 2009-06-17  19.52  19.64  19.22  19.37  142853172 -0.11"
      ]
     },
     "execution_count": 9,
     "metadata": {},
     "output_type": "execute_result"
    }
   ],
   "source": [
    "AAPL_df.head()"
   ]
  },
  {
   "cell_type": "markdown",
   "metadata": {},
   "source": [
    "# NOTE: Can always change this from a classification model to regression model by using Percent_Change as our target instead of Percent_Change_Class"
   ]
  },
  {
   "cell_type": "markdown",
   "metadata": {},
   "source": [
    "**We want the <u>PERCENT CHANGE</u> of each stock, so that data is normalized (this is especially important if we are going to make comparisons between stocks)**"
   ]
  },
  {
   "cell_type": "code",
   "execution_count": 10,
   "metadata": {
    "collapsed": true
   },
   "outputs": [],
   "source": [
    "AAPL_df['Percent_Change'] = ((AAPL_df['Close']-AAPL_df['Close'].shift(1))/AAPL_df['Close'])"
   ]
  },
  {
   "cell_type": "code",
   "execution_count": 11,
   "metadata": {},
   "outputs": [
    {
     "data": {
      "text/html": [
       "<div>\n",
       "<table border=\"1\" class=\"dataframe\">\n",
       "  <thead>\n",
       "    <tr style=\"text-align: right;\">\n",
       "      <th></th>\n",
       "      <th>Date</th>\n",
       "      <th>Open</th>\n",
       "      <th>High</th>\n",
       "      <th>Low</th>\n",
       "      <th>Close</th>\n",
       "      <th>Volume</th>\n",
       "      <th>Diff</th>\n",
       "      <th>Percent_Change</th>\n",
       "    </tr>\n",
       "  </thead>\n",
       "  <tbody>\n",
       "    <tr>\n",
       "      <th>0</th>\n",
       "      <td>2009-06-11</td>\n",
       "      <td>19.94</td>\n",
       "      <td>20.22</td>\n",
       "      <td>19.79</td>\n",
       "      <td>19.99</td>\n",
       "      <td>131205851</td>\n",
       "      <td>NaN</td>\n",
       "      <td>NaN</td>\n",
       "    </tr>\n",
       "    <tr>\n",
       "      <th>1</th>\n",
       "      <td>2009-06-12</td>\n",
       "      <td>19.83</td>\n",
       "      <td>19.87</td>\n",
       "      <td>19.43</td>\n",
       "      <td>19.57</td>\n",
       "      <td>140771232</td>\n",
       "      <td>-0.42</td>\n",
       "      <td>-0.021461</td>\n",
       "    </tr>\n",
       "    <tr>\n",
       "      <th>2</th>\n",
       "      <td>2009-06-15</td>\n",
       "      <td>19.43</td>\n",
       "      <td>19.56</td>\n",
       "      <td>19.27</td>\n",
       "      <td>19.44</td>\n",
       "      <td>134987111</td>\n",
       "      <td>-0.13</td>\n",
       "      <td>-0.006687</td>\n",
       "    </tr>\n",
       "    <tr>\n",
       "      <th>3</th>\n",
       "      <td>2009-06-16</td>\n",
       "      <td>19.52</td>\n",
       "      <td>19.78</td>\n",
       "      <td>19.44</td>\n",
       "      <td>19.48</td>\n",
       "      <td>128701237</td>\n",
       "      <td>0.04</td>\n",
       "      <td>0.002053</td>\n",
       "    </tr>\n",
       "    <tr>\n",
       "      <th>4</th>\n",
       "      <td>2009-06-17</td>\n",
       "      <td>19.52</td>\n",
       "      <td>19.64</td>\n",
       "      <td>19.22</td>\n",
       "      <td>19.37</td>\n",
       "      <td>142853172</td>\n",
       "      <td>-0.11</td>\n",
       "      <td>-0.005679</td>\n",
       "    </tr>\n",
       "  </tbody>\n",
       "</table>\n",
       "</div>"
      ],
      "text/plain": [
       "        Date   Open   High    Low  Close     Volume  Diff  Percent_Change\n",
       "0 2009-06-11  19.94  20.22  19.79  19.99  131205851   NaN             NaN\n",
       "1 2009-06-12  19.83  19.87  19.43  19.57  140771232 -0.42       -0.021461\n",
       "2 2009-06-15  19.43  19.56  19.27  19.44  134987111 -0.13       -0.006687\n",
       "3 2009-06-16  19.52  19.78  19.44  19.48  128701237  0.04        0.002053\n",
       "4 2009-06-17  19.52  19.64  19.22  19.37  142853172 -0.11       -0.005679"
      ]
     },
     "execution_count": 11,
     "metadata": {},
     "output_type": "execute_result"
    }
   ],
   "source": [
    "AAPL_df.head()"
   ]
  },
  {
   "cell_type": "markdown",
   "metadata": {},
   "source": [
    "# NOTE: Might want to consider tweaking the threshold\n",
    "(e.g. what percent change can my model detect?)"
   ]
  },
  {
   "cell_type": "code",
   "execution_count": 12,
   "metadata": {
    "collapsed": true
   },
   "outputs": [],
   "source": [
    "# Make threshold 1% (for percent change in daily Close price)\n",
    "def make_binary(data):\n",
    "    data_list = []\n",
    "    for d in data:\n",
    "        if round(d,2) < 0.01:\n",
    "            data_list.append('down')\n",
    "        elif round(d,2) == 0.01:\n",
    "            data_list.append('neutral')\n",
    "        elif round(d,2) > 0.01:\n",
    "            data_list.append('up')\n",
    "        else:\n",
    "            data_list.append(None)\n",
    "    return data_list"
   ]
  },
  {
   "cell_type": "code",
   "execution_count": 13,
   "metadata": {
    "collapsed": true
   },
   "outputs": [],
   "source": [
    "AAPL_df['Percent_Change_Class'] = make_binary(AAPL_df['Percent_Change'])"
   ]
  },
  {
   "cell_type": "code",
   "execution_count": 14,
   "metadata": {
    "scrolled": true
   },
   "outputs": [
    {
     "data": {
      "text/plain": [
       "(2013, 9)"
      ]
     },
     "execution_count": 14,
     "metadata": {},
     "output_type": "execute_result"
    }
   ],
   "source": [
    "AAPL_df.shape"
   ]
  },
  {
   "cell_type": "code",
   "execution_count": 15,
   "metadata": {},
   "outputs": [
    {
     "data": {
      "text/plain": [
       "down       1257\n",
       "neutral     447\n",
       "up          308\n",
       "Name: Percent_Change_Class, dtype: int64"
      ]
     },
     "execution_count": 15,
     "metadata": {},
     "output_type": "execute_result"
    }
   ],
   "source": [
    "AAPL_df['Percent_Change_Class'].value_counts()"
   ]
  },
  {
   "cell_type": "code",
   "execution_count": 16,
   "metadata": {
    "scrolled": false
   },
   "outputs": [
    {
     "data": {
      "text/html": [
       "<div>\n",
       "<table border=\"1\" class=\"dataframe\">\n",
       "  <thead>\n",
       "    <tr style=\"text-align: right;\">\n",
       "      <th></th>\n",
       "      <th>Date</th>\n",
       "      <th>Open</th>\n",
       "      <th>High</th>\n",
       "      <th>Low</th>\n",
       "      <th>Close</th>\n",
       "      <th>Volume</th>\n",
       "      <th>Diff</th>\n",
       "      <th>Percent_Change</th>\n",
       "      <th>Percent_Change_Class</th>\n",
       "    </tr>\n",
       "  </thead>\n",
       "  <tbody>\n",
       "    <tr>\n",
       "      <th>447</th>\n",
       "      <td>2011-03-22</td>\n",
       "      <td>48.94</td>\n",
       "      <td>48.95</td>\n",
       "      <td>48.45</td>\n",
       "      <td>48.74</td>\n",
       "      <td>81558162</td>\n",
       "      <td>0.27</td>\n",
       "      <td>0.005540</td>\n",
       "      <td>neutral</td>\n",
       "    </tr>\n",
       "    <tr>\n",
       "      <th>1024</th>\n",
       "      <td>2013-07-09</td>\n",
       "      <td>59.09</td>\n",
       "      <td>60.50</td>\n",
       "      <td>58.63</td>\n",
       "      <td>60.34</td>\n",
       "      <td>88172238</td>\n",
       "      <td>1.05</td>\n",
       "      <td>0.017401</td>\n",
       "      <td>up</td>\n",
       "    </tr>\n",
       "    <tr>\n",
       "      <th>710</th>\n",
       "      <td>2012-04-05</td>\n",
       "      <td>89.57</td>\n",
       "      <td>90.67</td>\n",
       "      <td>89.06</td>\n",
       "      <td>90.53</td>\n",
       "      <td>160318858</td>\n",
       "      <td>1.34</td>\n",
       "      <td>0.014802</td>\n",
       "      <td>neutral</td>\n",
       "    </tr>\n",
       "    <tr>\n",
       "      <th>211</th>\n",
       "      <td>2010-04-15</td>\n",
       "      <td>35.11</td>\n",
       "      <td>35.58</td>\n",
       "      <td>35.07</td>\n",
       "      <td>35.56</td>\n",
       "      <td>94195920</td>\n",
       "      <td>0.46</td>\n",
       "      <td>0.012936</td>\n",
       "      <td>neutral</td>\n",
       "    </tr>\n",
       "    <tr>\n",
       "      <th>362</th>\n",
       "      <td>2010-11-17</td>\n",
       "      <td>43.03</td>\n",
       "      <td>43.43</td>\n",
       "      <td>42.54</td>\n",
       "      <td>42.93</td>\n",
       "      <td>119862407</td>\n",
       "      <td>-0.15</td>\n",
       "      <td>-0.003494</td>\n",
       "      <td>down</td>\n",
       "    </tr>\n",
       "  </tbody>\n",
       "</table>\n",
       "</div>"
      ],
      "text/plain": [
       "           Date   Open   High    Low  Close     Volume  Diff  Percent_Change  \\\n",
       "447  2011-03-22  48.94  48.95  48.45  48.74   81558162  0.27        0.005540   \n",
       "1024 2013-07-09  59.09  60.50  58.63  60.34   88172238  1.05        0.017401   \n",
       "710  2012-04-05  89.57  90.67  89.06  90.53  160318858  1.34        0.014802   \n",
       "211  2010-04-15  35.11  35.58  35.07  35.56   94195920  0.46        0.012936   \n",
       "362  2010-11-17  43.03  43.43  42.54  42.93  119862407 -0.15       -0.003494   \n",
       "\n",
       "     Percent_Change_Class  \n",
       "447               neutral  \n",
       "1024                   up  \n",
       "710               neutral  \n",
       "211               neutral  \n",
       "362                  down  "
      ]
     },
     "execution_count": 16,
     "metadata": {},
     "output_type": "execute_result"
    }
   ],
   "source": [
    "AAPL_df.sample(5)"
   ]
  },
  {
   "cell_type": "code",
   "execution_count": 17,
   "metadata": {
    "collapsed": true
   },
   "outputs": [],
   "source": [
    "AAPL_df['Date'] = AAPL_df['Date'].dt.date"
   ]
  },
  {
   "cell_type": "code",
   "execution_count": 18,
   "metadata": {
    "collapsed": true
   },
   "outputs": [],
   "source": [
    "pd.to_pickle(AAPL_df, '../Analyzing_Unstructured_Data_for_Finance/data/3.1.AAPL_df.pickle')"
   ]
  },
  {
   "cell_type": "code",
   "execution_count": null,
   "metadata": {
    "collapsed": true
   },
   "outputs": [],
   "source": []
  }
 ],
 "metadata": {
  "kernelspec": {
   "display_name": "Python 3",
   "language": "python",
   "name": "python3"
  },
  "language_info": {
   "codemirror_mode": {
    "name": "ipython",
    "version": 3
   },
   "file_extension": ".py",
   "mimetype": "text/x-python",
   "name": "python",
   "nbconvert_exporter": "python",
   "pygments_lexer": "ipython3",
   "version": "3.5.2"
  }
 },
 "nbformat": 4,
 "nbformat_minor": 2
}
