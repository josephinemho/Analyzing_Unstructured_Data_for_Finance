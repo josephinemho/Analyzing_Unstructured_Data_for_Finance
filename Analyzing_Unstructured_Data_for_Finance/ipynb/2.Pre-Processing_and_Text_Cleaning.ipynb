{
 "cells": [
  {
   "cell_type": "markdown",
   "metadata": {},
   "source": [
    "# Part 2 -- Pre-Processing and Text Cleaning\n",
    "\n",
    "Next we're going to do some basic pre-processing, like converting the text to lower case and deleting URLs. We don't need to remove stopwords such as \"the\" and \"a\", which will be done when we pass our data through a NLTK model later. "
   ]
  },
  {
   "cell_type": "markdown",
   "metadata": {},
   "source": [
    "### Load lib codes:"
   ]
  },
  {
   "cell_type": "code",
   "execution_count": 1,
   "metadata": {
    "collapsed": true
   },
   "outputs": [],
   "source": [
    "from os import chdir\n",
    "chdir('/home/jovyan/work/Portfolio/Analyzing_Unstructured_Data_for_Finance/')\n",
    "\n",
    "from lib import *\n",
    "# suppress_warnings()"
   ]
  },
  {
   "cell_type": "code",
   "execution_count": 2,
   "metadata": {},
   "outputs": [
    {
     "name": "stdout",
     "output_type": "stream",
     "text": [
      "Requirement already satisfied (use --upgrade to upgrade): pymongo in /opt/conda/lib/python3.5/site-packages\n",
      "\u001b[33mYou are using pip version 8.1.2, however version 9.0.1 is available.\n",
      "You should consider upgrading via the 'pip install --upgrade pip' command.\u001b[0m\n"
     ]
    }
   ],
   "source": [
    "!pip install pymongo\n",
    "import pymongo"
   ]
  },
  {
   "cell_type": "code",
   "execution_count": 3,
   "metadata": {
    "collapsed": true
   },
   "outputs": [],
   "source": [
    "# Identify port for better security of MongoDB\n",
    "cli = pymongo.MongoClient(host='52.27.11.214', port=27016)"
   ]
  },
  {
   "cell_type": "code",
   "execution_count": 4,
   "metadata": {
    "scrolled": true
   },
   "outputs": [
    {
     "data": {
      "text/plain": [
       "['completed_collection', 'task_collection']"
      ]
     },
     "execution_count": 4,
     "metadata": {},
     "output_type": "execute_result"
    }
   ],
   "source": [
    "completed_collection = cli.twitter_db.completed_collection\n",
    "\n",
    "cli.twitter_db.collection_names()"
   ]
  },
  {
   "cell_type": "markdown",
   "metadata": {
    "collapsed": true
   },
   "source": [
    "**Clean data**"
   ]
  },
  {
   "cell_type": "code",
   "execution_count": 5,
   "metadata": {},
   "outputs": [
    {
     "data": {
      "text/html": [
       "<div>\n",
       "<table border=\"1\" class=\"dataframe\">\n",
       "  <thead>\n",
       "    <tr style=\"text-align: right;\">\n",
       "      <th></th>\n",
       "      <th>_id</th>\n",
       "      <th>text</th>\n",
       "      <th>timestamp</th>\n",
       "      <th>username</th>\n",
       "    </tr>\n",
       "  </thead>\n",
       "  <tbody>\n",
       "    <tr>\n",
       "      <th>0</th>\n",
       "      <td>593deb7057bbd4047664223e</td>\n",
       "      <td>On this National Gun Violence Awareness Day, l...</td>\n",
       "      <td>2017-06-02 17:35:54</td>\n",
       "      <td>BarackObama</td>\n",
       "    </tr>\n",
       "    <tr>\n",
       "      <th>1</th>\n",
       "      <td>593deb7057bbd4047664223f</td>\n",
       "      <td>Forever grateful for the service and sacrifice...</td>\n",
       "      <td>2017-05-29 13:09:16</td>\n",
       "      <td>BarackObama</td>\n",
       "    </tr>\n",
       "    <tr>\n",
       "      <th>2</th>\n",
       "      <td>593deb7057bbd40476642240</td>\n",
       "      <td>Good to see my friend Prince Harry in London t...</td>\n",
       "      <td>2017-05-27 13:15:25</td>\n",
       "      <td>BarackObama</td>\n",
       "    </tr>\n",
       "    <tr>\n",
       "      <th>3</th>\n",
       "      <td>593deb7057bbd40476642241</td>\n",
       "      <td>Through faith, love, and resolve the character...</td>\n",
       "      <td>2017-05-25 14:13:35</td>\n",
       "      <td>BarackObama</td>\n",
       "    </tr>\n",
       "    <tr>\n",
       "      <th>4</th>\n",
       "      <td>593deb7057bbd40476642242</td>\n",
       "      <td>Our hearts go out to those killed and wounded ...</td>\n",
       "      <td>2017-05-23 16:56:14</td>\n",
       "      <td>BarackObama</td>\n",
       "    </tr>\n",
       "  </tbody>\n",
       "</table>\n",
       "</div>"
      ],
      "text/plain": [
       "                        _id  \\\n",
       "0  593deb7057bbd4047664223e   \n",
       "1  593deb7057bbd4047664223f   \n",
       "2  593deb7057bbd40476642240   \n",
       "3  593deb7057bbd40476642241   \n",
       "4  593deb7057bbd40476642242   \n",
       "\n",
       "                                                text           timestamp  \\\n",
       "0  On this National Gun Violence Awareness Day, l... 2017-06-02 17:35:54   \n",
       "1  Forever grateful for the service and sacrifice... 2017-05-29 13:09:16   \n",
       "2  Good to see my friend Prince Harry in London t... 2017-05-27 13:15:25   \n",
       "3  Through faith, love, and resolve the character... 2017-05-25 14:13:35   \n",
       "4  Our hearts go out to those killed and wounded ... 2017-05-23 16:56:14   \n",
       "\n",
       "      username  \n",
       "0  BarackObama  \n",
       "1  BarackObama  \n",
       "2  BarackObama  \n",
       "3  BarackObama  \n",
       "4  BarackObama  "
      ]
     },
     "execution_count": 5,
     "metadata": {},
     "output_type": "execute_result"
    }
   ],
   "source": [
    "# Get data out of our MongoDB collection\n",
    "tweets_list = [document for document in completed_collection.find()]\n",
    "tweets_df = pd.DataFrame(tweets_list)\n",
    "tweets_df.head()"
   ]
  },
  {
   "cell_type": "code",
   "execution_count": 6,
   "metadata": {
    "scrolled": false
   },
   "outputs": [
    {
     "name": "stdout",
     "output_type": "stream",
     "text": [
      "<class 'pandas.core.frame.DataFrame'>\n",
      "RangeIndex: 94856 entries, 0 to 94855\n",
      "Data columns (total 4 columns):\n",
      "_id          94856 non-null object\n",
      "text         94856 non-null object\n",
      "timestamp    94856 non-null datetime64[ns]\n",
      "username     94856 non-null object\n",
      "dtypes: datetime64[ns](1), object(3)\n",
      "memory usage: 2.9+ MB\n"
     ]
    }
   ],
   "source": [
    "tweets_df.info()"
   ]
  },
  {
   "cell_type": "code",
   "execution_count": 7,
   "metadata": {
    "collapsed": true
   },
   "outputs": [],
   "source": [
    "tweets_df['Date'] = tweets_df['timestamp'].dt.date"
   ]
  },
  {
   "cell_type": "code",
   "execution_count": 8,
   "metadata": {},
   "outputs": [
    {
     "data": {
      "text/html": [
       "<div>\n",
       "<table border=\"1\" class=\"dataframe\">\n",
       "  <thead>\n",
       "    <tr style=\"text-align: right;\">\n",
       "      <th></th>\n",
       "      <th>_id</th>\n",
       "      <th>text</th>\n",
       "      <th>timestamp</th>\n",
       "      <th>username</th>\n",
       "      <th>Date</th>\n",
       "    </tr>\n",
       "  </thead>\n",
       "  <tbody>\n",
       "    <tr>\n",
       "      <th>88615</th>\n",
       "      <td>593dec7757bbd40476657c81</td>\n",
       "      <td>Asian stock markets mixed as investors sweat U...</td>\n",
       "      <td>2017-06-09 02:23:44</td>\n",
       "      <td>FinancialTimes</td>\n",
       "      <td>2017-06-09</td>\n",
       "    </tr>\n",
       "    <tr>\n",
       "      <th>65056</th>\n",
       "      <td>593dec2e57bbd40476652072</td>\n",
       "      <td>Apple is trading in a way that has ONLY happen...</td>\n",
       "      <td>2016-09-15 15:39:15</td>\n",
       "      <td>StockTwits</td>\n",
       "      <td>2016-09-15</td>\n",
       "    </tr>\n",
       "    <tr>\n",
       "      <th>87234</th>\n",
       "      <td>593dec7257bbd4047665771b</td>\n",
       "      <td>RT @KristenScholer: Those betting that the cur...</td>\n",
       "      <td>2016-03-07 13:53:56</td>\n",
       "      <td>WSJMoneyBeat</td>\n",
       "      <td>2016-03-07</td>\n",
       "    </tr>\n",
       "    <tr>\n",
       "      <th>8839</th>\n",
       "      <td>593deb8857bbd404766444c7</td>\n",
       "      <td>Many people are asking how hey can help in Hai...</td>\n",
       "      <td>2010-01-20 18:59:40</td>\n",
       "      <td>BillGates</td>\n",
       "      <td>2010-01-20</td>\n",
       "    </tr>\n",
       "    <tr>\n",
       "      <th>15402</th>\n",
       "      <td>593deb9b57bbd40476645e6d</td>\n",
       "      <td>Two minutes to me</td>\n",
       "      <td>2017-06-08 12:51:06</td>\n",
       "      <td>jimcramer</td>\n",
       "      <td>2017-06-08</td>\n",
       "    </tr>\n",
       "  </tbody>\n",
       "</table>\n",
       "</div>"
      ],
      "text/plain": [
       "                            _id  \\\n",
       "88615  593dec7757bbd40476657c81   \n",
       "65056  593dec2e57bbd40476652072   \n",
       "87234  593dec7257bbd4047665771b   \n",
       "8839   593deb8857bbd404766444c7   \n",
       "15402  593deb9b57bbd40476645e6d   \n",
       "\n",
       "                                                    text           timestamp  \\\n",
       "88615  Asian stock markets mixed as investors sweat U... 2017-06-09 02:23:44   \n",
       "65056  Apple is trading in a way that has ONLY happen... 2016-09-15 15:39:15   \n",
       "87234  RT @KristenScholer: Those betting that the cur... 2016-03-07 13:53:56   \n",
       "8839   Many people are asking how hey can help in Hai... 2010-01-20 18:59:40   \n",
       "15402                                  Two minutes to me 2017-06-08 12:51:06   \n",
       "\n",
       "             username        Date  \n",
       "88615  FinancialTimes  2017-06-09  \n",
       "65056      StockTwits  2016-09-15  \n",
       "87234    WSJMoneyBeat  2016-03-07  \n",
       "8839        BillGates  2010-01-20  \n",
       "15402       jimcramer  2017-06-08  "
      ]
     },
     "execution_count": 8,
     "metadata": {},
     "output_type": "execute_result"
    }
   ],
   "source": [
    "tweets_df.sample(5)"
   ]
  },
  {
   "cell_type": "code",
   "execution_count": 9,
   "metadata": {
    "collapsed": true
   },
   "outputs": [],
   "source": [
    "# Make our text into a list (instead of a series) so we can apply functions to it\n",
    "tweets_text = []\n",
    "for i in range(len(tweets_df)):\n",
    "    tweets_text.append(tweets_list[i]['text'])"
   ]
  },
  {
   "cell_type": "code",
   "execution_count": 10,
   "metadata": {
    "collapsed": true
   },
   "outputs": [],
   "source": [
    "import re"
   ]
  },
  {
   "cell_type": "code",
   "execution_count": 11,
   "metadata": {
    "collapsed": true
   },
   "outputs": [],
   "source": [
    "def clean_text(text):\n",
    "    text = re.sub('(http\\S+)', '', text)\n",
    "    text = re.sub('(http(s)?:\\/\\/.)?(www\\.)?[-a-zA-Z0-9@:%._\\+~#=]{2,256}\\.[a-z]{2,6}\\b([-a-zA-Z0-9@:%_\\+.~#?&//=]*)', '', text)\n",
    "    text = re.sub('[\\W]', ' ', text)\n",
    "    text = re.sub('(\\@.*?(?=\\s))', ' ', text)\n",
    "    \n",
    "    text = re.sub('([\\s]{2,})', ' ', text)\n",
    "    text = text.lower()\n",
    "    return text"
   ]
  },
  {
   "cell_type": "code",
   "execution_count": 12,
   "metadata": {
    "collapsed": true,
    "scrolled": true
   },
   "outputs": [],
   "source": [
    "cleaned_text = []\n",
    "for t in tweets_text:\n",
    "    cleaned_text.append(clean_text(t))"
   ]
  },
  {
   "cell_type": "code",
   "execution_count": 13,
   "metadata": {},
   "outputs": [
    {
     "data": {
      "text/plain": [
       "'on this national gun violence awareness day let your voice be heard and show your commitment to reducing gun viole '"
      ]
     },
     "execution_count": 13,
     "metadata": {},
     "output_type": "execute_result"
    }
   ],
   "source": [
    "cleaned_text[0]"
   ]
  },
  {
   "cell_type": "code",
   "execution_count": 14,
   "metadata": {
    "collapsed": true
   },
   "outputs": [],
   "source": [
    "tweets_df['cleaned_text'] = cleaned_text"
   ]
  },
  {
   "cell_type": "code",
   "execution_count": 15,
   "metadata": {},
   "outputs": [
    {
     "data": {
      "text/html": [
       "<div>\n",
       "<table border=\"1\" class=\"dataframe\">\n",
       "  <thead>\n",
       "    <tr style=\"text-align: right;\">\n",
       "      <th></th>\n",
       "      <th>_id</th>\n",
       "      <th>text</th>\n",
       "      <th>timestamp</th>\n",
       "      <th>username</th>\n",
       "      <th>Date</th>\n",
       "      <th>cleaned_text</th>\n",
       "    </tr>\n",
       "  </thead>\n",
       "  <tbody>\n",
       "    <tr>\n",
       "      <th>58756</th>\n",
       "      <td>593dec1c57bbd404766507d4</td>\n",
       "      <td>Alas, you can never* predict exactly what the ...</td>\n",
       "      <td>2015-04-09 18:07:00</td>\n",
       "      <td>themotleyfool</td>\n",
       "      <td>2015-04-09</td>\n",
       "      <td>alas you can never predict exactly what the ma...</td>\n",
       "    </tr>\n",
       "    <tr>\n",
       "      <th>74803</th>\n",
       "      <td>593dec4c57bbd40476654688</td>\n",
       "      <td>Wacky day on Wall Street. Nasdaq was down more...</td>\n",
       "      <td>2014-10-15 19:56:55</td>\n",
       "      <td>ReutersInsider</td>\n",
       "      <td>2014-10-15</td>\n",
       "      <td>wacky day on wall street nasdaq was down more ...</td>\n",
       "    </tr>\n",
       "    <tr>\n",
       "      <th>5600</th>\n",
       "      <td>593deb7f57bbd4047664381f</td>\n",
       "      <td>Trump says new travel ban executive order will...</td>\n",
       "      <td>2017-02-16 19:38:41</td>\n",
       "      <td>cnnbrk</td>\n",
       "      <td>2017-02-16</td>\n",
       "      <td>trump says new travel ban executive order will...</td>\n",
       "    </tr>\n",
       "    <tr>\n",
       "      <th>4603</th>\n",
       "      <td>593deb7c57bbd4047664343a</td>\n",
       "      <td>Secret Service agent on VP Pence's detail susp...</td>\n",
       "      <td>2017-04-05 23:21:54</td>\n",
       "      <td>cnnbrk</td>\n",
       "      <td>2017-04-05</td>\n",
       "      <td>secret service agent on vp pence s detail susp...</td>\n",
       "    </tr>\n",
       "    <tr>\n",
       "      <th>45442</th>\n",
       "      <td>593debf357bbd4047664d3ce</td>\n",
       "      <td>No more Florida: see what Earth would look lik...</td>\n",
       "      <td>2017-05-09 15:00:07</td>\n",
       "      <td>Forbes</td>\n",
       "      <td>2017-05-09</td>\n",
       "      <td>no more florida see what earth would look like...</td>\n",
       "    </tr>\n",
       "  </tbody>\n",
       "</table>\n",
       "</div>"
      ],
      "text/plain": [
       "                            _id  \\\n",
       "58756  593dec1c57bbd404766507d4   \n",
       "74803  593dec4c57bbd40476654688   \n",
       "5600   593deb7f57bbd4047664381f   \n",
       "4603   593deb7c57bbd4047664343a   \n",
       "45442  593debf357bbd4047664d3ce   \n",
       "\n",
       "                                                    text           timestamp  \\\n",
       "58756  Alas, you can never* predict exactly what the ... 2015-04-09 18:07:00   \n",
       "74803  Wacky day on Wall Street. Nasdaq was down more... 2014-10-15 19:56:55   \n",
       "5600   Trump says new travel ban executive order will... 2017-02-16 19:38:41   \n",
       "4603   Secret Service agent on VP Pence's detail susp... 2017-04-05 23:21:54   \n",
       "45442  No more Florida: see what Earth would look lik... 2017-05-09 15:00:07   \n",
       "\n",
       "             username        Date  \\\n",
       "58756   themotleyfool  2015-04-09   \n",
       "74803  ReutersInsider  2014-10-15   \n",
       "5600           cnnbrk  2017-02-16   \n",
       "4603           cnnbrk  2017-04-05   \n",
       "45442          Forbes  2017-05-09   \n",
       "\n",
       "                                            cleaned_text  \n",
       "58756  alas you can never predict exactly what the ma...  \n",
       "74803  wacky day on wall street nasdaq was down more ...  \n",
       "5600   trump says new travel ban executive order will...  \n",
       "4603   secret service agent on vp pence s detail susp...  \n",
       "45442  no more florida see what earth would look like...  "
      ]
     },
     "execution_count": 15,
     "metadata": {},
     "output_type": "execute_result"
    }
   ],
   "source": [
    "tweets_df.sample(5)"
   ]
  },
  {
   "cell_type": "code",
   "execution_count": 16,
   "metadata": {},
   "outputs": [
    {
     "data": {
      "text/plain": [
       "(94856, 6)"
      ]
     },
     "execution_count": 16,
     "metadata": {},
     "output_type": "execute_result"
    }
   ],
   "source": [
    "tweets_df.shape"
   ]
  },
  {
   "cell_type": "code",
   "execution_count": 17,
   "metadata": {
    "collapsed": true
   },
   "outputs": [],
   "source": [
    "pd.to_pickle(tweets_df, '../Analyzing_Unstructured_Data_for_Finance/data/2.tweets_df.pickle')"
   ]
  },
  {
   "cell_type": "code",
   "execution_count": 18,
   "metadata": {},
   "outputs": [
    {
     "data": {
      "text/plain": [
       "datetime.date(2008, 9, 10)"
      ]
     },
     "execution_count": 18,
     "metadata": {},
     "output_type": "execute_result"
    }
   ],
   "source": [
    "# Use the oldest date to determine how far back we want to pull stock data from\n",
    "min(tweets_df['Date'])"
   ]
  },
  {
   "cell_type": "code",
   "execution_count": null,
   "metadata": {
    "collapsed": true
   },
   "outputs": [],
   "source": []
  }
 ],
 "metadata": {
  "kernelspec": {
   "display_name": "Python 3",
   "language": "python",
   "name": "python3"
  },
  "language_info": {
   "codemirror_mode": {
    "name": "ipython",
    "version": 3
   },
   "file_extension": ".py",
   "mimetype": "text/x-python",
   "name": "python",
   "nbconvert_exporter": "python",
   "pygments_lexer": "ipython3",
   "version": "3.5.2"
  }
 },
 "nbformat": 4,
 "nbformat_minor": 2
}
