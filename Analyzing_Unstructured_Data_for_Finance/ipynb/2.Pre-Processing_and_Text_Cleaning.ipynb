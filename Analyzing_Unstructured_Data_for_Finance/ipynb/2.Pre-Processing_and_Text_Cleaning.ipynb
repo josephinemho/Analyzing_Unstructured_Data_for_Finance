{
 "cells": [
  {
   "cell_type": "markdown",
   "metadata": {},
   "source": [
    "# Part 2 -- Pre-Processing and Text Cleaning\n",
    "\n",
    "Next we're going to do some basic pre-processing, like converting the text to lower case and deleting URLs. We don't need to remove stopwords such as \"the\" and \"a\", which will be done when we pass our data through a NLTK model later. "
   ]
  },
  {
   "cell_type": "markdown",
   "metadata": {},
   "source": [
    "### Load lib codes:"
   ]
  },
  {
   "cell_type": "code",
   "execution_count": 1,
   "metadata": {
    "collapsed": true
   },
   "outputs": [],
   "source": [
    "from os import chdir\n",
    "chdir('/home/jovyan/work/Portfolio/Analyzing_Unstructured_Data_for_Finance/')\n",
    "\n",
    "from lib import *\n",
    "# suppress_warnings()"
   ]
  },
  {
   "cell_type": "code",
   "execution_count": 2,
   "metadata": {},
   "outputs": [
    {
     "name": "stdout",
     "output_type": "stream",
     "text": [
      "Requirement already satisfied (use --upgrade to upgrade): pymongo in /opt/conda/lib/python3.5/site-packages\n",
      "\u001b[33mYou are using pip version 8.1.2, however version 9.0.1 is available.\n",
      "You should consider upgrading via the 'pip install --upgrade pip' command.\u001b[0m\n"
     ]
    }
   ],
   "source": [
    "!pip install pymongo\n",
    "import pymongo"
   ]
  },
  {
   "cell_type": "code",
   "execution_count": 3,
   "metadata": {
    "collapsed": true
   },
   "outputs": [],
   "source": [
    "# Identify port for better security of MongoDB\n",
    "cli = pymongo.MongoClient(host='52.27.11.214', port=27016)"
   ]
  },
  {
   "cell_type": "code",
   "execution_count": 4,
   "metadata": {
    "scrolled": true
   },
   "outputs": [
    {
     "data": {
      "text/plain": [
       "['completed_collection', 'task_collection']"
      ]
     },
     "execution_count": 4,
     "metadata": {},
     "output_type": "execute_result"
    }
   ],
   "source": [
    "completed_collection = cli.twitter_db.completed_collection\n",
    "cli.twitter_db.collection_names()"
   ]
  },
  {
   "cell_type": "markdown",
   "metadata": {
    "collapsed": true
   },
   "source": [
    "**Clean data**"
   ]
  },
  {
   "cell_type": "code",
   "execution_count": 7,
   "metadata": {},
   "outputs": [
    {
     "data": {
      "text/html": [
       "<div>\n",
       "<table border=\"1\" class=\"dataframe\">\n",
       "  <thead>\n",
       "    <tr style=\"text-align: right;\">\n",
       "      <th></th>\n",
       "      <th>_id</th>\n",
       "      <th>text</th>\n",
       "      <th>timestamp</th>\n",
       "      <th>username</th>\n",
       "    </tr>\n",
       "  </thead>\n",
       "  <tbody>\n",
       "    <tr>\n",
       "      <th>0</th>\n",
       "      <td>593deb7057bbd4047664223e</td>\n",
       "      <td>On this National Gun Violence Awareness Day, l...</td>\n",
       "      <td>2017-06-02 17:35:54</td>\n",
       "      <td>BarackObama</td>\n",
       "    </tr>\n",
       "    <tr>\n",
       "      <th>1</th>\n",
       "      <td>593deb7057bbd4047664223f</td>\n",
       "      <td>Forever grateful for the service and sacrifice...</td>\n",
       "      <td>2017-05-29 13:09:16</td>\n",
       "      <td>BarackObama</td>\n",
       "    </tr>\n",
       "  </tbody>\n",
       "</table>\n",
       "</div>"
      ],
      "text/plain": [
       "                        _id  \\\n",
       "0  593deb7057bbd4047664223e   \n",
       "1  593deb7057bbd4047664223f   \n",
       "\n",
       "                                                text           timestamp  \\\n",
       "0  On this National Gun Violence Awareness Day, l... 2017-06-02 17:35:54   \n",
       "1  Forever grateful for the service and sacrifice... 2017-05-29 13:09:16   \n",
       "\n",
       "      username  \n",
       "0  BarackObama  \n",
       "1  BarackObama  "
      ]
     },
     "execution_count": 7,
     "metadata": {},
     "output_type": "execute_result"
    }
   ],
   "source": [
    "# Get data out of our MongoDB collection\n",
    "tweets_list = [document for document in completed_collection.find()]\n",
    "tweets_df = pd.DataFrame(tweets_list)\n",
    "tweets_df.head(2)"
   ]
  },
  {
   "cell_type": "code",
   "execution_count": 8,
   "metadata": {
    "scrolled": false
   },
   "outputs": [
    {
     "name": "stdout",
     "output_type": "stream",
     "text": [
      "<class 'pandas.core.frame.DataFrame'>\n",
      "RangeIndex: 94856 entries, 0 to 94855\n",
      "Data columns (total 4 columns):\n",
      "_id          94856 non-null object\n",
      "text         94856 non-null object\n",
      "timestamp    94856 non-null datetime64[ns]\n",
      "username     94856 non-null object\n",
      "dtypes: datetime64[ns](1), object(3)\n",
      "memory usage: 2.9+ MB\n"
     ]
    }
   ],
   "source": [
    "tweets_df.info()"
   ]
  },
  {
   "cell_type": "code",
   "execution_count": 10,
   "metadata": {
    "collapsed": true
   },
   "outputs": [],
   "source": [
    "# Make our text into a list (instead of a series) so we can apply functions to it\n",
    "tweets_text = []\n",
    "for i in range(len(tweets_df)):\n",
    "    tweets_text.append(tweets_list[i]['text'])"
   ]
  },
  {
   "cell_type": "code",
   "execution_count": 11,
   "metadata": {
    "collapsed": true
   },
   "outputs": [],
   "source": [
    "import re"
   ]
  },
  {
   "cell_type": "code",
   "execution_count": 12,
   "metadata": {
    "collapsed": true
   },
   "outputs": [],
   "source": [
    "def clean_text(text):\n",
    "    text = re.sub('(http\\S+)', '', text)\n",
    "    text = re.sub('(http(s)?:\\/\\/.)?(www\\.)?[-a-zA-Z0-9@:%._\\+~#=]{2,256}\\.[a-z]{2,6}\\b([-a-zA-Z0-9@:%_\\+.~#?&//=]*)', '', text)\n",
    "    text = re.sub('[\\W]', ' ', text)\n",
    "    text = re.sub('(\\@.*?(?=\\s))', ' ', text)\n",
    "    \n",
    "    text = re.sub('([\\s]{2,})', ' ', text)\n",
    "    text = text.lower()\n",
    "    return text"
   ]
  },
  {
   "cell_type": "code",
   "execution_count": 13,
   "metadata": {
    "collapsed": true,
    "scrolled": true
   },
   "outputs": [],
   "source": [
    "cleaned_text = []\n",
    "for t in tweets_text:\n",
    "    cleaned_text.append(clean_text(t))"
   ]
  },
  {
   "cell_type": "code",
   "execution_count": 14,
   "metadata": {},
   "outputs": [
    {
     "data": {
      "text/plain": [
       "'on this national gun violence awareness day let your voice be heard and show your commitment to reducing gun viole '"
      ]
     },
     "execution_count": 14,
     "metadata": {},
     "output_type": "execute_result"
    }
   ],
   "source": [
    "cleaned_text[0]"
   ]
  },
  {
   "cell_type": "code",
   "execution_count": 15,
   "metadata": {
    "collapsed": true
   },
   "outputs": [],
   "source": [
    "tweets_df['cleaned_text'] = cleaned_text"
   ]
  },
  {
   "cell_type": "code",
   "execution_count": 18,
   "metadata": {
    "scrolled": true
   },
   "outputs": [],
   "source": [
    "tweets_df['Date'] = tweets_df['timestamp'].dt.date\n",
    "tweets_df['Date'] = pd.to_datetime(tweets_df['Date'])"
   ]
  },
  {
   "cell_type": "code",
   "execution_count": 19,
   "metadata": {},
   "outputs": [
    {
     "data": {
      "text/html": [
       "<div>\n",
       "<table border=\"1\" class=\"dataframe\">\n",
       "  <thead>\n",
       "    <tr style=\"text-align: right;\">\n",
       "      <th></th>\n",
       "      <th>_id</th>\n",
       "      <th>text</th>\n",
       "      <th>timestamp</th>\n",
       "      <th>username</th>\n",
       "      <th>cleaned_text</th>\n",
       "      <th>Date</th>\n",
       "    </tr>\n",
       "  </thead>\n",
       "  <tbody>\n",
       "    <tr>\n",
       "      <th>65961</th>\n",
       "      <td>593dec3157bbd404766523fc</td>\n",
       "      <td>#Qatar Airways has ~23 flights to the UAE each...</td>\n",
       "      <td>2017-06-07 16:42:33</td>\n",
       "      <td>steve_hanke</td>\n",
       "      <td>qatar airways has 23 flights to the uae each ...</td>\n",
       "      <td>2017-06-07</td>\n",
       "    </tr>\n",
       "    <tr>\n",
       "      <th>80626</th>\n",
       "      <td>593dec5f57bbd40476655d49</td>\n",
       "      <td>RT @DonDraperClone: Inside Obama’s secret outr...</td>\n",
       "      <td>2017-05-29 13:17:41</td>\n",
       "      <td>zerohedge</td>\n",
       "      <td>rt dondraperclone inside obama s secret outrea...</td>\n",
       "      <td>2017-05-29</td>\n",
       "    </tr>\n",
       "    <tr>\n",
       "      <th>48141</th>\n",
       "      <td>593debfd57bbd4047664de5a</td>\n",
       "      <td>RT @McFaul: Why? https://t.co/2A1WaY1X0x</td>\n",
       "      <td>2017-04-18 02:05:53</td>\n",
       "      <td>sacca</td>\n",
       "      <td>rt mcfaul why</td>\n",
       "      <td>2017-04-18</td>\n",
       "    </tr>\n",
       "    <tr>\n",
       "      <th>4458</th>\n",
       "      <td>593deb7c57bbd404766433a9</td>\n",
       "      <td>RT @CNNMoney: Dollar dives 0.6% after Presiden...</td>\n",
       "      <td>2017-04-12 20:07:16</td>\n",
       "      <td>cnnbrk</td>\n",
       "      <td>rt cnnmoney dollar dives 0 6 after president t...</td>\n",
       "      <td>2017-04-12</td>\n",
       "    </tr>\n",
       "    <tr>\n",
       "      <th>53771</th>\n",
       "      <td>593dec0e57bbd4047664f45a</td>\n",
       "      <td>Beaten-down healthcare stocks are among top di...</td>\n",
       "      <td>2017-04-01 13:00:04</td>\n",
       "      <td>ForbesInvestor</td>\n",
       "      <td>beaten down healthcare stocks are among top di...</td>\n",
       "      <td>2017-04-01</td>\n",
       "    </tr>\n",
       "  </tbody>\n",
       "</table>\n",
       "</div>"
      ],
      "text/plain": [
       "                            _id  \\\n",
       "65961  593dec3157bbd404766523fc   \n",
       "80626  593dec5f57bbd40476655d49   \n",
       "48141  593debfd57bbd4047664de5a   \n",
       "4458   593deb7c57bbd404766433a9   \n",
       "53771  593dec0e57bbd4047664f45a   \n",
       "\n",
       "                                                    text           timestamp  \\\n",
       "65961  #Qatar Airways has ~23 flights to the UAE each... 2017-06-07 16:42:33   \n",
       "80626  RT @DonDraperClone: Inside Obama’s secret outr... 2017-05-29 13:17:41   \n",
       "48141           RT @McFaul: Why? https://t.co/2A1WaY1X0x 2017-04-18 02:05:53   \n",
       "4458   RT @CNNMoney: Dollar dives 0.6% after Presiden... 2017-04-12 20:07:16   \n",
       "53771  Beaten-down healthcare stocks are among top di... 2017-04-01 13:00:04   \n",
       "\n",
       "             username                                       cleaned_text  \\\n",
       "65961     steve_hanke   qatar airways has 23 flights to the uae each ...   \n",
       "80626       zerohedge  rt dondraperclone inside obama s secret outrea...   \n",
       "48141           sacca                                     rt mcfaul why    \n",
       "4458           cnnbrk  rt cnnmoney dollar dives 0 6 after president t...   \n",
       "53771  ForbesInvestor  beaten down healthcare stocks are among top di...   \n",
       "\n",
       "            Date  \n",
       "65961 2017-06-07  \n",
       "80626 2017-05-29  \n",
       "48141 2017-04-18  \n",
       "4458  2017-04-12  \n",
       "53771 2017-04-01  "
      ]
     },
     "execution_count": 19,
     "metadata": {},
     "output_type": "execute_result"
    }
   ],
   "source": [
    "tweets_df.sample(5)"
   ]
  },
  {
   "cell_type": "code",
   "execution_count": 20,
   "metadata": {},
   "outputs": [
    {
     "data": {
      "text/plain": [
       "dtype('<M8[ns]')"
      ]
     },
     "execution_count": 20,
     "metadata": {},
     "output_type": "execute_result"
    }
   ],
   "source": [
    "tweets_df['Date'].dtype"
   ]
  },
  {
   "cell_type": "code",
   "execution_count": 21,
   "metadata": {},
   "outputs": [
    {
     "data": {
      "text/plain": [
       "(94856, 6)"
      ]
     },
     "execution_count": 21,
     "metadata": {},
     "output_type": "execute_result"
    }
   ],
   "source": [
    "tweets_df.shape"
   ]
  },
  {
   "cell_type": "code",
   "execution_count": 22,
   "metadata": {},
   "outputs": [
    {
     "data": {
      "text/plain": [
       "['../Analyzing_Unstructured_Data_for_Finance/data/2.tweets_df.pickle']"
      ]
     },
     "execution_count": 22,
     "metadata": {},
     "output_type": "execute_result"
    }
   ],
   "source": [
    "joblib.dump(tweets_df, '../Analyzing_Unstructured_Data_for_Finance/data/2.tweets_df.pickle')"
   ]
  },
  {
   "cell_type": "code",
   "execution_count": 23,
   "metadata": {},
   "outputs": [
    {
     "name": "stdout",
     "output_type": "stream",
     "text": [
      "2008-09-10 00:00:00\n",
      "2017-06-12 00:00:00\n"
     ]
    }
   ],
   "source": [
    "# Use the dates to determine how the date range we want to pull stock data from\n",
    "print(min(tweets_df['Date']))\n",
    "print(max(tweets_df['Date']))"
   ]
  },
  {
   "cell_type": "code",
   "execution_count": null,
   "metadata": {
    "collapsed": true
   },
   "outputs": [],
   "source": []
  }
 ],
 "metadata": {
  "kernelspec": {
   "display_name": "Python 3",
   "language": "python",
   "name": "python3"
  },
  "language_info": {
   "codemirror_mode": {
    "name": "ipython",
    "version": 3
   },
   "file_extension": ".py",
   "mimetype": "text/x-python",
   "name": "python",
   "nbconvert_exporter": "python",
   "pygments_lexer": "ipython3",
   "version": "3.5.2"
  }
 },
 "nbformat": 4,
 "nbformat_minor": 2
}
