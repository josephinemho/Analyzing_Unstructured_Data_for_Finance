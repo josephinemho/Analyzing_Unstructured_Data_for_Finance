{
 "cells": [
  {
   "cell_type": "code",
   "execution_count": 1,
   "metadata": {
    "collapsed": true
   },
   "outputs": [],
   "source": [
    "goodnight_moon = \"\"\"In the great green room There was a telephone And a red balloon\n",
    "And a picture of-\n",
    "The cow jumping over the moon\n",
    "And there were three little bears sitting on chairs And two little kittens\n",
    "And a pair of mittens\n",
    "And a little toy house\n",
    "And a young mouse\n",
    "And a comb and a brush and a bowl full of mush And a quiet old lady who was whispering “hush” Goodnight room\n",
    "Goodnight moon\n",
    "Goodnight cow jumping over the moon Goodnight light\n",
    "And the red balloon\n",
    "Goodnight bears\n",
    "Goodnight chairs\n",
    "Goodnight kittens\n",
    "And goodnight mittens\n",
    "Goodnight clocks\n",
    "And goodnight socks\n",
    "Goodnight little house\n",
    "And goodnight mouse\n",
    "Goodnight comb\n",
    "And goodnight brush\n",
    "Goodnight nobody\n",
    "Goodnight mush\n",
    "And goodnight to the old lady whispering “hush” Goodnight stars\n",
    "Goodnight air\n",
    "Good night noises everywhere\n",
    "\"\"\""
   ]
  },
  {
   "cell_type": "code",
   "execution_count": 3,
   "metadata": {
    "collapsed": true
   },
   "outputs": [],
   "source": [
    "goodnight_moon = goodnight_moon.split('\\n')"
   ]
  },
  {
   "cell_type": "code",
   "execution_count": 5,
   "metadata": {
    "collapsed": true
   },
   "outputs": [],
   "source": [
    "from sklearn.feature_extraction.text import TfidfVectorizer\n",
    "from sklearn.decomposition import TruncatedSVD\n",
    "from sklearn.pipeline import Pipeline"
   ]
  },
  {
   "cell_type": "code",
   "execution_count": 55,
   "metadata": {
    "collapsed": true
   },
   "outputs": [],
   "source": [
    "tfd_pipe = Pipeline([\n",
    "    ('tfidf', TfidfVectorizer()),\n",
    "    ('svd', TruncatedSVD(n_components=6))\n",
    "])\n"
   ]
  },
  {
   "cell_type": "code",
   "execution_count": 56,
   "metadata": {},
   "outputs": [
    {
     "data": {
      "text/plain": [
       "Pipeline(steps=[('tfidf', TfidfVectorizer(analyzer='word', binary=False, decode_error='strict',\n",
       "        dtype=<class 'numpy.int64'>, encoding='utf-8', input='content',\n",
       "        lowercase=True, max_df=1.0, max_features=None, min_df=1,\n",
       "        ngram_range=(1, 1), norm='l2', preprocessor=None, smooth_idf=True,\n",
       " ... TruncatedSVD(algorithm='randomized', n_components=6, n_iter=5,\n",
       "       random_state=None, tol=0.0))])"
      ]
     },
     "execution_count": 56,
     "metadata": {},
     "output_type": "execute_result"
    }
   ],
   "source": [
    "tfd_pipe.fit(goodnight_moon)"
   ]
  },
  {
   "cell_type": "code",
   "execution_count": 57,
   "metadata": {
    "collapsed": true
   },
   "outputs": [],
   "source": [
    "tfd = tfd_pipe.steps[0][1]\n",
    "svd = tfd_pipe.steps[1][1]"
   ]
  },
  {
   "cell_type": "code",
   "execution_count": 58,
   "metadata": {},
   "outputs": [
    {
     "data": {
      "text/plain": [
       "(TfidfVectorizer(analyzer='word', binary=False, decode_error='strict',\n",
       "         dtype=<class 'numpy.int64'>, encoding='utf-8', input='content',\n",
       "         lowercase=True, max_df=1.0, max_features=None, min_df=1,\n",
       "         ngram_range=(1, 1), norm='l2', preprocessor=None, smooth_idf=True,\n",
       "         stop_words=None, strip_accents=None, sublinear_tf=False,\n",
       "         token_pattern='(?u)\\\\b\\\\w\\\\w+\\\\b', tokenizer=None, use_idf=True,\n",
       "         vocabulary=None),\n",
       " TruncatedSVD(algorithm='randomized', n_components=6, n_iter=5,\n",
       "        random_state=None, tol=0.0))"
      ]
     },
     "execution_count": 58,
     "metadata": {},
     "output_type": "execute_result"
    }
   ],
   "source": [
    "tfd, svd"
   ]
  },
  {
   "cell_type": "code",
   "execution_count": 59,
   "metadata": {
    "collapsed": true
   },
   "outputs": [],
   "source": [
    "tfd_word_index = tfd.get_feature_names()"
   ]
  },
  {
   "cell_type": "code",
   "execution_count": 60,
   "metadata": {},
   "outputs": [
    {
     "data": {
      "text/plain": [
       "(6, 55)"
      ]
     },
     "execution_count": 60,
     "metadata": {},
     "output_type": "execute_result"
    }
   ],
   "source": [
    "svd.components_.shape"
   ]
  },
  {
   "cell_type": "code",
   "execution_count": 86,
   "metadata": {
    "collapsed": true
   },
   "outputs": [],
   "source": [
    "import matplotlib.pyplot as plt\n",
    "import numpy as np\n",
    "import pandas as pd\n",
    "def svd_variance(svd_model, col_index):\n",
    "    \n",
    "    dimensions = ['Dimension {}'.format(i) for i in range(1,len(svd_model.components_)+1)]\n",
    "    components = pd.DataFrame(np.round(svd_model.components_, 4), columns=col_index)\n",
    "    ratios = svd_model.explained_variance_ratio_.reshape(len(svd_model.components_), 1)\n",
    "    variance_ratios = pd.DataFrame(np.round(ratios, 4), columns = ['Explained Variance'])\n",
    "    variance_ratios.index = dimensions\n",
    "\n",
    "    fig, ax = plt.subplots(figsize = (24,10))\n",
    "\n",
    "    # Plot the feature weights as a function of the components\n",
    "    components.plot(ax = ax, kind = 'bar',legend='False');\n",
    "    ax.set_ylabel(\"Feature Weights\")\n",
    "    ax.set_xticklabels(dimensions, rotation=0)\n",
    "    ax.legend_.remove()\n",
    "\n",
    "\n",
    "    # Display the explained variance ratios\n",
    "    for i, ev in enumerate(svd_model.explained_variance_ratio_):\n",
    "        ax.text(i-0.40, ax.get_ylim()[1] + 0.05, \"Explained Variance\\n          %.4f\"%(ev))"
   ]
  },
  {
   "cell_type": "code",
   "execution_count": 87,
   "metadata": {},
   "outputs": [
    {
     "data": {
      "image/png": "[encoded data removed]",
      "text/plain": [
       "<matplotlib.figure.Figure at 0x7f2b89891da0>"
      ]
     },
     "metadata": {},
     "output_type": "display_data"
    }
   ],
   "source": [
    "svd_variance(svd, tfd_word_index)"
   ]
  },
  {
   "cell_type": "code",
   "execution_count": 88,
   "metadata": {},
   "outputs": [
    {
     "data": {
      "text/plain": [
       "TruncatedSVD(algorithm='randomized', n_components=6, n_iter=5,\n",
       "       random_state=None, tol=0.0)"
      ]
     },
     "execution_count": 88,
     "metadata": {},
     "output_type": "execute_result"
    }
   ],
   "source": [
    "svd"
   ]
  },
  {
   "cell_type": "code",
   "execution_count": 76,
   "metadata": {
    "scrolled": true
   },
   "outputs": [
    {
     "data": {
      "text/plain": [
       "[('goodnight', 0.66490452694396041), ('and', 0.47625233762535496)]"
      ]
     },
     "execution_count": 76,
     "metadata": {},
     "output_type": "execute_result"
    }
   ],
   "source": [
    "[word for word \n",
    " in sorted(zip(tfd_word_index, svd.components_[0]), key= lambda x: x[1], reverse=True) \n",
    " if abs(word[1]) > .3]"
   ]
  },
  {
   "cell_type": "code",
   "execution_count": 77,
   "metadata": {},
   "outputs": [
    {
     "data": {
      "text/plain": [
       "[('moon', 0.39045319572159681),\n",
       " ('goodnight', 0.35713462324693779),\n",
       " ('and', -0.49610089780782568)]"
      ]
     },
     "execution_count": 77,
     "metadata": {},
     "output_type": "execute_result"
    }
   ],
   "source": [
    "[word for word \n",
    " in sorted(zip(tfd_word_index, svd.components_[1]), key= lambda x: x[1], reverse=True) \n",
    " if abs(word[1]) > .3]"
   ]
  },
  {
   "cell_type": "code",
   "execution_count": 78,
   "metadata": {},
   "outputs": [
    {
     "data": {
      "text/plain": [
       "[('the', 0.5033247041551755), ('goodnight', -0.30797891575045772)]"
      ]
     },
     "execution_count": 78,
     "metadata": {},
     "output_type": "execute_result"
    }
   ],
   "source": [
    "[word for word \n",
    " in sorted(zip(tfd_word_index, svd.components_[2]), key= lambda x: x[1], reverse=True) \n",
    " if abs(word[1]) > .3]"
   ]
  },
  {
   "cell_type": "code",
   "execution_count": 79,
   "metadata": {},
   "outputs": [
    {
     "data": {
      "text/plain": [
       "[('little', 0.61113099115805769), ('house', 0.52125587979772747)]"
      ]
     },
     "execution_count": 79,
     "metadata": {},
     "output_type": "execute_result"
    }
   ],
   "source": [
    "[word for word \n",
    " in sorted(zip(tfd_word_index, svd.components_[3]), key= lambda x: x[1], reverse=True) \n",
    " if abs(word[1]) > .3]"
   ]
  },
  {
   "cell_type": "code",
   "execution_count": 80,
   "metadata": {},
   "outputs": [
    {
     "data": {
      "text/plain": [
       "[('mouse', 0.69302993806734459),\n",
       " ('young', 0.37431521095785775),\n",
       " ('of', -0.34849475126888374),\n",
       " ('mittens', -0.37256847306349006)]"
      ]
     },
     "execution_count": 80,
     "metadata": {},
     "output_type": "execute_result"
    }
   ],
   "source": [
    "[word for word \n",
    " in sorted(zip(tfd_word_index, svd.components_[4]), key= lambda x: x[1], reverse=True) \n",
    " if abs(word[1]) > .3]"
   ]
  },
  {
   "cell_type": "code",
   "execution_count": 81,
   "metadata": {},
   "outputs": [
    {
     "data": {
      "text/plain": [
       "[('mittens', -0.33166641955405929), ('moon', -0.33206685924791535)]"
      ]
     },
     "execution_count": 81,
     "metadata": {},
     "output_type": "execute_result"
    }
   ],
   "source": [
    "[word for word \n",
    " in sorted(zip(tfd_word_index, svd.components_[5]), key= lambda x: x[1], reverse=True) \n",
    " if abs(word[1]) > .3]"
   ]
  },
  {
   "cell_type": "code",
   "execution_count": null,
   "metadata": {
    "collapsed": true
   },
   "outputs": [],
   "source": []
  }
 ],
 "metadata": {
  "kernelspec": {
   "display_name": "Python 3",
   "language": "python",
   "name": "python3"
  },
  "language_info": {
   "codemirror_mode": {
    "name": "ipython",
    "version": 3
   },
   "file_extension": ".py",
   "mimetype": "text/x-python",
   "name": "python",
   "nbconvert_exporter": "python",
   "pygments_lexer": "ipython3",
   "version": "3.5.2"
  }
 },
 "nbformat": 4,
 "nbformat_minor": 2
}
