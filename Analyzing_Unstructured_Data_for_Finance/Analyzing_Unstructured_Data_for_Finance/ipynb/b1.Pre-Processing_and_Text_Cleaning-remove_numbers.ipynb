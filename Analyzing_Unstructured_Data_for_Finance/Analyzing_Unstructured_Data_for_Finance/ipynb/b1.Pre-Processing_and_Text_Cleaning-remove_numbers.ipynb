{
 "cells": [
  {
   "cell_type": "markdown",
   "metadata": {},
   "source": [
    "# Part 2 -- Pre-Processing and Text Cleaning\n",
    "\n",
    "Next we're going to do some basic pre-processing, like converting the text to lower case and deleting URLs. We don't need to remove stopwords such as \"the\" and \"a\", which will be done when we pass our data through a NLTK model later. "
   ]
  },
  {
   "cell_type": "markdown",
   "metadata": {},
   "source": [
    "**Load lib codes**"
   ]
  },
  {
   "cell_type": "code",
   "execution_count": 2,
   "metadata": {},
   "outputs": [],
   "source": [
    "from os import chdir\n",
    "chdir('/home/jovyan/work/Analyzing_Unstructured_Data_for_Finance/Analyzing_Unstructured_Data_for_Finance/')\n",
    "\n",
    "from lib import *\n",
    "# suppress_warnings()"
   ]
  },
  {
   "cell_type": "code",
   "execution_count": 5,
   "metadata": {},
   "outputs": [
    {
     "name": "stdout",
     "output_type": "stream",
     "text": [
      "Requirement already satisfied (use --upgrade to upgrade): pymongo in /opt/conda/lib/python3.5/site-packages\r\n",
      "\u001b[33mYou are using pip version 8.1.2, however version 9.0.1 is available.\r\n",
      "You should consider upgrading via the 'pip install --upgrade pip' command.\u001b[0m\r\n"
     ]
    }
   ],
   "source": [
    "!pip install pymongo\n",
    "import pymongo"
   ]
  },
  {
   "cell_type": "code",
   "execution_count": 6,
   "metadata": {},
   "outputs": [],
   "source": [
    "# Identify port for better security of MongoDB\n",
    "cli = pymongo.MongoClient(host='52.27.11.214', port=27016)"
   ]
  },
  {
   "cell_type": "code",
   "execution_count": 7,
   "metadata": {
    "scrolled": true
   },
   "outputs": [
    {
     "data": {
      "text/plain": [
       "['completed_collection', 'task_collection']"
      ]
     },
     "execution_count": 7,
     "metadata": {},
     "output_type": "execute_result"
    }
   ],
   "source": [
    "completed_collection = cli.twitter_db.completed_collection\n",
    "cli.twitter_db.collection_names()"
   ]
  },
  {
   "cell_type": "markdown",
   "metadata": {
    "collapsed": true
   },
   "source": [
    "**Clean data**"
   ]
  },
  {
   "cell_type": "code",
   "execution_count": 8,
   "metadata": {},
   "outputs": [
    {
     "data": {
      "text/html": [
       "<div>\n",
       "<table border=\"1\" class=\"dataframe\">\n",
       "  <thead>\n",
       "    <tr style=\"text-align: right;\">\n",
       "      <th></th>\n",
       "      <th>_id</th>\n",
       "      <th>text</th>\n",
       "      <th>timestamp</th>\n",
       "      <th>username</th>\n",
       "    </tr>\n",
       "  </thead>\n",
       "  <tbody>\n",
       "    <tr>\n",
       "      <th>0</th>\n",
       "      <td>593deb7057bbd4047664223e</td>\n",
       "      <td>On this National Gun Violence Awareness Day, l...</td>\n",
       "      <td>2017-06-02 17:35:54</td>\n",
       "      <td>BarackObama</td>\n",
       "    </tr>\n",
       "    <tr>\n",
       "      <th>1</th>\n",
       "      <td>593deb7057bbd4047664223f</td>\n",
       "      <td>Forever grateful for the service and sacrifice...</td>\n",
       "      <td>2017-05-29 13:09:16</td>\n",
       "      <td>BarackObama</td>\n",
       "    </tr>\n",
       "  </tbody>\n",
       "</table>\n",
       "</div>"
      ],
      "text/plain": [
       "                        _id  \\\n",
       "0  593deb7057bbd4047664223e   \n",
       "1  593deb7057bbd4047664223f   \n",
       "\n",
       "                                                text           timestamp  \\\n",
       "0  On this National Gun Violence Awareness Day, l... 2017-06-02 17:35:54   \n",
       "1  Forever grateful for the service and sacrifice... 2017-05-29 13:09:16   \n",
       "\n",
       "      username  \n",
       "0  BarackObama  \n",
       "1  BarackObama  "
      ]
     },
     "execution_count": 8,
     "metadata": {},
     "output_type": "execute_result"
    }
   ],
   "source": [
    "# Get data out of our MongoDB collection\n",
    "tweets_list = [document for document in completed_collection.find()]\n",
    "tweets_df = pd.DataFrame(tweets_list)\n",
    "tweets_df.head(2)"
   ]
  },
  {
   "cell_type": "code",
   "execution_count": 9,
   "metadata": {
    "scrolled": false
   },
   "outputs": [
    {
     "name": "stdout",
     "output_type": "stream",
     "text": [
      "<class 'pandas.core.frame.DataFrame'>\n",
      "RangeIndex: 94856 entries, 0 to 94855\n",
      "Data columns (total 4 columns):\n",
      "_id          94856 non-null object\n",
      "text         94856 non-null object\n",
      "timestamp    94856 non-null datetime64[ns]\n",
      "username     94856 non-null object\n",
      "dtypes: datetime64[ns](1), object(3)\n",
      "memory usage: 2.9+ MB\n"
     ]
    }
   ],
   "source": [
    "tweets_df.info()"
   ]
  },
  {
   "cell_type": "code",
   "execution_count": 10,
   "metadata": {
    "collapsed": true
   },
   "outputs": [],
   "source": [
    "# Make our text into a list (instead of a series) so we can apply functions to it\n",
    "tweets_text = []\n",
    "for i in range(len(tweets_df)):\n",
    "    tweets_text.append(tweets_list[i]['text'])"
   ]
  },
  {
   "cell_type": "code",
   "execution_count": 11,
   "metadata": {
    "collapsed": true
   },
   "outputs": [],
   "source": [
    "import re"
   ]
  },
  {
   "cell_type": "code",
   "execution_count": 14,
   "metadata": {
    "collapsed": true
   },
   "outputs": [],
   "source": [
    "def clean_text(text):\n",
    "    text = re.sub('(http\\S+)', '', text)\n",
    "    text = re.sub('(http(s)?:\\/\\/.)?(www\\.)?[-a-zA-Z0-9@:%._\\+~#=]{2,256}\\.[a-z]{2,6}\\b([-a-zA-Z0-9@:%_\\+.~#?&//=]*)', '', text)\n",
    "    text = re.sub('[\\W]', ' ', text)\n",
    "    text = re.sub('(\\@.*?(?=\\s))', ' ', text)\n",
    "    text = re.sub('[\\W, \\d]', ' ', text)\n",
    "    text = re.sub('(\\s[a-z]{1}\\s)', ' ', text)\n",
    "                  \n",
    "    text = re.sub('([\\s]{2,})', ' ', text)\n",
    "    text = text.lower()\n",
    "    return text"
   ]
  },
  {
   "cell_type": "code",
   "execution_count": 15,
   "metadata": {
    "scrolled": true
   },
   "outputs": [],
   "source": [
    "cleaned_text = []\n",
    "for t in tweets_text:\n",
    "    cleaned_text.append(clean_text(t))"
   ]
  },
  {
   "cell_type": "code",
   "execution_count": 16,
   "metadata": {},
   "outputs": [
    {
     "data": {
      "text/plain": [
       "'on this national gun violence awareness day let your voice be heard and show your commitment to reducing gun viole '"
      ]
     },
     "execution_count": 16,
     "metadata": {},
     "output_type": "execute_result"
    }
   ],
   "source": [
    "cleaned_text[0]"
   ]
  },
  {
   "cell_type": "code",
   "execution_count": 17,
   "metadata": {
    "collapsed": true
   },
   "outputs": [],
   "source": [
    "tweets_df['cleaned_text'] = cleaned_text"
   ]
  },
  {
   "cell_type": "code",
   "execution_count": 18,
   "metadata": {
    "collapsed": true,
    "scrolled": true
   },
   "outputs": [],
   "source": [
    "tweets_df['Date'] = tweets_df['timestamp'].dt.date\n",
    "tweets_df['Date'] = pd.to_datetime(tweets_df['Date'])"
   ]
  },
  {
   "cell_type": "code",
   "execution_count": 19,
   "metadata": {},
   "outputs": [
    {
     "data": {
      "text/html": [
       "<div>\n",
       "<table border=\"1\" class=\"dataframe\">\n",
       "  <thead>\n",
       "    <tr style=\"text-align: right;\">\n",
       "      <th></th>\n",
       "      <th>_id</th>\n",
       "      <th>text</th>\n",
       "      <th>timestamp</th>\n",
       "      <th>username</th>\n",
       "      <th>cleaned_text</th>\n",
       "      <th>Date</th>\n",
       "    </tr>\n",
       "  </thead>\n",
       "  <tbody>\n",
       "    <tr>\n",
       "      <th>21825</th>\n",
       "      <td>593debb257bbd40476647786</td>\n",
       "      <td>Tune in to Microsoft's E3 \"Project Scorpio\" li...</td>\n",
       "      <td>2017-06-11 17:56:34</td>\n",
       "      <td>TechCrunch</td>\n",
       "      <td>tune in to microsoft e project scorpio live st...</td>\n",
       "      <td>2017-06-11</td>\n",
       "    </tr>\n",
       "    <tr>\n",
       "      <th>71783</th>\n",
       "      <td>593dec4057bbd40476653abb</td>\n",
       "      <td>RT @DamatoK: Here's a straightforward pencil-a...</td>\n",
       "      <td>2017-04-13 13:13:23</td>\n",
       "      <td>MONEY</td>\n",
       "      <td>rt damatok here a straightforward pencil and p...</td>\n",
       "      <td>2017-04-13</td>\n",
       "    </tr>\n",
       "    <tr>\n",
       "      <th>79534</th>\n",
       "      <td>593dec5c57bbd40476655905</td>\n",
       "      <td>SocGen Angered By \"Stupidly Strong\" Correlatio...</td>\n",
       "      <td>2017-06-06 14:00:48</td>\n",
       "      <td>zerohedge</td>\n",
       "      <td>socgen angered by stupidly strong correlation ...</td>\n",
       "      <td>2017-06-06</td>\n",
       "    </tr>\n",
       "    <tr>\n",
       "      <th>22771</th>\n",
       "      <td>593debb457bbd40476647b38</td>\n",
       "      <td>Pokémon Go reveals sponsors like McDonald's pa...</td>\n",
       "      <td>2017-05-31 16:27:30</td>\n",
       "      <td>TechCrunch</td>\n",
       "      <td>pokémon go reveals sponsors like mcdonald pay ...</td>\n",
       "      <td>2017-05-31</td>\n",
       "    </tr>\n",
       "    <tr>\n",
       "      <th>443</th>\n",
       "      <td>593deb7157bbd404766423f9</td>\n",
       "      <td>#OrlandoUnited https://t.co/ixCxMZzGH2</td>\n",
       "      <td>2016-06-13 16:52:45</td>\n",
       "      <td>BarackObama</td>\n",
       "      <td>orlandounited</td>\n",
       "      <td>2016-06-13</td>\n",
       "    </tr>\n",
       "  </tbody>\n",
       "</table>\n",
       "</div>"
      ],
      "text/plain": [
       "                            _id  \\\n",
       "21825  593debb257bbd40476647786   \n",
       "71783  593dec4057bbd40476653abb   \n",
       "79534  593dec5c57bbd40476655905   \n",
       "22771  593debb457bbd40476647b38   \n",
       "443    593deb7157bbd404766423f9   \n",
       "\n",
       "                                                    text           timestamp  \\\n",
       "21825  Tune in to Microsoft's E3 \"Project Scorpio\" li... 2017-06-11 17:56:34   \n",
       "71783  RT @DamatoK: Here's a straightforward pencil-a... 2017-04-13 13:13:23   \n",
       "79534  SocGen Angered By \"Stupidly Strong\" Correlatio... 2017-06-06 14:00:48   \n",
       "22771  Pokémon Go reveals sponsors like McDonald's pa... 2017-05-31 16:27:30   \n",
       "443               #OrlandoUnited https://t.co/ixCxMZzGH2 2016-06-13 16:52:45   \n",
       "\n",
       "          username                                       cleaned_text  \\\n",
       "21825   TechCrunch  tune in to microsoft e project scorpio live st...   \n",
       "71783        MONEY  rt damatok here a straightforward pencil and p...   \n",
       "79534    zerohedge  socgen angered by stupidly strong correlation ...   \n",
       "22771   TechCrunch  pokémon go reveals sponsors like mcdonald pay ...   \n",
       "443    BarackObama                                     orlandounited    \n",
       "\n",
       "            Date  \n",
       "21825 2017-06-11  \n",
       "71783 2017-04-13  \n",
       "79534 2017-06-06  \n",
       "22771 2017-05-31  \n",
       "443   2016-06-13  "
      ]
     },
     "execution_count": 19,
     "metadata": {},
     "output_type": "execute_result"
    }
   ],
   "source": [
    "tweets_df.sample(5)"
   ]
  },
  {
   "cell_type": "code",
   "execution_count": 20,
   "metadata": {},
   "outputs": [
    {
     "data": {
      "text/plain": [
       "dtype('<M8[ns]')"
      ]
     },
     "execution_count": 20,
     "metadata": {},
     "output_type": "execute_result"
    }
   ],
   "source": [
    "tweets_df['Date'].dtype"
   ]
  },
  {
   "cell_type": "code",
   "execution_count": 21,
   "metadata": {},
   "outputs": [
    {
     "data": {
      "text/plain": [
       "(94856, 6)"
      ]
     },
     "execution_count": 21,
     "metadata": {},
     "output_type": "execute_result"
    }
   ],
   "source": [
    "tweets_df.shape"
   ]
  },
  {
   "cell_type": "code",
   "execution_count": 22,
   "metadata": {},
   "outputs": [
    {
     "data": {
      "text/plain": [
       "['../Analyzing_Unstructured_Data_for_Finance/data_cleaned/b1.tweets_df.pickle']"
      ]
     },
     "execution_count": 22,
     "metadata": {},
     "output_type": "execute_result"
    }
   ],
   "source": [
    "joblib.dump(tweets_df, '../Analyzing_Unstructured_Data_for_Finance/data_cleaned/b1.tweets_df.pickle')"
   ]
  },
  {
   "cell_type": "code",
   "execution_count": 23,
   "metadata": {},
   "outputs": [
    {
     "name": "stdout",
     "output_type": "stream",
     "text": [
      "2008-09-10 00:00:00\n",
      "2017-06-12 00:00:00\n"
     ]
    }
   ],
   "source": [
    "# Use the dates to determine how the date range we want to pull stock data from\n",
    "print(min(tweets_df['Date']))\n",
    "print(max(tweets_df['Date']))"
   ]
  },
  {
   "cell_type": "code",
   "execution_count": null,
   "metadata": {
    "collapsed": true
   },
   "outputs": [],
   "source": []
  }
 ],
 "metadata": {
  "kernelspec": {
   "display_name": "Python 3",
   "language": "python",
   "name": "python3"
  },
  "language_info": {
   "codemirror_mode": {
    "name": "ipython",
    "version": 3
   },
   "file_extension": ".py",
   "mimetype": "text/x-python",
   "name": "python",
   "nbconvert_exporter": "python",
   "pygments_lexer": "ipython3",
   "version": "3.5.2"
  }
 },
 "nbformat": 4,
 "nbformat_minor": 2
}
