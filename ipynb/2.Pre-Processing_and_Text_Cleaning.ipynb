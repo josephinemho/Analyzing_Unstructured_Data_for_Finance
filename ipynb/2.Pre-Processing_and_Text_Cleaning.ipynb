{
 "cells": [
  {
   "cell_type": "markdown",
   "metadata": {
    "deletable": true,
    "editable": true
   },
   "source": [
    "# Part 2 -- Pre-Processing and Text Cleaning\n",
    "\n",
    "Next we're going to do some basic pre-processing, like converting the text to lower case and deleting URLs. We don't need to remove stopwords such as \"the\" and \"a\", which will be done when we pass our data through a NLTK model later. "
   ]
  },
  {
   "cell_type": "markdown",
   "metadata": {
    "deletable": true,
    "editable": true
   },
   "source": [
    "**Load lib codes**"
   ]
  },
  {
   "cell_type": "code",
   "execution_count": 1,
   "metadata": {
    "collapsed": true,
    "deletable": true,
    "editable": true
   },
   "outputs": [],
   "source": [
    "from os import chdir\n",
    "chdir('/home/jovyan/work/Analyzing_Unstructured_Data_for_Finance/')\n",
    "\n",
    "from lib import *\n",
    "# suppress_warnings()"
   ]
  },
  {
   "cell_type": "code",
   "execution_count": 4,
   "metadata": {
    "collapsed": false,
    "deletable": true,
    "editable": true
   },
   "outputs": [
    {
     "name": "stdout",
     "output_type": "stream",
     "text": [
      "Requirement already satisfied (use --upgrade to upgrade): pymongo in /opt/conda/lib/python3.5/site-packages\n",
      "\u001b[33mYou are using pip version 8.1.2, however version 9.0.1 is available.\n",
      "You should consider upgrading via the 'pip install --upgrade pip' command.\u001b[0m\n"
     ]
    }
   ],
   "source": [
    "!pip install pymongo\n",
    "import pymongo"
   ]
  },
  {
   "cell_type": "code",
   "execution_count": 5,
   "metadata": {
    "collapsed": false,
    "deletable": true,
    "editable": true
   },
   "outputs": [],
   "source": [
    "# Identify port for better security of MongoDB\n",
    "cli = pymongo.MongoClient(host='52.27.11.214', port=27016)"
   ]
  },
  {
   "cell_type": "code",
   "execution_count": 6,
   "metadata": {
    "collapsed": false,
    "deletable": true,
    "editable": true,
    "scrolled": true
   },
   "outputs": [
    {
     "data": {
      "text/plain": [
       "['completed_collection', 'task_collection']"
      ]
     },
     "execution_count": 6,
     "metadata": {},
     "output_type": "execute_result"
    }
   ],
   "source": [
    "completed_collection = cli.twitter_db.completed_collection\n",
    "cli.twitter_db.collection_names()"
   ]
  },
  {
   "cell_type": "markdown",
   "metadata": {
    "collapsed": true,
    "deletable": true,
    "editable": true
   },
   "source": [
    "**Clean data**"
   ]
  },
  {
   "cell_type": "code",
   "execution_count": 7,
   "metadata": {
    "collapsed": false,
    "deletable": true,
    "editable": true
   },
   "outputs": [
    {
     "data": {
      "text/html": [
       "<div>\n",
       "<table border=\"1\" class=\"dataframe\">\n",
       "  <thead>\n",
       "    <tr style=\"text-align: right;\">\n",
       "      <th></th>\n",
       "      <th>_id</th>\n",
       "      <th>text</th>\n",
       "      <th>timestamp</th>\n",
       "      <th>username</th>\n",
       "    </tr>\n",
       "  </thead>\n",
       "  <tbody>\n",
       "    <tr>\n",
       "      <th>0</th>\n",
       "      <td>593deb7057bbd4047664223e</td>\n",
       "      <td>On this National Gun Violence Awareness Day, l...</td>\n",
       "      <td>2017-06-02 17:35:54</td>\n",
       "      <td>BarackObama</td>\n",
       "    </tr>\n",
       "    <tr>\n",
       "      <th>1</th>\n",
       "      <td>593deb7057bbd4047664223f</td>\n",
       "      <td>Forever grateful for the service and sacrifice...</td>\n",
       "      <td>2017-05-29 13:09:16</td>\n",
       "      <td>BarackObama</td>\n",
       "    </tr>\n",
       "  </tbody>\n",
       "</table>\n",
       "</div>"
      ],
      "text/plain": [
       "                        _id  \\\n",
       "0  593deb7057bbd4047664223e   \n",
       "1  593deb7057bbd4047664223f   \n",
       "\n",
       "                                                text           timestamp  \\\n",
       "0  On this National Gun Violence Awareness Day, l... 2017-06-02 17:35:54   \n",
       "1  Forever grateful for the service and sacrifice... 2017-05-29 13:09:16   \n",
       "\n",
       "      username  \n",
       "0  BarackObama  \n",
       "1  BarackObama  "
      ]
     },
     "execution_count": 7,
     "metadata": {},
     "output_type": "execute_result"
    }
   ],
   "source": [
    "# Get data out of our MongoDB collection\n",
    "tweets_list = [document for document in completed_collection.find()]\n",
    "tweets_df = pd.DataFrame(tweets_list)\n",
    "tweets_df.head(2)"
   ]
  },
  {
   "cell_type": "code",
   "execution_count": 8,
   "metadata": {
    "collapsed": false,
    "deletable": true,
    "editable": true,
    "scrolled": false
   },
   "outputs": [
    {
     "name": "stdout",
     "output_type": "stream",
     "text": [
      "<class 'pandas.core.frame.DataFrame'>\n",
      "RangeIndex: 94856 entries, 0 to 94855\n",
      "Data columns (total 4 columns):\n",
      "_id          94856 non-null object\n",
      "text         94856 non-null object\n",
      "timestamp    94856 non-null datetime64[ns]\n",
      "username     94856 non-null object\n",
      "dtypes: datetime64[ns](1), object(3)\n",
      "memory usage: 2.9+ MB\n"
     ]
    }
   ],
   "source": [
    "tweets_df.info()"
   ]
  },
  {
   "cell_type": "code",
   "execution_count": 9,
   "metadata": {
    "collapsed": true,
    "deletable": true,
    "editable": true
   },
   "outputs": [],
   "source": [
    "# Make our text into a list (instead of a series) so we can apply functions to it\n",
    "tweets_text = []\n",
    "for i in range(len(tweets_df)):\n",
    "    tweets_text.append(tweets_list[i]['text'])"
   ]
  },
  {
   "cell_type": "code",
   "execution_count": 10,
   "metadata": {
    "collapsed": true,
    "deletable": true,
    "editable": true
   },
   "outputs": [],
   "source": [
    "import re"
   ]
  },
  {
   "cell_type": "code",
   "execution_count": 11,
   "metadata": {
    "collapsed": true,
    "deletable": true,
    "editable": true
   },
   "outputs": [],
   "source": [
    "def clean_text(text):\n",
    "    text = re.sub('(http\\S+)', '', text)\n",
    "    text = re.sub('(http(s)?:\\/\\/.)?(www\\.)?[-a-zA-Z0-9@:%._\\+~#=]{2,256}\\.[a-z]{2,6}\\b([-a-zA-Z0-9@:%_\\+.~#?&//=]*)', '', text)\n",
    "    text = re.sub('[\\W]', ' ', text)\n",
    "    text = re.sub('(\\@.*?(?=\\s))', ' ', text)\n",
    "    \n",
    "    text = re.sub('([\\s]{2,})', ' ', text)\n",
    "    text = text.lower()\n",
    "    return text"
   ]
  },
  {
   "cell_type": "code",
   "execution_count": 12,
   "metadata": {
    "collapsed": true,
    "deletable": true,
    "editable": true,
    "scrolled": true
   },
   "outputs": [],
   "source": [
    "cleaned_text = []\n",
    "for t in tweets_text:\n",
    "    cleaned_text.append(clean_text(t))"
   ]
  },
  {
   "cell_type": "code",
   "execution_count": 13,
   "metadata": {
    "collapsed": false,
    "deletable": true,
    "editable": true
   },
   "outputs": [
    {
     "data": {
      "text/plain": [
       "'on this national gun violence awareness day let your voice be heard and show your commitment to reducing gun viole '"
      ]
     },
     "execution_count": 13,
     "metadata": {},
     "output_type": "execute_result"
    }
   ],
   "source": [
    "cleaned_text[0]"
   ]
  },
  {
   "cell_type": "code",
   "execution_count": 14,
   "metadata": {
    "collapsed": true,
    "deletable": true,
    "editable": true
   },
   "outputs": [],
   "source": [
    "tweets_df['cleaned_text'] = cleaned_text"
   ]
  },
  {
   "cell_type": "code",
   "execution_count": 15,
   "metadata": {
    "collapsed": true,
    "deletable": true,
    "editable": true,
    "scrolled": true
   },
   "outputs": [],
   "source": [
    "tweets_df['Date'] = tweets_df['timestamp'].dt.date\n",
    "tweets_df['Date'] = pd.to_datetime(tweets_df['Date'])"
   ]
  },
  {
   "cell_type": "code",
   "execution_count": 16,
   "metadata": {
    "collapsed": false,
    "deletable": true,
    "editable": true
   },
   "outputs": [
    {
     "data": {
      "text/html": [
       "<div>\n",
       "<table border=\"1\" class=\"dataframe\">\n",
       "  <thead>\n",
       "    <tr style=\"text-align: right;\">\n",
       "      <th></th>\n",
       "      <th>_id</th>\n",
       "      <th>text</th>\n",
       "      <th>timestamp</th>\n",
       "      <th>username</th>\n",
       "      <th>cleaned_text</th>\n",
       "      <th>Date</th>\n",
       "    </tr>\n",
       "  </thead>\n",
       "  <tbody>\n",
       "    <tr>\n",
       "      <th>26082</th>\n",
       "      <td>593debbe57bbd40476648828</td>\n",
       "      <td>Landing https://t.co/dRWGyyTtCH</td>\n",
       "      <td>2016-07-18 20:42:23</td>\n",
       "      <td>elonmusk</td>\n",
       "      <td>landing</td>\n",
       "      <td>2016-07-18</td>\n",
       "    </tr>\n",
       "    <tr>\n",
       "      <th>30414</th>\n",
       "      <td>593debc957bbd40476649915</td>\n",
       "      <td>.@BetteMidler brings her best to “Hello, Dolly...</td>\n",
       "      <td>2017-04-27 12:00:24</td>\n",
       "      <td>NewYorker</td>\n",
       "      <td>bettemidler brings her best to hello dolly</td>\n",
       "      <td>2017-04-27</td>\n",
       "    </tr>\n",
       "    <tr>\n",
       "      <th>48244</th>\n",
       "      <td>593debfe57bbd4047664dec1</td>\n",
       "      <td>RT @RyanBartholomee: Llama ask you if you are ...</td>\n",
       "      <td>2017-04-15 01:07:18</td>\n",
       "      <td>sacca</td>\n",
       "      <td>rt ryanbartholomee llama ask you if you are wa...</td>\n",
       "      <td>2017-04-15</td>\n",
       "    </tr>\n",
       "    <tr>\n",
       "      <th>18124</th>\n",
       "      <td>593deba657bbd4047664690f</td>\n",
       "      <td>thank you! https://t.co/mdq19gHBOm</td>\n",
       "      <td>2017-03-29 13:49:54</td>\n",
       "      <td>jimcramer</td>\n",
       "      <td>thank you</td>\n",
       "      <td>2017-03-29</td>\n",
       "    </tr>\n",
       "    <tr>\n",
       "      <th>45703</th>\n",
       "      <td>593debf557bbd4047664d4d3</td>\n",
       "      <td>This new Tinder alternative is using artificia...</td>\n",
       "      <td>2017-05-05 04:00:01</td>\n",
       "      <td>Forbes</td>\n",
       "      <td>this new tinder alternative is using artificia...</td>\n",
       "      <td>2017-05-05</td>\n",
       "    </tr>\n",
       "  </tbody>\n",
       "</table>\n",
       "</div>"
      ],
      "text/plain": [
       "                            _id  \\\n",
       "26082  593debbe57bbd40476648828   \n",
       "30414  593debc957bbd40476649915   \n",
       "48244  593debfe57bbd4047664dec1   \n",
       "18124  593deba657bbd4047664690f   \n",
       "45703  593debf557bbd4047664d4d3   \n",
       "\n",
       "                                                    text           timestamp  \\\n",
       "26082                    Landing https://t.co/dRWGyyTtCH 2016-07-18 20:42:23   \n",
       "30414  .@BetteMidler brings her best to “Hello, Dolly... 2017-04-27 12:00:24   \n",
       "48244  RT @RyanBartholomee: Llama ask you if you are ... 2017-04-15 01:07:18   \n",
       "18124                 thank you! https://t.co/mdq19gHBOm 2017-03-29 13:49:54   \n",
       "45703  This new Tinder alternative is using artificia... 2017-05-05 04:00:01   \n",
       "\n",
       "        username                                       cleaned_text       Date  \n",
       "26082   elonmusk                                           landing  2016-07-18  \n",
       "30414  NewYorker        bettemidler brings her best to hello dolly  2017-04-27  \n",
       "48244      sacca  rt ryanbartholomee llama ask you if you are wa... 2017-04-15  \n",
       "18124  jimcramer                                         thank you  2017-03-29  \n",
       "45703     Forbes  this new tinder alternative is using artificia... 2017-05-05  "
      ]
     },
     "execution_count": 16,
     "metadata": {},
     "output_type": "execute_result"
    }
   ],
   "source": [
    "tweets_df.sample(5)"
   ]
  },
  {
   "cell_type": "code",
   "execution_count": 17,
   "metadata": {
    "collapsed": false,
    "deletable": true,
    "editable": true
   },
   "outputs": [
    {
     "data": {
      "text/plain": [
       "dtype('<M8[ns]')"
      ]
     },
     "execution_count": 17,
     "metadata": {},
     "output_type": "execute_result"
    }
   ],
   "source": [
    "tweets_df['Date'].dtype"
   ]
  },
  {
   "cell_type": "code",
   "execution_count": 18,
   "metadata": {
    "collapsed": false,
    "deletable": true,
    "editable": true
   },
   "outputs": [
    {
     "data": {
      "text/plain": [
       "(94856, 6)"
      ]
     },
     "execution_count": 18,
     "metadata": {},
     "output_type": "execute_result"
    }
   ],
   "source": [
    "tweets_df.shape"
   ]
  },
  {
   "cell_type": "code",
   "execution_count": 19,
   "metadata": {
    "collapsed": false,
    "deletable": true,
    "editable": true
   },
   "outputs": [
    {
     "data": {
      "text/plain": [
       "['../Analyzing_Unstructured_Data_for_Finance/data/2.tweets_df.pickle']"
      ]
     },
     "execution_count": 19,
     "metadata": {},
     "output_type": "execute_result"
    }
   ],
   "source": [
    "joblib.dump(tweets_df, '../Analyzing_Unstructured_Data_for_Finance/data/2.tweets_df.pickle')"
   ]
  },
  {
   "cell_type": "code",
   "execution_count": 20,
   "metadata": {
    "collapsed": false,
    "deletable": true,
    "editable": true
   },
   "outputs": [
    {
     "name": "stdout",
     "output_type": "stream",
     "text": [
      "2008-09-10 00:00:00\n",
      "2017-06-12 00:00:00\n"
     ]
    }
   ],
   "source": [
    "# Use the dates to determine how the date range we want to pull stock data from\n",
    "print(min(tweets_df['Date']))\n",
    "print(max(tweets_df['Date']))"
   ]
  },
  {
   "cell_type": "code",
   "execution_count": null,
   "metadata": {
    "collapsed": true,
    "deletable": true,
    "editable": true
   },
   "outputs": [],
   "source": []
  }
 ],
 "metadata": {
  "kernelspec": {
   "display_name": "Python 3",
   "language": "python",
   "name": "python3"
  },
  "language_info": {
   "codemirror_mode": {
    "name": "ipython",
    "version": 3
   },
   "file_extension": ".py",
   "mimetype": "text/x-python",
   "name": "python",
   "nbconvert_exporter": "python",
   "pygments_lexer": "ipython3",
   "version": "3.5.2"
  }
 },
 "nbformat": 4,
 "nbformat_minor": 2
}
