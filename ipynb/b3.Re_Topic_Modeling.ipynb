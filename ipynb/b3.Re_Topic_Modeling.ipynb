{
 "cells": [
  {
   "cell_type": "markdown",
   "metadata": {
    "deletable": true,
    "editable": true
   },
   "source": [
    "# Part b3 -- Topic Modeling\n",
    "\n",
    "Identifying topics that exist in our Twitter data space."
   ]
  },
  {
   "cell_type": "markdown",
   "metadata": {
    "deletable": true,
    "editable": true
   },
   "source": [
    "**Load lib codes**"
   ]
  },
  {
   "cell_type": "code",
   "execution_count": 34,
   "metadata": {
    "collapsed": true,
    "deletable": true,
    "editable": true
   },
   "outputs": [],
   "source": [
    "from os import chdir\n",
    "chdir('/home/jovyan/work/Analyzing_Unstructured_Data_for_Finance/Analyzing_Unstructured_Data_for_Finance/')\n",
    "\n",
    "from lib import *\n",
    "# suppress_warnings()"
   ]
  },
  {
   "cell_type": "code",
   "execution_count": 72,
   "metadata": {
    "collapsed": true
   },
   "outputs": [],
   "source": [
    "X = joblib.load('../Analyzing_Unstructured_Data_for_Finance/data_cleaned/b1.X.pickle')"
   ]
  },
  {
   "cell_type": "code",
   "execution_count": 76,
   "metadata": {
    "collapsed": true
   },
   "outputs": [],
   "source": [
    "X = X['cleaned_text']"
   ]
  },
  {
   "cell_type": "markdown",
   "metadata": {},
   "source": [
    "**Re-do TFIDF vectorizer just for topic modeling, because we might actually want to keep some noisy words here to help us understand the topics**"
   ]
  },
  {
   "cell_type": "code",
   "execution_count": 73,
   "metadata": {
    "collapsed": true
   },
   "outputs": [],
   "source": [
    "from sklearn.feature_extraction.text import TfidfVectorizer, ENGLISH_STOP_WORDS\n",
    "from sklearn.feature_extraction import text"
   ]
  },
  {
   "cell_type": "code",
   "execution_count": 98,
   "metadata": {
    "collapsed": false
   },
   "outputs": [],
   "source": [
    "stopwords = set(ENGLISH_STOP_WORDS)\n",
    "stopwords.add('rt')\n",
    "stopwords.add('just')\n",
    "stopwords.add('amp')\n",
    "stopwords.add('says')\n",
    "stopwords.add('re')\n",
    "stopwords.add('via')\n",
    "stopwords.add('will')\n",
    "stopwords.add('say')\n",
    "stopwords.add('one')\n",
    "stopwords.add('may')\n",
    "stopwords.add('time')\n",
    "stopwords.add('make')\n",
    "stopwords.add('right')\n",
    "\n",
    "stopwords.add('don')\n",
    "stopwords.add('new')\n",
    "stopwords.add('today')\n",
    "stopwords.add('year')\n",
    "stopwords.add('like')\n",
    "stopwords.add('day')\n",
    "stopwords.add('know')\n",
    "stopwords.add('need')"
   ]
  },
  {
   "cell_type": "code",
   "execution_count": 99,
   "metadata": {
    "collapsed": false
   },
   "outputs": [],
   "source": [
    "tfidf = TfidfVectorizer(ngram_range=(1,2), min_df=20, stop_words=stopwords)\n",
    "X_tfidf = tfidf.fit_transform(X)"
   ]
  },
  {
   "cell_type": "code",
   "execution_count": 100,
   "metadata": {
    "collapsed": true
   },
   "outputs": [],
   "source": [
    "from sklearn.decomposition import TruncatedSVD"
   ]
  },
  {
   "cell_type": "code",
   "execution_count": 101,
   "metadata": {
    "collapsed": false,
    "deletable": true,
    "editable": true,
    "scrolled": true
   },
   "outputs": [],
   "source": [
    "def perform_latent_semantic_analysis(n_components, vectorizer):\n",
    "    SVD = TruncatedSVD(n_components)\n",
    "    component_names = [\"component_\"+str(i+1) for i in range(n_components)]\n",
    "    latent_semantic_analysis = pd.DataFrame(SVD.fit_transform(X_tfidf),\n",
    "                                            index = X.index,\n",
    "                                            columns = component_names)\n",
    "    vocabulary_expression = pd.DataFrame(SVD.components_,\n",
    "                                         index = component_names,\n",
    "                                         columns = vectorizer.get_feature_names())\n",
    "    svd = SVD\n",
    "    return latent_semantic_analysis, vocabulary_expression, svd"
   ]
  },
  {
   "cell_type": "code",
   "execution_count": 102,
   "metadata": {
    "collapsed": false
   },
   "outputs": [],
   "source": [
    "latent_semantic_analysis, vocabulary_expression, svd = perform_latent_semantic_analysis(5, tfidf)"
   ]
  },
  {
   "cell_type": "code",
   "execution_count": 103,
   "metadata": {
    "collapsed": false,
    "deletable": true,
    "editable": true,
    "scrolled": true
   },
   "outputs": [],
   "source": [
    "tfidf_word_index = tfidf.get_feature_names()"
   ]
  },
  {
   "cell_type": "code",
   "execution_count": 109,
   "metadata": {
    "collapsed": false,
    "deletable": true,
    "editable": true,
    "scrolled": true
   },
   "outputs": [
    {
     "data": {
      "text/plain": [
       "[('trump', 0.65527752852095789),\n",
       " ('president', 0.26503754892247217),\n",
       " ('donald', 0.20414177783501389),\n",
       " ('donald trump', 0.19947939446665114),\n",
       " ('obama', 0.14929761261486607),\n",
       " ('president obama', 0.12884986134715995),\n",
       " ('market', 0.1248465384794098),\n",
       " ('stock', 0.10654107896268575),\n",
       " ('stocks', 0.10629463186021025),\n",
       " ('people', 0.088451756040355281),\n",
       " ('president trump', 0.085389752646524278),\n",
       " ('america', 0.0845361947189429),\n",
       " ('great', 0.08054329886014687),\n",
       " ('hillary', 0.07271545191667475),\n",
       " ('comey', 0.072468408835816123),\n",
       " ('cnnpolitics', 0.067087617105536471),\n",
       " ('watch', 0.066896817482028206),\n",
       " ('tax', 0.063947689708080874),\n",
       " ('good', 0.06286356921105099),\n",
       " ('china', 0.06144462112762529)]"
      ]
     },
     "execution_count": 109,
     "metadata": {},
     "output_type": "execute_result"
    }
   ],
   "source": [
    "# These words make up the \"topic\" in comp_1\n",
    "comp_1 = list(zip(tfidf_word_index, svd.components_[0]))\n",
    "comp_1.sort(key=lambda x: abs(x[1]), reverse=True)\n",
    "comp_1[:20]"
   ]
  },
  {
   "cell_type": "code",
   "execution_count": 105,
   "metadata": {
    "collapsed": false,
    "deletable": true,
    "editable": true
   },
   "outputs": [
    {
     "data": {
      "text/plain": [
       "[('trump', -0.40476957173121331),\n",
       " ('market', 0.40146207205688056),\n",
       " ('stock', 0.37513016977207486),\n",
       " ('stocks', 0.23183874389248504),\n",
       " ('stock market', 0.17859000268665384),\n",
       " ('donald', -0.16906782209491469),\n",
       " ('donald trump', -0.16636769808413204),\n",
       " ('apple', 0.13594605201311727),\n",
       " ('freddiethekat', 0.12573489220933382),\n",
       " ('buy', 0.095676656265232279),\n",
       " ('investors', 0.088797629291874722),\n",
       " ('oil', 0.083345062966595149),\n",
       " ('best', 0.082360104133754261),\n",
       " ('president', -0.081543337366573085),\n",
       " ('earnings', 0.07995316597515735),\n",
       " ('aapl', 0.07958483767585095),\n",
       " ('big', 0.079448741492871858),\n",
       " ('good', 0.071125678435279255),\n",
       " ('reutersmoney', 0.069122609211972427),\n",
       " ('people', 0.068762749353918934)]"
      ]
     },
     "execution_count": 105,
     "metadata": {},
     "output_type": "execute_result"
    }
   ],
   "source": [
    "# These words make up the \"topic\" in comp_2\n",
    "comp_2 = list(zip(tfidf_word_index, svd.components_[1]))\n",
    "comp_2.sort(key=lambda x: abs(x[1]), reverse=True)\n",
    "comp_2[:20]"
   ]
  },
  {
   "cell_type": "code",
   "execution_count": 106,
   "metadata": {
    "collapsed": false
   },
   "outputs": [
    {
     "data": {
      "text/plain": [
       "[('president', 0.53702768864876316),\n",
       " ('obama', 0.47133569548776894),\n",
       " ('president obama', 0.44968137435260053),\n",
       " ('trump', -0.33285824611683201),\n",
       " ('donald', -0.13826879113005544),\n",
       " ('donald trump', -0.13570917512346786),\n",
       " ('market', -0.11428141366205727),\n",
       " ('stock', -0.11013115251687997),\n",
       " ('live', 0.09188217542387063),\n",
       " ('watch', 0.075672593524523421),\n",
       " ('people', 0.074577224677821394),\n",
       " ('live president', 0.071394738492822407),\n",
       " ('stocks', -0.056913009782821336),\n",
       " ('stock market', -0.056419917367247642),\n",
       " ('america', 0.05535721038809395),\n",
       " ('sotu', 0.05024550365684622),\n",
       " ('speaking', 0.0478772574458508),\n",
       " ('change', 0.044129283500909063),\n",
       " ('obama speaking', 0.043970813529582244),\n",
       " ('watch president', 0.043476710369392907)]"
      ]
     },
     "execution_count": 106,
     "metadata": {},
     "output_type": "execute_result"
    }
   ],
   "source": [
    "# These words make up the \"topic\" in comp_3\n",
    "comp_3 = list(zip(tfidf_word_index, svd.components_[2]))\n",
    "comp_3.sort(key=lambda x: abs(x[1]), reverse=True)\n",
    "comp_3[:20]"
   ]
  },
  {
   "cell_type": "code",
   "execution_count": 107,
   "metadata": {
    "collapsed": false,
    "scrolled": true
   },
   "outputs": [
    {
     "data": {
      "text/plain": [
       "[('market', 0.51257894458174946),\n",
       " ('stock', 0.42598919008672548),\n",
       " ('stocks', -0.31355718450200992),\n",
       " ('stock market', 0.26983719583420751),\n",
       " ('freddiethekat', -0.23189141984496631),\n",
       " ('apple', -0.1534450699316616),\n",
       " ('reutersmoney', -0.12798758465837462),\n",
       " ('president', 0.1238787039922416),\n",
       " ('people', -0.11150355310687396),\n",
       " ('street', -0.099056103046263902),\n",
       " ('wall', -0.097658239068006775),\n",
       " ('reutersbiz', -0.097188817486524234),\n",
       " ('wall street', -0.092838177437844852),\n",
       " ('obama', 0.087495070824675711),\n",
       " ('watch', -0.084883593220301173),\n",
       " ('president obama', 0.084223836011930384),\n",
       " ('trump', 0.081081917581068697),\n",
       " ('world', -0.080336553953993584),\n",
       " ('aapl', -0.077702823386958941),\n",
       " ('great', -0.070813698802350389)]"
      ]
     },
     "execution_count": 107,
     "metadata": {},
     "output_type": "execute_result"
    }
   ],
   "source": [
    "# These words make up the \"topic\" in comp_4\n",
    "comp_4 = list(zip(tfidf_word_index, svd.components_[3]))\n",
    "comp_4.sort(key=lambda x: abs(x[1]), reverse=True)\n",
    "comp_4[:20]"
   ]
  },
  {
   "cell_type": "code",
   "execution_count": 108,
   "metadata": {
    "collapsed": false
   },
   "outputs": [
    {
     "data": {
      "text/plain": [
       "[('stocks', 0.55251254968930907),\n",
       " ('great', -0.32336290439986376),\n",
       " ('people', -0.31346228987832986),\n",
       " ('freddiethekat', 0.21928496569413311),\n",
       " ('good', -0.17753500631479649),\n",
       " ('president', 0.1467851538215281),\n",
       " ('reutersmoney', 0.13626052812424586),\n",
       " ('world', -0.11995990475819079),\n",
       " ('thank', -0.11870743477319928),\n",
       " ('work', -0.1121384315016606),\n",
       " ('wall', 0.10974775598096527),\n",
       " ('street', 0.10836611528442459),\n",
       " ('obama', 0.10670318119441033),\n",
       " ('thanks', -0.10661697087432681),\n",
       " ('wall street', 0.10506372125196427),\n",
       " ('president obama', 0.1026877615376042),\n",
       " ('america', -0.095800139677664417),\n",
       " ('hillary', -0.094377253880984585),\n",
       " ('want', -0.093793907605281959),\n",
       " ('reutersbiz', 0.093536406912372638)]"
      ]
     },
     "execution_count": 108,
     "metadata": {},
     "output_type": "execute_result"
    }
   ],
   "source": [
    "# These words make up the \"topic\" in comp_5\n",
    "comp_5 = list(zip(tfidf_word_index, svd.components_[4]))\n",
    "comp_5.sort(key=lambda x: abs(x[1]), reverse=True)\n",
    "comp_5[:20]"
   ]
  },
  {
   "cell_type": "code",
   "execution_count": null,
   "metadata": {
    "collapsed": true
   },
   "outputs": [],
   "source": []
  },
  {
   "cell_type": "code",
   "execution_count": null,
   "metadata": {
    "collapsed": true
   },
   "outputs": [],
   "source": []
  }
 ],
 "metadata": {
  "kernelspec": {
   "display_name": "Python 3",
   "language": "python",
   "name": "python3"
  },
  "language_info": {
   "codemirror_mode": {
    "name": "ipython",
    "version": 3
   },
   "file_extension": ".py",
   "mimetype": "text/x-python",
   "name": "python",
   "nbconvert_exporter": "python",
   "pygments_lexer": "ipython3",
   "version": "3.5.2"
  }
 },
 "nbformat": 4,
 "nbformat_minor": 2
}
