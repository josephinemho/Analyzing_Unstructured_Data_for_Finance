{
 "cells": [
  {
   "cell_type": "markdown",
   "metadata": {
    "deletable": true,
    "editable": true
   },
   "source": [
    "# Part 4 -- Combine Features and Target\n",
    "\n",
    "Since our feature data (tweets) and target data (stocks) are pulled from different sources and have different numbers of rows and columns, we will need to do some cleaning to make sure our X's and y's share the same number of rows. This is important for when we feed our data into models."
   ]
  },
  {
   "cell_type": "markdown",
   "metadata": {
    "deletable": true,
    "editable": true
   },
   "source": [
    "**Load lib codes**"
   ]
  },
  {
   "cell_type": "code",
   "execution_count": 1,
   "metadata": {
    "collapsed": true,
    "deletable": true,
    "editable": true
   },
   "outputs": [],
   "source": [
    "from os import chdir\n",
    "chdir('/home/jovyan/work/Analyzing_Unstructured_Data_for_Finance/')\n",
    "\n",
    "from lib import *\n",
    "# suppress_warnings()"
   ]
  },
  {
   "cell_type": "code",
   "execution_count": 2,
   "metadata": {
    "collapsed": true,
    "deletable": true,
    "editable": true
   },
   "outputs": [],
   "source": [
    "sp500_df = joblib.load('../Analyzing_Unstructured_Data_for_Finance/data/3.sp500_df.pickle')"
   ]
  },
  {
   "cell_type": "code",
   "execution_count": 3,
   "metadata": {
    "collapsed": true,
    "deletable": true,
    "editable": true
   },
   "outputs": [],
   "source": [
    "tweets_df = joblib.load('../Analyzing_Unstructured_Data_for_Finance/data/2.tweets_df.pickle')"
   ]
  },
  {
   "cell_type": "code",
   "execution_count": 4,
   "metadata": {
    "collapsed": false,
    "deletable": true,
    "editable": true,
    "scrolled": true
   },
   "outputs": [
    {
     "data": {
      "text/plain": [
       "(2013, 10)"
      ]
     },
     "execution_count": 4,
     "metadata": {},
     "output_type": "execute_result"
    }
   ],
   "source": [
    "sp500_df.shape"
   ]
  },
  {
   "cell_type": "code",
   "execution_count": 5,
   "metadata": {
    "collapsed": false,
    "deletable": true,
    "editable": true
   },
   "outputs": [
    {
     "data": {
      "text/plain": [
       "(94856, 6)"
      ]
     },
     "execution_count": 5,
     "metadata": {},
     "output_type": "execute_result"
    }
   ],
   "source": [
    "tweets_df.shape"
   ]
  },
  {
   "cell_type": "markdown",
   "metadata": {
    "deletable": true,
    "editable": true
   },
   "source": [
    "**Do some checks to see if everything matches correctly before merging the dataframes**"
   ]
  },
  {
   "cell_type": "code",
   "execution_count": 6,
   "metadata": {
    "collapsed": false,
    "deletable": true,
    "editable": true,
    "scrolled": true
   },
   "outputs": [
    {
     "data": {
      "text/html": [
       "<div>\n",
       "<table border=\"1\" class=\"dataframe\">\n",
       "  <thead>\n",
       "    <tr style=\"text-align: right;\">\n",
       "      <th></th>\n",
       "      <th>Date</th>\n",
       "      <th>Open</th>\n",
       "      <th>High</th>\n",
       "      <th>Low</th>\n",
       "      <th>Close</th>\n",
       "      <th>Adj Close</th>\n",
       "      <th>Volume</th>\n",
       "      <th>Diff</th>\n",
       "      <th>Percent_Change</th>\n",
       "      <th>Percent_Change_Class</th>\n",
       "    </tr>\n",
       "  </thead>\n",
       "  <tbody>\n",
       "    <tr>\n",
       "      <th>2000</th>\n",
       "      <td>2017-05-24</td>\n",
       "      <td>2401.409912</td>\n",
       "      <td>2405.580078</td>\n",
       "      <td>2397.989990</td>\n",
       "      <td>2404.389893</td>\n",
       "      <td>2404.389893</td>\n",
       "      <td>3389900000</td>\n",
       "      <td>5.969971</td>\n",
       "      <td>0.002483</td>\n",
       "      <td>up</td>\n",
       "    </tr>\n",
       "    <tr>\n",
       "      <th>2001</th>\n",
       "      <td>2017-05-25</td>\n",
       "      <td>2409.540039</td>\n",
       "      <td>2418.709961</td>\n",
       "      <td>2408.010010</td>\n",
       "      <td>2415.070068</td>\n",
       "      <td>2415.070068</td>\n",
       "      <td>3535390000</td>\n",
       "      <td>10.680176</td>\n",
       "      <td>0.004422</td>\n",
       "      <td>up</td>\n",
       "    </tr>\n",
       "  </tbody>\n",
       "</table>\n",
       "</div>"
      ],
      "text/plain": [
       "           Date         Open         High          Low        Close  \\\n",
       "2000 2017-05-24  2401.409912  2405.580078  2397.989990  2404.389893   \n",
       "2001 2017-05-25  2409.540039  2418.709961  2408.010010  2415.070068   \n",
       "\n",
       "        Adj Close      Volume       Diff  Percent_Change Percent_Change_Class  \n",
       "2000  2404.389893  3389900000   5.969971        0.002483                   up  \n",
       "2001  2415.070068  3535390000  10.680176        0.004422                   up  "
      ]
     },
     "execution_count": 6,
     "metadata": {},
     "output_type": "execute_result"
    }
   ],
   "source": [
    "sp500_df[2000:2002]"
   ]
  },
  {
   "cell_type": "code",
   "execution_count": 8,
   "metadata": {
    "collapsed": false,
    "deletable": true,
    "editable": true,
    "scrolled": true
   },
   "outputs": [
    {
     "data": {
      "text/html": [
       "<div>\n",
       "<table border=\"1\" class=\"dataframe\">\n",
       "  <thead>\n",
       "    <tr style=\"text-align: right;\">\n",
       "      <th></th>\n",
       "      <th>_id</th>\n",
       "      <th>text</th>\n",
       "      <th>timestamp</th>\n",
       "      <th>username</th>\n",
       "      <th>cleaned_text</th>\n",
       "      <th>Date</th>\n",
       "    </tr>\n",
       "  </thead>\n",
       "  <tbody>\n",
       "    <tr>\n",
       "      <th>0</th>\n",
       "      <td>593deb7057bbd4047664223e</td>\n",
       "      <td>On this National Gun Violence Awareness Day, l...</td>\n",
       "      <td>2017-06-02 17:35:54</td>\n",
       "      <td>BarackObama</td>\n",
       "      <td>on this national gun violence awareness day le...</td>\n",
       "      <td>2017-06-02</td>\n",
       "    </tr>\n",
       "    <tr>\n",
       "      <th>1</th>\n",
       "      <td>593deb7057bbd4047664223f</td>\n",
       "      <td>Forever grateful for the service and sacrifice...</td>\n",
       "      <td>2017-05-29 13:09:16</td>\n",
       "      <td>BarackObama</td>\n",
       "      <td>forever grateful for the service and sacrifice...</td>\n",
       "      <td>2017-05-29</td>\n",
       "    </tr>\n",
       "    <tr>\n",
       "      <th>2</th>\n",
       "      <td>593deb7057bbd40476642240</td>\n",
       "      <td>Good to see my friend Prince Harry in London t...</td>\n",
       "      <td>2017-05-27 13:15:25</td>\n",
       "      <td>BarackObama</td>\n",
       "      <td>good to see my friend prince harry in london t...</td>\n",
       "      <td>2017-05-27</td>\n",
       "    </tr>\n",
       "    <tr>\n",
       "      <th>3</th>\n",
       "      <td>593deb7057bbd40476642241</td>\n",
       "      <td>Through faith, love, and resolve the character...</td>\n",
       "      <td>2017-05-25 14:13:35</td>\n",
       "      <td>BarackObama</td>\n",
       "      <td>through faith love and resolve the character o...</td>\n",
       "      <td>2017-05-25</td>\n",
       "    </tr>\n",
       "  </tbody>\n",
       "</table>\n",
       "</div>"
      ],
      "text/plain": [
       "                        _id  \\\n",
       "0  593deb7057bbd4047664223e   \n",
       "1  593deb7057bbd4047664223f   \n",
       "2  593deb7057bbd40476642240   \n",
       "3  593deb7057bbd40476642241   \n",
       "\n",
       "                                                text           timestamp  \\\n",
       "0  On this National Gun Violence Awareness Day, l... 2017-06-02 17:35:54   \n",
       "1  Forever grateful for the service and sacrifice... 2017-05-29 13:09:16   \n",
       "2  Good to see my friend Prince Harry in London t... 2017-05-27 13:15:25   \n",
       "3  Through faith, love, and resolve the character... 2017-05-25 14:13:35   \n",
       "\n",
       "      username                                       cleaned_text       Date  \n",
       "0  BarackObama  on this national gun violence awareness day le... 2017-06-02  \n",
       "1  BarackObama  forever grateful for the service and sacrifice... 2017-05-29  \n",
       "2  BarackObama  good to see my friend prince harry in london t... 2017-05-27  \n",
       "3  BarackObama  through faith love and resolve the character o... 2017-05-25  "
      ]
     },
     "execution_count": 8,
     "metadata": {},
     "output_type": "execute_result"
    }
   ],
   "source": [
    "tweets_df.head(4)"
   ]
  },
  {
   "cell_type": "code",
   "execution_count": 9,
   "metadata": {
    "collapsed": false,
    "deletable": true,
    "editable": true,
    "scrolled": false
   },
   "outputs": [
    {
     "data": {
      "text/plain": [
       "True"
      ]
     },
     "execution_count": 9,
     "metadata": {},
     "output_type": "execute_result"
    }
   ],
   "source": [
    "tweets_df['Date'][3]==sp500_df['Date'][2001]"
   ]
  },
  {
   "cell_type": "code",
   "execution_count": 10,
   "metadata": {
    "collapsed": true,
    "deletable": true,
    "editable": true
   },
   "outputs": [],
   "source": [
    "def match_dates_and_pull_y(features_df, target_df):\n",
    "    change = []\n",
    "\n",
    "    for i in features_df['Date']:\n",
    "        try:\n",
    "            if i in list(target_df['Date']):\n",
    "                change.append(target_df['Percent_Change_Class'].loc[target_df['Date']==i].values)\n",
    "            elif i not in list(target_df['Date']):\n",
    "                change.append('x')\n",
    "                pass\n",
    "        except Exception as e:\n",
    "            print('Error:', e)\n",
    "            \n",
    "    return pd.DataFrame(change)"
   ]
  },
  {
   "cell_type": "code",
   "execution_count": 11,
   "metadata": {
    "collapsed": false,
    "deletable": true,
    "editable": true
   },
   "outputs": [
    {
     "name": "stdout",
     "output_type": "stream",
     "text": [
      "0:13:57.921029\n"
     ]
    }
   ],
   "source": [
    "start = datetime.now()\n",
    "\n",
    "change_df = match_dates_and_pull_y(tweets_df, sp500_df)\n",
    "\n",
    "end = datetime.now()\n",
    "print(end - start)"
   ]
  },
  {
   "cell_type": "code",
   "execution_count": 12,
   "metadata": {
    "collapsed": false,
    "deletable": true,
    "editable": true
   },
   "outputs": [
    {
     "data": {
      "text/plain": [
       "down    43367\n",
       "up      33891\n",
       "x       17514\n",
       "n/a        84\n",
       "Name: 0, dtype: int64"
      ]
     },
     "execution_count": 12,
     "metadata": {},
     "output_type": "execute_result"
    }
   ],
   "source": [
    "change_df[0].value_counts()"
   ]
  },
  {
   "cell_type": "code",
   "execution_count": 13,
   "metadata": {
    "collapsed": false,
    "deletable": true,
    "editable": true
   },
   "outputs": [
    {
     "data": {
      "text/plain": [
       "94856"
      ]
     },
     "execution_count": 13,
     "metadata": {},
     "output_type": "execute_result"
    }
   ],
   "source": [
    "43367+33891+17514+84"
   ]
  },
  {
   "cell_type": "markdown",
   "metadata": {
    "deletable": true,
    "editable": true
   },
   "source": [
    "**Now we have our X's and y's**<br>\n",
    "Our <u>Features</u> == Tweets (\\_id, text, timestamp, username, cleaned_text, Date)<br>\n",
    "Our <u>Target</u> == change in stock prices (up/down/neutral)<br>\n",
    "\n",
    "They have the same number of rows and are in the same order. Now, we just need to drop the rows where our X's and y's don't have 'Date' in common."
   ]
  },
  {
   "cell_type": "markdown",
   "metadata": {
    "deletable": true,
    "editable": true
   },
   "source": [
    "**Merge & drop rows where there's no stock data for Tweets**"
   ]
  },
  {
   "cell_type": "code",
   "execution_count": 14,
   "metadata": {
    "collapsed": true,
    "deletable": true,
    "editable": true
   },
   "outputs": [],
   "source": [
    "combined_df_nodrop = tweets_df.merge(change_df, left_index=True, right_index=True)"
   ]
  },
  {
   "cell_type": "code",
   "execution_count": 15,
   "metadata": {
    "collapsed": false,
    "deletable": true,
    "editable": true
   },
   "outputs": [
    {
     "data": {
      "text/html": [
       "<div>\n",
       "<table border=\"1\" class=\"dataframe\">\n",
       "  <thead>\n",
       "    <tr style=\"text-align: right;\">\n",
       "      <th></th>\n",
       "      <th>_id</th>\n",
       "      <th>text</th>\n",
       "      <th>timestamp</th>\n",
       "      <th>username</th>\n",
       "      <th>cleaned_text</th>\n",
       "      <th>Date</th>\n",
       "      <th>0</th>\n",
       "    </tr>\n",
       "  </thead>\n",
       "  <tbody>\n",
       "    <tr>\n",
       "      <th>0</th>\n",
       "      <td>593deb7057bbd4047664223e</td>\n",
       "      <td>On this National Gun Violence Awareness Day, l...</td>\n",
       "      <td>2017-06-02 17:35:54</td>\n",
       "      <td>BarackObama</td>\n",
       "      <td>on this national gun violence awareness day le...</td>\n",
       "      <td>2017-06-02</td>\n",
       "      <td>up</td>\n",
       "    </tr>\n",
       "    <tr>\n",
       "      <th>1</th>\n",
       "      <td>593deb7057bbd4047664223f</td>\n",
       "      <td>Forever grateful for the service and sacrifice...</td>\n",
       "      <td>2017-05-29 13:09:16</td>\n",
       "      <td>BarackObama</td>\n",
       "      <td>forever grateful for the service and sacrifice...</td>\n",
       "      <td>2017-05-29</td>\n",
       "      <td>x</td>\n",
       "    </tr>\n",
       "  </tbody>\n",
       "</table>\n",
       "</div>"
      ],
      "text/plain": [
       "                        _id  \\\n",
       "0  593deb7057bbd4047664223e   \n",
       "1  593deb7057bbd4047664223f   \n",
       "\n",
       "                                                text           timestamp  \\\n",
       "0  On this National Gun Violence Awareness Day, l... 2017-06-02 17:35:54   \n",
       "1  Forever grateful for the service and sacrifice... 2017-05-29 13:09:16   \n",
       "\n",
       "      username                                       cleaned_text       Date  \\\n",
       "0  BarackObama  on this national gun violence awareness day le... 2017-06-02   \n",
       "1  BarackObama  forever grateful for the service and sacrifice... 2017-05-29   \n",
       "\n",
       "    0  \n",
       "0  up  \n",
       "1   x  "
      ]
     },
     "execution_count": 15,
     "metadata": {},
     "output_type": "execute_result"
    }
   ],
   "source": [
    "combined_df_nodrop.head(2)"
   ]
  },
  {
   "cell_type": "code",
   "execution_count": 16,
   "metadata": {
    "collapsed": true,
    "deletable": true,
    "editable": true
   },
   "outputs": [],
   "source": [
    "combined_df = combined_df_nodrop[combined_df_nodrop[0]!='x']"
   ]
  },
  {
   "cell_type": "code",
   "execution_count": 17,
   "metadata": {
    "collapsed": true,
    "deletable": true,
    "editable": true
   },
   "outputs": [],
   "source": [
    "combined_df = combined_df[combined_df[0]!='n/a']"
   ]
  },
  {
   "cell_type": "code",
   "execution_count": 18,
   "metadata": {
    "collapsed": false,
    "deletable": true,
    "editable": true
   },
   "outputs": [
    {
     "data": {
      "text/html": [
       "<div>\n",
       "<table border=\"1\" class=\"dataframe\">\n",
       "  <thead>\n",
       "    <tr style=\"text-align: right;\">\n",
       "      <th></th>\n",
       "      <th>_id</th>\n",
       "      <th>text</th>\n",
       "      <th>timestamp</th>\n",
       "      <th>username</th>\n",
       "      <th>cleaned_text</th>\n",
       "      <th>Date</th>\n",
       "      <th>0</th>\n",
       "    </tr>\n",
       "  </thead>\n",
       "  <tbody>\n",
       "    <tr>\n",
       "      <th>0</th>\n",
       "      <td>593deb7057bbd4047664223e</td>\n",
       "      <td>On this National Gun Violence Awareness Day, l...</td>\n",
       "      <td>2017-06-02 17:35:54</td>\n",
       "      <td>BarackObama</td>\n",
       "      <td>on this national gun violence awareness day le...</td>\n",
       "      <td>2017-06-02</td>\n",
       "      <td>up</td>\n",
       "    </tr>\n",
       "    <tr>\n",
       "      <th>3</th>\n",
       "      <td>593deb7057bbd40476642241</td>\n",
       "      <td>Through faith, love, and resolve the character...</td>\n",
       "      <td>2017-05-25 14:13:35</td>\n",
       "      <td>BarackObama</td>\n",
       "      <td>through faith love and resolve the character o...</td>\n",
       "      <td>2017-05-25</td>\n",
       "      <td>up</td>\n",
       "    </tr>\n",
       "  </tbody>\n",
       "</table>\n",
       "</div>"
      ],
      "text/plain": [
       "                        _id  \\\n",
       "0  593deb7057bbd4047664223e   \n",
       "3  593deb7057bbd40476642241   \n",
       "\n",
       "                                                text           timestamp  \\\n",
       "0  On this National Gun Violence Awareness Day, l... 2017-06-02 17:35:54   \n",
       "3  Through faith, love, and resolve the character... 2017-05-25 14:13:35   \n",
       "\n",
       "      username                                       cleaned_text       Date  \\\n",
       "0  BarackObama  on this national gun violence awareness day le... 2017-06-02   \n",
       "3  BarackObama  through faith love and resolve the character o... 2017-05-25   \n",
       "\n",
       "    0  \n",
       "0  up  \n",
       "3  up  "
      ]
     },
     "execution_count": 18,
     "metadata": {},
     "output_type": "execute_result"
    }
   ],
   "source": [
    "combined_df.head(2)"
   ]
  },
  {
   "cell_type": "code",
   "execution_count": 19,
   "metadata": {
    "collapsed": false,
    "deletable": true,
    "editable": true
   },
   "outputs": [
    {
     "data": {
      "text/plain": [
       "['../Analyzing_Unstructured_Data_for_Finance/data/4.combined_df.pickle']"
      ]
     },
     "execution_count": 19,
     "metadata": {},
     "output_type": "execute_result"
    }
   ],
   "source": [
    "joblib.dump(combined_df, '../Analyzing_Unstructured_Data_for_Finance/data/4.combined_df.pickle')"
   ]
  },
  {
   "cell_type": "markdown",
   "metadata": {
    "deletable": true,
    "editable": true
   },
   "source": [
    "**Now split the data into X's and y's (our features and target)**"
   ]
  },
  {
   "cell_type": "code",
   "execution_count": 20,
   "metadata": {
    "collapsed": true,
    "deletable": true,
    "editable": true
   },
   "outputs": [],
   "source": [
    "X = combined_df.drop(0, axis=1)\n",
    "y = combined_df[0]"
   ]
  },
  {
   "cell_type": "code",
   "execution_count": 21,
   "metadata": {
    "collapsed": false,
    "deletable": true,
    "editable": true
   },
   "outputs": [
    {
     "name": "stdout",
     "output_type": "stream",
     "text": [
      "(77258, 6)\n",
      "(77258,)\n"
     ]
    }
   ],
   "source": [
    "print(X.shape)\n",
    "print(y.shape)"
   ]
  },
  {
   "cell_type": "code",
   "execution_count": 22,
   "metadata": {
    "collapsed": false,
    "deletable": true,
    "editable": true
   },
   "outputs": [
    {
     "data": {
      "text/plain": [
       "0.814476680441933"
      ]
     },
     "execution_count": 22,
     "metadata": {},
     "output_type": "execute_result"
    }
   ],
   "source": [
    "77258.0/94856.0\n",
    "# We kept 81% of original tweets (after dropping ones that don't match)"
   ]
  },
  {
   "cell_type": "code",
   "execution_count": 23,
   "metadata": {
    "collapsed": false,
    "deletable": true,
    "editable": true
   },
   "outputs": [
    {
     "data": {
      "text/plain": [
       "['../Analyzing_Unstructured_Data_for_Finance/data/4.X.pickle']"
      ]
     },
     "execution_count": 23,
     "metadata": {},
     "output_type": "execute_result"
    }
   ],
   "source": [
    "joblib.dump(X, '../Analyzing_Unstructured_Data_for_Finance/data/4.X.pickle')"
   ]
  },
  {
   "cell_type": "code",
   "execution_count": 24,
   "metadata": {
    "collapsed": false,
    "deletable": true,
    "editable": true
   },
   "outputs": [
    {
     "data": {
      "text/plain": [
       "['../Analyzing_Unstructured_Data_for_Finance/data/4.y.pickle']"
      ]
     },
     "execution_count": 24,
     "metadata": {},
     "output_type": "execute_result"
    }
   ],
   "source": [
    "joblib.dump(y, '../Analyzing_Unstructured_Data_for_Finance/data/4.y.pickle')"
   ]
  },
  {
   "cell_type": "code",
   "execution_count": 25,
   "metadata": {
    "collapsed": false,
    "deletable": true,
    "editable": true,
    "scrolled": true
   },
   "outputs": [
    {
     "data": {
      "text/plain": [
       "down    43367\n",
       "up      33891\n",
       "Name: 0, dtype: int64"
      ]
     },
     "execution_count": 25,
     "metadata": {},
     "output_type": "execute_result"
    }
   ],
   "source": [
    "combined_df[0].value_counts()"
   ]
  },
  {
   "cell_type": "code",
   "execution_count": null,
   "metadata": {
    "collapsed": true,
    "deletable": true,
    "editable": true
   },
   "outputs": [],
   "source": []
  }
 ],
 "metadata": {
  "kernelspec": {
   "display_name": "Python 3",
   "language": "python",
   "name": "python3"
  },
  "language_info": {
   "codemirror_mode": {
    "name": "ipython",
    "version": 3
   },
   "file_extension": ".py",
   "mimetype": "text/x-python",
   "name": "python",
   "nbconvert_exporter": "python",
   "pygments_lexer": "ipython3",
   "version": "3.5.2"
  }
 },
 "nbformat": 4,
 "nbformat_minor": 2
}
