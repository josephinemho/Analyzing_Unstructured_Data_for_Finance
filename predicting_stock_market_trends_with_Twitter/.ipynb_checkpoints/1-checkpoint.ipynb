{
 "cells": [
  {
   "cell_type": "markdown",
   "metadata": {},
   "source": [
    "# Part 1 -- Collection\n",
    "\n",
    "We want you to scrape the web and **collect all of the articles** under the following wikipedia categories:\n",
    "\n",
    "* [Machine Learning](https://en.wikipedia.org/wiki/Category:Machine_learning)\n",
    "* [Business Software](https://en.wikipedia.org/wiki/Category:Business_software)\n",
    "\n",
    "More specifically, we would love it if you build a script that ingested some sort of file that specified which categories to chug along and crawl. Something like:\n",
    "\n",
    "```\n",
    "https://en.wikipedia.org/wiki/Category:Machine_learning\n",
    "https://en.wikipedia.org/wiki/Category:Business_software\n",
    "```\n",
    "\n",
    "We want your code to be modular enough that any valid category from Wikipedia can be scraped by your code.\n",
    "\n",
    "At minimum, you'll need to store the article text, but do store whatever other metadata you deem useful. Feel free to store this in whatever format suits you, be it MySQL, Mongo, a Pandas dataframe whatever! It'll be indexed later on to perform **Part 2**.\n",
    "\n",
    "We only require that we can run this section by typing\n",
    "\n",
    "```bash\n",
    "me@my-macbook$ ./download /path/to/optional/list_of_categories\n",
    "```"
   ]
  },
  {
   "cell_type": "markdown",
   "metadata": {},
   "source": [
    "### Load lib codes:"
   ]
  },
  {
   "cell_type": "code",
   "execution_count": 8,
   "metadata": {},
   "outputs": [
    {
     "name": "stdout",
     "output_type": "stream",
     "text": [
      "/home/jovyan/work/Github/predicting_stock_market_trends_with_Twitter\r\n"
     ]
    }
   ],
   "source": [
    "!pwd"
   ]
  },
  {
   "cell_type": "code",
   "execution_count": 9,
   "metadata": {},
   "outputs": [
    {
     "ename": "SyntaxError",
     "evalue": "invalid syntax (__init__.py, line 8)",
     "output_type": "error",
     "traceback": [
      "\u001b[0;36m  File \u001b[0;32m\"/home/jovyan/work/Github/predicting_stock_market_trends_with_Twitter/lib/__init__.py\"\u001b[0;36m, line \u001b[0;32m8\u001b[0m\n\u001b[0;31m    from lib.helper_database import\u001b[0m\n\u001b[0m                                    ^\u001b[0m\n\u001b[0;31mSyntaxError\u001b[0m\u001b[0;31m:\u001b[0m invalid syntax\n"
     ]
    }
   ],
   "source": [
    "from os import chdir\n",
    "chdir('/home/jovyan/work/Github/predicting_stock_market_trends_with_Twitter')\n",
    "\n",
    "from lib import *"
   ]
  },
  {
   "cell_type": "markdown",
   "metadata": {},
   "source": [
    "### Create database with PyMongo:"
   ]
  },
  {
   "cell_type": "code",
   "execution_count": 1,
   "metadata": {
    "scrolled": false
   },
   "outputs": [
    {
     "name": "stdout",
     "output_type": "stream",
     "text": [
      "Collecting pymongo\n",
      "  Downloading pymongo-3.4.0-cp35-cp35m-manylinux1_x86_64.whl (359kB)\n",
      "\u001b[K    100% |████████████████████████████████| 368kB 1.5MB/s ta 0:00:01\n",
      "\u001b[?25hCollecting twitter\n",
      "  Downloading twitter-1.17.1-py2.py3-none-any.whl (55kB)\n",
      "\u001b[K    100% |████████████████████████████████| 61kB 3.3MB/s ta 0:00:01\n",
      "\u001b[?25hInstalling collected packages: pymongo, twitter\n",
      "Successfully installed pymongo-3.4.0 twitter-1.17.1\n",
      "\u001b[33mYou are using pip version 8.1.2, however version 9.0.1 is available.\n",
      "You should consider upgrading via the 'pip install --upgrade pip' command.\u001b[0m\n"
     ]
    }
   ],
   "source": [
    "!pip install pymongo twitter"
   ]
  },
  {
   "cell_type": "code",
   "execution_count": null,
   "metadata": {
    "collapsed": true
   },
   "outputs": [],
   "source": [
    "import pymongo\n",
    "cli = pymongo.MongoClient(host='34.208.218.136')"
   ]
  },
  {
   "cell_type": "code",
   "execution_count": null,
   "metadata": {
    "collapsed": true
   },
   "outputs": [],
   "source": [
    "cli.drop_database('my_wiki_database')"
   ]
  },
  {
   "cell_type": "code",
   "execution_count": null,
   "metadata": {
    "collapsed": true
   },
   "outputs": [],
   "source": [
    "#create a reference. it is not going to instantiate/exist until you put data in it:\n",
    "my_wiki_database = cli.my_wiki_database\n",
    "cli.database_names()"
   ]
  },
  {
   "cell_type": "code",
   "execution_count": null,
   "metadata": {
    "collapsed": true
   },
   "outputs": [],
   "source": [
    "my_wiki_collection = cli.my_wiki_database.my_wiki_collection\n",
    "cli.database_names()"
   ]
  },
  {
   "cell_type": "markdown",
   "metadata": {},
   "source": [
    "### Pull data from Yelp API:"
   ]
  },
  {
   "cell_type": "code",
   "execution_count": null,
   "metadata": {
    "collapsed": true
   },
   "outputs": [],
   "source": [
    "CONSUMER_KEY = None\n",
    "CONSUMER_SECRET = None\n",
    "ACCESS_TOKEN = None\n",
    "ACCESS_SECRET = None"
   ]
  }
 ],
 "metadata": {
  "kernelspec": {
   "display_name": "Python 3",
   "language": "python",
   "name": "python3"
  },
  "language_info": {
   "codemirror_mode": {
    "name": "ipython",
    "version": 3
   },
   "file_extension": ".py",
   "mimetype": "text/x-python",
   "name": "python",
   "nbconvert_exporter": "python",
   "pygments_lexer": "ipython3",
   "version": "3.5.2"
  }
 },
 "nbformat": 4,
 "nbformat_minor": 2
}
