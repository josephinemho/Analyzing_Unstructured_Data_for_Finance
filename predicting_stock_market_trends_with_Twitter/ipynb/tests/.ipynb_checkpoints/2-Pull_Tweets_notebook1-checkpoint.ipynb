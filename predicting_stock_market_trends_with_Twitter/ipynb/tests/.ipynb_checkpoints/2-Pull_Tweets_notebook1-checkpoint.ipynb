{
 "cells": [
  {
   "cell_type": "markdown",
   "metadata": {
    "deletable": true,
    "editable": true
   },
   "source": [
    "# Part 2 -- Pull tweets using distributed processing\n",
    "\n",
    "Pull Tweets from the Twitter API and collect **all Tweets from 30 tech thought leaders and news outlets**."
   ]
  },
  {
   "cell_type": "markdown",
   "metadata": {
    "deletable": true,
    "editable": true
   },
   "source": [
    "### Load lib codes:"
   ]
  },
  {
   "cell_type": "code",
   "execution_count": 1,
   "metadata": {
    "collapsed": false,
    "deletable": true,
    "editable": true
   },
   "outputs": [],
   "source": [
    "from os import chdir\n",
    "chdir('/home/jovyan/work/predicting_stock_market_trends_with_Twitter/')\n",
    "\n",
    "from lib import *\n",
    "# suppress_warnings()\n",
    "from lib.twitter_keys import my_keys"
   ]
  },
  {
   "cell_type": "code",
   "execution_count": 11,
   "metadata": {
    "collapsed": false,
    "deletable": true,
    "editable": true
   },
   "outputs": [
    {
     "name": "stdout",
     "output_type": "stream",
     "text": [
      "Requirement already satisfied: pymongo in /opt/conda/envs/python2/lib/python2.7/site-packages\r\n",
      "Requirement already satisfied: pyquery in /opt/conda/envs/python2/lib/python2.7/site-packages\r\n",
      "Requirement already satisfied: tqdm in /opt/conda/envs/python2/lib/python2.7/site-packages\r\n",
      "Requirement already satisfied: lxml>=2.1 in /opt/conda/envs/python2/lib/python2.7/site-packages (from pyquery)\r\n",
      "Requirement already satisfied: cssselect>0.7.9 in /opt/conda/envs/python2/lib/python2.7/site-packages (from pyquery)\r\n"
     ]
    }
   ],
   "source": [
    "!pip install pymongo pyquery tqdm\n",
    "import pymongo\n",
    "import tweepy\n",
    "from tqdm import tqdm "
   ]
  },
  {
   "cell_type": "code",
   "execution_count": 17,
   "metadata": {
    "collapsed": true,
    "deletable": true,
    "editable": true
   },
   "outputs": [],
   "source": [
    "# Replace the API_KEY and API_SECRET with your application's key and secret\n",
    "auth = tweepy.AppAuthHandler(my_keys['CONSUMER_KEY'], my_keys['CONSUMER_SECRET'])\n",
    "\n",
    "# Authorize twitter, initialize tweepy\n",
    "api = tweepy.API(auth, wait_on_rate_limit=True, wait_on_rate_limit_notify=True)\n",
    "\n",
    "if (not api):\n",
    "    print (\"Can't Authenticate\")\n",
    "    sys.exit(-1)"
   ]
  },
  {
   "cell_type": "code",
   "execution_count": 18,
   "metadata": {
    "collapsed": false,
    "deletable": true,
    "editable": true
   },
   "outputs": [],
   "source": [
    "cli = pymongo.MongoClient(host='35.163.253.8')"
   ]
  },
  {
   "cell_type": "code",
   "execution_count": 19,
   "metadata": {
    "collapsed": false,
    "deletable": true,
    "editable": true,
    "scrolled": true
   },
   "outputs": [
    {
     "data": {
      "text/plain": [
       "[]"
      ]
     },
     "execution_count": 19,
     "metadata": {},
     "output_type": "execute_result"
    }
   ],
   "source": [
    "# Instantiates when you put data in \n",
    "status_collection = cli.twitter_db.status_collection\n",
    "complete_collection = cli.twitter_db.complete_collection\n",
    "test_collection = cli.twitter_db.test_collection\n",
    "cli.database_names()"
   ]
  },
  {
   "cell_type": "code",
   "execution_count": 20,
   "metadata": {
    "collapsed": false,
    "deletable": true,
    "editable": true
   },
   "outputs": [
    {
     "name": "stdout",
     "output_type": "stream",
     "text": [
      "0\n",
      "0\n",
      "0\n"
     ]
    }
   ],
   "source": [
    "print(status_collection.count())\n",
    "print(complete_collection.count())\n",
    "print(test_collection.count())"
   ]
  },
  {
   "cell_type": "code",
   "execution_count": 15,
   "metadata": {
    "collapsed": true,
    "deletable": true,
    "editable": true
   },
   "outputs": [],
   "source": [
    "status_collection.drop()\n",
    "complete_collection.drop()\n",
    "test_collection.drop()"
   ]
  },
  {
   "cell_type": "code",
   "execution_count": 21,
   "metadata": {
    "collapsed": false,
    "deletable": true,
    "editable": true
   },
   "outputs": [
    {
     "name": "stdout",
     "output_type": "stream",
     "text": [
      "Collecting lxml==3.5.0 (from -r requirements.txt (line 1))\n",
      "  Using cached lxml-3.5.0.tar.gz\n",
      "Collecting pyquery==1.2.10 (from -r requirements.txt (line 2))\n",
      "  Using cached pyquery-1.2.10-py2-none-any.whl\n",
      "Requirement already satisfied: cssselect>0.7.9 in /opt/conda/envs/python2/lib/python2.7/site-packages (from pyquery==1.2.10->-r requirements.txt (line 2))\n",
      "Building wheels for collected packages: lxml\n",
      "  Running setup.py bdist_wheel for lxml ... \u001b[?25l-\b \b\\\b \b|\b \b/\b \berror\n",
      "  Complete output from command /opt/conda/envs/python2/bin/python -u -c \"import setuptools, tokenize;__file__='/tmp/pip-build-t6ofGE/lxml/setup.py';f=getattr(tokenize, 'open', open)(__file__);code=f.read().replace('\\r\\n', '\\n');f.close();exec(compile(code, __file__, 'exec'))\" bdist_wheel -d /tmp/tmp7bxY_Bpip-wheel- --python-tag cp27:\n",
      "  Building lxml version 3.5.0.\n",
      "  Building without Cython.\n",
      "  ERROR: /bin/sh: 1: xslt-config: not found\n",
      "  \n",
      "  ** make sure the development packages of libxml2 and libxslt are installed **\n",
      "  \n",
      "  Using build configuration of libxslt\n",
      "  running bdist_wheel\n",
      "  running build\n",
      "  running build_py\n",
      "  creating build\n",
      "  creating build/lib.linux-x86_64-2.7\n",
      "  creating build/lib.linux-x86_64-2.7/lxml\n",
      "  copying src/lxml/__init__.py -> build/lib.linux-x86_64-2.7/lxml\n",
      "  copying src/lxml/usedoctest.py -> build/lib.linux-x86_64-2.7/lxml\n",
      "  copying src/lxml/pyclasslookup.py -> build/lib.linux-x86_64-2.7/lxml\n",
      "  copying src/lxml/_elementpath.py -> build/lib.linux-x86_64-2.7/lxml\n",
      "  copying src/lxml/cssselect.py -> build/lib.linux-x86_64-2.7/lxml\n",
      "  copying src/lxml/builder.py -> build/lib.linux-x86_64-2.7/lxml\n",
      "  copying src/lxml/sax.py -> build/lib.linux-x86_64-2.7/lxml\n",
      "  copying src/lxml/doctestcompare.py -> build/lib.linux-x86_64-2.7/lxml\n",
      "  copying src/lxml/ElementInclude.py -> build/lib.linux-x86_64-2.7/lxml\n",
      "  creating build/lib.linux-x86_64-2.7/lxml/includes\n",
      "  copying src/lxml/includes/__init__.py -> build/lib.linux-x86_64-2.7/lxml/includes\n",
      "  creating build/lib.linux-x86_64-2.7/lxml/html\n",
      "  copying src/lxml/html/soupparser.py -> build/lib.linux-x86_64-2.7/lxml/html\n",
      "  copying src/lxml/html/_html5builder.py -> build/lib.linux-x86_64-2.7/lxml/html\n",
      "  copying src/lxml/html/formfill.py -> build/lib.linux-x86_64-2.7/lxml/html\n",
      "  copying src/lxml/html/__init__.py -> build/lib.linux-x86_64-2.7/lxml/html\n",
      "  copying src/lxml/html/usedoctest.py -> build/lib.linux-x86_64-2.7/lxml/html\n",
      "  copying src/lxml/html/ElementSoup.py -> build/lib.linux-x86_64-2.7/lxml/html\n",
      "  copying src/lxml/html/html5parser.py -> build/lib.linux-x86_64-2.7/lxml/html\n",
      "  copying src/lxml/html/_setmixin.py -> build/lib.linux-x86_64-2.7/lxml/html\n",
      "  copying src/lxml/html/builder.py -> build/lib.linux-x86_64-2.7/lxml/html\n",
      "  copying src/lxml/html/defs.py -> build/lib.linux-x86_64-2.7/lxml/html\n",
      "  copying src/lxml/html/_diffcommand.py -> build/lib.linux-x86_64-2.7/lxml/html\n",
      "  copying src/lxml/html/clean.py -> build/lib.linux-x86_64-2.7/lxml/html\n",
      "  copying src/lxml/html/diff.py -> build/lib.linux-x86_64-2.7/lxml/html\n",
      "  creating build/lib.linux-x86_64-2.7/lxml/isoschematron\n",
      "  copying src/lxml/isoschematron/__init__.py -> build/lib.linux-x86_64-2.7/lxml/isoschematron\n",
      "  copying src/lxml/lxml.etree.h -> build/lib.linux-x86_64-2.7/lxml\n",
      "  copying src/lxml/lxml.etree_api.h -> build/lib.linux-x86_64-2.7/lxml\n",
      "  copying src/lxml/includes/config.pxd -> build/lib.linux-x86_64-2.7/lxml/includes\n",
      "  copying src/lxml/includes/xmlerror.pxd -> build/lib.linux-x86_64-2.7/lxml/includes\n",
      "  copying src/lxml/includes/tree.pxd -> build/lib.linux-x86_64-2.7/lxml/includes\n",
      "  copying src/lxml/includes/schematron.pxd -> build/lib.linux-x86_64-2.7/lxml/includes\n",
      "  copying src/lxml/includes/htmlparser.pxd -> build/lib.linux-x86_64-2.7/lxml/includes\n",
      "  copying src/lxml/includes/xmlparser.pxd -> build/lib.linux-x86_64-2.7/lxml/includes\n",
      "  copying src/lxml/includes/xslt.pxd -> build/lib.linux-x86_64-2.7/lxml/includes\n",
      "  copying src/lxml/includes/xinclude.pxd -> build/lib.linux-x86_64-2.7/lxml/includes\n",
      "  copying src/lxml/includes/uri.pxd -> build/lib.linux-x86_64-2.7/lxml/includes\n",
      "  copying src/lxml/includes/dtdvalid.pxd -> build/lib.linux-x86_64-2.7/lxml/includes\n",
      "  copying src/lxml/includes/xpath.pxd -> build/lib.linux-x86_64-2.7/lxml/includes\n",
      "  copying src/lxml/includes/xmlschema.pxd -> build/lib.linux-x86_64-2.7/lxml/includes\n",
      "  copying src/lxml/includes/relaxng.pxd -> build/lib.linux-x86_64-2.7/lxml/includes\n",
      "  copying src/lxml/includes/etreepublic.pxd -> build/lib.linux-x86_64-2.7/lxml/includes\n",
      "  copying src/lxml/includes/c14n.pxd -> build/lib.linux-x86_64-2.7/lxml/includes\n",
      "  copying src/lxml/includes/etree_defs.h -> build/lib.linux-x86_64-2.7/lxml/includes\n",
      "  copying src/lxml/includes/lxml-version.h -> build/lib.linux-x86_64-2.7/lxml/includes\n",
      "  creating build/lib.linux-x86_64-2.7/lxml/isoschematron/resources\n",
      "  creating build/lib.linux-x86_64-2.7/lxml/isoschematron/resources/rng\n",
      "  copying src/lxml/isoschematron/resources/rng/iso-schematron.rng -> build/lib.linux-x86_64-2.7/lxml/isoschematron/resources/rng\n",
      "  creating build/lib.linux-x86_64-2.7/lxml/isoschematron/resources/xsl\n",
      "  copying src/lxml/isoschematron/resources/xsl/XSD2Schtrn.xsl -> build/lib.linux-x86_64-2.7/lxml/isoschematron/resources/xsl\n",
      "  copying src/lxml/isoschematron/resources/xsl/RNG2Schtrn.xsl -> build/lib.linux-x86_64-2.7/lxml/isoschematron/resources/xsl\n",
      "  creating build/lib.linux-x86_64-2.7/lxml/isoschematron/resources/xsl/iso-schematron-xslt1\n",
      "  copying src/lxml/isoschematron/resources/xsl/iso-schematron-xslt1/iso_schematron_message.xsl -> build/lib.linux-x86_64-2.7/lxml/isoschematron/resources/xsl/iso-schematron-xslt1\n",
      "  copying src/lxml/isoschematron/resources/xsl/iso-schematron-xslt1/iso_schematron_skeleton_for_xslt1.xsl -> build/lib.linux-x86_64-2.7/lxml/isoschematron/resources/xsl/iso-schematron-xslt1\n",
      "  copying src/lxml/isoschematron/resources/xsl/iso-schematron-xslt1/iso_dsdl_include.xsl -> build/lib.linux-x86_64-2.7/lxml/isoschematron/resources/xsl/iso-schematron-xslt1\n",
      "  copying src/lxml/isoschematron/resources/xsl/iso-schematron-xslt1/iso_svrl_for_xslt1.xsl -> build/lib.linux-x86_64-2.7/lxml/isoschematron/resources/xsl/iso-schematron-xslt1\n",
      "  copying src/lxml/isoschematron/resources/xsl/iso-schematron-xslt1/iso_abstract_expand.xsl -> build/lib.linux-x86_64-2.7/lxml/isoschematron/resources/xsl/iso-schematron-xslt1\n",
      "  copying src/lxml/isoschematron/resources/xsl/iso-schematron-xslt1/readme.txt -> build/lib.linux-x86_64-2.7/lxml/isoschematron/resources/xsl/iso-schematron-xslt1\n",
      "  running build_ext\n",
      "  building 'lxml.etree' extension\n",
      "  creating build/temp.linux-x86_64-2.7\n",
      "  creating build/temp.linux-x86_64-2.7/src\n",
      "  creating build/temp.linux-x86_64-2.7/src/lxml\n",
      "  gcc -pthread -fno-strict-aliasing -g -O2 -DNDEBUG -g -fwrapv -O3 -Wall -Wstrict-prototypes -fPIC -Isrc/lxml/includes -I/opt/conda/envs/python2/include/python2.7 -c src/lxml/lxml.etree.c -o build/temp.linux-x86_64-2.7/src/lxml/lxml.etree.o -w\n",
      "  In file included from src/lxml/lxml.etree.c:323:0:\n",
      "  src/lxml/includes/etree_defs.h:14:31: fatal error: libxml/xmlversion.h: No such file or directory\n",
      "   #include \"libxml/xmlversion.h\"\n",
      "                                 ^\n",
      "  compilation terminated.\n",
      "  Compile failed: command 'gcc' failed with exit status 1\n",
      "  creating tmp\n",
      "  cc -I/usr/include/libxml2 -c /tmp/xmlXPathInitFkLQiV.c -o tmp/xmlXPathInitFkLQiV.o\n",
      "  /tmp/xmlXPathInitFkLQiV.c:1:26: fatal error: libxml/xpath.h: No such file or directory\n",
      "   #include \"libxml/xpath.h\"\n",
      "                            ^\n",
      "  compilation terminated.\n",
      "  *********************************************************************************\n",
      "  Could not find function xmlCheckVersion in library libxml2. Is libxml2 installed?\n",
      "  *********************************************************************************\n",
      "  error: command 'gcc' failed with exit status 1\n",
      "  \n",
      "  ----------------------------------------\n",
      "\u001b[31m  Failed building wheel for lxml\u001b[0m\n",
      "\u001b[?25h  Running setup.py clean for lxml\n",
      "Failed to build lxml\n",
      "Installing collected packages: lxml, pyquery\n",
      "  Found existing installation: lxml 3.7.3\n",
      "    Uninstalling lxml-3.7.3:\n",
      "      Successfully uninstalled lxml-3.7.3\n",
      "  Running setup.py install for lxml ... \u001b[?25l-\b \b\\\b \b|\b \berror\n",
      "    Complete output from command /opt/conda/envs/python2/bin/python -u -c \"import setuptools, tokenize;__file__='/tmp/pip-build-t6ofGE/lxml/setup.py';f=getattr(tokenize, 'open', open)(__file__);code=f.read().replace('\\r\\n', '\\n');f.close();exec(compile(code, __file__, 'exec'))\" install --record /tmp/pip-orZzL6-record/install-record.txt --single-version-externally-managed --compile:\n",
      "    Building lxml version 3.5.0.\n",
      "    Building without Cython.\n",
      "    ERROR: /bin/sh: 1: xslt-config: not found\n",
      "    \n",
      "    ** make sure the development packages of libxml2 and libxslt are installed **\n",
      "    \n",
      "    Using build configuration of libxslt\n",
      "    running install\n",
      "    running build\n",
      "    running build_py\n",
      "    creating build\n",
      "    creating build/lib.linux-x86_64-2.7\n",
      "    creating build/lib.linux-x86_64-2.7/lxml\n",
      "    copying src/lxml/__init__.py -> build/lib.linux-x86_64-2.7/lxml\n",
      "    copying src/lxml/usedoctest.py -> build/lib.linux-x86_64-2.7/lxml\n",
      "    copying src/lxml/pyclasslookup.py -> build/lib.linux-x86_64-2.7/lxml\n",
      "    copying src/lxml/_elementpath.py -> build/lib.linux-x86_64-2.7/lxml\n",
      "    copying src/lxml/cssselect.py -> build/lib.linux-x86_64-2.7/lxml\n",
      "    copying src/lxml/builder.py -> build/lib.linux-x86_64-2.7/lxml\n",
      "    copying src/lxml/sax.py -> build/lib.linux-x86_64-2.7/lxml\n",
      "    copying src/lxml/doctestcompare.py -> build/lib.linux-x86_64-2.7/lxml\n",
      "    copying src/lxml/ElementInclude.py -> build/lib.linux-x86_64-2.7/lxml\n",
      "    creating build/lib.linux-x86_64-2.7/lxml/includes\n",
      "    copying src/lxml/includes/__init__.py -> build/lib.linux-x86_64-2.7/lxml/includes\n",
      "    creating build/lib.linux-x86_64-2.7/lxml/html\n",
      "    copying src/lxml/html/soupparser.py -> build/lib.linux-x86_64-2.7/lxml/html\n",
      "    copying src/lxml/html/_html5builder.py -> build/lib.linux-x86_64-2.7/lxml/html\n",
      "    copying src/lxml/html/formfill.py -> build/lib.linux-x86_64-2.7/lxml/html\n",
      "    copying src/lxml/html/__init__.py -> build/lib.linux-x86_64-2.7/lxml/html\n",
      "    copying src/lxml/html/usedoctest.py -> build/lib.linux-x86_64-2.7/lxml/html\n",
      "    copying src/lxml/html/ElementSoup.py -> build/lib.linux-x86_64-2.7/lxml/html\n",
      "    copying src/lxml/html/html5parser.py -> build/lib.linux-x86_64-2.7/lxml/html\n",
      "    copying src/lxml/html/_setmixin.py -> build/lib.linux-x86_64-2.7/lxml/html\n",
      "    copying src/lxml/html/builder.py -> build/lib.linux-x86_64-2.7/lxml/html\n",
      "    copying src/lxml/html/defs.py -> build/lib.linux-x86_64-2.7/lxml/html\n",
      "    copying src/lxml/html/_diffcommand.py -> build/lib.linux-x86_64-2.7/lxml/html\n",
      "    copying src/lxml/html/clean.py -> build/lib.linux-x86_64-2.7/lxml/html\n",
      "    copying src/lxml/html/diff.py -> build/lib.linux-x86_64-2.7/lxml/html\n",
      "    creating build/lib.linux-x86_64-2.7/lxml/isoschematron\n",
      "    copying src/lxml/isoschematron/__init__.py -> build/lib.linux-x86_64-2.7/lxml/isoschematron\n",
      "    copying src/lxml/lxml.etree.h -> build/lib.linux-x86_64-2.7/lxml\n",
      "    copying src/lxml/lxml.etree_api.h -> build/lib.linux-x86_64-2.7/lxml\n",
      "    copying src/lxml/includes/config.pxd -> build/lib.linux-x86_64-2.7/lxml/includes\n",
      "    copying src/lxml/includes/xmlerror.pxd -> build/lib.linux-x86_64-2.7/lxml/includes\n",
      "    copying src/lxml/includes/tree.pxd -> build/lib.linux-x86_64-2.7/lxml/includes\n",
      "    copying src/lxml/includes/schematron.pxd -> build/lib.linux-x86_64-2.7/lxml/includes\n",
      "    copying src/lxml/includes/htmlparser.pxd -> build/lib.linux-x86_64-2.7/lxml/includes\n",
      "    copying src/lxml/includes/xmlparser.pxd -> build/lib.linux-x86_64-2.7/lxml/includes\n",
      "    copying src/lxml/includes/xslt.pxd -> build/lib.linux-x86_64-2.7/lxml/includes\n",
      "    copying src/lxml/includes/xinclude.pxd -> build/lib.linux-x86_64-2.7/lxml/includes\n",
      "    copying src/lxml/includes/uri.pxd -> build/lib.linux-x86_64-2.7/lxml/includes\n",
      "    copying src/lxml/includes/dtdvalid.pxd -> build/lib.linux-x86_64-2.7/lxml/includes\n",
      "    copying src/lxml/includes/xpath.pxd -> build/lib.linux-x86_64-2.7/lxml/includes\n",
      "    copying src/lxml/includes/xmlschema.pxd -> build/lib.linux-x86_64-2.7/lxml/includes\n",
      "    copying src/lxml/includes/relaxng.pxd -> build/lib.linux-x86_64-2.7/lxml/includes\n",
      "    copying src/lxml/includes/etreepublic.pxd -> build/lib.linux-x86_64-2.7/lxml/includes\n",
      "    copying src/lxml/includes/c14n.pxd -> build/lib.linux-x86_64-2.7/lxml/includes\n",
      "    copying src/lxml/includes/etree_defs.h -> build/lib.linux-x86_64-2.7/lxml/includes\n",
      "    copying src/lxml/includes/lxml-version.h -> build/lib.linux-x86_64-2.7/lxml/includes\n",
      "    creating build/lib.linux-x86_64-2.7/lxml/isoschematron/resources\n",
      "    creating build/lib.linux-x86_64-2.7/lxml/isoschematron/resources/rng\n",
      "    copying src/lxml/isoschematron/resources/rng/iso-schematron.rng -> build/lib.linux-x86_64-2.7/lxml/isoschematron/resources/rng\n",
      "    creating build/lib.linux-x86_64-2.7/lxml/isoschematron/resources/xsl\n",
      "    copying src/lxml/isoschematron/resources/xsl/XSD2Schtrn.xsl -> build/lib.linux-x86_64-2.7/lxml/isoschematron/resources/xsl\n",
      "    copying src/lxml/isoschematron/resources/xsl/RNG2Schtrn.xsl -> build/lib.linux-x86_64-2.7/lxml/isoschematron/resources/xsl\n",
      "    creating build/lib.linux-x86_64-2.7/lxml/isoschematron/resources/xsl/iso-schematron-xslt1\n",
      "    copying src/lxml/isoschematron/resources/xsl/iso-schematron-xslt1/iso_schematron_message.xsl -> build/lib.linux-x86_64-2.7/lxml/isoschematron/resources/xsl/iso-schematron-xslt1\n",
      "    copying src/lxml/isoschematron/resources/xsl/iso-schematron-xslt1/iso_schematron_skeleton_for_xslt1.xsl -> build/lib.linux-x86_64-2.7/lxml/isoschematron/resources/xsl/iso-schematron-xslt1\n",
      "    copying src/lxml/isoschematron/resources/xsl/iso-schematron-xslt1/iso_dsdl_include.xsl -> build/lib.linux-x86_64-2.7/lxml/isoschematron/resources/xsl/iso-schematron-xslt1\n",
      "    copying src/lxml/isoschematron/resources/xsl/iso-schematron-xslt1/iso_svrl_for_xslt1.xsl -> build/lib.linux-x86_64-2.7/lxml/isoschematron/resources/xsl/iso-schematron-xslt1\n",
      "    copying src/lxml/isoschematron/resources/xsl/iso-schematron-xslt1/iso_abstract_expand.xsl -> build/lib.linux-x86_64-2.7/lxml/isoschematron/resources/xsl/iso-schematron-xslt1\n",
      "    copying src/lxml/isoschematron/resources/xsl/iso-schematron-xslt1/readme.txt -> build/lib.linux-x86_64-2.7/lxml/isoschematron/resources/xsl/iso-schematron-xslt1\n",
      "    running build_ext\n",
      "    building 'lxml.etree' extension\n",
      "    creating build/temp.linux-x86_64-2.7\n",
      "    creating build/temp.linux-x86_64-2.7/src\n",
      "    creating build/temp.linux-x86_64-2.7/src/lxml\n",
      "    gcc -pthread -fno-strict-aliasing -g -O2 -DNDEBUG -g -fwrapv -O3 -Wall -Wstrict-prototypes -fPIC -Isrc/lxml/includes -I/opt/conda/envs/python2/include/python2.7 -c src/lxml/lxml.etree.c -o build/temp.linux-x86_64-2.7/src/lxml/lxml.etree.o -w\n",
      "    In file included from src/lxml/lxml.etree.c:323:0:\n",
      "    src/lxml/includes/etree_defs.h:14:31: fatal error: libxml/xmlversion.h: No such file or directory\n",
      "     #include \"libxml/xmlversion.h\"\n",
      "                                   ^\n",
      "    compilation terminated.\n",
      "    Compile failed: command 'gcc' failed with exit status 1\n",
      "    cc -I/usr/include/libxml2 -c /tmp/xmlXPathInitSvlrDc.c -o tmp/xmlXPathInitSvlrDc.o\n",
      "    /tmp/xmlXPathInitSvlrDc.c:1:26: fatal error: libxml/xpath.h: No such file or directory\n",
      "     #include \"libxml/xpath.h\"\n",
      "                              ^\n",
      "    compilation terminated.\n",
      "    *********************************************************************************\n",
      "    Could not find function xmlCheckVersion in library libxml2. Is libxml2 installed?\n",
      "    *********************************************************************************\n",
      "    error: command 'gcc' failed with exit status 1\n",
      "    \n",
      "    ----------------------------------------\n",
      "\u001b[?25h  Rolling back uninstall of lxml\n",
      "\u001b[31mCommand \"/opt/conda/envs/python2/bin/python -u -c \"import setuptools, tokenize;__file__='/tmp/pip-build-t6ofGE/lxml/setup.py';f=getattr(tokenize, 'open', open)(__file__);code=f.read().replace('\\r\\n', '\\n');f.close();exec(compile(code, __file__, 'exec'))\" install --record /tmp/pip-orZzL6-record/install-record.txt --single-version-externally-managed --compile\" failed with error code 1 in /tmp/pip-build-t6ofGE/lxml/\u001b[0m\n"
     ]
    }
   ],
   "source": [
    "chdir('//home/jovyan/work/predicting_stock_market_trends_with_Twitter/tools/GetOldTweets-python-master')\n",
    "!pip install -r requirements.txt\n",
    "import got"
   ]
  },
  {
   "cell_type": "markdown",
   "metadata": {
    "deletable": true,
    "editable": true
   },
   "source": [
    "### Implement distributed processing from scratch - run this on multiple AWS instances:"
   ]
  },
  {
   "cell_type": "code",
   "execution_count": 6,
   "metadata": {
    "collapsed": false,
    "deletable": true,
    "editable": true,
    "scrolled": true
   },
   "outputs": [
    {
     "data": {
      "text/html": [
       "<div>\n",
       "<table border=\"1\" class=\"dataframe\">\n",
       "  <thead>\n",
       "    <tr style=\"text-align: right;\">\n",
       "      <th></th>\n",
       "      <th>Name</th>\n",
       "      <th>Handle</th>\n",
       "      <th>Followers</th>\n",
       "      <th>Description</th>\n",
       "      <th>Type</th>\n",
       "      <th>Unnamed: 5</th>\n",
       "      <th>Unnamed: 6</th>\n",
       "      <th>Unnamed: 7</th>\n",
       "      <th>Unnamed: 8</th>\n",
       "    </tr>\n",
       "  </thead>\n",
       "  <tbody>\n",
       "    <tr>\n",
       "      <th>15</th>\n",
       "      <td>Chris Sacca</td>\n",
       "      <td>sacca</td>\n",
       "      <td>1,820,000</td>\n",
       "      <td>I love @crystale. Sometimes on @ABCSharkTank. ...</td>\n",
       "      <td>Celebrity</td>\n",
       "      <td>NaN</td>\n",
       "      <td>NaN</td>\n",
       "      <td>NaN</td>\n",
       "      <td>NaN</td>\n",
       "    </tr>\n",
       "    <tr>\n",
       "      <th>8</th>\n",
       "      <td>Elon Musk</td>\n",
       "      <td>elonmusk</td>\n",
       "      <td>8,840,000</td>\n",
       "      <td>Tesla, SpaceX, OpenAI &amp; Neuralink</td>\n",
       "      <td>Celebrity</td>\n",
       "      <td>NaN</td>\n",
       "      <td>NaN</td>\n",
       "      <td>NaN</td>\n",
       "      <td>NaN</td>\n",
       "    </tr>\n",
       "    <tr>\n",
       "      <th>19</th>\n",
       "      <td>Downtown Josh Brown</td>\n",
       "      <td>ReformedBroker</td>\n",
       "      <td>663,000</td>\n",
       "      <td>Chairman of the Twitter Federal Reserve, star ...</td>\n",
       "      <td>Thought Leader</td>\n",
       "      <td>NaN</td>\n",
       "      <td>NaN</td>\n",
       "      <td>NaN</td>\n",
       "      <td>NaN</td>\n",
       "    </tr>\n",
       "  </tbody>\n",
       "</table>\n",
       "</div>"
      ],
      "text/plain": [
       "                   Name          Handle   Followers   \\\n",
       "15          Chris Sacca           sacca   1,820,000    \n",
       "8             Elon Musk        elonmusk   8,840,000    \n",
       "19  Downtown Josh Brown  ReformedBroker     663,000    \n",
       "\n",
       "                                          Description            Type  \\\n",
       "15  I love @crystale. Sometimes on @ABCSharkTank. ...       Celebrity   \n",
       "8                   Tesla, SpaceX, OpenAI & Neuralink       Celebrity   \n",
       "19  Chairman of the Twitter Federal Reserve, star ...  Thought Leader   \n",
       "\n",
       "    Unnamed: 5  Unnamed: 6  Unnamed: 7  Unnamed: 8  \n",
       "15         NaN         NaN         NaN         NaN  \n",
       "8          NaN         NaN         NaN         NaN  \n",
       "19         NaN         NaN         NaN         NaN  "
      ]
     },
     "execution_count": 6,
     "metadata": {},
     "output_type": "execute_result"
    }
   ],
   "source": [
    "twitter_30_df = pd.read_csv('/home/jovyan/work/predicting_stock_market_trends_with_Twitter/data/twitter_users_30.csv')\n",
    "twitter_30_df.sample(3)"
   ]
  },
  {
   "cell_type": "code",
   "execution_count": 29,
   "metadata": {
    "collapsed": false,
    "deletable": true,
    "editable": true,
    "scrolled": true
   },
   "outputs": [],
   "source": [
    "usernames = list(twitter_30_df['Handle'])"
   ]
  },
  {
   "cell_type": "code",
   "execution_count": 49,
   "metadata": {
    "collapsed": false,
    "scrolled": true
   },
   "outputs": [
    {
     "ename": "KeyError",
     "evalue": "'username'",
     "output_type": "error",
     "traceback": [
      "\u001b[0;31m---------------------------------------------------------------------------\u001b[0m",
      "\u001b[0;31mKeyError\u001b[0m                                  Traceback (most recent call last)",
      "\u001b[0;32m<ipython-input-49-51c809b2fde8>\u001b[0m in \u001b[0;36m<module>\u001b[0;34m()\u001b[0m\n\u001b[1;32m      1\u001b[0m \u001b[0mstatus_dict\u001b[0m \u001b[0;34m=\u001b[0m \u001b[0;34m{\u001b[0m\u001b[0;34m}\u001b[0m\u001b[0;34m\u001b[0m\u001b[0m\n\u001b[1;32m      2\u001b[0m \u001b[0;32mfor\u001b[0m \u001b[0mu\u001b[0m \u001b[0;32min\u001b[0m \u001b[0musernames\u001b[0m\u001b[0;34m:\u001b[0m\u001b[0;34m\u001b[0m\u001b[0m\n\u001b[0;32m----> 3\u001b[0;31m     \u001b[0mstatus_dict\u001b[0m\u001b[0;34m[\u001b[0m\u001b[0;34m'username'\u001b[0m\u001b[0;34m]\u001b[0m\u001b[0;34m.\u001b[0m\u001b[0mappend\u001b[0m\u001b[0;34m(\u001b[0m\u001b[0mu\u001b[0m\u001b[0;34m)\u001b[0m\u001b[0;34m\u001b[0m\u001b[0m\n\u001b[0m\u001b[1;32m      4\u001b[0m     \u001b[0mstatus_dict\u001b[0m\u001b[0;34m[\u001b[0m\u001b[0;34m'status'\u001b[0m\u001b[0;34m]\u001b[0m\u001b[0;34m.\u001b[0m\u001b[0mappend\u001b[0m\u001b[0;34m(\u001b[0m\u001b[0;34m'pending'\u001b[0m\u001b[0;34m)\u001b[0m\u001b[0;34m\u001b[0m\u001b[0m\n",
      "\u001b[0;31mKeyError\u001b[0m: 'username'"
     ]
    }
   ],
   "source": [
    "status_dict = {}\n",
    "for u in usernames:\n",
    "    status_dict['username'].append(u)\n",
    "    status_dict['status'].append('pending')"
   ]
  },
  {
   "cell_type": "code",
   "execution_count": 35,
   "metadata": {
    "collapsed": true
   },
   "outputs": [],
   "source": [
    "status_list = []\n",
    "for u in usernames:\n",
    "    status_dict = {\n",
    "        'username': u,\n",
    "        'status': 'pending'\n",
    "    }\n",
    "    status_list.append(status_dict)"
   ]
  },
  {
   "cell_type": "code",
   "execution_count": 43,
   "metadata": {
    "collapsed": false
   },
   "outputs": [
    {
     "data": {
      "text/plain": [
       "{'status': 'pending', 'username': 'tim_cook'}"
      ]
     },
     "execution_count": 43,
     "metadata": {},
     "output_type": "execute_result"
    }
   ],
   "source": [
    "status_dict"
   ]
  },
  {
   "cell_type": "code",
   "execution_count": 41,
   "metadata": {
    "collapsed": false,
    "deletable": true,
    "editable": true
   },
   "outputs": [
    {
     "ename": "TypeError",
     "evalue": "unhashable type: 'list'",
     "output_type": "error",
     "traceback": [
      "\u001b[0;31m---------------------------------------------------------------------------\u001b[0m",
      "\u001b[0;31mTypeError\u001b[0m                                 Traceback (most recent call last)",
      "\u001b[0;32m<ipython-input-41-2aa2253a293d>\u001b[0m in \u001b[0;36m<module>\u001b[0;34m()\u001b[0m\n\u001b[0;32m----> 1\u001b[0;31m \u001b[0mstatus_collection\u001b[0m\u001b[0;34m.\u001b[0m\u001b[0minsert_one\u001b[0m\u001b[0;34m(\u001b[0m\u001b[0;34m{\u001b[0m\u001b[0mstatus_list\u001b[0m\u001b[0;34m}\u001b[0m\u001b[0;34m)\u001b[0m\u001b[0;34m\u001b[0m\u001b[0m\n\u001b[0m",
      "\u001b[0;31mTypeError\u001b[0m: unhashable type: 'list'"
     ]
    }
   ],
   "source": [
    "status_collection.insert_one({status_list})"
   ]
  },
  {
   "cell_type": "code",
   "execution_count": 31,
   "metadata": {
    "collapsed": false,
    "deletable": true,
    "editable": true
   },
   "outputs": [
    {
     "name": "stdout",
     "output_type": "stream",
     "text": [
      "30\n",
      "0\n",
      "0\n"
     ]
    }
   ],
   "source": [
    "print(status_collection.count())\n",
    "print(complete_collection.count())\n",
    "print(test_collection.count())"
   ]
  },
  {
   "cell_type": "code",
   "execution_count": null,
   "metadata": {
    "collapsed": true,
    "deletable": true,
    "editable": true
   },
   "outputs": [],
   "source": [
    "username = incomplete_collection.find_one_and_delete()"
   ]
  },
  {
   "cell_type": "code",
   "execution_count": null,
   "metadata": {
    "collapsed": true,
    "deletable": true,
    "editable": true
   },
   "outputs": [],
   "source": [
    "incomplete_lookup = incomplete_collection.find_one()"
   ]
  },
  {
   "cell_type": "code",
   "execution_count": null,
   "metadata": {
    "collapsed": true,
    "deletable": true,
    "editable": true
   },
   "outputs": [],
   "source": [
    "lookup_from_incomplete = [cursor.next()['handle'] for i in range(incomplete_collection.count())]"
   ]
  },
  {
   "cell_type": "code",
   "execution_count": null,
   "metadata": {
    "collapsed": true,
    "deletable": true,
    "editable": true
   },
   "outputs": [],
   "source": [
    "tweet_list = []\n",
    "for i in handle_lookup:\n",
    "    try:\n",
    "        tweetCriteria = got.manager.TweetCriteria().setUsername(i).setSince(\"2015-04-01\").setUntil(\"2017-04-01\").setMaxTweets(1000)\n",
    "        tweet = got.manager.TweetManager.getTweets(tweetCriteria)\n",
    "        tweetCount = 0\n",
    "        for t in tweet:\n",
    "            tweet_dict = {\n",
    "                'username': t.username,\n",
    "                'text': t.text,\n",
    "                'timestamp': t.date\n",
    "            }\n",
    "            tweet_list.append(tweet_dict)\n",
    "            tweetCount += 1\n",
    "            if (len(tweet_list)+1)%100==True:\n",
    "                print(\"Downloaded {} tweets\".format(len(tweet_list)))\n",
    "            \n",
    "    except ValueError as e:\n",
    "        print \"Error occurred: \" + str(e)\n",
    "        pass\n",
    "    try:\n",
    "        mongo_response = twitter_collection.insert_one(tweet_dict)\n",
    "        print(\"Inserting {0} tweets to Mongo for user: {1}\".format(tweetCount, i))\n",
    "    except:\n",
    "        p\n",
    "print (\"\\nTotal tweets downloaded & stored in mongo: {}\".format(len(tweet_list)))"
   ]
  },
  {
   "cell_type": "code",
   "execution_count": 3,
   "metadata": {
    "collapsed": true,
    "deletable": true,
    "editable": true
   },
   "outputs": [],
   "source": [
    "#this works!\n",
    "def get_tweets_to_mongo(handle_lookup):\n",
    "    tweet_list = []\n",
    "    for i in tqdm(handle_lookup):\n",
    "        try:\n",
    "            tweetCriteria = got.manager.TweetCriteria().setUsername(i).setMaxTweets(6000)\n",
    "            tweet = got.manager.TweetManager.getTweets(tweetCriteria)\n",
    "            tweetCount = 0\n",
    "            for t in tweet:\n",
    "                tweet_dict = {\n",
    "                    'username': t.username,\n",
    "                    'text': t.text,\n",
    "                    'timestamp': t.date\n",
    "                }\n",
    "                tweet_list.append(tweet_dict)\n",
    "                tweetCount += 1\n",
    "                try:    \n",
    "                    mongo_response = test_collection.insert_one(tweet_dict)\n",
    "                except:\n",
    "                    pass\n",
    "        except:\n",
    "            pass\n",
    "\n",
    "    print (\"\\nTotal tweets downloaded & stored in mongo: {}\".format(len(tweet_list)))"
   ]
  },
  {
   "cell_type": "code",
   "execution_count": 10,
   "metadata": {
    "collapsed": false,
    "deletable": true,
    "editable": true
   },
   "outputs": [
    {
     "name": "stderr",
     "output_type": "stream",
     "text": [
      "100%|██████████| 30/30 [00:00<00:00, 162150.93it/s]"
     ]
    },
    {
     "name": "stdout",
     "output_type": "stream",
     "text": [
      "\n",
      "Total tweets downloaded & stored in mongo: 0\n"
     ]
    },
    {
     "name": "stderr",
     "output_type": "stream",
     "text": [
      "\n"
     ]
    }
   ],
   "source": [
    "get_tweets_to_mongo(handle)"
   ]
  },
  {
   "cell_type": "code",
   "execution_count": 14,
   "metadata": {
    "collapsed": false,
    "deletable": true,
    "editable": true,
    "scrolled": true
   },
   "outputs": [
    {
     "data": {
      "text/plain": [
       "134147"
      ]
     },
     "execution_count": 14,
     "metadata": {},
     "output_type": "execute_result"
    }
   ],
   "source": [
    "# twitter_collection.count()"
   ]
  },
  {
   "cell_type": "code",
   "execution_count": null,
   "metadata": {
    "collapsed": true,
    "deletable": true,
    "editable": true
   },
   "outputs": [],
   "source": [
    "twitter_collection.count()"
   ]
  }
 ],
 "metadata": {
  "kernelspec": {
   "display_name": "Python 2",
   "language": "python",
   "name": "python2"
  },
  "language_info": {
   "codemirror_mode": {
    "name": "ipython",
    "version": 2
   },
   "file_extension": ".py",
   "mimetype": "text/x-python",
   "name": "python",
   "nbconvert_exporter": "python",
   "pygments_lexer": "ipython2",
   "version": "2.7.12"
  }
 },
 "nbformat": 4,
 "nbformat_minor": 2
}
