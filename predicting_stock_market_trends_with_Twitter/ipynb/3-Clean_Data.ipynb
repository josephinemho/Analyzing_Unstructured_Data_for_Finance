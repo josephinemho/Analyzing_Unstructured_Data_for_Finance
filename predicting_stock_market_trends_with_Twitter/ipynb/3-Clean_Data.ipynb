{
 "cells": [
  {
   "cell_type": "markdown",
   "metadata": {},
   "source": [
    "# Part 3 -- Clean & Vectorize Data\n",
    "\n",
    "Prepare data for **Singular Value Decomposition (SVD)**."
   ]
  },
  {
   "cell_type": "markdown",
   "metadata": {},
   "source": [
    "### Load lib codes:"
   ]
  },
  {
   "cell_type": "code",
   "execution_count": 1,
   "metadata": {},
   "outputs": [
    {
     "name": "stdout",
     "output_type": "stream",
     "text": [
      "/home/jovyan/work/Portfolio/predicting_stock_market_trends_with_Twitter/ipynb\r\n"
     ]
    }
   ],
   "source": [
    "!pwd"
   ]
  },
  {
   "cell_type": "code",
   "execution_count": 2,
   "metadata": {},
   "outputs": [],
   "source": [
    "from os import chdir\n",
    "chdir('/home/jovyan/work/Portfolio/predicting_stock_market_trends_with_Twitter/')\n",
    "\n",
    "from lib import *\n",
    "# suppress_warnings()\n",
    "from lib.twitter_keys import my_keys"
   ]
  },
  {
   "cell_type": "code",
   "execution_count": 3,
   "metadata": {},
   "outputs": [
    {
     "name": "stdout",
     "output_type": "stream",
     "text": [
      "Collecting pymongo\n",
      "  Downloading pymongo-3.4.0-cp35-cp35m-manylinux1_x86_64.whl (359kB)\n",
      "\u001b[K    100% |████████████████████████████████| 368kB 2.6MB/s ta 0:00:01\n",
      "\u001b[?25hInstalling collected packages: pymongo\n",
      "Successfully installed pymongo-3.4.0\n",
      "\u001b[33mYou are using pip version 8.1.2, however version 9.0.1 is available.\n",
      "You should consider upgrading via the 'pip install --upgrade pip' command.\u001b[0m\n"
     ]
    }
   ],
   "source": [
    "!pip install pymongo\n",
    "import pymongo"
   ]
  },
  {
   "cell_type": "code",
   "execution_count": 4,
   "metadata": {},
   "outputs": [],
   "source": [
    "cli = pymongo.MongoClient(host='35.163.253.8')"
   ]
  },
  {
   "cell_type": "code",
   "execution_count": 5,
   "metadata": {
    "scrolled": true
   },
   "outputs": [
    {
     "data": {
      "text/plain": [
       "['completed_collection', 'task_collection']"
      ]
     },
     "execution_count": 5,
     "metadata": {},
     "output_type": "execute_result"
    }
   ],
   "source": [
    "# Instantiates when you put data in \n",
    "task_collection = cli.twitter_db.task_collection\n",
    "completed_collection = cli.twitter_db.completed_collection\n",
    "# tweets_collection = cli.twitter_db.tweets_collection\n",
    "cli.twitter_db.collection_names()"
   ]
  },
  {
   "cell_type": "code",
   "execution_count": 6,
   "metadata": {},
   "outputs": [
    {
     "name": "stdout",
     "output_type": "stream",
     "text": [
      "30\n",
      "87289\n"
     ]
    }
   ],
   "source": [
    "print(task_collection.count())\n",
    "print(completed_collection.count())"
   ]
  },
  {
   "cell_type": "code",
   "execution_count": 10,
   "metadata": {},
   "outputs": [
    {
     "data": {
      "text/plain": [
       "0.9698777777777777"
      ]
     },
     "execution_count": 10,
     "metadata": {},
     "output_type": "execute_result"
    }
   ],
   "source": [
    "87289.0/90000.0\n",
    "#96.98% of possible tweets achieved - in 02:12 minutes!"
   ]
  },
  {
   "cell_type": "code",
   "execution_count": 65,
   "metadata": {},
   "outputs": [
    {
     "data": {
      "text/plain": [
       "0.9695333333333334"
      ]
     },
     "execution_count": 65,
     "metadata": {},
     "output_type": "execute_result"
    }
   ],
   "source": [
    "87258.0/90000.0\n",
    "#96.95% of possible tweets achieved - in 04:26 minutes"
   ]
  },
  {
   "cell_type": "code",
   "execution_count": 52,
   "metadata": {},
   "outputs": [
    {
     "data": {
      "text/plain": [
       "0.9693777777777778"
      ]
     },
     "execution_count": 52,
     "metadata": {},
     "output_type": "execute_result"
    }
   ],
   "source": [
    "87244.0/90000.0\n",
    "#96.93% of possible tweets achieved"
   ]
  },
  {
   "cell_type": "code",
   "execution_count": 23,
   "metadata": {},
   "outputs": [
    {
     "data": {
      "text/plain": [
       "0.9691333333333333"
      ]
     },
     "execution_count": 23,
     "metadata": {},
     "output_type": "execute_result"
    }
   ],
   "source": [
    "87222.0/90000.0\n",
    "#96.91% of possible tweets achieved"
   ]
  },
  {
   "cell_type": "code",
   "execution_count": 13,
   "metadata": {
    "scrolled": true
   },
   "outputs": [
    {
     "data": {
      "text/html": [
       "<div>\n",
       "<table border=\"1\" class=\"dataframe\">\n",
       "  <thead>\n",
       "    <tr style=\"text-align: right;\">\n",
       "      <th></th>\n",
       "      <th>_id</th>\n",
       "      <th>handle</th>\n",
       "      <th>status</th>\n",
       "    </tr>\n",
       "  </thead>\n",
       "  <tbody>\n",
       "    <tr>\n",
       "      <th>0</th>\n",
       "      <td>5935926d2c7311008077b547</td>\n",
       "      <td>BarackObama</td>\n",
       "      <td>complete</td>\n",
       "    </tr>\n",
       "    <tr>\n",
       "      <th>1</th>\n",
       "      <td>5935927056753600d03faa4e</td>\n",
       "      <td>cnnbrk</td>\n",
       "      <td>complete</td>\n",
       "    </tr>\n",
       "    <tr>\n",
       "      <th>2</th>\n",
       "      <td>593592742c7311008077be92</td>\n",
       "      <td>BillGates</td>\n",
       "      <td>complete</td>\n",
       "    </tr>\n",
       "    <tr>\n",
       "      <th>3</th>\n",
       "      <td>5935927956753600d03fb700</td>\n",
       "      <td>realDonaldTrump</td>\n",
       "      <td>complete</td>\n",
       "    </tr>\n",
       "    <tr>\n",
       "      <th>4</th>\n",
       "      <td>5935927e2c7311008077cb1b</td>\n",
       "      <td>TheEconomist</td>\n",
       "      <td>complete</td>\n",
       "    </tr>\n",
       "    <tr>\n",
       "      <th>5</th>\n",
       "      <td>5935928356753600d03fc380</td>\n",
       "      <td>aplusk</td>\n",
       "      <td>complete</td>\n",
       "    </tr>\n",
       "    <tr>\n",
       "      <th>6</th>\n",
       "      <td>593592882c7311008077d7bc</td>\n",
       "      <td>HillaryClinton</td>\n",
       "      <td>complete</td>\n",
       "    </tr>\n",
       "    <tr>\n",
       "      <th>7</th>\n",
       "      <td>5935928d56753600d03fd010</td>\n",
       "      <td>TechCrunch</td>\n",
       "      <td>complete</td>\n",
       "    </tr>\n",
       "    <tr>\n",
       "      <th>8</th>\n",
       "      <td>593592912c7311008077e379</td>\n",
       "      <td>elonmusk</td>\n",
       "      <td>complete</td>\n",
       "    </tr>\n",
       "    <tr>\n",
       "      <th>9</th>\n",
       "      <td>5935929656753600d03fdca1</td>\n",
       "      <td>NewYorker</td>\n",
       "      <td>complete</td>\n",
       "    </tr>\n",
       "    <tr>\n",
       "      <th>10</th>\n",
       "      <td>593592982c7311008077ebe7</td>\n",
       "      <td>mcuban</td>\n",
       "      <td>complete</td>\n",
       "    </tr>\n",
       "    <tr>\n",
       "      <th>11</th>\n",
       "      <td>593592a156753600d03fe91d</td>\n",
       "      <td>jack</td>\n",
       "      <td>complete</td>\n",
       "    </tr>\n",
       "    <tr>\n",
       "      <th>12</th>\n",
       "      <td>593592a22c7311008077f884</td>\n",
       "      <td>MarketWatch</td>\n",
       "      <td>complete</td>\n",
       "    </tr>\n",
       "    <tr>\n",
       "      <th>13</th>\n",
       "      <td>593592aa56753600d03ff5ca</td>\n",
       "      <td>CNBC</td>\n",
       "      <td>complete</td>\n",
       "    </tr>\n",
       "    <tr>\n",
       "      <th>14</th>\n",
       "      <td>593592ac2c73110080780517</td>\n",
       "      <td>ForbesTech</td>\n",
       "      <td>complete</td>\n",
       "    </tr>\n",
       "    <tr>\n",
       "      <th>15</th>\n",
       "      <td>593592b656753600d0400265</td>\n",
       "      <td>sacca</td>\n",
       "      <td>complete</td>\n",
       "    </tr>\n",
       "    <tr>\n",
       "      <th>16</th>\n",
       "      <td>593592b72c731100807811b9</td>\n",
       "      <td>SAI</td>\n",
       "      <td>complete</td>\n",
       "    </tr>\n",
       "    <tr>\n",
       "      <th>17</th>\n",
       "      <td>593592bf56753600d0400ef3</td>\n",
       "      <td>paulg</td>\n",
       "      <td>complete</td>\n",
       "    </tr>\n",
       "    <tr>\n",
       "      <th>18</th>\n",
       "      <td>593592c02c73110080781e53</td>\n",
       "      <td>themotleyfool</td>\n",
       "      <td>complete</td>\n",
       "    </tr>\n",
       "    <tr>\n",
       "      <th>19</th>\n",
       "      <td>593592ca56753600d0401b99</td>\n",
       "      <td>ReformedBroker</td>\n",
       "      <td>complete</td>\n",
       "    </tr>\n",
       "    <tr>\n",
       "      <th>20</th>\n",
       "      <td>593592ca2c73110080782aea</td>\n",
       "      <td>StockTwits</td>\n",
       "      <td>complete</td>\n",
       "    </tr>\n",
       "    <tr>\n",
       "      <th>21</th>\n",
       "      <td>593592d456753600d040282c</td>\n",
       "      <td>cnntech</td>\n",
       "      <td>complete</td>\n",
       "    </tr>\n",
       "    <tr>\n",
       "      <th>22</th>\n",
       "      <td>593592d42c73110080783774</td>\n",
       "      <td>MONEY</td>\n",
       "      <td>complete</td>\n",
       "    </tr>\n",
       "    <tr>\n",
       "      <th>23</th>\n",
       "      <td>593592d556753600d040296e</td>\n",
       "      <td>Carl_C_Icahn</td>\n",
       "      <td>complete</td>\n",
       "    </tr>\n",
       "    <tr>\n",
       "      <th>24</th>\n",
       "      <td>593592d92c73110080783e1e</td>\n",
       "      <td>sgblank</td>\n",
       "      <td>complete</td>\n",
       "    </tr>\n",
       "    <tr>\n",
       "      <th>25</th>\n",
       "      <td>593592de56753600d04035f1</td>\n",
       "      <td>investorslive</td>\n",
       "      <td>complete</td>\n",
       "    </tr>\n",
       "    <tr>\n",
       "      <th>26</th>\n",
       "      <td>593592e32c73110080784ab0</td>\n",
       "      <td>markflowchatter</td>\n",
       "      <td>complete</td>\n",
       "    </tr>\n",
       "    <tr>\n",
       "      <th>27</th>\n",
       "      <td>593592ea56753600d0404281</td>\n",
       "      <td>MarkYusko</td>\n",
       "      <td>complete</td>\n",
       "    </tr>\n",
       "    <tr>\n",
       "      <th>28</th>\n",
       "      <td>593592eb56753600d04043fc</td>\n",
       "      <td>tim_cook</td>\n",
       "      <td>complete</td>\n",
       "    </tr>\n",
       "    <tr>\n",
       "      <th>29</th>\n",
       "      <td>593592ec2c73110080785763</td>\n",
       "      <td>FinancialTimes</td>\n",
       "      <td>complete</td>\n",
       "    </tr>\n",
       "  </tbody>\n",
       "</table>\n",
       "</div>"
      ],
      "text/plain": [
       "                         _id           handle    status\n",
       "0   5935926d2c7311008077b547      BarackObama  complete\n",
       "1   5935927056753600d03faa4e           cnnbrk  complete\n",
       "2   593592742c7311008077be92        BillGates  complete\n",
       "3   5935927956753600d03fb700  realDonaldTrump  complete\n",
       "4   5935927e2c7311008077cb1b     TheEconomist  complete\n",
       "5   5935928356753600d03fc380           aplusk  complete\n",
       "6   593592882c7311008077d7bc   HillaryClinton  complete\n",
       "7   5935928d56753600d03fd010       TechCrunch  complete\n",
       "8   593592912c7311008077e379         elonmusk  complete\n",
       "9   5935929656753600d03fdca1        NewYorker  complete\n",
       "10  593592982c7311008077ebe7           mcuban  complete\n",
       "11  593592a156753600d03fe91d             jack  complete\n",
       "12  593592a22c7311008077f884      MarketWatch  complete\n",
       "13  593592aa56753600d03ff5ca             CNBC  complete\n",
       "14  593592ac2c73110080780517       ForbesTech  complete\n",
       "15  593592b656753600d0400265            sacca  complete\n",
       "16  593592b72c731100807811b9              SAI  complete\n",
       "17  593592bf56753600d0400ef3            paulg  complete\n",
       "18  593592c02c73110080781e53    themotleyfool  complete\n",
       "19  593592ca56753600d0401b99   ReformedBroker  complete\n",
       "20  593592ca2c73110080782aea       StockTwits  complete\n",
       "21  593592d456753600d040282c          cnntech  complete\n",
       "22  593592d42c73110080783774            MONEY  complete\n",
       "23  593592d556753600d040296e     Carl_C_Icahn  complete\n",
       "24  593592d92c73110080783e1e          sgblank  complete\n",
       "25  593592de56753600d04035f1    investorslive  complete\n",
       "26  593592e32c73110080784ab0  markflowchatter  complete\n",
       "27  593592ea56753600d0404281        MarkYusko  complete\n",
       "28  593592eb56753600d04043fc         tim_cook  complete\n",
       "29  593592ec2c73110080785763   FinancialTimes  complete"
      ]
     },
     "execution_count": 13,
     "metadata": {},
     "output_type": "execute_result"
    }
   ],
   "source": [
    "curs = task_collection.find()\n",
    "list_of_docs = []\n",
    "for i in range(curs.count()):\n",
    "    list_of_docs.append(curs.next())\n",
    "    df = pd.DataFrame(list_of_docs)\n",
    "df"
   ]
  },
  {
   "cell_type": "code",
   "execution_count": 7,
   "metadata": {},
   "outputs": [
    {
     "data": {
      "text/html": [
       "<div>\n",
       "<table border=\"1\" class=\"dataframe\">\n",
       "  <thead>\n",
       "    <tr style=\"text-align: right;\">\n",
       "      <th></th>\n",
       "      <th>_id</th>\n",
       "      <th>text</th>\n",
       "      <th>timestamp</th>\n",
       "      <th>username</th>\n",
       "    </tr>\n",
       "  </thead>\n",
       "  <tbody>\n",
       "    <tr>\n",
       "      <th>20234</th>\n",
       "      <td>5935928356753600d03fc3ff</td>\n",
       "      <td>Sherpa turns Instagram’s best photos into a tr...</td>\n",
       "      <td>2017-06-02 23:51:08</td>\n",
       "      <td>TechCrunch</td>\n",
       "    </tr>\n",
       "    <tr>\n",
       "      <th>72730</th>\n",
       "      <td>593592d556753600d0402977</td>\n",
       "      <td>$MBOT and the offering finally arrives</td>\n",
       "      <td>2017-06-05 13:08:54</td>\n",
       "      <td>InvestorsLive</td>\n",
       "    </tr>\n",
       "    <tr>\n",
       "      <th>31658</th>\n",
       "      <td>5935929556753600d03fda9b</td>\n",
       "      <td>Jared Kushner's Iraq trip: deluded self-aggran...</td>\n",
       "      <td>2017-04-11 15:19:52</td>\n",
       "      <td>NewYorker</td>\n",
       "    </tr>\n",
       "  </tbody>\n",
       "</table>\n",
       "</div>"
      ],
      "text/plain": [
       "                            _id  \\\n",
       "20234  5935928356753600d03fc3ff   \n",
       "72730  593592d556753600d0402977   \n",
       "31658  5935929556753600d03fda9b   \n",
       "\n",
       "                                                    text           timestamp  \\\n",
       "20234  Sherpa turns Instagram’s best photos into a tr... 2017-06-02 23:51:08   \n",
       "72730             $MBOT and the offering finally arrives 2017-06-05 13:08:54   \n",
       "31658  Jared Kushner's Iraq trip: deluded self-aggran... 2017-04-11 15:19:52   \n",
       "\n",
       "            username  \n",
       "20234     TechCrunch  \n",
       "72730  InvestorsLive  \n",
       "31658      NewYorker  "
      ]
     },
     "execution_count": 7,
     "metadata": {},
     "output_type": "execute_result"
    }
   ],
   "source": [
    "tweets_df =  pd.DataFrame(list(completed_collection.find()))\n",
    "tweets_df.sample(3)"
   ]
  },
  {
   "cell_type": "markdown",
   "metadata": {
    "collapsed": true
   },
   "source": [
    "### Try different vectorizers on non-cleaned data first:"
   ]
  },
  {
   "cell_type": "markdown",
   "metadata": {},
   "source": [
    "#### Clean data:"
   ]
  },
  {
   "cell_type": "code",
   "execution_count": 9,
   "metadata": {},
   "outputs": [
    {
     "data": {
      "text/plain": [
       "0        On this National Gun Violence Awareness Day, l...\n",
       "1        Forever grateful for the service and sacrifice...\n",
       "2        Good to see my friend Prince Harry in London t...\n",
       "3        Through faith, love, and resolve the character...\n",
       "4        Our hearts go out to those killed and wounded ...\n",
       "5        Excited to hear from Sierra, Imani, Filiz, and...\n",
       "6        Happy Mother's Day to my love and partner on t...\n",
       "7        We're rolling up our sleeves again, back where...\n",
       "8        Well said, Jimmy. That's exactly why we fought...\n",
       "9        RT @ObamaFoundation: It’s a beautiful day on t...\n",
       "10       My heart goes out to the victims and their fam...\n",
       "11       Chuck Berry rolled over everyone who came befo...\n",
       "12       On International Women’s Day, @MichelleObama a...\n",
       "13       RT @ObamaFoundation: Courage comes in many for...\n",
       "14       Humbled to be recognized by a family with a le...\n",
       "15         We asked. You answered. https://t.co/mAJvko6VqR\n",
       "16       Happy Valentine’s Day, @michelleobama! Almost ...\n",
       "17       I read letters like these every single day. It...\n",
       "18       RT @ObamaFoundation: Add your voice: https://t...\n",
       "19       In the meantime, I want to hear what you're th...\n",
       "20       Hi everybody! Back to the original handle. Is ...\n",
       "21       Tonight, President Obama reflects on eight yea...\n",
       "22       RT @OFA: \"Thanks to the Affordable Care Act, y...\n",
       "23       In the weekly address, President Obama discuss...\n",
       "24       Let's keep working to keep our economy on a be...\n",
       "25       The landmark #ParisAgreement enters into force...\n",
       "26       The economy added 161,000 jobs in October, and...\n",
       "27       There are a lot of plans out there. Check your...\n",
       "28       The positive impact of #Obamacare is undeniabl...\n",
       "29       RT @POTUS: It happened: @Cubs win World Series...\n",
       "                               ...                        \n",
       "87259    Pandora hunts for buyer as losses steepen http...\n",
       "87260    OCBC profit rises 14% in Q1 on wealth manageme...\n",
       "87261    Wall Street’s fear gauge falls to lowest level...\n",
       "87262    Yen steadies after weakening past ¥113 overnig...\n",
       "87263    Fast Asia Open: South Korea presidential elect...\n",
       "87264    Start-up trading venue trueEX sues Markit http...\n",
       "87265    Sturm, Ruger &amp; Co says gun demand slid aft...\n",
       "87266    Trump warned about Flynn’s Russian blackmail r...\n",
       "87267    Post shares sapped by soggy sales https://t.co...\n",
       "87268    Pandora raises $150m from KKR to explore sale ...\n",
       "87269    Trump donor Robert Mercer sued by fired employ...\n",
       "87270    DoubleLine’s Gundlach bearish on US stocks, bu...\n",
       "87271    Bon-Ton replaces chief executive amid departme...\n",
       "87272    Hertz shares skid on wider-than-expected loss ...\n",
       "87273    Carmakers take direct route to Indian middle c...\n",
       "87274    Glencore and Tohoku agree Australian coal pric...\n",
       "87275    China’s $100bn agribusiness, Macron’s momentum...\n",
       "87276    US stocks pause for breath as Apple rises and ...\n",
       "87277    Algebris head Serra says shorting gilts safest...\n",
       "87278    US tuna probe nets guilty plea from Lion Capit...\n",
       "87279    Numis wisely seeks more than just Alfa in fund...\n",
       "87280    Bill Clinton and crime writer to pen White Hou...\n",
       "87281    Duterte plays cat-and-mouse game with US and C...\n",
       "87282    Goldman shakes up investment bank leadership h...\n",
       "87283    FT View: Buffett, the Brazilians and chainsaw ...\n",
       "87284    Esports viewing shoots up but ad revenues have...\n",
       "87285    Coach hints at further deals after bagging Kat...\n",
       "87286    Tyson shares hit by investigation into the pou...\n",
       "87287    BBA Aviation dips as Citigroup expresses cauti...\n",
       "87288    Warnings of staff relocations after Brexit ris...\n",
       "Name: text, dtype: object"
      ]
     },
     "execution_count": 9,
     "metadata": {},
     "output_type": "execute_result"
    }
   ],
   "source": [
    "tweets_df['text']"
   ]
  },
  {
   "cell_type": "code",
   "execution_count": null,
   "metadata": {
    "collapsed": true
   },
   "outputs": [],
   "source": [
    "#try tfidif twitter tokenizer?"
   ]
  },
  {
   "cell_type": "code",
   "execution_count": 13,
   "metadata": {
    "collapsed": true
   },
   "outputs": [],
   "source": [
    "# import re"
   ]
  },
  {
   "cell_type": "code",
   "execution_count": 21,
   "metadata": {
    "collapsed": true
   },
   "outputs": [],
   "source": [
    "# def clean_text(text):\n",
    "#     text = re.sub(\"'\", \"\", text)\n",
    "#     text = re.sub('(http(s)?:\\/\\/.)?(www\\.)?[-a-zA-Z0-9@:%._\\+~#=]{2,256}\\.[a-z]{2,6}\\b([-a-zA-Z0-9@:%_\\+.~#?&//=]*)', '', text)\n",
    "#     text = re.sub('[\\W]', ' ', text)\n",
    "#     return text"
   ]
  },
  {
   "cell_type": "markdown",
   "metadata": {},
   "source": [
    "#### BAG OF WORDS: CountVectorizer"
   ]
  },
  {
   "cell_type": "code",
   "execution_count": 21,
   "metadata": {},
   "outputs": [
    {
     "name": "stdout",
     "output_type": "stream",
     "text": [
      "Requirement already satisfied (use --upgrade to upgrade): spacy in /opt/conda/lib/python3.5/site-packages\n",
      "Requirement already satisfied (use --upgrade to upgrade): pathlib in /opt/conda/lib/python3.5/site-packages (from spacy)\n",
      "Requirement already satisfied (use --upgrade to upgrade): numpy>=1.7 in /opt/conda/lib/python3.5/site-packages (from spacy)\n",
      "Requirement already satisfied (use --upgrade to upgrade): ftfy<5.0.0,>=4.4.2 in /opt/conda/lib/python3.5/site-packages (from spacy)\n",
      "Requirement already satisfied (use --upgrade to upgrade): regex==2017.4.5 in /opt/conda/lib/python3.5/site-packages (from spacy)\n",
      "Requirement already satisfied (use --upgrade to upgrade): preshed<2.0.0,>=1.0.0 in /opt/conda/lib/python3.5/site-packages (from spacy)\n",
      "Requirement already satisfied (use --upgrade to upgrade): thinc<6.6.0,>=6.5.0 in /opt/conda/lib/python3.5/site-packages (from spacy)\n",
      "Requirement already satisfied (use --upgrade to upgrade): dill<0.3,>=0.2 in /opt/conda/lib/python3.5/site-packages (from spacy)\n",
      "Requirement already satisfied (use --upgrade to upgrade): ujson>=1.35 in /opt/conda/lib/python3.5/site-packages (from spacy)\n",
      "Requirement already satisfied (use --upgrade to upgrade): six in /opt/conda/lib/python3.5/site-packages (from spacy)\n",
      "Requirement already satisfied (use --upgrade to upgrade): plac<1.0.0,>=0.9.6 in /opt/conda/lib/python3.5/site-packages (from spacy)\n",
      "Requirement already satisfied (use --upgrade to upgrade): cymem<1.32,>=1.30 in /opt/conda/lib/python3.5/site-packages (from spacy)\n",
      "Requirement already satisfied (use --upgrade to upgrade): requests<3.0.0,>=2.13.0 in /opt/conda/lib/python3.5/site-packages (from spacy)\n",
      "Requirement already satisfied (use --upgrade to upgrade): murmurhash<0.27,>=0.26 in /opt/conda/lib/python3.5/site-packages (from spacy)\n",
      "Requirement already satisfied (use --upgrade to upgrade): wcwidth in /opt/conda/lib/python3.5/site-packages (from ftfy<5.0.0,>=4.4.2->spacy)\n",
      "Requirement already satisfied (use --upgrade to upgrade): html5lib in /opt/conda/lib/python3.5/site-packages (from ftfy<5.0.0,>=4.4.2->spacy)\n",
      "Requirement already satisfied (use --upgrade to upgrade): termcolor in /opt/conda/lib/python3.5/site-packages (from thinc<6.6.0,>=6.5.0->spacy)\n",
      "Requirement already satisfied (use --upgrade to upgrade): tqdm<5.0.0,>=4.10.0 in /opt/conda/lib/python3.5/site-packages (from thinc<6.6.0,>=6.5.0->spacy)\n",
      "Requirement already satisfied (use --upgrade to upgrade): cytoolz<0.9,>=0.8 in /opt/conda/lib/python3.5/site-packages (from thinc<6.6.0,>=6.5.0->spacy)\n",
      "Requirement already satisfied (use --upgrade to upgrade): wrapt in /opt/conda/lib/python3.5/site-packages (from thinc<6.6.0,>=6.5.0->spacy)\n",
      "Requirement already satisfied (use --upgrade to upgrade): urllib3<1.22,>=1.21.1 in /opt/conda/lib/python3.5/site-packages (from requests<3.0.0,>=2.13.0->spacy)\n",
      "Requirement already satisfied (use --upgrade to upgrade): idna<2.6,>=2.5 in /opt/conda/lib/python3.5/site-packages (from requests<3.0.0,>=2.13.0->spacy)\n",
      "Requirement already satisfied (use --upgrade to upgrade): chardet<3.1.0,>=3.0.2 in /opt/conda/lib/python3.5/site-packages (from requests<3.0.0,>=2.13.0->spacy)\n",
      "Requirement already satisfied (use --upgrade to upgrade): certifi>=2017.4.17 in /opt/conda/lib/python3.5/site-packages (from requests<3.0.0,>=2.13.0->spacy)\n",
      "Requirement already satisfied (use --upgrade to upgrade): toolz>=0.8.0 in /opt/conda/lib/python3.5/site-packages (from cytoolz<0.9,>=0.8->thinc<6.6.0,>=6.5.0->spacy)\n",
      "\u001b[33mYou are using pip version 8.1.2, however version 9.0.1 is available.\n",
      "You should consider upgrading via the 'pip install --upgrade pip' command.\u001b[0m\n"
     ]
    }
   ],
   "source": [
    "!pip install spacy"
   ]
  },
  {
   "cell_type": "code",
   "execution_count": 8,
   "metadata": {
    "scrolled": true
   },
   "outputs": [],
   "source": [
    "from spacy.en import English"
   ]
  },
  {
   "cell_type": "code",
   "execution_count": 33,
   "metadata": {
    "collapsed": true
   },
   "outputs": [],
   "source": [
    "nlp = English()"
   ]
  },
  {
   "cell_type": "code",
   "execution_count": 34,
   "metadata": {},
   "outputs": [
    {
     "data": {
      "text/plain": [
       "'On this National Gun Violence Awareness Day, let your voice be heard and show your commitment to reducing gun viole… https://t.co/S7dth6Ywb0'"
      ]
     },
     "execution_count": 34,
     "metadata": {},
     "output_type": "execute_result"
    }
   ],
   "source": [
    "tweets_df['text'][0]"
   ]
  },
  {
   "cell_type": "code",
   "execution_count": 35,
   "metadata": {},
   "outputs": [
    {
     "data": {
      "text/plain": [
       "(300,)"
      ]
     },
     "execution_count": 35,
     "metadata": {},
     "output_type": "execute_result"
    }
   ],
   "source": [
    "nlp(tweets_df['text'][0]).vector.shape"
   ]
  },
  {
   "cell_type": "code",
   "execution_count": null,
   "metadata": {
    "collapsed": true
   },
   "outputs": [],
   "source": []
  },
  {
   "cell_type": "code",
   "execution_count": 24,
   "metadata": {
    "collapsed": true
   },
   "outputs": [],
   "source": [
    "from sklearn.feature_extraction.text import TfidfVectorizer, CountVectorizer"
   ]
  },
  {
   "cell_type": "code",
   "execution_count": 22,
   "metadata": {
    "scrolled": true
   },
   "outputs": [
    {
     "ename": "MemoryError",
     "evalue": "",
     "output_type": "error",
     "traceback": [
      "\u001b[0;31m\u001b[0m",
      "\u001b[0;31mMemoryError\u001b[0mTraceback (most recent call last)",
      "\u001b[0;32m<ipython-input-22-80e93385f9e0>\u001b[0m in \u001b[0;36m<module>\u001b[0;34m()\u001b[0m\n\u001b[1;32m      1\u001b[0m \u001b[0mnaive_vectorizer\u001b[0m \u001b[0;34m=\u001b[0m \u001b[0mCountVectorizer\u001b[0m\u001b[0;34m(\u001b[0m\u001b[0mmin_df\u001b[0m \u001b[0;34m=\u001b[0m \u001b[0;36m3\u001b[0m\u001b[0;34m)\u001b[0m\u001b[0;34m\u001b[0m\u001b[0m\n\u001b[0;32m----> 2\u001b[0;31m \u001b[0mdocument_term_matrix\u001b[0m \u001b[0;34m=\u001b[0m \u001b[0mcreate_document_term_matrix\u001b[0m\u001b[0;34m(\u001b[0m\u001b[0mnaive_vectorizer\u001b[0m\u001b[0;34m,\u001b[0m \u001b[0mtweets_df\u001b[0m\u001b[0;34m[\u001b[0m\u001b[0;34m'text'\u001b[0m\u001b[0;34m]\u001b[0m\u001b[0;34m)\u001b[0m\u001b[0;34m\u001b[0m\u001b[0m\n\u001b[0m\u001b[1;32m      3\u001b[0m \u001b[0mdocument_term_matrix\u001b[0m\u001b[0;34m.\u001b[0m\u001b[0msample\u001b[0m\u001b[0;34m(\u001b[0m\u001b[0;36m5\u001b[0m\u001b[0;34m)\u001b[0m\u001b[0;34m\u001b[0m\u001b[0m\n\u001b[1;32m      4\u001b[0m \u001b[0;31m#this is a document term matrix. It just counts the # of times a word shows up:\u001b[0m\u001b[0;34m\u001b[0m\u001b[0;34m\u001b[0m\u001b[0m\n",
      "\u001b[0;32m<ipython-input-16-5d0bdc5cc9c9>\u001b[0m in \u001b[0;36mcreate_document_term_matrix\u001b[0;34m(vectorizer, corpus)\u001b[0m\n\u001b[1;32m      1\u001b[0m \u001b[0;32mdef\u001b[0m \u001b[0mcreate_document_term_matrix\u001b[0m\u001b[0;34m(\u001b[0m\u001b[0mvectorizer\u001b[0m\u001b[0;34m,\u001b[0m \u001b[0mcorpus\u001b[0m\u001b[0;34m)\u001b[0m\u001b[0;34m:\u001b[0m\u001b[0;34m\u001b[0m\u001b[0m\n\u001b[1;32m      2\u001b[0m     \u001b[0mdocument_term_matrix\u001b[0m \u001b[0;34m=\u001b[0m \u001b[0mvectorizer\u001b[0m\u001b[0;34m.\u001b[0m\u001b[0mfit_transform\u001b[0m\u001b[0;34m(\u001b[0m\u001b[0mcorpus\u001b[0m\u001b[0;34m)\u001b[0m\u001b[0;34m\u001b[0m\u001b[0m\n\u001b[0;32m----> 3\u001b[0;31m     document_term_matrix = pd.DataFrame(document_term_matrix.toarray(),\n\u001b[0m\u001b[1;32m      4\u001b[0m                                         \u001b[0mindex\u001b[0m\u001b[0;34m=\u001b[0m\u001b[0mcorpus\u001b[0m\u001b[0;34m,\u001b[0m\u001b[0;34m\u001b[0m\u001b[0m\n\u001b[1;32m      5\u001b[0m                                         columns=vectorizer.get_feature_names ())\n",
      "\u001b[0;32m/opt/conda/envs/python2/lib/python2.7/site-packages/scipy/sparse/compressed.pyc\u001b[0m in \u001b[0;36mtoarray\u001b[0;34m(self, order, out)\u001b[0m\n\u001b[1;32m    962\u001b[0m     \u001b[0;32mdef\u001b[0m \u001b[0mtoarray\u001b[0m\u001b[0;34m(\u001b[0m\u001b[0mself\u001b[0m\u001b[0;34m,\u001b[0m \u001b[0morder\u001b[0m\u001b[0;34m=\u001b[0m\u001b[0mNone\u001b[0m\u001b[0;34m,\u001b[0m \u001b[0mout\u001b[0m\u001b[0;34m=\u001b[0m\u001b[0mNone\u001b[0m\u001b[0;34m)\u001b[0m\u001b[0;34m:\u001b[0m\u001b[0;34m\u001b[0m\u001b[0m\n\u001b[1;32m    963\u001b[0m         \u001b[0;34m\"\"\"See the docstring for `spmatrix.toarray`.\"\"\"\u001b[0m\u001b[0;34m\u001b[0m\u001b[0m\n\u001b[0;32m--> 964\u001b[0;31m         \u001b[0;32mreturn\u001b[0m \u001b[0mself\u001b[0m\u001b[0;34m.\u001b[0m\u001b[0mtocoo\u001b[0m\u001b[0;34m(\u001b[0m\u001b[0mcopy\u001b[0m\u001b[0;34m=\u001b[0m\u001b[0mFalse\u001b[0m\u001b[0;34m)\u001b[0m\u001b[0;34m.\u001b[0m\u001b[0mtoarray\u001b[0m\u001b[0;34m(\u001b[0m\u001b[0morder\u001b[0m\u001b[0;34m=\u001b[0m\u001b[0morder\u001b[0m\u001b[0;34m,\u001b[0m \u001b[0mout\u001b[0m\u001b[0;34m=\u001b[0m\u001b[0mout\u001b[0m\u001b[0;34m)\u001b[0m\u001b[0;34m\u001b[0m\u001b[0m\n\u001b[0m\u001b[1;32m    965\u001b[0m \u001b[0;34m\u001b[0m\u001b[0m\n\u001b[1;32m    966\u001b[0m     \u001b[0;31m##############################################################\u001b[0m\u001b[0;34m\u001b[0m\u001b[0;34m\u001b[0m\u001b[0m\n",
      "\u001b[0;32m/opt/conda/envs/python2/lib/python2.7/site-packages/scipy/sparse/coo.pyc\u001b[0m in \u001b[0;36mtoarray\u001b[0;34m(self, order, out)\u001b[0m\n\u001b[1;32m    250\u001b[0m     \u001b[0;32mdef\u001b[0m \u001b[0mtoarray\u001b[0m\u001b[0;34m(\u001b[0m\u001b[0mself\u001b[0m\u001b[0;34m,\u001b[0m \u001b[0morder\u001b[0m\u001b[0;34m=\u001b[0m\u001b[0mNone\u001b[0m\u001b[0;34m,\u001b[0m \u001b[0mout\u001b[0m\u001b[0;34m=\u001b[0m\u001b[0mNone\u001b[0m\u001b[0;34m)\u001b[0m\u001b[0;34m:\u001b[0m\u001b[0;34m\u001b[0m\u001b[0m\n\u001b[1;32m    251\u001b[0m         \u001b[0;34m\"\"\"See the docstring for `spmatrix.toarray`.\"\"\"\u001b[0m\u001b[0;34m\u001b[0m\u001b[0m\n\u001b[0;32m--> 252\u001b[0;31m         \u001b[0mB\u001b[0m \u001b[0;34m=\u001b[0m \u001b[0mself\u001b[0m\u001b[0;34m.\u001b[0m\u001b[0m_process_toarray_args\u001b[0m\u001b[0;34m(\u001b[0m\u001b[0morder\u001b[0m\u001b[0;34m,\u001b[0m \u001b[0mout\u001b[0m\u001b[0;34m)\u001b[0m\u001b[0;34m\u001b[0m\u001b[0m\n\u001b[0m\u001b[1;32m    253\u001b[0m         \u001b[0mfortran\u001b[0m \u001b[0;34m=\u001b[0m \u001b[0mint\u001b[0m\u001b[0;34m(\u001b[0m\u001b[0mB\u001b[0m\u001b[0;34m.\u001b[0m\u001b[0mflags\u001b[0m\u001b[0;34m.\u001b[0m\u001b[0mf_contiguous\u001b[0m\u001b[0;34m)\u001b[0m\u001b[0;34m\u001b[0m\u001b[0m\n\u001b[1;32m    254\u001b[0m         \u001b[0;32mif\u001b[0m \u001b[0;32mnot\u001b[0m \u001b[0mfortran\u001b[0m \u001b[0;32mand\u001b[0m \u001b[0;32mnot\u001b[0m \u001b[0mB\u001b[0m\u001b[0;34m.\u001b[0m\u001b[0mflags\u001b[0m\u001b[0;34m.\u001b[0m\u001b[0mc_contiguous\u001b[0m\u001b[0;34m:\u001b[0m\u001b[0;34m\u001b[0m\u001b[0m\n",
      "\u001b[0;32m/opt/conda/envs/python2/lib/python2.7/site-packages/scipy/sparse/base.pyc\u001b[0m in \u001b[0;36m_process_toarray_args\u001b[0;34m(self, order, out)\u001b[0m\n\u001b[1;32m   1037\u001b[0m             \u001b[0;32mreturn\u001b[0m \u001b[0mout\u001b[0m\u001b[0;34m\u001b[0m\u001b[0m\n\u001b[1;32m   1038\u001b[0m         \u001b[0;32melse\u001b[0m\u001b[0;34m:\u001b[0m\u001b[0;34m\u001b[0m\u001b[0m\n\u001b[0;32m-> 1039\u001b[0;31m             \u001b[0;32mreturn\u001b[0m \u001b[0mnp\u001b[0m\u001b[0;34m.\u001b[0m\u001b[0mzeros\u001b[0m\u001b[0;34m(\u001b[0m\u001b[0mself\u001b[0m\u001b[0;34m.\u001b[0m\u001b[0mshape\u001b[0m\u001b[0;34m,\u001b[0m \u001b[0mdtype\u001b[0m\u001b[0;34m=\u001b[0m\u001b[0mself\u001b[0m\u001b[0;34m.\u001b[0m\u001b[0mdtype\u001b[0m\u001b[0;34m,\u001b[0m \u001b[0morder\u001b[0m\u001b[0;34m=\u001b[0m\u001b[0morder\u001b[0m\u001b[0;34m)\u001b[0m\u001b[0;34m\u001b[0m\u001b[0m\n\u001b[0m\u001b[1;32m   1040\u001b[0m \u001b[0;34m\u001b[0m\u001b[0m\n\u001b[1;32m   1041\u001b[0m     \u001b[0;32mdef\u001b[0m \u001b[0m__numpy_ufunc__\u001b[0m\u001b[0;34m(\u001b[0m\u001b[0mself\u001b[0m\u001b[0;34m,\u001b[0m \u001b[0mfunc\u001b[0m\u001b[0;34m,\u001b[0m \u001b[0mmethod\u001b[0m\u001b[0;34m,\u001b[0m \u001b[0mpos\u001b[0m\u001b[0;34m,\u001b[0m \u001b[0minputs\u001b[0m\u001b[0;34m,\u001b[0m \u001b[0;34m**\u001b[0m\u001b[0mkwargs\u001b[0m\u001b[0;34m)\u001b[0m\u001b[0;34m:\u001b[0m\u001b[0;34m\u001b[0m\u001b[0m\n",
      "\u001b[0;31mMemoryError\u001b[0m: "
     ]
    }
   ],
   "source": [
    "naive_vectorizer = CountVectorizer(min_df = 3)\n",
    "document_term_matrix = create_document_term_matrix(naive_vectorizer, tweets_df['text'])\n",
    "document_term_matrix.sample(5)\n",
    "#this is a document term matrix. It just counts the # of times a word shows up:"
   ]
  },
  {
   "cell_type": "markdown",
   "metadata": {},
   "source": [
    "### Do a PCA to determine number of components for SVD:"
   ]
  },
  {
   "cell_type": "code",
   "execution_count": null,
   "metadata": {
    "collapsed": true
   },
   "outputs": [],
   "source": []
  }
 ],
 "metadata": {
  "kernelspec": {
   "display_name": "Python 3",
   "language": "python",
   "name": "python3"
  },
  "language_info": {
   "codemirror_mode": {
    "name": "ipython",
    "version": 3
   },
   "file_extension": ".py",
   "mimetype": "text/x-python",
   "name": "python",
   "nbconvert_exporter": "python",
   "pygments_lexer": "ipython3",
   "version": "3.5.2"
  }
 },
 "nbformat": 4,
 "nbformat_minor": 2
}
