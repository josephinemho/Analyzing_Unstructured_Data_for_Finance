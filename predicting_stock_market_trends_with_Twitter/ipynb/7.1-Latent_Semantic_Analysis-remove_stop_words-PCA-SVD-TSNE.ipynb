{
 "cells": [
  {
   "cell_type": "markdown",
   "metadata": {},
   "source": [
    "# Part 7 -- LSA\n",
    "\n",
    "Prepare data for **Singular Value Decomposition (SVD)**."
   ]
  },
  {
   "cell_type": "markdown",
   "metadata": {},
   "source": [
    "### Load lib codes:"
   ]
  },
  {
   "cell_type": "code",
   "execution_count": 167,
   "metadata": {
    "scrolled": true
   },
   "outputs": [
    {
     "name": "stdout",
     "output_type": "stream",
     "text": [
      "/home/jovyan/work/Portfolio/predicting_stock_market_trends_with_Twitter\r\n"
     ]
    }
   ],
   "source": [
    "!pwd"
   ]
  },
  {
   "cell_type": "code",
   "execution_count": 168,
   "metadata": {
    "collapsed": true
   },
   "outputs": [],
   "source": [
    "from os import chdir\n",
    "chdir('/home/jovyan/work/Portfolio/predicting_stock_market_trends_with_Twitter/')\n",
    "\n",
    "from lib import *\n",
    "from lib.twitter_keys import my_keys\n",
    "# suppress_warnings()\n",
    "%matplotlib inline\n"
   ]
  },
  {
   "cell_type": "code",
   "execution_count": 203,
   "metadata": {
    "collapsed": true
   },
   "outputs": [],
   "source": [
    "X = pd.read_pickle('../predicting_stock_market_trends_with_Twitter/data/X.pickle')"
   ]
  },
  {
   "cell_type": "code",
   "execution_count": 170,
   "metadata": {
    "collapsed": true
   },
   "outputs": [],
   "source": [
    "# X = X['cleaned_text']"
   ]
  },
  {
   "cell_type": "code",
   "execution_count": 172,
   "metadata": {},
   "outputs": [],
   "source": [
    "y_le = joblib.load('../predicting_stock_market_trends_with_Twitter/data/y_AAPL_le.pickle')"
   ]
  },
  {
   "cell_type": "code",
   "execution_count": 173,
   "metadata": {
    "collapsed": true
   },
   "outputs": [],
   "source": [
    "le = joblib.load('../predicting_stock_market_trends_with_Twitter/data/y_le.transformer')"
   ]
  },
  {
   "cell_type": "code",
   "execution_count": 174,
   "metadata": {
    "scrolled": true
   },
   "outputs": [
    {
     "data": {
      "text/plain": [
       "array([0, 0, 0, ..., 2, 2, 2])"
      ]
     },
     "execution_count": 174,
     "metadata": {},
     "output_type": "execute_result"
    }
   ],
   "source": [
    "y_le"
   ]
  },
  {
   "cell_type": "code",
   "execution_count": 175,
   "metadata": {},
   "outputs": [
    {
     "data": {
      "text/plain": [
       "LabelEncoder()"
      ]
     },
     "execution_count": 175,
     "metadata": {},
     "output_type": "execute_result"
    }
   ],
   "source": [
    "le"
   ]
  },
  {
   "cell_type": "code",
   "execution_count": 176,
   "metadata": {},
   "outputs": [
    {
     "data": {
      "text/plain": [
       "array([array(['down'], dtype=object), array(['neutral'], dtype=object),\n",
       "       array(['up'], dtype=object)], dtype=object)"
      ]
     },
     "execution_count": 176,
     "metadata": {},
     "output_type": "execute_result"
    }
   ],
   "source": [
    "le.classes_"
   ]
  },
  {
   "cell_type": "markdown",
   "metadata": {},
   "source": [
    "SVD does what you tell it to do, so keep components empty so it does it all. PCA does it all and then returns the important ones to you. Generally, you want to use SVD when you have more columns than rows. "
   ]
  },
  {
   "cell_type": "code",
   "execution_count": 136,
   "metadata": {
    "collapsed": true
   },
   "outputs": [],
   "source": [
    "from sklearn.feature_extraction.text import TfidfVectorizer\n",
    "from sklearn.decomposition import TruncatedSVD\n",
    "from sklearn.externals import joblib"
   ]
  },
  {
   "cell_type": "code",
   "execution_count": 204,
   "metadata": {},
   "outputs": [
    {
     "name": "stdout",
     "output_type": "stream",
     "text": [
      "0:00:06.574586\n"
     ]
    }
   ],
   "source": [
    "# start = datetime.now()\n",
    "\n",
    "# tfidf = TfidfVectorizer(ngram_range=(1,3), min_df=20, stop_words='english')\n",
    "# X_tfidf = tfidf.fit_transform(X['cleaned_text'])\n",
    "\n",
    "# end = datetime.now()\n",
    "# print(end - start)"
   ]
  },
  {
   "cell_type": "code",
   "execution_count": 208,
   "metadata": {},
   "outputs": [
    {
     "data": {
      "text/plain": [
       "['00',\n",
       " '000',\n",
       " '000 jobs',\n",
       " '000 people',\n",
       " '000 year',\n",
       " '02',\n",
       " '03',\n",
       " '04',\n",
       " '05',\n",
       " '09',\n",
       " '10',\n",
       " '10 000',\n",
       " '10 cities',\n",
       " '10 companies',\n",
       " '10 important',\n",
       " '10 important things',\n",
       " '10 million',\n",
       " '10 year',\n",
       " '10 years',\n",
       " '10 yrs',\n",
       " '10 yrs making',\n",
       " '100',\n",
       " '100 000',\n",
       " '100 days',\n",
       " '100 million',\n",
       " '1000',\n",
       " '100m',\n",
       " '101',\n",
       " '10m',\n",
       " '10th',\n",
       " '11',\n",
       " '11 things',\n",
       " '110',\n",
       " '111',\n",
       " '12',\n",
       " '12 weeks',\n",
       " '125',\n",
       " '13',\n",
       " '13 things',\n",
       " '13 things common',\n",
       " '14',\n",
       " '140',\n",
       " '15',\n",
       " '15 years',\n",
       " '150',\n",
       " '16',\n",
       " '17',\n",
       " '17 nate',\n",
       " '18',\n",
       " '180',\n",
       " '1843mag',\n",
       " '1843mag archive',\n",
       " '19',\n",
       " '1990',\n",
       " '1999',\n",
       " '1b',\n",
       " '1b visa',\n",
       " '1m',\n",
       " '1pm',\n",
       " '1st',\n",
       " '20',\n",
       " '20 000',\n",
       " '20 million',\n",
       " '20 years',\n",
       " '200',\n",
       " '2000',\n",
       " '2007',\n",
       " '2008',\n",
       " '2009',\n",
       " '2010',\n",
       " '2011',\n",
       " '2012',\n",
       " '2013',\n",
       " '2014',\n",
       " '2015',\n",
       " '2016',\n",
       " '2017',\n",
       " '2018',\n",
       " '2020',\n",
       " '2025',\n",
       " '2030',\n",
       " '20s',\n",
       " '20th',\n",
       " '21',\n",
       " '21st',\n",
       " '21st century',\n",
       " '22',\n",
       " '23',\n",
       " '24',\n",
       " '25',\n",
       " '25 million',\n",
       " '250',\n",
       " '26',\n",
       " '27',\n",
       " '28',\n",
       " '29',\n",
       " '2nd',\n",
       " '30',\n",
       " '30 000',\n",
       " '30 years',\n",
       " '300',\n",
       " '30pm',\n",
       " '31',\n",
       " '32',\n",
       " '33',\n",
       " '34',\n",
       " '35',\n",
       " '36',\n",
       " '360',\n",
       " '37',\n",
       " '38',\n",
       " '39',\n",
       " '3d',\n",
       " '3d printing',\n",
       " '3pm',\n",
       " '3rd',\n",
       " '40',\n",
       " '40 years',\n",
       " '400',\n",
       " '401',\n",
       " '41',\n",
       " '42',\n",
       " '43',\n",
       " '44',\n",
       " '45',\n",
       " '46',\n",
       " '48',\n",
       " '4k',\n",
       " '4pm',\n",
       " '4th',\n",
       " '50',\n",
       " '50 000',\n",
       " '50 years',\n",
       " '500',\n",
       " '500 000',\n",
       " '500 nasdaq',\n",
       " '51',\n",
       " '52',\n",
       " '52 week',\n",
       " '53',\n",
       " '54',\n",
       " '55',\n",
       " '57',\n",
       " '58',\n",
       " '5m',\n",
       " '5th',\n",
       " '60',\n",
       " '600',\n",
       " '62',\n",
       " '64',\n",
       " '65',\n",
       " '67',\n",
       " '6m',\n",
       " '70',\n",
       " '700',\n",
       " '72',\n",
       " '75',\n",
       " '77',\n",
       " '7m',\n",
       " '7pm',\n",
       " '80',\n",
       " '800',\n",
       " '85',\n",
       " '86',\n",
       " '88',\n",
       " '8pm',\n",
       " '8th',\n",
       " '90',\n",
       " '900',\n",
       " '95',\n",
       " '96',\n",
       " '97',\n",
       " '98',\n",
       " '99',\n",
       " 'aapl',\n",
       " 'abc',\n",
       " 'abcsharktank',\n",
       " 'ability',\n",
       " 'able',\n",
       " 'abortion',\n",
       " 'absolute',\n",
       " 'absolutely',\n",
       " 'abuse',\n",
       " 'aca',\n",
       " 'academy',\n",
       " 'acaworks',\n",
       " 'accept',\n",
       " 'accepted',\n",
       " 'access',\n",
       " 'accident',\n",
       " 'accidentally',\n",
       " 'accord',\n",
       " 'according',\n",
       " 'account',\n",
       " 'accounting',\n",
       " 'accounts',\n",
       " 'accurate',\n",
       " 'accused',\n",
       " 'achieve',\n",
       " 'ackman',\n",
       " 'aclu',\n",
       " 'acquire',\n",
       " 'acquired',\n",
       " 'acquires',\n",
       " 'acquisition',\n",
       " 'act',\n",
       " 'acting',\n",
       " 'action',\n",
       " 'actions',\n",
       " 'active',\n",
       " 'activism',\n",
       " 'activist',\n",
       " 'activity',\n",
       " 'actonclimate',\n",
       " 'actor',\n",
       " 'acts',\n",
       " 'actual',\n",
       " 'actually',\n",
       " 'ad',\n",
       " 'adam',\n",
       " 'adambain',\n",
       " 'adamfeuerstein',\n",
       " 'add',\n",
       " 'add agree',\n",
       " 'added',\n",
       " 'addiction',\n",
       " 'adding',\n",
       " 'addition',\n",
       " 'additional',\n",
       " 'address',\n",
       " 'adds',\n",
       " 'administration',\n",
       " 'admit',\n",
       " 'ads',\n",
       " 'adults',\n",
       " 'advance',\n",
       " 'advanced',\n",
       " 'advantage',\n",
       " 'advertisers',\n",
       " 'advertising',\n",
       " 'advice',\n",
       " 'adviser',\n",
       " 'advisor',\n",
       " 'advisors',\n",
       " 'advisory',\n",
       " 'affect',\n",
       " 'affected',\n",
       " 'afford',\n",
       " 'affordable',\n",
       " 'afghanistan',\n",
       " 'afraid',\n",
       " 'africa',\n",
       " 'african',\n",
       " 'african american',\n",
       " 'afternoon',\n",
       " 'ag',\n",
       " 'age',\n",
       " 'agencies',\n",
       " 'agency',\n",
       " 'agenda',\n",
       " 'agent',\n",
       " 'agents',\n",
       " 'aggressive',\n",
       " 'aging',\n",
       " 'ago',\n",
       " 'ago today',\n",
       " 'agree',\n",
       " 'agreed',\n",
       " 'agreement',\n",
       " 'agrees',\n",
       " 'ahca',\n",
       " 'ahead',\n",
       " 'ai',\n",
       " 'aid',\n",
       " 'aides',\n",
       " 'aids',\n",
       " 'aig',\n",
       " 'ailes',\n",
       " 'aim',\n",
       " 'aims',\n",
       " 'ain',\n",
       " 'air',\n",
       " 'air force',\n",
       " 'airbnb',\n",
       " 'airline',\n",
       " 'airlines',\n",
       " 'airport',\n",
       " 'aka',\n",
       " 'aktx',\n",
       " 'al',\n",
       " 'alabama',\n",
       " 'alaska',\n",
       " 'album',\n",
       " 'alderlaneeggs',\n",
       " 'alert',\n",
       " 'alex',\n",
       " 'alexa',\n",
       " 'alexosterwalder',\n",
       " 'alexrkonrad',\n",
       " 'alibaba',\n",
       " 'aliciaadamczyk',\n",
       " 'alive',\n",
       " 'allegations',\n",
       " 'alleged',\n",
       " 'allegedly',\n",
       " 'alliance',\n",
       " 'allies',\n",
       " 'allow',\n",
       " 'allowed',\n",
       " 'allowing',\n",
       " 'allows',\n",
       " 'alot',\n",
       " 'alphabet',\n",
       " 'alphaville',\n",
       " 'alternative',\n",
       " 'ama',\n",
       " 'amazing',\n",
       " 'amazon',\n",
       " 'amazon echo',\n",
       " 'amazon new',\n",
       " 'amazon prime',\n",
       " 'ambassador',\n",
       " 'ambitious',\n",
       " 'amd',\n",
       " 'amendment',\n",
       " 'america',\n",
       " 'america great',\n",
       " 'america safe',\n",
       " 'americafirst',\n",
       " 'americaleads',\n",
       " 'american',\n",
       " 'american people',\n",
       " 'american workers',\n",
       " 'americans',\n",
       " 'amgn',\n",
       " 'amid',\n",
       " 'amigo',\n",
       " 'amp',\n",
       " 'amp 500',\n",
       " 'amp 500 nasdaq',\n",
       " 'amzn',\n",
       " 'analysis',\n",
       " 'analyst',\n",
       " 'analysts',\n",
       " 'ancient',\n",
       " 'andrew',\n",
       " 'android',\n",
       " 'andromeda',\n",
       " 'andy',\n",
       " 'andyswan',\n",
       " 'angeles',\n",
       " 'angry',\n",
       " 'animal',\n",
       " 'animals',\n",
       " 'anniversary',\n",
       " 'announce',\n",
       " 'announced',\n",
       " 'announcement',\n",
       " 'announces',\n",
       " 'announcing',\n",
       " 'annual',\n",
       " 'annual letter',\n",
       " 'answer',\n",
       " 'answers',\n",
       " 'anthony',\n",
       " 'anthonyha',\n",
       " 'anti',\n",
       " 'anybody',\n",
       " 'anymore',\n",
       " 'ap',\n",
       " 'apart',\n",
       " 'apartment',\n",
       " 'aplusapp',\n",
       " 'aplusk',\n",
       " 'app',\n",
       " 'app store',\n",
       " 'apparently',\n",
       " 'appeal',\n",
       " 'appeals',\n",
       " 'appear',\n",
       " 'appears',\n",
       " 'apple',\n",
       " 'apple ios',\n",
       " 'apple ios 10',\n",
       " 'apple iphone',\n",
       " 'apple just',\n",
       " 'apple pay',\n",
       " 'application',\n",
       " 'applications',\n",
       " 'apply',\n",
       " 'appoints',\n",
       " 'appreciate',\n",
       " 'appreciated',\n",
       " 'approach',\n",
       " 'approval',\n",
       " 'approved',\n",
       " 'approves',\n",
       " 'apps',\n",
       " 'april',\n",
       " 'ar',\n",
       " 'arabia',\n",
       " 'archive',\n",
       " 'area',\n",
       " 'areas',\n",
       " 'aren',\n",
       " 'arena',\n",
       " 'argues',\n",
       " 'argument',\n",
       " 'ariana',\n",
       " 'ariana grande',\n",
       " 'arizona',\n",
       " 'arm',\n",
       " 'armour',\n",
       " 'arms',\n",
       " 'army',\n",
       " 'arrest',\n",
       " 'arrested',\n",
       " 'arrived',\n",
       " 'arrives',\n",
       " 'art',\n",
       " 'article',\n",
       " 'articles',\n",
       " 'artificial',\n",
       " 'artificial intelligence',\n",
       " 'artist',\n",
       " 'artists',\n",
       " 'arts',\n",
       " 'asia',\n",
       " 'asian',\n",
       " 'asian markets',\n",
       " 'aside',\n",
       " 'ask',\n",
       " 'askbillg',\n",
       " 'asked',\n",
       " 'asking',\n",
       " 'asks',\n",
       " 'assad',\n",
       " 'assange',\n",
       " 'assault',\n",
       " 'asset',\n",
       " 'assets',\n",
       " 'assistant',\n",
       " 'assume',\n",
       " 'astronauts',\n",
       " 'at09_trader',\n",
       " 'atlantic',\n",
       " 'attack',\n",
       " 'attacked',\n",
       " 'attacking',\n",
       " 'attacks',\n",
       " 'attempt',\n",
       " 'attend',\n",
       " 'attention',\n",
       " 'attorney',\n",
       " 'attorney general',\n",
       " 'auction',\n",
       " 'audience',\n",
       " 'audio',\n",
       " 'augmented',\n",
       " 'augmented reality',\n",
       " 'august',\n",
       " 'auph',\n",
       " 'auspexresearch',\n",
       " 'austin',\n",
       " 'australia',\n",
       " 'australian',\n",
       " 'author',\n",
       " 'authorities',\n",
       " 'authority',\n",
       " 'auto',\n",
       " 'automation',\n",
       " 'autonomous',\n",
       " 'autopilot',\n",
       " 'autumnalcity87',\n",
       " 'available',\n",
       " 'average',\n",
       " 'avg',\n",
       " 'avocado',\n",
       " 'avoid',\n",
       " 'avxl',\n",
       " 'award',\n",
       " 'awards',\n",
       " 'aware',\n",
       " 'away',\n",
       " 'awealthofcs',\n",
       " 'awesome',\n",
       " 'awful',\n",
       " 'baba',\n",
       " 'baby',\n",
       " 'bac',\n",
       " 'backed',\n",
       " 'background',\n",
       " 'backs',\n",
       " 'bad',\n",
       " 'bad news',\n",
       " 'badass',\n",
       " 'badly',\n",
       " 'bag',\n",
       " 'baird',\n",
       " 'balance',\n",
       " 'balance sheet',\n",
       " 'ball',\n",
       " 'ballmer',\n",
       " 'ballot',\n",
       " 'baml',\n",
       " 'ban',\n",
       " 'band',\n",
       " 'bank',\n",
       " 'banker',\n",
       " 'banking',\n",
       " 'bankruptcy',\n",
       " 'banks',\n",
       " 'banned',\n",
       " 'banning',\n",
       " 'bannon',\n",
       " 'bar',\n",
       " 'barack',\n",
       " 'barack obama',\n",
       " 'barackobama',\n",
       " 'barclays',\n",
       " 'base',\n",
       " 'baseball',\n",
       " 'based',\n",
       " 'basic',\n",
       " 'basically',\n",
       " 'basis',\n",
       " 'basketball',\n",
       " 'batteries',\n",
       " 'battery',\n",
       " 'battle',\n",
       " 'battlefield',\n",
       " 'bay',\n",
       " 'bbry',\n",
       " 'beach',\n",
       " 'bear',\n",
       " 'bearish',\n",
       " 'bears',\n",
       " 'beat',\n",
       " 'beating',\n",
       " 'beats',\n",
       " 'beautiful',\n",
       " 'beauty',\n",
       " 'bed',\n",
       " 'beer',\n",
       " 'began',\n",
       " 'begin',\n",
       " 'beginning',\n",
       " 'begins',\n",
       " 'begun',\n",
       " 'behavior',\n",
       " 'beijing',\n",
       " 'believe',\n",
       " 'believed',\n",
       " 'believes',\n",
       " 'bell',\n",
       " 'belt',\n",
       " 'ben',\n",
       " 'ben graham',\n",
       " 'benefit',\n",
       " 'benefits',\n",
       " 'berkeley',\n",
       " 'berkshire',\n",
       " 'berlin',\n",
       " 'bernie',\n",
       " 'bernie sanders',\n",
       " 'berniesanders',\n",
       " 'best',\n",
       " 'best cities',\n",
       " 'best performing',\n",
       " 'best way',\n",
       " 'best worst',\n",
       " 'bet',\n",
       " 'bets',\n",
       " 'betsy',\n",
       " 'better',\n",
       " 'betting',\n",
       " 'beyonce',\n",
       " 'beyoncé',\n",
       " 'bezos',\n",
       " 'bheater',\n",
       " 'bias',\n",
       " 'biased',\n",
       " 'biaus',\n",
       " 'bid',\n",
       " 'biden',\n",
       " 'bidu',\n",
       " 'big',\n",
       " 'big deal',\n",
       " 'big problem',\n",
       " 'big time',\n",
       " 'bigger',\n",
       " 'biggest',\n",
       " 'bigleaguetruth',\n",
       " 'billclinton',\n",
       " 'billgates',\n",
       " 'billion',\n",
       " 'billion dollar',\n",
       " 'billionaire',\n",
       " 'billionaires',\n",
       " 'billions',\n",
       " 'bills',\n",
       " 'biotech',\n",
       " 'bipartisan',\n",
       " 'bird',\n",
       " 'birth',\n",
       " 'birthday',\n",
       " 'bit',\n",
       " 'bitcoin',\n",
       " 'biuk_tech',\n",
       " 'biz',\n",
       " 'black',\n",
       " 'blackberry',\n",
       " 'blame',\n",
       " 'blank',\n",
       " 'blast',\n",
       " 'blind',\n",
       " 'block',\n",
       " 'blockchain',\n",
       " 'blocked',\n",
       " 'blocking',\n",
       " 'blocks',\n",
       " 'blog',\n",
       " 'blog post',\n",
       " 'blood',\n",
       " 'bloomberg',\n",
       " 'blow',\n",
       " 'blue',\n",
       " 'bmw',\n",
       " 'board',\n",
       " 'boards',\n",
       " 'boat',\n",
       " 'bob',\n",
       " 'body',\n",
       " 'boeing',\n",
       " 'bogle',\n",
       " 'bold',\n",
       " 'bomb',\n",
       " 'bomber',\n",
       " 'bombing',\n",
       " 'bond',\n",
       " 'bonds',\n",
       " 'book',\n",
       " 'bookalmost',\n",
       " 'bookalmost pre',\n",
       " 'bookalmost pre order',\n",
       " 'books',\n",
       " 'boom',\n",
       " 'boost',\n",
       " 'border',\n",
       " 'border wall',\n",
       " 'borders',\n",
       " 'boring',\n",
       " 'born',\n",
       " 'born onthisday',\n",
       " 'borowitzreport',\n",
       " 'borrow',\n",
       " 'boss',\n",
       " 'boston',\n",
       " 'bot',\n",
       " 'bottle',\n",
       " 'bought',\n",
       " 'bounce',\n",
       " 'bout',\n",
       " 'boutique',\n",
       " 'bowl',\n",
       " 'box',\n",
       " 'boy',\n",
       " 'boys',\n",
       " 'braddjaffy',\n",
       " 'bradrtuttle',\n",
       " 'brady',\n",
       " 'brain',\n",
       " 'brand',\n",
       " 'brands',\n",
       " 'brave',\n",
       " 'brazil',\n",
       " 'brazilian',\n",
       " 'breach',\n",
       " 'break',\n",
       " 'breakdown',\n",
       " 'breakfast',\n",
       " 'breaking',\n",
       " 'breakout',\n",
       " 'breaks',\n",
       " 'breakthrough',\n",
       " 'breath',\n",
       " 'brexit',\n",
       " 'brian',\n",
       " 'brick',\n",
       " 'bridge',\n",
       " 'brief',\n",
       " 'briefing',\n",
       " 'bright',\n",
       " 'brilliant',\n",
       " 'bring',\n",
       " 'bringing',\n",
       " 'brings',\n",
       " 'britain',\n",
       " 'british',\n",
       " 'brk',\n",
       " 'bro',\n",
       " 'broadcast',\n",
       " 'broke',\n",
       " 'broken',\n",
       " 'brooklyn',\n",
       " 'brother',\n",
       " 'brothers',\n",
       " 'brought',\n",
       " 'brown',\n",
       " 'browser',\n",
       " 'brussels',\n",
       " 'brutal',\n",
       " 'btcusd',\n",
       " 'btw',\n",
       " 'bubble',\n",
       " 'bucket',\n",
       " 'bucket list',\n",
       " 'budget',\n",
       " 'buffett',\n",
       " 'bug',\n",
       " 'build',\n",
       " 'building',\n",
       " 'built',\n",
       " 'bull',\n",
       " 'bull market',\n",
       " 'bullish',\n",
       " 'bulls',\n",
       " 'bump',\n",
       " 'bunch',\n",
       " 'burger',\n",
       " 'burning',\n",
       " 'bus',\n",
       " 'bush',\n",
       " 'business',\n",
       " 'business model',\n",
       " 'business school',\n",
       " 'businesses',\n",
       " 'busy',\n",
       " 'button',\n",
       " 'buy',\n",
       " 'buy rating',\n",
       " 'buyback',\n",
       " 'buyer',\n",
       " 'buyers',\n",
       " 'buying',\n",
       " 'buyout',\n",
       " 'buys',\n",
       " 'buzz',\n",
       " 'buzzfeed',\n",
       " 'ca',\n",
       " 'cabinet',\n",
       " 'cable',\n",
       " 'california',\n",
       " 'called',\n",
       " 'calling',\n",
       " 'calls',\n",
       " 'calm',\n",
       " 'came',\n",
       " 'camera',\n",
       " 'cameras',\n",
       " 'camp',\n",
       " 'campaign',\n",
       " 'campus',\n",
       " 'canada',\n",
       " 'canadian',\n",
       " 'canaveral',\n",
       " 'cancer',\n",
       " 'candidate',\n",
       " 'candidates',\n",
       " 'cap',\n",
       " 'cape',\n",
       " 'cape canaveral',\n",
       " 'capital',\n",
       " 'capitol',\n",
       " 'caption',\n",
       " 'caption contest',\n",
       " 'car',\n",
       " 'carbon',\n",
       " 'carbon pollution',\n",
       " 'card',\n",
       " 'cards',\n",
       " 'care',\n",
       " 'care act',\n",
       " 'care plan',\n",
       " 'care reform',\n",
       " 'career',\n",
       " 'careers',\n",
       " 'careful',\n",
       " 'cares',\n",
       " 'carl',\n",
       " 'carolina',\n",
       " 'carry',\n",
       " 'cars',\n",
       " 'carter',\n",
       " 'cartoon',\n",
       " 'cartoon thepatbyrnes',\n",
       " 'cartoons',\n",
       " 'cartoons new',\n",
       " 'cartoons new yorker',\n",
       " 'case',\n",
       " 'cases',\n",
       " 'cash',\n",
       " 'cast',\n",
       " 'cat',\n",
       " 'catalyst',\n",
       " 'catch',\n",
       " 'catching',\n",
       " 'catherineshu',\n",
       " 'caught',\n",
       " 'cause',\n",
       " 'caused',\n",
       " 'causing',\n",
       " 'cautious',\n",
       " 'cbio',\n",
       " 'cbli',\n",
       " 'cbo',\n",
       " 'cbs',\n",
       " 'cc',\n",
       " 'celebrate',\n",
       " 'celebrating',\n",
       " 'celebrities',\n",
       " 'cell',\n",
       " 'center',\n",
       " 'central',\n",
       " 'centre',\n",
       " 'century',\n",
       " 'ceo',\n",
       " 'ceo mark',\n",
       " 'ceo says',\n",
       " 'ceos',\n",
       " 'ceremony',\n",
       " 'certain',\n",
       " 'certainly',\n",
       " 'cfo',\n",
       " 'chaffetz',\n",
       " 'chair',\n",
       " 'chairman',\n",
       " 'challenge',\n",
       " 'challenges',\n",
       " 'champion',\n",
       " 'chance',\n",
       " 'chancetherapper',\n",
       " 'change',\n",
       " 'change actonclimate',\n",
       " 'change world',\n",
       " 'changed',\n",
       " 'changer',\n",
       " 'changes',\n",
       " 'changing',\n",
       " 'channel',\n",
       " 'channel 111',\n",
       " 'chaos',\n",
       " 'character',\n",
       " 'characters',\n",
       " 'chardan',\n",
       " 'charge',\n",
       " 'charged',\n",
       " 'charges',\n",
       " 'charging',\n",
       " 'charity',\n",
       " 'charles',\n",
       " 'charlie',\n",
       " 'chart',\n",
       " 'chart shows',\n",
       " 'charts',\n",
       " 'chat',\n",
       " 'cheap',\n",
       " 'cheaper',\n",
       " 'check',\n",
       " 'checked',\n",
       " 'checking',\n",
       " 'checks',\n",
       " 'chef',\n",
       " 'chemical',\n",
       " 'chicago',\n",
       " 'chicken',\n",
       " 'chief',\n",
       " 'child',\n",
       " 'children',\n",
       " 'china',\n",
       " 'chinese',\n",
       " 'chip',\n",
       " 'chipotle',\n",
       " 'chips',\n",
       " 'choice',\n",
       " 'choices',\n",
       " 'choose',\n",
       " 'choosing',\n",
       " 'chris',\n",
       " 'chrislhayes',\n",
       " 'chrome',\n",
       " 'chuck',\n",
       " 'cia',\n",
       " 'circuit',\n",
       " 'cisco',\n",
       " 'citi',\n",
       " 'cities',\n",
       " 'citing',\n",
       " 'citizen',\n",
       " 'citizens',\n",
       " 'citronresearch',\n",
       " 'city',\n",
       " 'civil',\n",
       " 'civil rights',\n",
       " 'claim',\n",
       " 'claimed',\n",
       " 'claims',\n",
       " 'class',\n",
       " 'classic',\n",
       " 'classified',\n",
       " 'classified info',\n",
       " 'classroom',\n",
       " 'clean',\n",
       " 'clean energy',\n",
       " 'clean power',\n",
       " 'clean power plan',\n",
       " 'clean water',\n",
       " 'cleaner',\n",
       " 'clear',\n",
       " 'clearly',\n",
       " 'cleveland',\n",
       " 'clever',\n",
       " 'click',\n",
       " 'clients',\n",
       " 'climate',\n",
       " 'climate agreement',\n",
       " 'climate change',\n",
       " 'climate change actonclimate',\n",
       " 'climate deal',\n",
       " 'climb',\n",
       " 'climbs',\n",
       " 'clinton',\n",
       " 'clips',\n",
       " 'clips today',\n",
       " 'clips today halftime',\n",
       " 'clock',\n",
       " 'close',\n",
       " 'closed',\n",
       " 'closer',\n",
       " 'closes',\n",
       " 'closet',\n",
       " 'closing',\n",
       " 'clothes',\n",
       " 'cloud',\n",
       " 'club',\n",
       " 'clvs',\n",
       " 'cmg',\n",
       " 'cnbc',\n",
       " 'cnbcfastmoney',\n",
       " 'cnbcmakeit',\n",
       " 'cnbctech',\n",
       " 'cnn',\n",
       " 'cnnent',\n",
       " 'cnngo',\n",
       " 'cnnmoney',\n",
       " 'cnnmoney dow',\n",
       " 'cnnmoney stocks',\n",
       " 'cnnpolitics',\n",
       " 'cnnpolitics breaking',\n",
       " 'cnnpolitics just',\n",
       " 'cnnpolitics president',\n",
       " 'cnnpolitics president donald',\n",
       " 'cnnpolitics president trump',\n",
       " 'cnnpolitics rep',\n",
       " 'cnnpolitics sean',\n",
       " 'cnnpolitics sean spicer',\n",
       " 'cnnpolitics sen',\n",
       " 'cnnpolitics spicer',\n",
       " 'cnnpolitics trump',\n",
       " 'coach',\n",
       " 'coachella',\n",
       " 'coal',\n",
       " 'coalition',\n",
       " 'coast',\n",
       " 'code',\n",
       " 'codes',\n",
       " 'coding',\n",
       " 'coffee',\n",
       " 'cold',\n",
       " 'collapse',\n",
       " 'collection',\n",
       " 'college',\n",
       " 'college grads',\n",
       " 'college students',\n",
       " 'colleges',\n",
       " 'collusion',\n",
       " 'color',\n",
       " 'colorado',\n",
       " 'com',\n",
       " 'combat',\n",
       " 'combined',\n",
       " 'come',\n",
       " 'comeback',\n",
       " 'comedy',\n",
       " 'comes',\n",
       " 'comey',\n",
       " 'comey firing',\n",
       " 'coming',\n",
       " 'coming soon',\n",
       " 'commander',\n",
       " ...]"
      ]
     },
     "execution_count": 208,
     "metadata": {},
     "output_type": "execute_result"
    }
   ],
   "source": [
    "tfidf.get_feature_names()"
   ]
  },
  {
   "cell_type": "code",
   "execution_count": 206,
   "metadata": {},
   "outputs": [
    {
     "data": {
      "text/plain": [
       "['../predicting_stock_market_trends_with_Twitter/data/tfidf.pickle']"
      ]
     },
     "execution_count": 206,
     "metadata": {},
     "output_type": "execute_result"
    }
   ],
   "source": [
    "# joblib.dump(tfidf, '../predicting_stock_market_trends_with_Twitter/data/tfidf.pickle')"
   ]
  },
  {
   "cell_type": "code",
   "execution_count": 7,
   "metadata": {
    "scrolled": true
   },
   "outputs": [
    {
     "data": {
      "text/plain": [
       "scipy.sparse.csr.csr_matrix"
      ]
     },
     "execution_count": 7,
     "metadata": {},
     "output_type": "execute_result"
    }
   ],
   "source": [
    "# type(X_tfidf)"
   ]
  },
  {
   "cell_type": "code",
   "execution_count": 12,
   "metadata": {},
   "outputs": [
    {
     "data": {
      "text/plain": [
       "['../predicting_stock_market_trends_with_Twitter/data/X_tfidf_transformer.pickle']"
      ]
     },
     "execution_count": 12,
     "metadata": {},
     "output_type": "execute_result"
    }
   ],
   "source": [
    "# joblib.dump(X_tfidf, '../predicting_stock_market_trends_with_Twitter/data/X_tfidf_transformer.pickle')"
   ]
  },
  {
   "cell_type": "code",
   "execution_count": 137,
   "metadata": {},
   "outputs": [],
   "source": [
    "X_tfidf = joblib.load('../predicting_stock_market_trends_with_Twitter/data/X_tfidf_transformer.pickle')"
   ]
  },
  {
   "cell_type": "markdown",
   "metadata": {},
   "source": [
    "### Explore TFIDF vectors"
   ]
  },
  {
   "cell_type": "code",
   "execution_count": 138,
   "metadata": {},
   "outputs": [
    {
     "data": {
      "text/plain": [
       "['yrs making new',\n",
       " 'ytd',\n",
       " 'yup',\n",
       " 'zachbraff',\n",
       " 'zealand',\n",
       " 'zelda',\n",
       " 'zero',\n",
       " 'zika',\n",
       " 'zone',\n",
       " 'zuckerberg']"
      ]
     },
     "execution_count": 138,
     "metadata": {},
     "output_type": "execute_result"
    }
   ],
   "source": [
    "tfidf.get_feature_names()[-10:]"
   ]
  },
  {
   "cell_type": "markdown",
   "metadata": {},
   "source": [
    "### Do an SVD with a lot of n_components to see how many you want to assign later:\n",
    "Here, we are going to use SVD to reduce the dimensionality to 50 dimensions first, and then use another dimensionality reduction technique called t-SNE that is particularly suited to visualizing high-dimensional datasets, to further reduce the dimensionality to 2."
   ]
  },
  {
   "cell_type": "code",
   "execution_count": 199,
   "metadata": {
    "collapsed": true
   },
   "outputs": [],
   "source": [
    "from sklearn.decomposition import PCA"
   ]
  },
  {
   "cell_type": "code",
   "execution_count": 140,
   "metadata": {
    "scrolled": true
   },
   "outputs": [
    {
     "data": {
      "text/plain": [
       "(68006, 5268)"
      ]
     },
     "execution_count": 140,
     "metadata": {},
     "output_type": "execute_result"
    }
   ],
   "source": [
    "# X_tfidf.shape"
   ]
  },
  {
   "cell_type": "code",
   "execution_count": 141,
   "metadata": {
    "collapsed": true
   },
   "outputs": [],
   "source": [
    "X_tfidf_10000 = X_tfidf[:10000]"
   ]
  },
  {
   "cell_type": "code",
   "execution_count": 142,
   "metadata": {},
   "outputs": [
    {
     "data": {
      "text/plain": [
       "scipy.sparse.csr.csr_matrix"
      ]
     },
     "execution_count": 142,
     "metadata": {},
     "output_type": "execute_result"
    }
   ],
   "source": [
    "# type(X_tfidf_10000)"
   ]
  },
  {
   "cell_type": "code",
   "execution_count": 143,
   "metadata": {
    "scrolled": true
   },
   "outputs": [],
   "source": [
    "X_tfidf_10000 = X_tfidf_10000.todense()"
   ]
  },
  {
   "cell_type": "code",
   "execution_count": 110,
   "metadata": {
    "scrolled": true
   },
   "outputs": [
    {
     "data": {
      "text/plain": [
       "['../predicting_stock_market_trends_with_Twitter/data/X_tfidf_10000.pickle']"
      ]
     },
     "execution_count": 110,
     "metadata": {},
     "output_type": "execute_result"
    }
   ],
   "source": [
    "# joblib.dump(X_tfidf_10000, '../predicting_stock_market_trends_with_Twitter/data/X_tfidf_10000.pickle')"
   ]
  },
  {
   "cell_type": "code",
   "execution_count": 200,
   "metadata": {},
   "outputs": [],
   "source": [
    "PCA = PCA(n_components = 50, random_state=42)\n",
    "PCA_tfidf = PCA.fit_transform(X_tfidf.todense())"
   ]
  },
  {
   "cell_type": "code",
   "execution_count": 105,
   "metadata": {},
   "outputs": [
    {
     "data": {
      "text/plain": [
       "['../predicting_stock_market_trends_with_Twitter/data/PCA_tfidf.pickle']"
      ]
     },
     "execution_count": 105,
     "metadata": {},
     "output_type": "execute_result"
    }
   ],
   "source": [
    "joblib.dump(PCA_tfidf, '../predicting_stock_market_trends_with_Twitter/data/PCA_tfidf.pickle')"
   ]
  },
  {
   "cell_type": "code",
   "execution_count": 201,
   "metadata": {},
   "outputs": [
    {
     "data": {
      "text/plain": [
       "<matplotlib.colorbar.Colorbar at 0x7fd47a064f98>"
      ]
     },
     "execution_count": 201,
     "metadata": {},
     "output_type": "execute_result"
    },
    {
     "data": {
      "image/png": "[encoded data removed]",
      "text/plain": [
       "<matplotlib.figure.Figure at 0x7fd472efb2b0>"
      ]
     },
     "metadata": {},
     "output_type": "display_data"
    }
   ],
   "source": [
    "plt.scatter(PCA_tfidf.T[0], PCA_tfidf.T[1], c=y_le, cmap='magma')\n",
    "plt.colorbar()"
   ]
  },
  {
   "cell_type": "code",
   "execution_count": null,
   "metadata": {
    "collapsed": true
   },
   "outputs": [],
   "source": []
  },
  {
   "cell_type": "code",
   "execution_count": 150,
   "metadata": {},
   "outputs": [],
   "source": [
    "PCA = PCA(n_components = 50, random_state=42)\n",
    "PCA_tfidf_10000 = PCA.fit_transform(X_tfidf_10000)"
   ]
  },
  {
   "cell_type": "code",
   "execution_count": 117,
   "metadata": {},
   "outputs": [
    {
     "data": {
      "text/plain": [
       "['../predicting_stock_market_trends_with_Twitter/data/PCA_tfidf_10000.pickle']"
      ]
     },
     "execution_count": 117,
     "metadata": {},
     "output_type": "execute_result"
    }
   ],
   "source": [
    "# joblib.dump(PCA_tfidf_10000, '../predicting_stock_market_trends_with_Twitter/data/PCA_tfidf_10000.pickle')"
   ]
  },
  {
   "cell_type": "code",
   "execution_count": 154,
   "metadata": {},
   "outputs": [
    {
     "data": {
      "text/plain": [
       "<matplotlib.colorbar.Colorbar at 0x7fd47ae908d0>"
      ]
     },
     "execution_count": 154,
     "metadata": {},
     "output_type": "execute_result"
    },
    {
     "data": {
      "image/png": "[encoded data removed]",
      "text/plain": [
       "<matplotlib.figure.Figure at 0x7fd47afc3320>"
      ]
     },
     "metadata": {},
     "output_type": "display_data"
    }
   ],
   "source": [
    "plt.scatter(PCA_tfidf_10000.T[0], PCA_tfidf_10000.T[1], c=y_le[:10000], cmap='magma')\n",
    "plt.colorbar()"
   ]
  },
  {
   "cell_type": "code",
   "execution_count": 191,
   "metadata": {},
   "outputs": [
    {
     "data": {
      "text/plain": [
       "array([0, 0, 0, ..., 2, 2, 2])"
      ]
     },
     "execution_count": 191,
     "metadata": {},
     "output_type": "execute_result"
    }
   ],
   "source": [
    "y_le"
   ]
  },
  {
   "cell_type": "code",
   "execution_count": 190,
   "metadata": {
    "scrolled": true
   },
   "outputs": [
    {
     "data": {
      "text/plain": [
       "array([array(['down'], dtype=object), array(['down'], dtype=object),\n",
       "       array(['down'], dtype=object), ..., array(['up'], dtype=object),\n",
       "       array(['up'], dtype=object), array(['up'], dtype=object)], dtype=object)"
      ]
     },
     "execution_count": 190,
     "metadata": {},
     "output_type": "execute_result"
    }
   ],
   "source": [
    "le.inverse_transform(y_le)"
   ]
  },
  {
   "cell_type": "code",
   "execution_count": 186,
   "metadata": {
    "scrolled": false
   },
   "outputs": [
    {
     "data": {
      "text/plain": [
       "array([array(['down'], dtype=object), array(['neutral'], dtype=object),\n",
       "       array(['up'], dtype=object)], dtype=object)"
      ]
     },
     "execution_count": 186,
     "metadata": {},
     "output_type": "execute_result"
    }
   ],
   "source": [
    "le.classes_"
   ]
  },
  {
   "cell_type": "code",
   "execution_count": 212,
   "metadata": {
    "collapsed": true
   },
   "outputs": [],
   "source": [
    "SVD = TruncatedSVD(n_components = 50, random_state=42)"
   ]
  },
  {
   "cell_type": "code",
   "execution_count": 211,
   "metadata": {
    "collapsed": true
   },
   "outputs": [],
   "source": [
    "SVD_tfidf = SVD.fit_transform(X_tfidf.todense())"
   ]
  },
  {
   "cell_type": "code",
   "execution_count": 86,
   "metadata": {
    "scrolled": true
   },
   "outputs": [
    {
     "data": {
      "text/plain": [
       "['../predicting_stock_market_trends_with_Twitter/data/SVD_tfidf.pickle']"
      ]
     },
     "execution_count": 86,
     "metadata": {},
     "output_type": "execute_result"
    }
   ],
   "source": [
    "joblib.dump(SVD_tfidf, '../predicting_stock_market_trends_with_Twitter/data/SVD_tfidf.pickle')"
   ]
  },
  {
   "cell_type": "code",
   "execution_count": 193,
   "metadata": {},
   "outputs": [
    {
     "data": {
      "text/plain": [
       "<matplotlib.colorbar.Colorbar at 0x7fd47ac73710>"
      ]
     },
     "execution_count": 193,
     "metadata": {},
     "output_type": "execute_result"
    },
    {
     "data": {
      "image/png": "[encoded data removed]",
      "text/plain": [
       "<matplotlib.figure.Figure at 0x7fd473374240>"
      ]
     },
     "metadata": {},
     "output_type": "display_data"
    }
   ],
   "source": [
    "plt.scatter(SVD_tfidf.T[0], SVD_tfidf.T[1], c=y_le, cmap='magma')\n",
    "plt.colorbar()"
   ]
  },
  {
   "cell_type": "code",
   "execution_count": 195,
   "metadata": {
    "collapsed": true
   },
   "outputs": [],
   "source": [
    "SVD_tfidf_10000 = SVD.fit_transform(X_tfidf[:10000])"
   ]
  },
  {
   "cell_type": "code",
   "execution_count": 89,
   "metadata": {},
   "outputs": [
    {
     "data": {
      "text/plain": [
       "['../predicting_stock_market_trends_with_Twitter/data/SVD_tfidf_10000.pickle']"
      ]
     },
     "execution_count": 89,
     "metadata": {},
     "output_type": "execute_result"
    }
   ],
   "source": [
    "joblib.dump(SVD_tfidf_10000, '../predicting_stock_market_trends_with_Twitter/data/SVD_tfidf_10000.pickle')"
   ]
  },
  {
   "cell_type": "code",
   "execution_count": 197,
   "metadata": {},
   "outputs": [
    {
     "data": {
      "text/plain": [
       "<matplotlib.colorbar.Colorbar at 0x7fd4712205c0>"
      ]
     },
     "execution_count": 197,
     "metadata": {},
     "output_type": "execute_result"
    },
    {
     "data": {
      "image/png": "[encoded data removed]",
      "text/plain": [
       "<matplotlib.figure.Figure at 0x7fd47b063278>"
      ]
     },
     "metadata": {},
     "output_type": "display_data"
    }
   ],
   "source": [
    "plt.scatter(SVD_tfidf_10000.T[0], SVD_tfidf_10000.T[1], c=y_le[:10000], cmap='magma')\n",
    "plt.colorbar()"
   ]
  },
  {
   "cell_type": "code",
   "execution_count": null,
   "metadata": {
    "collapsed": true
   },
   "outputs": [],
   "source": []
  },
  {
   "cell_type": "code",
   "execution_count": 62,
   "metadata": {
    "scrolled": false
   },
   "outputs": [
    {
     "data": {
      "text/plain": [
       "(0, 0.02)"
      ]
     },
     "execution_count": 62,
     "metadata": {},
     "output_type": "execute_result"
    },
    {
     "data": {
      "image/png": "[encoded data removed]",
      "text/plain": [
       "<matplotlib.figure.Figure at 0x7fded6044748>"
      ]
     },
     "metadata": {},
     "output_type": "display_data"
    }
   ],
   "source": [
    "# x = list(range(len(PCA.explained_variance_ratio_)))\n",
    "# plt.plot(x, np.cumsum(PCA.explained_variance_ratio_), label='Cumulative Explained Variance', color='black')\n",
    "# plt.bar(x, PCA.explained_variance_ratio_)\n",
    "# plt.legend()\n",
    "# plt.ylim(0,.02)\n",
    "# # plt.xlim(-100,4000)"
   ]
  },
  {
   "cell_type": "code",
   "execution_count": null,
   "metadata": {
    "collapsed": true
   },
   "outputs": [],
   "source": []
  },
  {
   "cell_type": "markdown",
   "metadata": {},
   "source": [
    "# TOPIC MODELING\n",
    "\n",
    "Split data into 3 categories, do tfidf seperately, PCA on tfidf, pca_components --> to find the topics (top words) in each of them"
   ]
  },
  {
   "cell_type": "code",
   "execution_count": null,
   "metadata": {
    "collapsed": true
   },
   "outputs": [],
   "source": [
    "pca_variance function\n",
    "\n",
    "np.argmax(pca_3.components_[2])\n",
    "output = 36\n",
    "\n",
    "X.columns[36] \n",
    "output = 'dept_4' --> groceries\n",
    "\n",
    "OR TRY zip column_names:\n",
    "1. ZIP STUFF:\n",
    "    L = list(zip(pca.components_[0], column_names))\n",
    "2. SORT STUFF:\n",
    "    sort(L, key=lambda x: x[1])"
   ]
  },
  {
   "cell_type": "code",
   "execution_count": null,
   "metadata": {
    "collapsed": true
   },
   "outputs": [],
   "source": []
  },
  {
   "cell_type": "code",
   "execution_count": null,
   "metadata": {
    "collapsed": true
   },
   "outputs": [],
   "source": []
  },
  {
   "cell_type": "code",
   "execution_count": null,
   "metadata": {
    "collapsed": true
   },
   "outputs": [],
   "source": []
  },
  {
   "cell_type": "code",
   "execution_count": 63,
   "metadata": {},
   "outputs": [
    {
     "data": {
      "text/plain": [
       "(0, 0.02)"
      ]
     },
     "execution_count": 63,
     "metadata": {},
     "output_type": "execute_result"
    },
    {
     "data": {
      "image/png": "[encoded data removed]",
      "text/plain": [
       "<matplotlib.figure.Figure at 0x7fdec0f108d0>"
      ]
     },
     "metadata": {},
     "output_type": "display_data"
    }
   ],
   "source": [
    "# x = list(range(len(SVD.explained_variance_ratio_)))\n",
    "# plt.plot(x, np.cumsum(SVD.explained_variance_ratio_), label='Cumulative Explained Variance', color='black')\n",
    "# plt.bar(x, SVD.explained_variance_ratio_)\n",
    "# plt.legend()\n",
    "# plt.ylim(0,.02)\n",
    "# # plt.xlim(-100,4000)"
   ]
  },
  {
   "cell_type": "code",
   "execution_count": 48,
   "metadata": {
    "scrolled": false
   },
   "outputs": [
    {
     "data": {
      "text/plain": [
       "array([ 0.00582138,  0.00946974,  0.01260373,  0.01528474,  0.01765842,\n",
       "        0.01996988,  0.022273  ,  0.02447057,  0.02662678,  0.02875104,\n",
       "        0.03085526,  0.0329165 ,  0.03490785,  0.03687907,  0.03883909,\n",
       "        0.04077048,  0.04263293,  0.04445822,  0.04626556,  0.04802565,\n",
       "        0.04977663,  0.05150371,  0.05320916,  0.05488228,  0.05654336,\n",
       "        0.05820058,  0.05983683,  0.0614369 ,  0.06301206,  0.06456031,\n",
       "        0.06608598,  0.06759358,  0.06909727,  0.07059266,  0.07207502,\n",
       "        0.07354405,  0.07498499,  0.07641411,  0.07781693,  0.07920816,\n",
       "        0.08057334,  0.08193026,  0.08327886,  0.08462004,  0.08594354,\n",
       "        0.08726069,  0.08857409,  0.08987867,  0.09117529,  0.09246279,\n",
       "        0.09373832,  0.09500969,  0.09627437,  0.09753642,  0.09879641,\n",
       "        0.10003533,  0.10126902,  0.10248622,  0.1036982 ,  0.10490238,\n",
       "        0.10608847,  0.10726719,  0.10843979,  0.10960251,  0.11075749,\n",
       "        0.11190557,  0.11304554,  0.11417629,  0.11530171,  0.11641659,\n",
       "        0.11752269,  0.11862416,  0.11972307,  0.12081442,  0.12190311,\n",
       "        0.12298549,  0.12406541,  0.12513829,  0.1262079 ,  0.12726904,\n",
       "        0.12832626,  0.12937768,  0.13042294,  0.13146532,  0.13249951,\n",
       "        0.13352742,  0.13454626,  0.13555535,  0.13656206,  0.13756197,\n",
       "        0.13855967,  0.13954735,  0.14053039,  0.14151005,  0.14248169,\n",
       "        0.14345267,  0.14442194,  0.14538186,  0.14633648,  0.14728875,\n",
       "        0.14823831,  0.14918544,  0.15013046,  0.15107131,  0.15200516,\n",
       "        0.15293568,  0.15385992,  0.15478126,  0.15570148,  0.1566152 ,\n",
       "        0.15752437,  0.15842875,  0.15933168,  0.16023136,  0.16112877,\n",
       "        0.16202286,  0.16291319,  0.16379943,  0.16468216,  0.16556262,\n",
       "        0.16643329,  0.16730296,  0.16817169,  0.16903634,  0.16989513,\n",
       "        0.17075045,  0.17160267,  0.17245401,  0.17330349,  0.17414633,\n",
       "        0.17498581,  0.1758223 ,  0.17665601,  0.17748692,  0.17831246,\n",
       "        0.1791358 ,  0.17995812,  0.18077614,  0.1815907 ,  0.18240053,\n",
       "        0.1832082 ,  0.18401264,  0.184814  ,  0.18561287,  0.18640711,\n",
       "        0.187199  ,  0.18798737,  0.18877214,  0.18955585,  0.19033846,\n",
       "        0.19111699,  0.19189487,  0.19266744,  0.19343892,  0.19420819,\n",
       "        0.19497567,  0.19574081,  0.1965042 ,  0.19726556,  0.19802477,\n",
       "        0.19878257,  0.19953807,  0.20029188,  0.20104458,  0.20179467,\n",
       "        0.20254133,  0.20328734,  0.20402945,  0.20477016,  0.20550775,\n",
       "        0.20624019,  0.20697073,  0.20769832,  0.20842182,  0.20914445,\n",
       "        0.20986482,  0.21058263,  0.21129988,  0.21201312,  0.21272445,\n",
       "        0.21343179,  0.21413873,  0.21484275,  0.21554445,  0.21624204,\n",
       "        0.2169363 ,  0.21762918,  0.21832141,  0.21900796,  0.21969322,\n",
       "        0.2203761 ,  0.2210578 ,  0.22173596,  0.22241248,  0.22308572,\n",
       "        0.22375755,  0.22442287,  0.22508689,  0.22574787,  0.22640608])"
      ]
     },
     "execution_count": 48,
     "metadata": {},
     "output_type": "execute_result"
    }
   ],
   "source": [
    "# np.cumsum(PCA.explained_variance_ratio_)"
   ]
  },
  {
   "cell_type": "code",
   "execution_count": 41,
   "metadata": {},
   "outputs": [
    {
     "data": {
      "text/plain": [
       "array([ 0.00473831,  0.00797087,  0.01106099,  0.01416196,  0.01679716,\n",
       "        0.01915054,  0.02145472,  0.02366732,  0.02583391,  0.02796623,\n",
       "        0.03007116,  0.03215208,  0.03414543,  0.03611682,  0.03807729,\n",
       "        0.04000815,  0.04189375,  0.04373651,  0.04554684,  0.04730044,\n",
       "        0.04904979,  0.05079186,  0.0525183 ,  0.05421246,  0.05588476,\n",
       "        0.05754203,  0.05917822,  0.0607708 ,  0.06236665,  0.06393567,\n",
       "        0.06548315,  0.06700504,  0.06851008,  0.07000825,  0.07149092,\n",
       "        0.0729603 ,  0.07440765,  0.07583667,  0.07723781,  0.07863499,\n",
       "        0.07999862,  0.0813622 ,  0.08271517,  0.0840634 ,  0.08539827,\n",
       "        0.08671815,  0.08803281,  0.08934505,  0.09064466,  0.09193495,\n",
       "        0.09321146,  0.09448333,  0.09574899,  0.09701166,  0.09827194,\n",
       "        0.09951493,  0.10074896,  0.1019685 ,  0.10318043,  0.10438352,\n",
       "        0.10557568,  0.10676011,  0.10793336,  0.10910161,  0.11025896,\n",
       "        0.11141095,  0.11254969,  0.11368098,  0.11480515,  0.11591817,\n",
       "        0.11702224,  0.11811971,  0.1192178 ,  0.12030999,  0.12139797,\n",
       "        0.12248445,  0.12356409,  0.12463899,  0.12570836,  0.12676705,\n",
       "        0.12782298,  0.12887205,  0.12991391,  0.13095369,  0.13198588,\n",
       "        0.13301329,  0.13403552,  0.13504838,  0.13605194,  0.13704748,\n",
       "        0.13804043,  0.13902387,  0.14000545,  0.14098258,  0.14194786,\n",
       "        0.14291244,  0.143874  ,  0.14483093,  0.14578246,  0.14673079,\n",
       "        0.14767882,  0.14861981,  0.14956089,  0.15049552,  0.15142407,\n",
       "        0.15235099,  0.15327267,  0.15419167,  0.15510471,  0.15601343,\n",
       "        0.15691955,  0.15781924,  0.1587149 ,  0.15960704,  0.16049814,\n",
       "        0.16138737,  0.16227131,  0.16315036,  0.1640279 ,  0.16490059,\n",
       "        0.1657675 ,  0.1666303 ,  0.16748882,  0.16834636,  0.16919775,\n",
       "        0.17004237,  0.17088438,  0.17172369,  0.17255821,  0.17339144,\n",
       "        0.17422265,  0.1750516 ,  0.17587576,  0.17669597,  0.17751235,\n",
       "        0.17832558,  0.17913696,  0.17994483,  0.18074631,  0.181547  ,\n",
       "        0.18234311,  0.18313629,  0.18392388,  0.18470869,  0.18549269,\n",
       "        0.18627414,  0.18705465,  0.18783077,  0.18860447,  0.18937336,\n",
       "        0.1901388 ,  0.19090241,  0.1916645 ,  0.19242348,  0.19318047,\n",
       "        0.1939341 ,  0.19468298,  0.19543067,  0.19617541,  0.19691722,\n",
       "        0.19765655,  0.19839388,  0.19912888,  0.19986142,  0.20059268,\n",
       "        0.20131991,  0.20204426,  0.20276719,  0.20348723,  0.20420578,\n",
       "        0.20492252,  0.20563603,  0.20634761,  0.20705734,  0.20776257,\n",
       "        0.20846338,  0.2091632 ,  0.20986222,  0.21055988,  0.2112542 ,\n",
       "        0.21194626,  0.21263556,  0.21332282,  0.21400579,  0.2146864 ,\n",
       "        0.21536178,  0.21603578,  0.21670476,  0.21736996,  0.21803303,\n",
       "        0.21869139,  0.21934725,  0.22000104,  0.22065283,  0.22130158,\n",
       "        0.22194577,  0.22258484,  0.22322111,  0.22385381,  0.22448426])"
      ]
     },
     "execution_count": 41,
     "metadata": {},
     "output_type": "execute_result"
    }
   ],
   "source": [
    "# np.cumsum(SVD.explained_variance_ratio_)"
   ]
  },
  {
   "cell_type": "markdown",
   "metadata": {},
   "source": [
    "<s>With 100 SVD n_components, we can only account for 6% of the variance in the data. We need more. \n",
    "With 300 SVD n_components, we can only account for 11% of the variance in the data. **Go back and clean data to see if we get better?**</s><br>\n",
    "With 300 SVD n_components, we can account for 29% of the variance in the data.\n",
    "With 200 SVD n_components, we can account for 22% of the variance in the data. "
   ]
  },
  {
   "cell_type": "code",
   "execution_count": null,
   "metadata": {
    "collapsed": true
   },
   "outputs": [],
   "source": []
  },
  {
   "cell_type": "code",
   "execution_count": null,
   "metadata": {
    "collapsed": true
   },
   "outputs": [],
   "source": []
  },
  {
   "cell_type": "code",
   "execution_count": 16,
   "metadata": {
    "collapsed": true
   },
   "outputs": [],
   "source": [
    "# def perform_latent_semantic_analysis(n_components, vectorizer):\n",
    "#     SVD = TruncatedSVD(n_components)\n",
    "#     component_names = [\"component_\"+str(i+1) for i in range(n_components)]\n",
    "#     latent_semantic_analysis = pd.DataFrame(SVD.fit_transform(X_tfidf),\n",
    "#                                             index = X['cleaned_text'].index,\n",
    "#                                             columns = component_names)\n",
    "#     vocabulary_expression = pd.DataFrame(SVD.components_,\n",
    "#                                          index = component_names,\n",
    "#                                          columns = vectorizer.get_feature_names())\n",
    "#     return latent_semantic_analysis, vocabulary_expression"
   ]
  },
  {
   "cell_type": "code",
   "execution_count": 48,
   "metadata": {
    "collapsed": true,
    "scrolled": true
   },
   "outputs": [],
   "source": [
    "# latent_semantic_analysis, vocabulary_expression = perform_latent_semantic_analysis(3, tfidf)"
   ]
  },
  {
   "cell_type": "code",
   "execution_count": 19,
   "metadata": {
    "collapsed": true
   },
   "outputs": [],
   "source": [
    "# latent_semantic_analysis['text'] = X['cleaned_text']\n",
    "# latent_semantic_analysis['class'] = y_le"
   ]
  },
  {
   "cell_type": "code",
   "execution_count": 21,
   "metadata": {
    "scrolled": true
   },
   "outputs": [
    {
     "data": {
      "text/html": [
       "<div>\n",
       "<table border=\"1\" class=\"dataframe\">\n",
       "  <thead>\n",
       "    <tr style=\"text-align: right;\">\n",
       "      <th></th>\n",
       "      <th>component_1</th>\n",
       "      <th>component_2</th>\n",
       "      <th>component_3</th>\n",
       "      <th>text</th>\n",
       "      <th>class</th>\n",
       "    </tr>\n",
       "  </thead>\n",
       "  <tbody>\n",
       "    <tr>\n",
       "      <th>25103</th>\n",
       "      <td>0.036475</td>\n",
       "      <td>-0.046663</td>\n",
       "      <td>-0.075772</td>\n",
       "      <td>catch up on last week s episode of the equity ...</td>\n",
       "      <td>0</td>\n",
       "    </tr>\n",
       "    <tr>\n",
       "      <th>83903</th>\n",
       "      <td>0.007324</td>\n",
       "      <td>-0.008988</td>\n",
       "      <td>-0.007981</td>\n",
       "      <td>ft alphaville guest post why iea scenarios sho...</td>\n",
       "      <td>0</td>\n",
       "    </tr>\n",
       "    <tr>\n",
       "      <th>10048</th>\n",
       "      <td>0.036565</td>\n",
       "      <td>-0.043457</td>\n",
       "      <td>-0.023255</td>\n",
       "      <td>jamie oliver about to take stage i think you c...</td>\n",
       "      <td>1</td>\n",
       "    </tr>\n",
       "    <tr>\n",
       "      <th>70859</th>\n",
       "      <td>0.013713</td>\n",
       "      <td>-0.020004</td>\n",
       "      <td>-0.018284</td>\n",
       "      <td>this thai startup wants to turn its users into...</td>\n",
       "      <td>0</td>\n",
       "    </tr>\n",
       "    <tr>\n",
       "      <th>71966</th>\n",
       "      <td>0.010914</td>\n",
       "      <td>-0.014483</td>\n",
       "      <td>-0.018904</td>\n",
       "      <td>13 beauty products or services that are worth ...</td>\n",
       "      <td>0</td>\n",
       "    </tr>\n",
       "    <tr>\n",
       "      <th>34303</th>\n",
       "      <td>0.075677</td>\n",
       "      <td>-0.090003</td>\n",
       "      <td>-0.140216</td>\n",
       "      <td>we re taking a completely new approach to abus...</td>\n",
       "      <td>0</td>\n",
       "    </tr>\n",
       "    <tr>\n",
       "      <th>6993</th>\n",
       "      <td>0.017279</td>\n",
       "      <td>-0.027260</td>\n",
       "      <td>-0.010049</td>\n",
       "      <td>economic growth doesn t always improve well be...</td>\n",
       "      <td>0</td>\n",
       "    </tr>\n",
       "    <tr>\n",
       "      <th>4611</th>\n",
       "      <td>0.195292</td>\n",
       "      <td>-0.116383</td>\n",
       "      <td>0.178553</td>\n",
       "      <td>rt cnnpolitics president trump on the job repo...</td>\n",
       "      <td>0</td>\n",
       "    </tr>\n",
       "    <tr>\n",
       "      <th>56381</th>\n",
       "      <td>0.008814</td>\n",
       "      <td>-0.012495</td>\n",
       "      <td>-0.010974</td>\n",
       "      <td>imagine a stored value card so thin it could b...</td>\n",
       "      <td>0</td>\n",
       "    </tr>\n",
       "    <tr>\n",
       "      <th>33389</th>\n",
       "      <td>0.264698</td>\n",
       "      <td>0.135462</td>\n",
       "      <td>0.018691</td>\n",
       "      <td>rt jayleno the tonightshow with guests jerryse...</td>\n",
       "      <td>0</td>\n",
       "    </tr>\n",
       "  </tbody>\n",
       "</table>\n",
       "</div>"
      ],
      "text/plain": [
       "       component_1  component_2  component_3  \\\n",
       "25103     0.036475    -0.046663    -0.075772   \n",
       "83903     0.007324    -0.008988    -0.007981   \n",
       "10048     0.036565    -0.043457    -0.023255   \n",
       "70859     0.013713    -0.020004    -0.018284   \n",
       "71966     0.010914    -0.014483    -0.018904   \n",
       "34303     0.075677    -0.090003    -0.140216   \n",
       "6993      0.017279    -0.027260    -0.010049   \n",
       "4611      0.195292    -0.116383     0.178553   \n",
       "56381     0.008814    -0.012495    -0.010974   \n",
       "33389     0.264698     0.135462     0.018691   \n",
       "\n",
       "                                                    text  class  \n",
       "25103  catch up on last week s episode of the equity ...      0  \n",
       "83903  ft alphaville guest post why iea scenarios sho...      0  \n",
       "10048  jamie oliver about to take stage i think you c...      1  \n",
       "70859  this thai startup wants to turn its users into...      0  \n",
       "71966  13 beauty products or services that are worth ...      0  \n",
       "34303  we re taking a completely new approach to abus...      0  \n",
       "6993   economic growth doesn t always improve well be...      0  \n",
       "4611   rt cnnpolitics president trump on the job repo...      0  \n",
       "56381  imagine a stored value card so thin it could b...      0  \n",
       "33389  rt jayleno the tonightshow with guests jerryse...      0  "
      ]
     },
     "execution_count": 21,
     "metadata": {},
     "output_type": "execute_result"
    }
   ],
   "source": [
    "# latent_semantic_analysis.sample(10)"
   ]
  },
  {
   "cell_type": "code",
   "execution_count": 22,
   "metadata": {},
   "outputs": [
    {
     "data": {
      "text/html": [
       "<div>\n",
       "<table border=\"1\" class=\"dataframe\">\n",
       "  <thead>\n",
       "    <tr style=\"text-align: right;\">\n",
       "      <th></th>\n",
       "      <th>component_1</th>\n",
       "      <th>component_2</th>\n",
       "      <th>component_3</th>\n",
       "    </tr>\n",
       "  </thead>\n",
       "  <tbody>\n",
       "    <tr>\n",
       "      <th>rt</th>\n",
       "      <td>0.861678</td>\n",
       "      <td>0.457639</td>\n",
       "      <td>0.097134</td>\n",
       "    </tr>\n",
       "    <tr>\n",
       "      <th>trump</th>\n",
       "      <td>0.180524</td>\n",
       "      <td>0.414735</td>\n",
       "      <td>0.531287</td>\n",
       "    </tr>\n",
       "    <tr>\n",
       "      <th>new</th>\n",
       "      <td>0.096028</td>\n",
       "      <td>0.176435</td>\n",
       "      <td>0.314188</td>\n",
       "    </tr>\n",
       "    <tr>\n",
       "      <th>president</th>\n",
       "      <td>0.093651</td>\n",
       "      <td>0.303586</td>\n",
       "      <td>0.190468</td>\n",
       "    </tr>\n",
       "    <tr>\n",
       "      <th>just</th>\n",
       "      <td>0.087007</td>\n",
       "      <td>0.159127</td>\n",
       "      <td>0.147654</td>\n",
       "    </tr>\n",
       "    <tr>\n",
       "      <th>amp</th>\n",
       "      <td>0.085620</td>\n",
       "      <td>0.070823</td>\n",
       "      <td>0.153974</td>\n",
       "    </tr>\n",
       "    <tr>\n",
       "      <th>today</th>\n",
       "      <td>0.073437</td>\n",
       "      <td>0.097643</td>\n",
       "      <td>0.141319</td>\n",
       "    </tr>\n",
       "    <tr>\n",
       "      <th>people</th>\n",
       "      <td>0.066038</td>\n",
       "      <td>0.123703</td>\n",
       "      <td>0.118793</td>\n",
       "    </tr>\n",
       "    <tr>\n",
       "      <th>time</th>\n",
       "      <td>0.066005</td>\n",
       "      <td>0.111455</td>\n",
       "      <td>0.153944</td>\n",
       "    </tr>\n",
       "    <tr>\n",
       "      <th>like</th>\n",
       "      <td>0.063773</td>\n",
       "      <td>0.100056</td>\n",
       "      <td>0.146415</td>\n",
       "    </tr>\n",
       "  </tbody>\n",
       "</table>\n",
       "</div>"
      ],
      "text/plain": [
       "           component_1  component_2  component_3\n",
       "rt            0.861678     0.457639     0.097134\n",
       "trump         0.180524     0.414735     0.531287\n",
       "new           0.096028     0.176435     0.314188\n",
       "president     0.093651     0.303586     0.190468\n",
       "just          0.087007     0.159127     0.147654\n",
       "amp           0.085620     0.070823     0.153974\n",
       "today         0.073437     0.097643     0.141319\n",
       "people        0.066038     0.123703     0.118793\n",
       "time          0.066005     0.111455     0.153944\n",
       "like          0.063773     0.100056     0.146415"
      ]
     },
     "execution_count": 22,
     "metadata": {},
     "output_type": "execute_result"
    }
   ],
   "source": [
    "# vocabulary_expression.abs().T.sort_values('component_1', ascending=False).head(10)"
   ]
  },
  {
   "cell_type": "code",
   "execution_count": 18,
   "metadata": {},
   "outputs": [
    {
     "name": "stdout",
     "output_type": "stream",
     "text": [
      "Requirement already satisfied (use --upgrade to upgrade): bhtsne in /opt/conda/lib/python3.5/site-packages\n",
      "Requirement already satisfied (use --upgrade to upgrade): cython in /opt/conda/lib/python3.5/site-packages (from bhtsne)\n",
      "Requirement already satisfied (use --upgrade to upgrade): numpy in /opt/conda/lib/python3.5/site-packages (from bhtsne)\n",
      "\u001b[33mYou are using pip version 8.1.2, however version 9.0.1 is available.\n",
      "You should consider upgrading via the 'pip install --upgrade pip' command.\u001b[0m\n"
     ]
    }
   ],
   "source": [
    "!pip install bhtsne"
   ]
  },
  {
   "cell_type": "markdown",
   "metadata": {},
   "source": [
    "To visualize the word embedding in two dimensions, we need to choose a dimensionality reduction technique to use. t-SNE optimizes for keeping points close to their neighbors, so it is the natural tool if we want to visualize which words are close together in our word embedding."
   ]
  },
  {
   "cell_type": "code",
   "execution_count": 19,
   "metadata": {
    "collapsed": true
   },
   "outputs": [],
   "source": [
    "from bhtsne import tsne"
   ]
  },
  {
   "cell_type": "code",
   "execution_count": 117,
   "metadata": {
    "scrolled": false
   },
   "outputs": [
    {
     "data": {
      "image/png": "[encoded data removed]",
      "text/plain": [
       "<matplotlib.figure.Figure at 0x7fdec53bfac8>"
      ]
     },
     "metadata": {},
     "output_type": "display_data"
    }
   ],
   "source": [
    "# # Fit on SVD_X_tfidf.data:\n",
    "# TSNE_SVD_tfidf = tsne(SVD_tfidf.data)\n",
    "# plt.scatter(TSNE_SVD_tfidf[:, 0], TSNE_SVD_tfidf[:, 1], c=y_le)\n",
    "# plt.show()"
   ]
  },
  {
   "cell_type": "code",
   "execution_count": 81,
   "metadata": {
    "scrolled": true
   },
   "outputs": [
    {
     "data": {
      "image/png": "[encoded data removed]",
      "text/plain": [
       "<matplotlib.figure.Figure at 0x7f9815592400>"
      ]
     },
     "metadata": {},
     "output_type": "display_data"
    },
    {
     "name": "stdout",
     "output_type": "stream",
     "text": [
      "0:22:41.994196\n"
     ]
    }
   ],
   "source": [
    "# start = datetime.now()\n",
    "\n",
    "# # Fit on SVD_tfidf:\n",
    "# TSNE_SVD_tfidf = tsne(SVD_tfidf)\n",
    "# plt.scatter(TSNE_SVD_tfidf[:, 0], TSNE_SVD_tfidf[:, 1], c=y_le)\n",
    "# plt.show()\n",
    "\n",
    "# end = datetime.now()\n",
    "# print(end - start)"
   ]
  },
  {
   "cell_type": "code",
   "execution_count": 83,
   "metadata": {},
   "outputs": [
    {
     "data": {
      "text/plain": [
       "['../predicting_stock_market_trends_with_Twitter/data/TSNE_SVD_tfidf.pickle']"
      ]
     },
     "execution_count": 83,
     "metadata": {},
     "output_type": "execute_result"
    }
   ],
   "source": [
    "joblib.dump(TSNE_SVD_tfidf, '../predicting_stock_market_trends_with_Twitter/data/TSNE_SVD_tfidf.pickle')"
   ]
  },
  {
   "cell_type": "code",
   "execution_count": 24,
   "metadata": {},
   "outputs": [
    {
     "data": {
      "image/png": "[encoded data removed]",
      "text/plain": [
       "<matplotlib.figure.Figure at 0x7f9815548208>"
      ]
     },
     "metadata": {},
     "output_type": "display_data"
    },
    {
     "name": "stdout",
     "output_type": "stream",
     "text": [
      "0:01:47.711465\n"
     ]
    }
   ],
   "source": [
    "# start = datetime.now()\n",
    "\n",
    "# # Fit on SVD_X_tfidf:\n",
    "# TSNE_SVD_tfidf = tsne(SVD_tfidf)\n",
    "# plt.scatter(TSNE_SVD_tfidf[:, 0], TSNE_SVD_tfidf[:, 1], c=y_le[:10000])\n",
    "# plt.colorbar()\n",
    "# plt.show()\n",
    "\n",
    "# end = datetime.now()\n",
    "# print(end - start)"
   ]
  },
  {
   "cell_type": "code",
   "execution_count": 38,
   "metadata": {},
   "outputs": [
    {
     "data": {
      "text/plain": [
       "numpy.ndarray"
      ]
     },
     "execution_count": 38,
     "metadata": {},
     "output_type": "execute_result"
    }
   ],
   "source": [
    "type(X_tfidf.data)"
   ]
  },
  {
   "cell_type": "code",
   "execution_count": 215,
   "metadata": {
    "collapsed": true
   },
   "outputs": [],
   "source": [
    "from bhtsne import tsne"
   ]
  },
  {
   "cell_type": "code",
   "execution_count": 217,
   "metadata": {},
   "outputs": [
    {
     "data": {
      "image/png": "[encoded data removed]",
      "text/plain": [
       "<matplotlib.figure.Figure at 0x7fd46cb7d780>"
      ]
     },
     "metadata": {},
     "output_type": "display_data"
    },
    {
     "name": "stdout",
     "output_type": "stream",
     "text": [
      "0:01:41.965286\n"
     ]
    }
   ],
   "source": [
    "start = datetime.now()\n",
    "\n",
    "# Fit on SVD_X_tfidf[:10000].data:\n",
    "TSNE_SVD_tfidf_10000 = tsne(SVD_tfidf_10000, dimensions=2, rand_seed=42)\n",
    "plt.scatter(TSNE_SVD_tfidf_10000[:, 0], TSNE_SVD_tfidf_10000[:, 1], c=y_le[:10000])\n",
    "plt.colorbar()\n",
    "plt.show()\n",
    "\n",
    "end = datetime.now()\n",
    "print(end - start)"
   ]
  },
  {
   "cell_type": "code",
   "execution_count": 84,
   "metadata": {},
   "outputs": [
    {
     "data": {
      "image/png": "[encoded data removed]",
      "text/plain": [
       "<matplotlib.figure.Figure at 0x7f980e517b00>"
      ]
     },
     "metadata": {},
     "output_type": "display_data"
    },
    {
     "name": "stdout",
     "output_type": "stream",
     "text": [
      "0:01:43.553808\n"
     ]
    }
   ],
   "source": [
    "# start = datetime.now()\n",
    "\n",
    "# # Fit on SVD_X_tfidf[:10000].data:\n",
    "# TSNE_SVD_tfidf_10000 = tsne(SVD_tfidf_10000)\n",
    "# plt.scatter(TSNE_SVD_tfidf_10000[:, 0], TSNE_SVD_tfidf_10000[:, 1], c=y_le[:10000])\n",
    "# plt.colorbar()\n",
    "# plt.show()\n",
    "\n",
    "# end = datetime.now()\n",
    "# print(end - start)"
   ]
  },
  {
   "cell_type": "code",
   "execution_count": 218,
   "metadata": {},
   "outputs": [
    {
     "data": {
      "text/plain": [
       "['../predicting_stock_market_trends_with_Twitter/data/TSNE_SVD_tfidf_10000.pickle']"
      ]
     },
     "execution_count": 218,
     "metadata": {},
     "output_type": "execute_result"
    }
   ],
   "source": [
    "joblib.dump(TSNE_SVD_tfidf_10000, '../predicting_stock_market_trends_with_Twitter/data/TSNE_SVD_tfidf_10000.pickle')"
   ]
  },
  {
   "cell_type": "code",
   "execution_count": null,
   "metadata": {
    "collapsed": true
   },
   "outputs": [],
   "source": []
  }
 ],
 "metadata": {
  "kernelspec": {
   "display_name": "Python 3",
   "language": "python",
   "name": "python3"
  },
  "language_info": {
   "codemirror_mode": {
    "name": "ipython",
    "version": 3
   },
   "file_extension": ".py",
   "mimetype": "text/x-python",
   "name": "python",
   "nbconvert_exporter": "python",
   "pygments_lexer": "ipython3",
   "version": "3.5.2"
  }
 },
 "nbformat": 4,
 "nbformat_minor": 2
}
