{
 "cells": [
  {
   "cell_type": "markdown",
   "metadata": {},
   "source": [
    "# Part 7 -- LSA Predictions\n",
    "\n",
    "Prepare data for **Singular Value Decomposition (SVD)**."
   ]
  },
  {
   "cell_type": "markdown",
   "metadata": {},
   "source": [
    "### Load lib codes:"
   ]
  },
  {
   "cell_type": "code",
   "execution_count": 11,
   "metadata": {
    "scrolled": true
   },
   "outputs": [
    {
     "name": "stdout",
     "output_type": "stream",
     "text": [
      "/home/jovyan/work/Portfolio/predicting_stock_market_trends_with_Twitter\r\n"
     ]
    }
   ],
   "source": [
    "!pwd"
   ]
  },
  {
   "cell_type": "code",
   "execution_count": 12,
   "metadata": {
    "collapsed": true
   },
   "outputs": [],
   "source": [
    "from os import chdir\n",
    "chdir('/home/jovyan/work/Portfolio/predicting_stock_market_trends_with_Twitter/')\n",
    "\n",
    "from lib import *\n",
    "from lib.twitter_keys import my_keys\n",
    "# suppress_warnings()\n",
    "%matplotlib inline\n"
   ]
  },
  {
   "cell_type": "code",
   "execution_count": 13,
   "metadata": {
    "collapsed": true
   },
   "outputs": [],
   "source": [
    "X = pd.read_pickle('../predicting_stock_market_trends_with_Twitter/data/X.pickle')"
   ]
  },
  {
   "cell_type": "code",
   "execution_count": 14,
   "metadata": {
    "collapsed": true
   },
   "outputs": [],
   "source": [
    "y_le = pd.read_pickle('../predicting_stock_market_trends_with_Twitter/data/y_AAPL_le.pickle')"
   ]
  },
  {
   "cell_type": "markdown",
   "metadata": {},
   "source": [
    "SVD does what you tell it to do, so keep components empty so it does it all. PCA does it all and then returns the important ones to you. Generally, you want to use SVD when you have more columns than rows. "
   ]
  },
  {
   "cell_type": "code",
   "execution_count": 15,
   "metadata": {
    "collapsed": true
   },
   "outputs": [],
   "source": [
    "from sklearn.feature_extraction.text import TfidfVectorizer\n",
    "from sklearn.decomposition import TruncatedSVD"
   ]
  },
  {
   "cell_type": "code",
   "execution_count": 16,
   "metadata": {},
   "outputs": [
    {
     "name": "stdout",
     "output_type": "stream",
     "text": [
      "0:00:09.855307\n"
     ]
    }
   ],
   "source": [
    "start = datetime.now()\n",
    "\n",
    "tfidf = TfidfVectorizer(ngram_range=(1,3), min_df=2)\n",
    "X_tfidf = tfidf.fit_transform(X['cleaned_text'])\n",
    "\n",
    "end = datetime.now()\n",
    "print(end - start)"
   ]
  },
  {
   "cell_type": "markdown",
   "metadata": {},
   "source": [
    "### Explore TFIDF vectors"
   ]
  },
  {
   "cell_type": "code",
   "execution_count": 21,
   "metadata": {},
   "outputs": [
    {
     "data": {
      "text/plain": [
       "['édouard',\n",
       " 'édouard louis',\n",
       " 'édouard louis who',\n",
       " 'él',\n",
       " 'élisabeth',\n",
       " 'élisabeth gille',\n",
       " 'élisabeth gille le',\n",
       " '爱彼迎',\n",
       " '爱彼迎 aibiying',\n",
       " '爱彼迎 aibiying which']"
      ]
     },
     "execution_count": 21,
     "metadata": {},
     "output_type": "execute_result"
    }
   ],
   "source": [
    "tfidf.get_feature_names()[-10:]"
   ]
  },
  {
   "cell_type": "markdown",
   "metadata": {},
   "source": [
    "### Do an SVD with a lot of n_components to see how many you want to assign later:"
   ]
  },
  {
   "cell_type": "code",
   "execution_count": 92,
   "metadata": {},
   "outputs": [],
   "source": [
    "SVD = TruncatedSVD(100)\n",
    "latent_semantic_analysis = SVD.fit_transform(X_tfidf)"
   ]
  },
  {
   "cell_type": "code",
   "execution_count": 94,
   "metadata": {
    "scrolled": false
   },
   "outputs": [
    {
     "data": {
      "text/plain": [
       "(0, 0.05)"
      ]
     },
     "execution_count": 94,
     "metadata": {},
     "output_type": "execute_result"
    },
    {
     "data": {
      "image/png": "[encoded data removed]",
      "text/plain": [
       "<matplotlib.figure.Figure at 0x7ff976046ef0>"
      ]
     },
     "metadata": {},
     "output_type": "display_data"
    }
   ],
   "source": [
    "x = list(range(len(SVD.explained_variance_ratio_)))\n",
    "plt.plot(x, np.cumsum(SVD.explained_variance_ratio_), label='Cumulative Explained Variance', color='black')\n",
    "plt.bar(x, SVD.explained_variance_ratio_)\n",
    "plt.legend()\n",
    "plt.ylim(0,.05)"
   ]
  },
  {
   "cell_type": "code",
   "execution_count": 95,
   "metadata": {},
   "outputs": [
    {
     "data": {
      "text/plain": [
       "array([ 0.00101907,  0.00273266,  0.00407299,  0.00526017,  0.00642892,\n",
       "        0.0074642 ,  0.00848708,  0.00950439,  0.01049951,  0.01147098,\n",
       "        0.01240866,  0.01333345,  0.01424205,  0.01511725,  0.01596183,\n",
       "        0.01677578,  0.01758083,  0.01835497,  0.0191223 ,  0.01987765,\n",
       "        0.02061307,  0.02134117,  0.02205041,  0.02275736,  0.02345942,\n",
       "        0.0241552 ,  0.02483638,  0.02550866,  0.02616964,  0.02681859,\n",
       "        0.02746399,  0.02809773,  0.02872355,  0.02934793,  0.0299677 ,\n",
       "        0.03057516,  0.03116729,  0.03175259,  0.0323334 ,  0.03290656,\n",
       "        0.03347394,  0.03403886,  0.03460004,  0.03515358,  0.03569898,\n",
       "        0.03623954,  0.03677453,  0.03730623,  0.03783301,  0.03835414,\n",
       "        0.03886999,  0.03938335,  0.0398941 ,  0.04039815,  0.04089884,\n",
       "        0.04139402,  0.04188905,  0.04237602,  0.04285485,  0.04333128,\n",
       "        0.04380481,  0.04427253,  0.04473495,  0.04519459,  0.04564847,\n",
       "        0.04609732,  0.04654467,  0.04698859,  0.04743151,  0.04786774,\n",
       "        0.04830161,  0.04873197,  0.0491592 ,  0.04958586,  0.05001005,\n",
       "        0.05042541,  0.05083992,  0.05125009,  0.05165877,  0.05206376,\n",
       "        0.05246132,  0.05285535,  0.0532487 ,  0.05363917,  0.05402709,\n",
       "        0.05441181,  0.05479579,  0.05517303,  0.05554994,  0.055923  ,\n",
       "        0.05629396,  0.0566629 ,  0.05702773,  0.05739171,  0.05775229,\n",
       "        0.05811031,  0.05846493,  0.0588175 ,  0.05916695,  0.05951513])"
      ]
     },
     "execution_count": 95,
     "metadata": {},
     "output_type": "execute_result"
    }
   ],
   "source": [
    "np.cumsum(SVD.explained_variance_ratio_)"
   ]
  },
  {
   "cell_type": "code",
   "execution_count": 77,
   "metadata": {},
   "outputs": [],
   "source": [
    "def perform_latent_semantic_analysis(n_components, vectorizer):\n",
    "    SVD = TruncatedSVD(n_components)\n",
    "    component_names = [\"component_\"+str(i+1) for i in range(n_components)]\n",
    "    latent_semantic_analysis = pd.DataFrame(SVD.fit_transform(X_tfidf),\n",
    "                                            index = X['cleaned_text'].index,\n",
    "                                            columns = component_names)\n",
    "    vocabulary_expression = pd.DataFrame(SVD.components_,\n",
    "                                         index = component_names,\n",
    "                                         columns = vectorizer.get_feature_names())\n",
    "    return latent_semantic_analysis, vocabulary_expression"
   ]
  },
  {
   "cell_type": "code",
   "execution_count": 78,
   "metadata": {},
   "outputs": [
    {
     "data": {
      "text/plain": [
       "(       component_1  component_2  component_3\n",
       " 3         0.104144    -0.068492     0.073354\n",
       " 4         0.114693    -0.037001     0.016692\n",
       " 5         0.102298     0.050592    -0.008073\n",
       " 7         0.052792     0.019468    -0.031213\n",
       " 8         0.091283     0.023467    -0.036718\n",
       " 9         0.077773    -0.026693    -0.007624\n",
       " 10        0.111935    -0.040271     0.027785\n",
       " 12        0.092427     0.040526     0.007588\n",
       " 13        0.063469    -0.001847    -0.012657\n",
       " 14        0.081075     0.015719    -0.032491\n",
       " 15        0.037960     0.085523     0.021750\n",
       " 16        0.044455     0.040780    -0.002789\n",
       " 18        0.038370     0.022969    -0.024968\n",
       " 19        0.126255     0.060136     0.035675\n",
       " 20        0.134312     0.004972    -0.061272\n",
       " 21        0.075395    -0.040971     0.021635\n",
       " 24        0.049845     0.007860    -0.037373\n",
       " 25        0.078860    -0.016852     0.003988\n",
       " 26        0.091121    -0.046566     0.043713\n",
       " 27        0.130093     0.019209     0.062118\n",
       " 28        0.078650    -0.037144     0.023822\n",
       " 29        0.129365     0.004137    -0.049602\n",
       " 30        0.090961     0.032281     0.066741\n",
       " 31        0.115990     0.043530    -0.020282\n",
       " 32        0.018861    -0.003789    -0.017962\n",
       " 33        0.100023     0.000634    -0.035469\n",
       " 34        0.042535    -0.017750     0.020708\n",
       " 35        0.075330    -0.019754     0.019935\n",
       " 36        0.139014     0.056258     0.030383\n",
       " 37        0.063584     0.020157    -0.023195\n",
       " ...            ...          ...          ...\n",
       " 87259     0.032031     0.005747    -0.007490\n",
       " 87260     0.034010    -0.012852    -0.005267\n",
       " 87261     0.023572     0.001867    -0.021239\n",
       " 87262     0.009371    -0.005270    -0.001575\n",
       " 87263     0.011233    -0.005380    -0.002182\n",
       " 87264     0.017903     0.003013    -0.008666\n",
       " 87265     0.030953    -0.007785    -0.015535\n",
       " 87266     0.027503    -0.004743    -0.021124\n",
       " 87267     0.028533    -0.008626    -0.011104\n",
       " 87268     0.033993     0.005580    -0.031174\n",
       " 87269     0.024112    -0.009637    -0.018251\n",
       " 87270     0.037480    -0.009946    -0.016528\n",
       " 87271     0.005353    -0.002981    -0.002260\n",
       " 87272     0.030288    -0.007360    -0.015440\n",
       " 87273     0.035768     0.010129    -0.034004\n",
       " 87274     0.032440     0.000307    -0.013422\n",
       " 87275     0.009348    -0.004924    -0.004573\n",
       " 87276     0.052180    -0.000359    -0.013847\n",
       " 87277     0.009814    -0.002784    -0.005548\n",
       " 87278     0.019540    -0.005580    -0.005939\n",
       " 87279     0.051107    -0.009176    -0.013247\n",
       " 87280     0.051647    -0.001834    -0.035503\n",
       " 87281     0.054861    -0.006854    -0.021829\n",
       " 87282     0.016359     0.001423    -0.006228\n",
       " 87283     0.055445    -0.029857     0.028811\n",
       " 87284     0.045211     0.016629    -0.037516\n",
       " 87285     0.031549     0.000609    -0.003776\n",
       " 87286     0.053257    -0.031739     0.027135\n",
       " 87287     0.011664    -0.000619    -0.009896\n",
       " 87288     0.032384    -0.027859     0.024574\n",
       " \n",
       " [68006 rows x 3 columns],\n",
       "                    00     00 am  00 am edt  00 am et  00 enjoy     00 et  \\\n",
       " component_1  0.002680  0.000145   0.000035  0.000085  0.000340  0.000365   \n",
       " component_2 -0.000353  0.000048   0.000009  0.000065  0.000004 -0.000342   \n",
       " component_3 -0.002754 -0.000279  -0.000042 -0.000193 -0.000666  0.000104   \n",
       " \n",
       "                 00 on    00 per     00 pm  00 pm est         ...          \\\n",
       " component_1  0.000087  0.000118  0.000539   0.000060         ...           \n",
       " component_2  0.000017 -0.000043  0.000275  -0.000046         ...           \n",
       " component_3 -0.000188 -0.000119 -0.000428   0.000035         ...           \n",
       " \n",
       "               édouard  édouard louis  édouard louis who        él  élisabeth  \\\n",
       " component_1  0.000076       0.000068           0.000068  0.000076   0.000053   \n",
       " component_2 -0.000096      -0.000091          -0.000091 -0.000054  -0.000051   \n",
       " component_3 -0.000003       0.000026           0.000026 -0.000305  -0.000015   \n",
       " \n",
       "              élisabeth gille  élisabeth gille le       爱彼迎  爱彼迎 aibiying  \\\n",
       " component_1         0.000053            0.000053  0.000059      0.000059   \n",
       " component_2        -0.000051           -0.000051  0.000013      0.000013   \n",
       " component_3        -0.000015           -0.000015 -0.000151     -0.000151   \n",
       " \n",
       "              爱彼迎 aibiying which  \n",
       " component_1            0.000059  \n",
       " component_2            0.000013  \n",
       " component_3           -0.000151  \n",
       " \n",
       " [3 rows x 194537 columns])"
      ]
     },
     "execution_count": 78,
     "metadata": {},
     "output_type": "execute_result"
    }
   ],
   "source": [
    "perform_latent_semantic_analysis(3, tfidf)"
   ]
  },
  {
   "cell_type": "code",
   "execution_count": 89,
   "metadata": {
    "collapsed": true
   },
   "outputs": [],
   "source": [
    "SVD = TruncatedSVD(5)\n",
    "latent_semantic_analysis = SVD.fit_transform(X_tfidf)"
   ]
  },
  {
   "cell_type": "code",
   "execution_count": 23,
   "metadata": {
    "scrolled": true
   },
   "outputs": [
    {
     "data": {
      "text/plain": [
       "(       component_1  component_2  component_3\n",
       " 3         0.104143    -0.066454     0.073150\n",
       " 4         0.114691    -0.035044     0.016288\n",
       " 5         0.102301     0.052097    -0.006552\n",
       " 7         0.052792     0.019749    -0.024714\n",
       " 8         0.091285     0.021836    -0.033640\n",
       " 9         0.077771    -0.028314    -0.008414\n",
       " 10        0.111935    -0.037751     0.027354\n",
       " 12        0.092429     0.042343     0.006771\n",
       " 13        0.063469    -0.001515    -0.017382\n",
       " 14        0.081075     0.017173    -0.035990\n",
       " 15        0.037962     0.085614     0.027221\n",
       " 16        0.044455     0.039281    -0.002413\n",
       " 18        0.038368     0.022207    -0.033955\n",
       " 19        0.126257     0.058173     0.037334\n",
       " 20        0.134312     0.007292    -0.055306\n",
       " 21        0.075397    -0.039898     0.026863\n",
       " 24        0.049846     0.009304    -0.034885\n",
       " 25        0.078860    -0.016513     0.009331\n",
       " 26        0.091121    -0.046294     0.045783\n",
       " 27        0.130095     0.018822     0.059515\n",
       " 28        0.078651    -0.036732     0.024286\n",
       " 29        0.129362     0.003987    -0.052156\n",
       " 30        0.090963     0.034006     0.066496\n",
       " 31        0.115990     0.044045    -0.023269\n",
       " 32        0.018860    -0.004084    -0.020905\n",
       " 33        0.100025     0.000669    -0.033588\n",
       " 34        0.042536    -0.016309     0.020734\n",
       " 35        0.075331    -0.020901     0.019533\n",
       " 36        0.139010     0.053324     0.025823\n",
       " 37        0.063583     0.020356    -0.028064\n",
       " ...            ...          ...          ...\n",
       " 87259     0.032031     0.004297    -0.008198\n",
       " 87260     0.034012    -0.011940    -0.002899\n",
       " 87261     0.023571     0.002674    -0.021333\n",
       " 87262     0.009370    -0.005067    -0.000831\n",
       " 87263     0.011234    -0.005059    -0.001793\n",
       " 87264     0.017903     0.002997    -0.006769\n",
       " 87265     0.030952    -0.006860    -0.014319\n",
       " 87266     0.027505    -0.004496    -0.020217\n",
       " 87267     0.028534    -0.008737    -0.011980\n",
       " 87268     0.033996     0.006594    -0.030734\n",
       " 87269     0.024113    -0.009583    -0.019986\n",
       " 87270     0.037482    -0.009433    -0.011955\n",
       " 87271     0.005353    -0.002754    -0.002352\n",
       " 87272     0.030289    -0.006606    -0.011804\n",
       " 87273     0.035768     0.011496    -0.035110\n",
       " 87274     0.032439     0.001288    -0.014263\n",
       " 87275     0.009348    -0.004603    -0.004583\n",
       " 87276     0.052180    -0.000580    -0.014517\n",
       " 87277     0.009814    -0.002739    -0.005882\n",
       " 87278     0.019543    -0.005422    -0.004691\n",
       " 87279     0.051107    -0.007663    -0.011221\n",
       " 87280     0.051646    -0.000883    -0.038089\n",
       " 87281     0.054860    -0.005844    -0.022836\n",
       " 87282     0.016359     0.001467    -0.004750\n",
       " 87283     0.055443    -0.029779     0.027870\n",
       " 87284     0.045212     0.017254    -0.037145\n",
       " 87285     0.031548    -0.000805    -0.004937\n",
       " 87286     0.053256    -0.032587     0.027522\n",
       " 87287     0.011664    -0.000048    -0.006313\n",
       " 87288     0.032384    -0.026117     0.024206\n",
       " \n",
       " [68006 rows x 3 columns],\n",
       "                    00     00 am  00 am edt  00 am et  00 enjoy     00 et  \\\n",
       " component_1  0.002680  0.000145   0.000035  0.000085  0.000340  0.000365   \n",
       " component_2 -0.000387  0.000047   0.000010  0.000064 -0.000019 -0.000350   \n",
       " component_3 -0.002172 -0.000246  -0.000040 -0.000156 -0.000577  0.000228   \n",
       " \n",
       "                 00 on    00 per     00 pm  00 pm est         ...          \\\n",
       " component_1  0.000087  0.000118  0.000539   0.000060         ...           \n",
       " component_2  0.000011 -0.000039  0.000258  -0.000049         ...           \n",
       " component_3 -0.000181 -0.000103 -0.000296   0.000024         ...           \n",
       " \n",
       "               édouard  édouard louis  édouard louis who        él  élisabeth  \\\n",
       " component_1  0.000076       0.000068           0.000068  0.000076   0.000053   \n",
       " component_2 -0.000089      -0.000087          -0.000087 -0.000058  -0.000046   \n",
       " component_3  0.000020       0.000031           0.000031 -0.000324  -0.000022   \n",
       " \n",
       "              élisabeth gille  élisabeth gille le       爱彼迎  爱彼迎 aibiying  \\\n",
       " component_1         0.000053            0.000053  0.000059      0.000059   \n",
       " component_2        -0.000046           -0.000046  0.000021      0.000021   \n",
       " component_3        -0.000022           -0.000022 -0.000156     -0.000156   \n",
       " \n",
       "              爱彼迎 aibiying which  \n",
       " component_1            0.000059  \n",
       " component_2            0.000021  \n",
       " component_3           -0.000156  \n",
       " \n",
       " [3 rows x 194537 columns])"
      ]
     },
     "execution_count": 23,
     "metadata": {},
     "output_type": "execute_result"
    }
   ],
   "source": [
    "perform_latent_semantic_analysis(3, tfidf)"
   ]
  },
  {
   "cell_type": "code",
   "execution_count": null,
   "metadata": {
    "scrolled": true
   },
   "outputs": [],
   "source": [
    "X_tfidf"
   ]
  },
  {
   "cell_type": "code",
   "execution_count": null,
   "metadata": {
    "collapsed": true
   },
   "outputs": [],
   "source": []
  },
  {
   "cell_type": "code",
   "execution_count": null,
   "metadata": {
    "collapsed": true
   },
   "outputs": [],
   "source": [
    "latent_semantic_analysis, vocabulary_expression = perform_latent_semantic_analysis(2, naive_vectorizer)\n",
    "latent_semantic_analysis['text'] = corpus['text']\n",
    "latent_semantic_analysis['book'] = corpus['book']"
   ]
  },
  {
   "cell_type": "code",
   "execution_count": null,
   "metadata": {
    "collapsed": true
   },
   "outputs": [],
   "source": []
  },
  {
   "cell_type": "code",
   "execution_count": null,
   "metadata": {},
   "outputs": [],
   "source": [
    "y_AAPL_le.inverse_transform(le)"
   ]
  },
  {
   "cell_type": "code",
   "execution_count": null,
   "metadata": {
    "collapsed": true
   },
   "outputs": [],
   "source": []
  }
 ],
 "metadata": {
  "kernelspec": {
   "display_name": "Python 3",
   "language": "python",
   "name": "python3"
  },
  "language_info": {
   "codemirror_mode": {
    "name": "ipython",
    "version": 3
   },
   "file_extension": ".py",
   "mimetype": "text/x-python",
   "name": "python",
   "nbconvert_exporter": "python",
   "pygments_lexer": "ipython3",
   "version": "3.5.2"
  }
 },
 "nbformat": 4,
 "nbformat_minor": 2
}
