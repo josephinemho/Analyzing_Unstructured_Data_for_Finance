{
 "cells": [
  {
   "cell_type": "markdown",
   "metadata": {},
   "source": [
    "# Part 4 -- Get Target Data\n",
    "\n",
    "Get stock data for S&P 500 using **pandas**."
   ]
  },
  {
   "cell_type": "markdown",
   "metadata": {},
   "source": [
    "### Load lib codes:"
   ]
  },
  {
   "cell_type": "code",
   "execution_count": 1,
   "metadata": {
    "scrolled": true
   },
   "outputs": [
    {
     "name": "stdout",
     "output_type": "stream",
     "text": [
      "/home/jovyan/work/Portfolio/predicting_stock_market_trends_with_Twitter/ipynb\r\n"
     ]
    }
   ],
   "source": [
    "!pwd"
   ]
  },
  {
   "cell_type": "code",
   "execution_count": 2,
   "metadata": {
    "collapsed": true
   },
   "outputs": [],
   "source": [
    "from os import chdir\n",
    "chdir('/home/jovyan/work/Portfolio/predicting_stock_market_trends_with_Twitter/')\n",
    "\n",
    "from lib import *\n",
    "# suppress_warnings()\n",
    "from lib.twitter_keys import my_keys"
   ]
  },
  {
   "cell_type": "code",
   "execution_count": 862,
   "metadata": {
    "collapsed": true
   },
   "outputs": [],
   "source": [
    "import datetime as dt\n",
    "import pandas_datareader.data as web\n",
    "import bs4 as bs\n",
    "import pickle\n",
    "import requests"
   ]
  },
  {
   "cell_type": "markdown",
   "metadata": {
    "collapsed": true
   },
   "source": [
    "### Web-scrape most recent list of S&P 500 stocks from Wikipedia:"
   ]
  },
  {
   "cell_type": "code",
   "execution_count": 863,
   "metadata": {
    "collapsed": true
   },
   "outputs": [],
   "source": [
    "# def get_data_from_google():\n",
    "#     with open('sp500tickers.pickle', 'rb') as f:\n",
    "#         tickers = pickle.load(f)\n",
    "# if not os.path.exists('stocks_df'):\n",
    "#     os.makedirs('stocks_df')\n",
    "\n",
    "# start = dt.datetime(2010,6,1)\n",
    "# end = dt.datetime(2017,6,1)\n",
    "\n",
    "# for ticker in tickers:\n",
    "#     print(ticker)\n",
    "#     if not os.path.exists('stocks_df/{}.csv'.format(ticker)):\n",
    "#         df = web.DataReader(ticker, 'google', start, end)\n",
    "#         df.to_csv('stocks_df/{}.csv'.format(ticker))\n",
    "#     else:\n",
    "#         print('Already have {}'.format(ticker))"
   ]
  },
  {
   "cell_type": "code",
   "execution_count": 864,
   "metadata": {
    "collapsed": true
   },
   "outputs": [],
   "source": [
    "# def save_sp500_tickers():\n",
    "#     resp = requests.get('https://en.wikipedia.org/wiki/List_of_S%26P_500_companies')\n",
    "#     soup = bs.BeautifulSoup(resp.text, 'html5lib')\n",
    "#     table = soup.find('table', {'class': 'wikitable sortable'})\n",
    "#     tickers = []\n",
    "#     for row in table.findAll('tr')[1:]:\n",
    "#         ticker = row.findAll('td')[0].text\n",
    "#         tickers.append(ticker)\n",
    "#     with open('sp500tickers.pickle', 'wb') as f:\n",
    "#         pickle.dump(tickers, f)\n",
    "#     return tickers"
   ]
  },
  {
   "cell_type": "code",
   "execution_count": 3,
   "metadata": {},
   "outputs": [
    {
     "name": "stdout",
     "output_type": "stream",
     "text": [
      "Requirement already satisfied (use --upgrade to upgrade): pymongo in /opt/conda/lib/python3.5/site-packages\n",
      "\u001b[33mYou are using pip version 8.1.2, however version 9.0.1 is available.\n",
      "You should consider upgrading via the 'pip install --upgrade pip' command.\u001b[0m\n"
     ]
    }
   ],
   "source": [
    "!pip install pymongo\n",
    "import pymongo"
   ]
  },
  {
   "cell_type": "code",
   "execution_count": 7,
   "metadata": {
    "collapsed": true
   },
   "outputs": [],
   "source": [
    "#identify port for security\n",
    "cli = pymongo.MongoClient(host='34.211.171.54', port=27016)"
   ]
  },
  {
   "cell_type": "code",
   "execution_count": 8,
   "metadata": {},
   "outputs": [
    {
     "data": {
      "text/plain": [
       "['sp500_collection', 'stocks_collection']"
      ]
     },
     "execution_count": 8,
     "metadata": {},
     "output_type": "execute_result"
    }
   ],
   "source": [
    "# Instantiates when you put data in \n",
    "sp500_collection = cli.stocks_db.sp500_collection\n",
    "stocks_collection = cli.stocks_db.stocks_collection\n",
    "cli.stocks_db.collection_names()"
   ]
  },
  {
   "cell_type": "code",
   "execution_count": 9,
   "metadata": {},
   "outputs": [
    {
     "name": "stdout",
     "output_type": "stream",
     "text": [
      "505\n",
      "250633\n"
     ]
    }
   ],
   "source": [
    "print(sp500_collection.count())\n",
    "print(stocks_collection.count())"
   ]
  },
  {
   "cell_type": "code",
   "execution_count": 11,
   "metadata": {},
   "outputs": [
    {
     "data": {
      "text/plain": [
       "['sp500_collection', 'stocks_collection']"
      ]
     },
     "execution_count": 11,
     "metadata": {},
     "output_type": "execute_result"
    }
   ],
   "source": [
    "# Instantiates when you put data in \n",
    "google_finance_collection = cli.stocks_db.google_finance_collection\n",
    "cli.stocks_db.collection_names()"
   ]
  },
  {
   "cell_type": "code",
   "execution_count": 13,
   "metadata": {},
   "outputs": [
    {
     "name": "stdout",
     "output_type": "stream",
     "text": [
      "505\n",
      "250633\n",
      "0\n"
     ]
    }
   ],
   "source": [
    "print(sp500_collection.count())\n",
    "print(stocks_collection.count())\n",
    "print(google_finance_collection.count())"
   ]
  },
  {
   "cell_type": "code",
   "execution_count": 849,
   "metadata": {
    "collapsed": true
   },
   "outputs": [],
   "source": [
    "# sp500_collection.drop()\n",
    "# stocks_collection.drop()"
   ]
  },
  {
   "cell_type": "code",
   "execution_count": 16,
   "metadata": {},
   "outputs": [
    {
     "name": "stdout",
     "output_type": "stream",
     "text": [
      "Collecting yahoo-finance\n",
      "  Downloading yahoo-finance-1.4.0.tar.gz\n",
      "Requirement already satisfied (use --upgrade to upgrade): pytz in /opt/conda/lib/python3.5/site-packages (from yahoo-finance)\n",
      "Collecting simplejson (from yahoo-finance)\n",
      "  Downloading simplejson-3.10.0.tar.gz (77kB)\n",
      "\u001b[K    100% |████████████████████████████████| 81kB 4.9MB/s ta 0:00:011\n",
      "\u001b[?25hBuilding wheels for collected packages: yahoo-finance, simplejson\n",
      "  Running setup.py bdist_wheel for yahoo-finance ... \u001b[?25ldone\n",
      "\u001b[?25h  Stored in directory: /home/jovyan/.cache/pip/wheels/8b/32/7a/1b3e589e823ef2b8e510a99d11e3abae8f28af2ab8d4eaa884\n",
      "  Running setup.py bdist_wheel for simplejson ... \u001b[?25ldone\n",
      "\u001b[?25h  Stored in directory: /home/jovyan/.cache/pip/wheels/43/c5/ef/edcebbb19becffd2ba75bf219afdbb4ca85198b2d909f1b31b\n",
      "Successfully built yahoo-finance simplejson\n",
      "Installing collected packages: simplejson, yahoo-finance\n",
      "Successfully installed simplejson-3.10.0 yahoo-finance-1.4.0\n",
      "\u001b[33mYou are using pip version 8.1.2, however version 9.0.1 is available.\n",
      "You should consider upgrading via the 'pip install --upgrade pip' command.\u001b[0m\n"
     ]
    }
   ],
   "source": [
    "!pip install yahoo-finance"
   ]
  },
  {
   "cell_type": "code",
   "execution_count": 17,
   "metadata": {},
   "outputs": [],
   "source": [
    "from yahoo_finance import Share"
   ]
  },
  {
   "cell_type": "code",
   "execution_count": 23,
   "metadata": {},
   "outputs": [],
   "source": [
    "yahoo = Share('YHOO')\n",
    "yahoo_data = yahoo.get_historical('2015-06-01', '2017-06-01')"
   ]
  },
  {
   "cell_type": "code",
   "execution_count": null,
   "metadata": {
    "collapsed": true
   },
   "outputs": [],
   "source": [
    "type(yahoo_data)"
   ]
  },
  {
   "cell_type": "code",
   "execution_count": null,
   "metadata": {
    "collapsed": true
   },
   "outputs": [],
   "source": []
  },
  {
   "cell_type": "code",
   "execution_count": 878,
   "metadata": {},
   "outputs": [
    {
     "data": {
      "text/html": [
       "<div>\n",
       "<table border=\"1\" class=\"dataframe\">\n",
       "  <thead>\n",
       "    <tr style=\"text-align: right;\">\n",
       "      <th></th>\n",
       "      <th>_id</th>\n",
       "      <th>status</th>\n",
       "      <th>stock</th>\n",
       "    </tr>\n",
       "  </thead>\n",
       "  <tbody>\n",
       "    <tr>\n",
       "      <th>33</th>\n",
       "      <td>593751512c7311003e9e86a0</td>\n",
       "      <td>failed</td>\n",
       "      <td>AMT</td>\n",
       "    </tr>\n",
       "    <tr>\n",
       "      <th>285</th>\n",
       "      <td>593751902c7311003e9f6f08</td>\n",
       "      <td>failed</td>\n",
       "      <td>LMT</td>\n",
       "    </tr>\n",
       "    <tr>\n",
       "      <th>329</th>\n",
       "      <td>5937519ed8b1410090fe896b</td>\n",
       "      <td>failed</td>\n",
       "      <td>NWL</td>\n",
       "    </tr>\n",
       "    <tr>\n",
       "      <th>338</th>\n",
       "      <td>593751a12c7311003e9f9c96</td>\n",
       "      <td>failed</td>\n",
       "      <td>NBL</td>\n",
       "    </tr>\n",
       "  </tbody>\n",
       "</table>\n",
       "</div>"
      ],
      "text/plain": [
       "                          _id  status stock\n",
       "33   593751512c7311003e9e86a0  failed   AMT\n",
       "285  593751902c7311003e9f6f08  failed   LMT\n",
       "329  5937519ed8b1410090fe896b  failed   NWL\n",
       "338  593751a12c7311003e9f9c96  failed   NBL"
      ]
     },
     "execution_count": 878,
     "metadata": {},
     "output_type": "execute_result"
    }
   ],
   "source": [
    "# Getting ALL data out of a collection\n",
    "sp500_list = [document for document in sp500_collection.find()]\n",
    "sp500_df = pd.DataFrame(sp500_list)\n",
    "sp500_df[sp500_df['status']=='failed']"
   ]
  },
  {
   "cell_type": "code",
   "execution_count": 879,
   "metadata": {},
   "outputs": [
    {
     "data": {
      "text/html": [
       "<div>\n",
       "<table border=\"1\" class=\"dataframe\">\n",
       "  <thead>\n",
       "    <tr style=\"text-align: right;\">\n",
       "      <th></th>\n",
       "      <th>_id</th>\n",
       "      <th>status</th>\n",
       "      <th>stock</th>\n",
       "    </tr>\n",
       "  </thead>\n",
       "  <tbody>\n",
       "    <tr>\n",
       "      <th>33</th>\n",
       "      <td>593751512c7311003e9e86a0</td>\n",
       "      <td>failed</td>\n",
       "      <td>AMT</td>\n",
       "    </tr>\n",
       "  </tbody>\n",
       "</table>\n",
       "</div>"
      ],
      "text/plain": [
       "                         _id  status stock\n",
       "33  593751512c7311003e9e86a0  failed   AMT"
      ]
     },
     "execution_count": 879,
     "metadata": {},
     "output_type": "execute_result"
    }
   ],
   "source": [
    "# Getting ALL data out of a collection\n",
    "sp500_list = [document for document in sp500_collection.find()]\n",
    "sp500_df = pd.DataFrame(sp500_list)\n",
    "sp500_df[sp500_df['stock']=='AMT']"
   ]
  },
  {
   "cell_type": "code",
   "execution_count": 871,
   "metadata": {
    "collapsed": true
   },
   "outputs": [],
   "source": [
    "#takes argument of a stock and returns dataframe with stock column:\n",
    "def get_stocks(stock):\n",
    "    try:\n",
    "        start = dt.datetime(2015,6,1)\n",
    "        end = dt.datetime(2017,6,1)\n",
    "        df = web.DataReader(stock, 'google', start, end)\n",
    "        df = df.reset_index()\n",
    "        df['Stock'] = stock\n",
    "        print('{} added for {}'.format(len(df), stock))\n",
    "        return df\n",
    "    except Exception as e:\n",
    "        print('Error: e')\n",
    "        pass\n",
    "\n",
    "#takes argument of a dataframe AND a mongo collection, turns it into a list of dictionaries and insert into collection:\n",
    "def df_to_mongo(df, collection):\n",
    "    try:\n",
    "        stock_dict_list = list(df.to_dict(orient='index').values())\n",
    "        collection.insert_many(stock_dict_list)\n",
    "        sp500_collection.insert_one({'stock': stock, 'status': 'complete'})\n",
    "        print('Successfully added to mongo')\n",
    "    except Exception as e:\n",
    "        sp500_collection.insert_one({'stock': stock, 'status': 'failed'})\n",
    "        print('Error: e')\n",
    "        pass\n",
    "\n",
    "#third function that does everything using both functions:\n",
    "def get_stocks_to_mongo(stock):\n",
    "    df = get_stocks(stock)\n",
    "    df_to_mongo(df, stocks_collection)"
   ]
  },
  {
   "cell_type": "code",
   "execution_count": 875,
   "metadata": {},
   "outputs": [
    {
     "name": "stdout",
     "output_type": "stream",
     "text": [
      "506 added for MMM\n",
      "Successfully added to mongo\n",
      "506 added for ABT\n",
      "Successfully added to mongo\n",
      "506 added for ABBV\n",
      "Successfully added to mongo\n",
      "506 added for ACN\n",
      "Successfully added to mongo\n",
      "506 added for ATVI\n",
      "Successfully added to mongo\n",
      "506 added for AYI\n",
      "Successfully added to mongo\n",
      "506 added for ADBE\n",
      "Successfully added to mongo\n",
      "506 added for AMD\n",
      "Successfully added to mongo\n",
      "506 added for AAP\n",
      "Successfully added to mongo\n",
      "506 added for AES\n",
      "Successfully added to mongo\n",
      "506 added for AET\n",
      "Successfully added to mongo\n",
      "506 added for AMG\n",
      "Successfully added to mongo\n",
      "506 added for AFL\n",
      "Successfully added to mongo\n",
      "506 added for A\n",
      "Successfully added to mongo\n",
      "506 added for APD\n",
      "Successfully added to mongo\n",
      "506 added for AKAM\n",
      "Successfully added to mongo\n",
      "506 added for ALB\n",
      "Successfully added to mongo\n",
      "506 added for ARE\n",
      "Successfully added to mongo\n",
      "506 added for AGN\n",
      "Successfully added to mongo\n",
      "506 added for LNT\n",
      "Successfully added to mongo\n",
      "506 added for ALL\n",
      "Successfully added to mongo\n",
      "506 added for GOOG\n",
      "Successfully added to mongo\n",
      "506 added for AEE\n",
      "Successfully added to mongo\n",
      "506 added for AEP\n",
      "Successfully added to mongo\n",
      "506 added for AIG\n",
      "Successfully added to mongo\n",
      "506 added for AMP\n",
      "Successfully added to mongo\n",
      "506 added for ABC\n",
      "Successfully added to mongo\n",
      "506 added for APH\n",
      "Successfully added to mongo\n",
      "506 added for ADI\n",
      "Successfully added to mongo\n",
      "506 added for APA\n",
      "Successfully added to mongo\n",
      "506 added for AAPL\n",
      "Successfully added to mongo\n",
      "505 added for AMAT\n",
      "Successfully added to mongo\n",
      "506 added for ARNC\n",
      "Successfully added to mongo\n",
      "506 added for AIZ\n",
      "Successfully added to mongo\n",
      "506 added for T\n",
      "Successfully added to mongo\n",
      "506 added for ADP\n",
      "Successfully added to mongo\n",
      "506 added for AZO\n",
      "Successfully added to mongo\n",
      "506 added for AVB\n",
      "Successfully added to mongo\n",
      "506 added for AVY\n",
      "Successfully added to mongo\n",
      "506 added for BLL\n",
      "Successfully added to mongo\n",
      "506 added for BAX\n",
      "Successfully added to mongo\n",
      "506 added for BDX\n",
      "Successfully added to mongo\n",
      "506 added for BRK.B\n",
      "Successfully added to mongo\n",
      "506 added for BBY\n",
      "Successfully added to mongo\n",
      "506 added for HRB\n",
      "Successfully added to mongo\n",
      "506 added for BSX\n",
      "Successfully added to mongo\n",
      "337 added for AVGO\n",
      "Successfully added to mongo\n",
      "506 added for COG\n",
      "Successfully added to mongo\n",
      "506 added for CPB\n",
      "Successfully added to mongo\n",
      "506 added for CAH\n",
      "Successfully added to mongo\n",
      "506 added for KMX\n",
      "Successfully added to mongo\n",
      "506 added for CAT\n",
      "Successfully added to mongo\n",
      "506 added for CNC\n",
      "Successfully added to mongo\n",
      "506 added for CTL\n",
      "Successfully added to mongo\n",
      "506 added for CF\n",
      "Successfully added to mongo\n",
      "262 added for CHTR\n",
      "Successfully added to mongo\n",
      "506 added for CVX\n",
      "Successfully added to mongo\n",
      "506 added for CB\n",
      "Successfully added to mongo\n",
      "506 added for CI\n",
      "Successfully added to mongo\n",
      "506 added for CTAS\n",
      "Successfully added to mongo\n",
      "506 added for C\n",
      "Successfully added to mongo\n",
      "506 added for CME\n",
      "Successfully added to mongo\n",
      "506 added for COH\n",
      "Successfully added to mongo\n",
      "506 added for KO\n",
      "Successfully added to mongo\n",
      "506 added for CL\n",
      "Successfully added to mongo\n",
      "506 added for CMCSA\n",
      "Successfully added to mongo\n",
      "506 added for CAG\n",
      "Successfully added to mongo\n",
      "506 added for COP\n",
      "Successfully added to mongo\n",
      "506 added for STZ\n",
      "Successfully added to mongo\n",
      "506 added for GLW\n",
      "Successfully added to mongo\n",
      "506 added for COST\n",
      "Successfully added to mongo\n",
      "506 added for CCI\n",
      "Successfully added to mongo\n",
      "388 added for CSRA\n",
      "Successfully added to mongo\n",
      "506 added for CMI\n",
      "Successfully added to mongo\n",
      "506 added for DHR\n",
      "Successfully added to mongo\n",
      "506 added for DE\n",
      "Successfully added to mongo\n",
      "506 added for DAL\n",
      "Successfully added to mongo\n",
      "506 added for XRAY\n",
      "Successfully added to mongo\n",
      "506 added for DLR\n",
      "Successfully added to mongo\n",
      "506 added for DISCA\n",
      "Successfully added to mongo\n",
      "506 added for DISH\n",
      "Successfully added to mongo\n",
      "506 added for DLTR\n",
      "Successfully added to mongo\n",
      "506 added for DOV\n",
      "Successfully added to mongo\n",
      "506 added for DOW\n",
      "Successfully added to mongo\n",
      "506 added for DPS\n",
      "Successfully added to mongo\n",
      "506 added for DUK\n",
      "Successfully added to mongo\n",
      "506 added for EMN\n",
      "Successfully added to mongo\n",
      "506 added for EBAY\n",
      "Successfully added to mongo\n",
      "506 added for ECL\n",
      "Successfully added to mongo\n",
      "506 added for EW\n",
      "Successfully added to mongo\n",
      "506 added for EMR\n",
      "Successfully added to mongo\n",
      "506 added for EOG\n",
      "Successfully added to mongo\n",
      "506 added for EQIX\n",
      "Successfully added to mongo\n",
      "506 added for ESS\n",
      "Successfully added to mongo\n",
      "506 added for ES\n",
      "Successfully added to mongo\n",
      "506 added for EXPE\n",
      "Successfully added to mongo\n",
      "506 added for EXPD\n",
      "Successfully added to mongo\n",
      "506 added for XOM\n",
      "Successfully added to mongo\n",
      "506 added for FFIV\n",
      "Successfully added to mongo\n",
      "506 added for FAST\n",
      "Successfully added to mongo\n",
      "506 added for FRT\n",
      "Successfully added to mongo\n",
      "506 added for FDX\n",
      "Successfully added to mongo\n",
      "506 added for FITB\n",
      "Successfully added to mongo\n",
      "506 added for FISV\n",
      "Successfully added to mongo\n",
      "506 added for FLS\n",
      "Successfully added to mongo\n",
      "506 added for FMC\n",
      "Successfully added to mongo\n",
      "506 added for FL\n",
      "Successfully added to mongo\n",
      "244 added for FTV\n",
      "Successfully added to mongo\n",
      "506 added for BEN\n",
      "Successfully added to mongo\n",
      "506 added for GPS\n",
      "Successfully added to mongo\n",
      "506 added for IT\n",
      "Successfully added to mongo\n",
      "506 added for GD\n",
      "Successfully added to mongo\n",
      "506 added for GGP\n",
      "Successfully added to mongo\n",
      "506 added for GM\n",
      "Successfully added to mongo\n",
      "506 added for GILD\n",
      "Successfully added to mongo\n",
      "506 added for GPN\n",
      "Successfully added to mongo\n",
      "506 added for GT\n",
      "Successfully added to mongo\n",
      "506 added for GWW\n",
      "Successfully added to mongo\n",
      "506 added for HAL\n",
      "Successfully added to mongo\n",
      "506 added for HOG\n",
      "Successfully added to mongo\n",
      "506 added for HIG\n",
      "Successfully added to mongo\n",
      "506 added for HCA\n",
      "Successfully added to mongo\n",
      "506 added for HP\n",
      "Successfully added to mongo\n",
      "506 added for HSY\n",
      "Successfully added to mongo\n",
      "506 added for HES\n",
      "Successfully added to mongo\n",
      "408 added for HPE\n",
      "Successfully added to mongo\n",
      "506 added for HOLX\n",
      "Successfully added to mongo\n",
      "506 added for HD\n",
      "Successfully added to mongo\n",
      "506 added for HRL\n",
      "Successfully added to mongo\n",
      "506 added for HPQ\n",
      "Successfully added to mongo\n",
      "506 added for HUM\n",
      "Successfully added to mongo\n",
      "506 added for IDXX\n",
      "Successfully added to mongo\n",
      "506 added for ITW\n",
      "Successfully added to mongo\n",
      "506 added for ILMN\n",
      "Successfully added to mongo\n",
      "506 added for INTC\n",
      "Successfully added to mongo\n",
      "506 added for IBM\n",
      "Successfully added to mongo\n",
      "506 added for INCY\n",
      "Successfully added to mongo\n",
      "506 added for INTU\n",
      "Successfully added to mongo\n",
      "506 added for ISRG\n",
      "Successfully added to mongo\n",
      "506 added for IVZ\n",
      "Successfully added to mongo\n",
      "506 added for JEC\n",
      "Successfully added to mongo\n",
      "506 added for JNJ\n",
      "Successfully added to mongo\n",
      "506 added for JCI\n",
      "Successfully added to mongo\n",
      "506 added for KSU\n",
      "Successfully added to mongo\n",
      "506 added for KEY\n",
      "Successfully added to mongo\n",
      "506 added for KMB\n",
      "Successfully added to mongo\n",
      "506 added for KMI\n",
      "Successfully added to mongo\n",
      "482 added for KHC\n",
      "Successfully added to mongo\n",
      "506 added for KR\n",
      "Successfully added to mongo\n",
      "506 added for LH\n",
      "Successfully added to mongo\n",
      "506 added for LRCX\n",
      "Successfully added to mongo\n",
      "506 added for LEG\n",
      "Successfully added to mongo\n",
      "506 added for LEN\n",
      "Successfully added to mongo\n",
      "506 added for LLY\n",
      "Successfully added to mongo\n",
      "506 added for LNC\n",
      "Successfully added to mongo\n",
      "506 added for L\n",
      "Successfully added to mongo\n",
      "506 added for LOW\n",
      "Successfully added to mongo\n",
      "506 added for MTB\n",
      "Successfully added to mongo\n",
      "506 added for MAC\n",
      "Successfully added to mongo\n",
      "506 added for MRO\n",
      "Successfully added to mongo\n",
      "506 added for MPC\n",
      "Successfully added to mongo\n",
      "506 added for MMC\n",
      "Successfully added to mongo\n",
      "506 added for MAS\n",
      "Successfully added to mongo\n",
      "506 added for MAT\n",
      "Successfully added to mongo\n",
      "506 added for MKC\n",
      "Successfully added to mongo\n",
      "506 added for MCK\n",
      "Successfully added to mongo\n",
      "506 added for MDT\n",
      "Successfully added to mongo\n",
      "506 added for MRK\n",
      "Successfully added to mongo\n",
      "506 added for KORS\n",
      "Successfully added to mongo\n",
      "506 added for MCHP\n",
      "Successfully added to mongo\n",
      "506 added for MU\n",
      "Successfully added to mongo\n",
      "506 added for MSFT\n",
      "Successfully added to mongo\n",
      "506 added for TAP\n",
      "Successfully added to mongo\n",
      "506 added for MDLZ\n",
      "Successfully added to mongo\n",
      "496 added for MNST\n",
      "Successfully added to mongo\n",
      "506 added for MCO\n",
      "Successfully added to mongo\n",
      "506 added for MUR\n",
      "Successfully added to mongo\n",
      "506 added for NDAQ\n",
      "Successfully added to mongo\n"
     ]
    },
    {
     "name": "stdout",
     "output_type": "stream",
     "text": [
      "506 added for NTAP\n",
      "Successfully added to mongo\n",
      "Error: e\n",
      "Error: e\n",
      "506 added for NEM\n",
      "Successfully added to mongo\n",
      "506 added for NWSA\n",
      "Successfully added to mongo\n",
      "506 added for NWS\n",
      "Successfully added to mongo\n",
      "442 added for NLSN\n",
      "Successfully added to mongo\n",
      "506 added for NI\n",
      "Successfully added to mongo\n",
      "506 added for JWN\n",
      "Successfully added to mongo\n",
      "505 added for NTRS\n",
      "Successfully added to mongo\n",
      "506 added for NRG\n",
      "Successfully added to mongo\n",
      "506 added for NVDA\n",
      "Successfully added to mongo\n",
      "506 added for OXY\n",
      "Successfully added to mongo\n",
      "506 added for OKE\n",
      "Successfully added to mongo\n",
      "506 added for ORCL\n",
      "Successfully added to mongo\n",
      "506 added for PCAR\n",
      "Successfully added to mongo\n",
      "506 added for PH\n",
      "Successfully added to mongo\n",
      "506 added for PAYX\n",
      "Successfully added to mongo\n",
      "506 added for PNR\n",
      "Successfully added to mongo\n",
      "506 added for PKI\n",
      "Successfully added to mongo\n",
      "506 added for PRGO\n",
      "Successfully added to mongo\n",
      "506 added for PCG\n",
      "Successfully added to mongo\n",
      "506 added for PM\n",
      "Successfully added to mongo\n",
      "506 added for PNW\n",
      "Successfully added to mongo\n",
      "506 added for PNC\n",
      "Successfully added to mongo\n",
      "506 added for RL\n",
      "Successfully added to mongo\n",
      "506 added for PX\n",
      "Successfully added to mongo\n",
      "506 added for PCLN\n",
      "Successfully added to mongo\n",
      "506 added for PG\n",
      "Successfully added to mongo\n",
      "506 added for PGR\n",
      "Successfully added to mongo\n",
      "506 added for PRU\n",
      "Successfully added to mongo\n",
      "506 added for PEG\n",
      "Successfully added to mongo\n",
      "506 added for PVH\n",
      "Successfully added to mongo\n",
      "506 added for QRVO\n",
      "Successfully added to mongo\n",
      "506 added for QCOM\n",
      "Successfully added to mongo\n",
      "506 added for DGX\n",
      "Successfully added to mongo\n",
      "506 added for RJF\n",
      "Successfully added to mongo\n",
      "506 added for RTN\n",
      "Successfully added to mongo\n",
      "506 added for RHT\n",
      "Successfully added to mongo\n",
      "505 added for REGN\n",
      "Successfully added to mongo\n",
      "506 added for RSG\n",
      "Successfully added to mongo\n",
      "506 added for RAI\n",
      "Successfully added to mongo\n",
      "506 added for ROK\n",
      "Successfully added to mongo\n",
      "506 added for ROP\n",
      "Successfully added to mongo\n",
      "506 added for ROST\n",
      "Successfully added to mongo\n",
      "506 added for RCL\n",
      "Successfully added to mongo\n",
      "506 added for CRM\n",
      "Successfully added to mongo\n",
      "505 added for SLB\n",
      "Successfully added to mongo\n",
      "506 added for STX\n",
      "Successfully added to mongo\n",
      "506 added for SEE\n",
      "Successfully added to mongo\n",
      "506 added for SHW\n",
      "Successfully added to mongo\n",
      "506 added for SIG\n",
      "Successfully added to mongo\n",
      "506 added for SPG\n",
      "Successfully added to mongo\n",
      "506 added for SWKS\n",
      "Successfully added to mongo\n",
      "506 added for SNA\n",
      "Successfully added to mongo\n",
      "506 added for LUV\n",
      "Successfully added to mongo\n",
      "506 added for SWK\n",
      "Successfully added to mongo\n",
      "506 added for SBUX\n",
      "Successfully added to mongo\n",
      "506 added for SRCL\n",
      "Successfully added to mongo\n",
      "506 added for SYMC\n",
      "Successfully added to mongo\n",
      "506 added for SYF\n",
      "Successfully added to mongo\n",
      "505 added for SNPS\n",
      "Successfully added to mongo\n",
      "506 added for TROW\n",
      "Successfully added to mongo\n",
      "506 added for TEL\n",
      "Successfully added to mongo\n",
      "95 added for FTI\n",
      "Successfully added to mongo\n",
      "506 added for TDC\n",
      "Successfully added to mongo\n",
      "506 added for TXN\n",
      "Successfully added to mongo\n",
      "506 added for TXT\n",
      "Successfully added to mongo\n",
      "506 added for TIF\n",
      "Successfully added to mongo\n",
      "506 added for TJX\n",
      "Successfully added to mongo\n",
      "506 added for TSS\n",
      "Successfully added to mongo\n",
      "506 added for TSCO\n",
      "Successfully added to mongo\n",
      "506 added for TRV\n",
      "Successfully added to mongo\n",
      "506 added for FOXA\n",
      "Successfully added to mongo\n",
      "506 added for TSN\n",
      "Successfully added to mongo\n",
      "506 added for UDR\n",
      "Successfully added to mongo\n",
      "506 added for USB\n",
      "Successfully added to mongo\n",
      "299 added for UA\n",
      "Successfully added to mongo\n",
      "506 added for UAA\n",
      "Successfully added to mongo\n",
      "506 added for UAL\n",
      "Successfully added to mongo\n",
      "506 added for URI\n",
      "Successfully added to mongo\n",
      "506 added for VFC\n",
      "Successfully added to mongo\n",
      "506 added for VTR\n",
      "Successfully added to mongo\n",
      "506 added for VRSK\n",
      "Successfully added to mongo\n",
      "506 added for VRTX\n",
      "Successfully added to mongo\n",
      "506 added for VIAB\n",
      "Successfully added to mongo\n",
      "506 added for V\n",
      "Successfully added to mongo\n",
      "506 added for VMC\n",
      "Successfully added to mongo\n",
      "506 added for WBA\n",
      "Successfully added to mongo\n",
      "506 added for WM\n",
      "Successfully added to mongo\n",
      "506 added for WEC\n",
      "Successfully added to mongo\n",
      "506 added for WFC\n",
      "Successfully added to mongo\n",
      "506 added for WY\n",
      "Successfully added to mongo\n",
      "506 added for WFM\n",
      "Successfully added to mongo\n",
      "506 added for WMB\n",
      "Successfully added to mongo\n",
      "506 added for WYN\n",
      "Successfully added to mongo\n",
      "506 added for WYNN\n",
      "Successfully added to mongo\n",
      "506 added for XRX\n",
      "Successfully added to mongo\n",
      "216 added for XL\n",
      "Successfully added to mongo\n",
      "506 added for YHOO\n",
      "Successfully added to mongo\n",
      "506 added for ZION\n",
      "Successfully added to mongo\n",
      "Done!\n",
      "0:02:17.108272\n"
     ]
    }
   ],
   "source": [
    "from datetime import datetime\n",
    "start = datetime.now()\n",
    "\n",
    "while True:\n",
    "    # Get a user from the mongo collection\n",
    "    sp500 = sp500_collection.find_one_and_delete({'status': 'pending'})\n",
    "\n",
    "    if type(sp500) != dict:\n",
    "        print('Done!')\n",
    "        break\n",
    "\n",
    "    # Assign the stock to stock\n",
    "    stock = sp500['stock']\n",
    "        \n",
    "    get_stocks_to_mongo(stock)\n",
    "\n",
    "end = datetime.now()\n",
    "print(end - start)"
   ]
  },
  {
   "cell_type": "code",
   "execution_count": 876,
   "metadata": {},
   "outputs": [
    {
     "name": "stdout",
     "output_type": "stream",
     "text": [
      "505\n",
      "250633\n"
     ]
    }
   ],
   "source": [
    "print(sp500_collection.count())\n",
    "print(stocks_collection.count())"
   ]
  },
  {
   "cell_type": "code",
   "execution_count": 877,
   "metadata": {},
   "outputs": [
    {
     "data": {
      "text/plain": [
       "0.9906442687747036"
      ]
     },
     "execution_count": 877,
     "metadata": {},
     "output_type": "execute_result"
    }
   ],
   "source": [
    "250633.0/253000.0\n",
    "# Got 99% of the data we expected"
   ]
  },
  {
   "cell_type": "markdown",
   "metadata": {},
   "source": [
    "#### Clean data:"
   ]
  },
  {
   "cell_type": "code",
   "execution_count": 9,
   "metadata": {},
   "outputs": [
    {
     "data": {
      "text/plain": [
       "0        On this National Gun Violence Awareness Day, l...\n",
       "1        Forever grateful for the service and sacrifice...\n",
       "2        Good to see my friend Prince Harry in London t...\n",
       "3        Through faith, love, and resolve the character...\n",
       "4        Our hearts go out to those killed and wounded ...\n",
       "5        Excited to hear from Sierra, Imani, Filiz, and...\n",
       "6        Happy Mother's Day to my love and partner on t...\n",
       "7        We're rolling up our sleeves again, back where...\n",
       "8        Well said, Jimmy. That's exactly why we fought...\n",
       "9        RT @ObamaFoundation: It’s a beautiful day on t...\n",
       "10       My heart goes out to the victims and their fam...\n",
       "11       Chuck Berry rolled over everyone who came befo...\n",
       "12       On International Women’s Day, @MichelleObama a...\n",
       "13       RT @ObamaFoundation: Courage comes in many for...\n",
       "14       Humbled to be recognized by a family with a le...\n",
       "15         We asked. You answered. https://t.co/mAJvko6VqR\n",
       "16       Happy Valentine’s Day, @michelleobama! Almost ...\n",
       "17       I read letters like these every single day. It...\n",
       "18       RT @ObamaFoundation: Add your voice: https://t...\n",
       "19       In the meantime, I want to hear what you're th...\n",
       "20       Hi everybody! Back to the original handle. Is ...\n",
       "21       Tonight, President Obama reflects on eight yea...\n",
       "22       RT @OFA: \"Thanks to the Affordable Care Act, y...\n",
       "23       In the weekly address, President Obama discuss...\n",
       "24       Let's keep working to keep our economy on a be...\n",
       "25       The landmark #ParisAgreement enters into force...\n",
       "26       The economy added 161,000 jobs in October, and...\n",
       "27       There are a lot of plans out there. Check your...\n",
       "28       The positive impact of #Obamacare is undeniabl...\n",
       "29       RT @POTUS: It happened: @Cubs win World Series...\n",
       "                               ...                        \n",
       "87259    Pandora hunts for buyer as losses steepen http...\n",
       "87260    OCBC profit rises 14% in Q1 on wealth manageme...\n",
       "87261    Wall Street’s fear gauge falls to lowest level...\n",
       "87262    Yen steadies after weakening past ¥113 overnig...\n",
       "87263    Fast Asia Open: South Korea presidential elect...\n",
       "87264    Start-up trading venue trueEX sues Markit http...\n",
       "87265    Sturm, Ruger &amp; Co says gun demand slid aft...\n",
       "87266    Trump warned about Flynn’s Russian blackmail r...\n",
       "87267    Post shares sapped by soggy sales https://t.co...\n",
       "87268    Pandora raises $150m from KKR to explore sale ...\n",
       "87269    Trump donor Robert Mercer sued by fired employ...\n",
       "87270    DoubleLine’s Gundlach bearish on US stocks, bu...\n",
       "87271    Bon-Ton replaces chief executive amid departme...\n",
       "87272    Hertz shares skid on wider-than-expected loss ...\n",
       "87273    Carmakers take direct route to Indian middle c...\n",
       "87274    Glencore and Tohoku agree Australian coal pric...\n",
       "87275    China’s $100bn agribusiness, Macron’s momentum...\n",
       "87276    US stocks pause for breath as Apple rises and ...\n",
       "87277    Algebris head Serra says shorting gilts safest...\n",
       "87278    US tuna probe nets guilty plea from Lion Capit...\n",
       "87279    Numis wisely seeks more than just Alfa in fund...\n",
       "87280    Bill Clinton and crime writer to pen White Hou...\n",
       "87281    Duterte plays cat-and-mouse game with US and C...\n",
       "87282    Goldman shakes up investment bank leadership h...\n",
       "87283    FT View: Buffett, the Brazilians and chainsaw ...\n",
       "87284    Esports viewing shoots up but ad revenues have...\n",
       "87285    Coach hints at further deals after bagging Kat...\n",
       "87286    Tyson shares hit by investigation into the pou...\n",
       "87287    BBA Aviation dips as Citigroup expresses cauti...\n",
       "87288    Warnings of staff relocations after Brexit ris...\n",
       "Name: text, dtype: object"
      ]
     },
     "execution_count": 9,
     "metadata": {},
     "output_type": "execute_result"
    }
   ],
   "source": [
    "tweets_df['text']"
   ]
  },
  {
   "cell_type": "code",
   "execution_count": 13,
   "metadata": {
    "collapsed": true
   },
   "outputs": [],
   "source": [
    "# import re"
   ]
  },
  {
   "cell_type": "code",
   "execution_count": 21,
   "metadata": {
    "collapsed": true
   },
   "outputs": [],
   "source": [
    "# def clean_text(text):\n",
    "#     text = re.sub(\"'\", \"\", text)\n",
    "#     text = re.sub('(http(s)?:\\/\\/.)?(www\\.)?[-a-zA-Z0-9@:%._\\+~#=]{2,256}\\.[a-z]{2,6}\\b([-a-zA-Z0-9@:%_\\+.~#?&//=]*)', '', text)\n",
    "#     text = re.sub('[\\W]', ' ', text)\n",
    "#     return text"
   ]
  },
  {
   "cell_type": "markdown",
   "metadata": {},
   "source": [
    "#### BAG OF WORDS: CountVectorizer"
   ]
  },
  {
   "cell_type": "code",
   "execution_count": 21,
   "metadata": {},
   "outputs": [
    {
     "name": "stdout",
     "output_type": "stream",
     "text": [
      "Requirement already satisfied (use --upgrade to upgrade): spacy in /opt/conda/lib/python3.5/site-packages\n",
      "Requirement already satisfied (use --upgrade to upgrade): pathlib in /opt/conda/lib/python3.5/site-packages (from spacy)\n",
      "Requirement already satisfied (use --upgrade to upgrade): numpy>=1.7 in /opt/conda/lib/python3.5/site-packages (from spacy)\n",
      "Requirement already satisfied (use --upgrade to upgrade): ftfy<5.0.0,>=4.4.2 in /opt/conda/lib/python3.5/site-packages (from spacy)\n",
      "Requirement already satisfied (use --upgrade to upgrade): regex==2017.4.5 in /opt/conda/lib/python3.5/site-packages (from spacy)\n",
      "Requirement already satisfied (use --upgrade to upgrade): preshed<2.0.0,>=1.0.0 in /opt/conda/lib/python3.5/site-packages (from spacy)\n",
      "Requirement already satisfied (use --upgrade to upgrade): thinc<6.6.0,>=6.5.0 in /opt/conda/lib/python3.5/site-packages (from spacy)\n",
      "Requirement already satisfied (use --upgrade to upgrade): dill<0.3,>=0.2 in /opt/conda/lib/python3.5/site-packages (from spacy)\n",
      "Requirement already satisfied (use --upgrade to upgrade): ujson>=1.35 in /opt/conda/lib/python3.5/site-packages (from spacy)\n",
      "Requirement already satisfied (use --upgrade to upgrade): six in /opt/conda/lib/python3.5/site-packages (from spacy)\n",
      "Requirement already satisfied (use --upgrade to upgrade): plac<1.0.0,>=0.9.6 in /opt/conda/lib/python3.5/site-packages (from spacy)\n",
      "Requirement already satisfied (use --upgrade to upgrade): cymem<1.32,>=1.30 in /opt/conda/lib/python3.5/site-packages (from spacy)\n",
      "Requirement already satisfied (use --upgrade to upgrade): requests<3.0.0,>=2.13.0 in /opt/conda/lib/python3.5/site-packages (from spacy)\n",
      "Requirement already satisfied (use --upgrade to upgrade): murmurhash<0.27,>=0.26 in /opt/conda/lib/python3.5/site-packages (from spacy)\n",
      "Requirement already satisfied (use --upgrade to upgrade): wcwidth in /opt/conda/lib/python3.5/site-packages (from ftfy<5.0.0,>=4.4.2->spacy)\n",
      "Requirement already satisfied (use --upgrade to upgrade): html5lib in /opt/conda/lib/python3.5/site-packages (from ftfy<5.0.0,>=4.4.2->spacy)\n",
      "Requirement already satisfied (use --upgrade to upgrade): termcolor in /opt/conda/lib/python3.5/site-packages (from thinc<6.6.0,>=6.5.0->spacy)\n",
      "Requirement already satisfied (use --upgrade to upgrade): tqdm<5.0.0,>=4.10.0 in /opt/conda/lib/python3.5/site-packages (from thinc<6.6.0,>=6.5.0->spacy)\n",
      "Requirement already satisfied (use --upgrade to upgrade): cytoolz<0.9,>=0.8 in /opt/conda/lib/python3.5/site-packages (from thinc<6.6.0,>=6.5.0->spacy)\n",
      "Requirement already satisfied (use --upgrade to upgrade): wrapt in /opt/conda/lib/python3.5/site-packages (from thinc<6.6.0,>=6.5.0->spacy)\n",
      "Requirement already satisfied (use --upgrade to upgrade): urllib3<1.22,>=1.21.1 in /opt/conda/lib/python3.5/site-packages (from requests<3.0.0,>=2.13.0->spacy)\n",
      "Requirement already satisfied (use --upgrade to upgrade): idna<2.6,>=2.5 in /opt/conda/lib/python3.5/site-packages (from requests<3.0.0,>=2.13.0->spacy)\n",
      "Requirement already satisfied (use --upgrade to upgrade): chardet<3.1.0,>=3.0.2 in /opt/conda/lib/python3.5/site-packages (from requests<3.0.0,>=2.13.0->spacy)\n",
      "Requirement already satisfied (use --upgrade to upgrade): certifi>=2017.4.17 in /opt/conda/lib/python3.5/site-packages (from requests<3.0.0,>=2.13.0->spacy)\n",
      "Requirement already satisfied (use --upgrade to upgrade): toolz>=0.8.0 in /opt/conda/lib/python3.5/site-packages (from cytoolz<0.9,>=0.8->thinc<6.6.0,>=6.5.0->spacy)\n",
      "\u001b[33mYou are using pip version 8.1.2, however version 9.0.1 is available.\n",
      "You should consider upgrading via the 'pip install --upgrade pip' command.\u001b[0m\n"
     ]
    }
   ],
   "source": [
    "!pip install spacy"
   ]
  },
  {
   "cell_type": "code",
   "execution_count": 8,
   "metadata": {
    "collapsed": true,
    "scrolled": true
   },
   "outputs": [],
   "source": [
    "from spacy.en import English"
   ]
  },
  {
   "cell_type": "code",
   "execution_count": 33,
   "metadata": {
    "collapsed": true
   },
   "outputs": [],
   "source": [
    "nlp = English()"
   ]
  },
  {
   "cell_type": "code",
   "execution_count": 34,
   "metadata": {},
   "outputs": [
    {
     "data": {
      "text/plain": [
       "'On this National Gun Violence Awareness Day, let your voice be heard and show your commitment to reducing gun viole… https://t.co/S7dth6Ywb0'"
      ]
     },
     "execution_count": 34,
     "metadata": {},
     "output_type": "execute_result"
    }
   ],
   "source": [
    "tweets_df['text'][0]"
   ]
  },
  {
   "cell_type": "code",
   "execution_count": 35,
   "metadata": {},
   "outputs": [
    {
     "data": {
      "text/plain": [
       "(300,)"
      ]
     },
     "execution_count": 35,
     "metadata": {},
     "output_type": "execute_result"
    }
   ],
   "source": [
    "nlp(tweets_df['text'][0]).vector.shape"
   ]
  },
  {
   "cell_type": "code",
   "execution_count": null,
   "metadata": {
    "collapsed": true
   },
   "outputs": [],
   "source": []
  },
  {
   "cell_type": "code",
   "execution_count": 24,
   "metadata": {
    "collapsed": true
   },
   "outputs": [],
   "source": [
    "from sklearn.feature_extraction.text import TfidfVectorizer, CountVectorizer"
   ]
  },
  {
   "cell_type": "code",
   "execution_count": 22,
   "metadata": {
    "scrolled": true
   },
   "outputs": [
    {
     "ename": "MemoryError",
     "evalue": "",
     "output_type": "error",
     "traceback": [
      "\u001b[0;31m\u001b[0m",
      "\u001b[0;31mMemoryError\u001b[0mTraceback (most recent call last)",
      "\u001b[0;32m<ipython-input-22-80e93385f9e0>\u001b[0m in \u001b[0;36m<module>\u001b[0;34m()\u001b[0m\n\u001b[1;32m      1\u001b[0m \u001b[0mnaive_vectorizer\u001b[0m \u001b[0;34m=\u001b[0m \u001b[0mCountVectorizer\u001b[0m\u001b[0;34m(\u001b[0m\u001b[0mmin_df\u001b[0m \u001b[0;34m=\u001b[0m \u001b[0;36m3\u001b[0m\u001b[0;34m)\u001b[0m\u001b[0;34m\u001b[0m\u001b[0m\n\u001b[0;32m----> 2\u001b[0;31m \u001b[0mdocument_term_matrix\u001b[0m \u001b[0;34m=\u001b[0m \u001b[0mcreate_document_term_matrix\u001b[0m\u001b[0;34m(\u001b[0m\u001b[0mnaive_vectorizer\u001b[0m\u001b[0;34m,\u001b[0m \u001b[0mtweets_df\u001b[0m\u001b[0;34m[\u001b[0m\u001b[0;34m'text'\u001b[0m\u001b[0;34m]\u001b[0m\u001b[0;34m)\u001b[0m\u001b[0;34m\u001b[0m\u001b[0m\n\u001b[0m\u001b[1;32m      3\u001b[0m \u001b[0mdocument_term_matrix\u001b[0m\u001b[0;34m.\u001b[0m\u001b[0msample\u001b[0m\u001b[0;34m(\u001b[0m\u001b[0;36m5\u001b[0m\u001b[0;34m)\u001b[0m\u001b[0;34m\u001b[0m\u001b[0m\n\u001b[1;32m      4\u001b[0m \u001b[0;31m#this is a document term matrix. It just counts the # of times a word shows up:\u001b[0m\u001b[0;34m\u001b[0m\u001b[0;34m\u001b[0m\u001b[0m\n",
      "\u001b[0;32m<ipython-input-16-5d0bdc5cc9c9>\u001b[0m in \u001b[0;36mcreate_document_term_matrix\u001b[0;34m(vectorizer, corpus)\u001b[0m\n\u001b[1;32m      1\u001b[0m \u001b[0;32mdef\u001b[0m \u001b[0mcreate_document_term_matrix\u001b[0m\u001b[0;34m(\u001b[0m\u001b[0mvectorizer\u001b[0m\u001b[0;34m,\u001b[0m \u001b[0mcorpus\u001b[0m\u001b[0;34m)\u001b[0m\u001b[0;34m:\u001b[0m\u001b[0;34m\u001b[0m\u001b[0m\n\u001b[1;32m      2\u001b[0m     \u001b[0mdocument_term_matrix\u001b[0m \u001b[0;34m=\u001b[0m \u001b[0mvectorizer\u001b[0m\u001b[0;34m.\u001b[0m\u001b[0mfit_transform\u001b[0m\u001b[0;34m(\u001b[0m\u001b[0mcorpus\u001b[0m\u001b[0;34m)\u001b[0m\u001b[0;34m\u001b[0m\u001b[0m\n\u001b[0;32m----> 3\u001b[0;31m     document_term_matrix = pd.DataFrame(document_term_matrix.toarray(),\n\u001b[0m\u001b[1;32m      4\u001b[0m                                         \u001b[0mindex\u001b[0m\u001b[0;34m=\u001b[0m\u001b[0mcorpus\u001b[0m\u001b[0;34m,\u001b[0m\u001b[0;34m\u001b[0m\u001b[0m\n\u001b[1;32m      5\u001b[0m                                         columns=vectorizer.get_feature_names ())\n",
      "\u001b[0;32m/opt/conda/envs/python2/lib/python2.7/site-packages/scipy/sparse/compressed.pyc\u001b[0m in \u001b[0;36mtoarray\u001b[0;34m(self, order, out)\u001b[0m\n\u001b[1;32m    962\u001b[0m     \u001b[0;32mdef\u001b[0m \u001b[0mtoarray\u001b[0m\u001b[0;34m(\u001b[0m\u001b[0mself\u001b[0m\u001b[0;34m,\u001b[0m \u001b[0morder\u001b[0m\u001b[0;34m=\u001b[0m\u001b[0mNone\u001b[0m\u001b[0;34m,\u001b[0m \u001b[0mout\u001b[0m\u001b[0;34m=\u001b[0m\u001b[0mNone\u001b[0m\u001b[0;34m)\u001b[0m\u001b[0;34m:\u001b[0m\u001b[0;34m\u001b[0m\u001b[0m\n\u001b[1;32m    963\u001b[0m         \u001b[0;34m\"\"\"See the docstring for `spmatrix.toarray`.\"\"\"\u001b[0m\u001b[0;34m\u001b[0m\u001b[0m\n\u001b[0;32m--> 964\u001b[0;31m         \u001b[0;32mreturn\u001b[0m \u001b[0mself\u001b[0m\u001b[0;34m.\u001b[0m\u001b[0mtocoo\u001b[0m\u001b[0;34m(\u001b[0m\u001b[0mcopy\u001b[0m\u001b[0;34m=\u001b[0m\u001b[0mFalse\u001b[0m\u001b[0;34m)\u001b[0m\u001b[0;34m.\u001b[0m\u001b[0mtoarray\u001b[0m\u001b[0;34m(\u001b[0m\u001b[0morder\u001b[0m\u001b[0;34m=\u001b[0m\u001b[0morder\u001b[0m\u001b[0;34m,\u001b[0m \u001b[0mout\u001b[0m\u001b[0;34m=\u001b[0m\u001b[0mout\u001b[0m\u001b[0;34m)\u001b[0m\u001b[0;34m\u001b[0m\u001b[0m\n\u001b[0m\u001b[1;32m    965\u001b[0m \u001b[0;34m\u001b[0m\u001b[0m\n\u001b[1;32m    966\u001b[0m     \u001b[0;31m##############################################################\u001b[0m\u001b[0;34m\u001b[0m\u001b[0;34m\u001b[0m\u001b[0m\n",
      "\u001b[0;32m/opt/conda/envs/python2/lib/python2.7/site-packages/scipy/sparse/coo.pyc\u001b[0m in \u001b[0;36mtoarray\u001b[0;34m(self, order, out)\u001b[0m\n\u001b[1;32m    250\u001b[0m     \u001b[0;32mdef\u001b[0m \u001b[0mtoarray\u001b[0m\u001b[0;34m(\u001b[0m\u001b[0mself\u001b[0m\u001b[0;34m,\u001b[0m \u001b[0morder\u001b[0m\u001b[0;34m=\u001b[0m\u001b[0mNone\u001b[0m\u001b[0;34m,\u001b[0m \u001b[0mout\u001b[0m\u001b[0;34m=\u001b[0m\u001b[0mNone\u001b[0m\u001b[0;34m)\u001b[0m\u001b[0;34m:\u001b[0m\u001b[0;34m\u001b[0m\u001b[0m\n\u001b[1;32m    251\u001b[0m         \u001b[0;34m\"\"\"See the docstring for `spmatrix.toarray`.\"\"\"\u001b[0m\u001b[0;34m\u001b[0m\u001b[0m\n\u001b[0;32m--> 252\u001b[0;31m         \u001b[0mB\u001b[0m \u001b[0;34m=\u001b[0m \u001b[0mself\u001b[0m\u001b[0;34m.\u001b[0m\u001b[0m_process_toarray_args\u001b[0m\u001b[0;34m(\u001b[0m\u001b[0morder\u001b[0m\u001b[0;34m,\u001b[0m \u001b[0mout\u001b[0m\u001b[0;34m)\u001b[0m\u001b[0;34m\u001b[0m\u001b[0m\n\u001b[0m\u001b[1;32m    253\u001b[0m         \u001b[0mfortran\u001b[0m \u001b[0;34m=\u001b[0m \u001b[0mint\u001b[0m\u001b[0;34m(\u001b[0m\u001b[0mB\u001b[0m\u001b[0;34m.\u001b[0m\u001b[0mflags\u001b[0m\u001b[0;34m.\u001b[0m\u001b[0mf_contiguous\u001b[0m\u001b[0;34m)\u001b[0m\u001b[0;34m\u001b[0m\u001b[0m\n\u001b[1;32m    254\u001b[0m         \u001b[0;32mif\u001b[0m \u001b[0;32mnot\u001b[0m \u001b[0mfortran\u001b[0m \u001b[0;32mand\u001b[0m \u001b[0;32mnot\u001b[0m \u001b[0mB\u001b[0m\u001b[0;34m.\u001b[0m\u001b[0mflags\u001b[0m\u001b[0;34m.\u001b[0m\u001b[0mc_contiguous\u001b[0m\u001b[0;34m:\u001b[0m\u001b[0;34m\u001b[0m\u001b[0m\n",
      "\u001b[0;32m/opt/conda/envs/python2/lib/python2.7/site-packages/scipy/sparse/base.pyc\u001b[0m in \u001b[0;36m_process_toarray_args\u001b[0;34m(self, order, out)\u001b[0m\n\u001b[1;32m   1037\u001b[0m             \u001b[0;32mreturn\u001b[0m \u001b[0mout\u001b[0m\u001b[0;34m\u001b[0m\u001b[0m\n\u001b[1;32m   1038\u001b[0m         \u001b[0;32melse\u001b[0m\u001b[0;34m:\u001b[0m\u001b[0;34m\u001b[0m\u001b[0m\n\u001b[0;32m-> 1039\u001b[0;31m             \u001b[0;32mreturn\u001b[0m \u001b[0mnp\u001b[0m\u001b[0;34m.\u001b[0m\u001b[0mzeros\u001b[0m\u001b[0;34m(\u001b[0m\u001b[0mself\u001b[0m\u001b[0;34m.\u001b[0m\u001b[0mshape\u001b[0m\u001b[0;34m,\u001b[0m \u001b[0mdtype\u001b[0m\u001b[0;34m=\u001b[0m\u001b[0mself\u001b[0m\u001b[0;34m.\u001b[0m\u001b[0mdtype\u001b[0m\u001b[0;34m,\u001b[0m \u001b[0morder\u001b[0m\u001b[0;34m=\u001b[0m\u001b[0morder\u001b[0m\u001b[0;34m)\u001b[0m\u001b[0;34m\u001b[0m\u001b[0m\n\u001b[0m\u001b[1;32m   1040\u001b[0m \u001b[0;34m\u001b[0m\u001b[0m\n\u001b[1;32m   1041\u001b[0m     \u001b[0;32mdef\u001b[0m \u001b[0m__numpy_ufunc__\u001b[0m\u001b[0;34m(\u001b[0m\u001b[0mself\u001b[0m\u001b[0;34m,\u001b[0m \u001b[0mfunc\u001b[0m\u001b[0;34m,\u001b[0m \u001b[0mmethod\u001b[0m\u001b[0;34m,\u001b[0m \u001b[0mpos\u001b[0m\u001b[0;34m,\u001b[0m \u001b[0minputs\u001b[0m\u001b[0;34m,\u001b[0m \u001b[0;34m**\u001b[0m\u001b[0mkwargs\u001b[0m\u001b[0;34m)\u001b[0m\u001b[0;34m:\u001b[0m\u001b[0;34m\u001b[0m\u001b[0m\n",
      "\u001b[0;31mMemoryError\u001b[0m: "
     ]
    }
   ],
   "source": [
    "naive_vectorizer = CountVectorizer(min_df = 3)\n",
    "document_term_matrix = create_document_term_matrix(naive_vectorizer, tweets_df['text'])\n",
    "document_term_matrix.sample(5)\n",
    "#this is a document term matrix. It just counts the # of times a word shows up:"
   ]
  },
  {
   "cell_type": "markdown",
   "metadata": {},
   "source": [
    "### Do a PCA to determine number of components for SVD:"
   ]
  },
  {
   "cell_type": "code",
   "execution_count": null,
   "metadata": {
    "collapsed": true
   },
   "outputs": [],
   "source": []
  }
 ],
 "metadata": {
  "kernelspec": {
   "display_name": "Python 3",
   "language": "python",
   "name": "python3"
  },
  "language_info": {
   "codemirror_mode": {
    "name": "ipython",
    "version": 3
   },
   "file_extension": ".py",
   "mimetype": "text/x-python",
   "name": "python",
   "nbconvert_exporter": "python",
   "pygments_lexer": "ipython3",
   "version": "3.5.2"
  }
 },
 "nbformat": 4,
 "nbformat_minor": 2
}
