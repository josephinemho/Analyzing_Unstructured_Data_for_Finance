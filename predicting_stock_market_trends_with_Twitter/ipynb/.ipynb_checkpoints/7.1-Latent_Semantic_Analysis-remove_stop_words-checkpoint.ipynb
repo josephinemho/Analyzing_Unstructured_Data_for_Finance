{
 "cells": [
  {
   "cell_type": "markdown",
   "metadata": {},
   "source": [
    "# Part 7 -- LSA\n",
    "\n",
    "Prepare data for **Singular Value Decomposition (SVD)**."
   ]
  },
  {
   "cell_type": "markdown",
   "metadata": {},
   "source": [
    "### Load lib codes:"
   ]
  },
  {
   "cell_type": "code",
   "execution_count": 1,
   "metadata": {
    "scrolled": true
   },
   "outputs": [
    {
     "name": "stdout",
     "output_type": "stream",
     "text": [
      "/home/jovyan/work/Portfolio/predicting_stock_market_trends_with_Twitter/ipynb\r\n"
     ]
    }
   ],
   "source": [
    "!pwd"
   ]
  },
  {
   "cell_type": "code",
   "execution_count": 2,
   "metadata": {
    "collapsed": true
   },
   "outputs": [],
   "source": [
    "from os import chdir\n",
    "chdir('/home/jovyan/work/Portfolio/predicting_stock_market_trends_with_Twitter/')\n",
    "\n",
    "from lib import *\n",
    "from lib.twitter_keys import my_keys\n",
    "# suppress_warnings()\n",
    "%matplotlib inline\n"
   ]
  },
  {
   "cell_type": "code",
   "execution_count": 3,
   "metadata": {
    "collapsed": true
   },
   "outputs": [],
   "source": [
    "X = pd.read_pickle('../predicting_stock_market_trends_with_Twitter/data/X.pickle')"
   ]
  },
  {
   "cell_type": "code",
   "execution_count": 4,
   "metadata": {
    "collapsed": true
   },
   "outputs": [],
   "source": [
    "y_le = pd.read_pickle('../predicting_stock_market_trends_with_Twitter/data/y_AAPL_le.pickle')"
   ]
  },
  {
   "cell_type": "markdown",
   "metadata": {},
   "source": [
    "SVD does what you tell it to do, so keep components empty so it does it all. PCA does it all and then returns the important ones to you. Generally, you want to use SVD when you have more columns than rows. "
   ]
  },
  {
   "cell_type": "code",
   "execution_count": 5,
   "metadata": {
    "collapsed": true
   },
   "outputs": [],
   "source": [
    "from sklearn.feature_extraction.text import TfidfVectorizer\n",
    "from sklearn.decomposition import TruncatedSVD"
   ]
  },
  {
   "cell_type": "code",
   "execution_count": 54,
   "metadata": {},
   "outputs": [
    {
     "name": "stdout",
     "output_type": "stream",
     "text": [
      "0:00:06.681537\n"
     ]
    }
   ],
   "source": [
    "start = datetime.now()\n",
    "\n",
    "tfidf = TfidfVectorizer(ngram_range=(1,3), min_df=20, stop_words='english')\n",
    "X_tfidf = tfidf.fit_transform(X['cleaned_text'])\n",
    "\n",
    "end = datetime.now()\n",
    "print(end - start)"
   ]
  },
  {
   "cell_type": "markdown",
   "metadata": {},
   "source": [
    "### Explore TFIDF vectors"
   ]
  },
  {
   "cell_type": "code",
   "execution_count": 43,
   "metadata": {},
   "outputs": [
    {
     "data": {
      "text/plain": [
       "['yrs making new',\n",
       " 'ytd',\n",
       " 'yup',\n",
       " 'zachbraff',\n",
       " 'zealand',\n",
       " 'zelda',\n",
       " 'zero',\n",
       " 'zika',\n",
       " 'zone',\n",
       " 'zuckerberg']"
      ]
     },
     "execution_count": 43,
     "metadata": {},
     "output_type": "execute_result"
    }
   ],
   "source": [
    "tfidf.get_feature_names()[-10:]"
   ]
  },
  {
   "cell_type": "markdown",
   "metadata": {},
   "source": [
    "### Do an SVD with a lot of n_components to see how many you want to assign later:\n",
    "Here, we are going to use SVD to reduce the dimensionality to 50 dimensions first, and then use another dimensionality reduction technique called t-SNE that is particularly suited to visualizing high-dimensional datasets, to further reduce the dimensionality to 2."
   ]
  },
  {
   "cell_type": "code",
   "execution_count": 59,
   "metadata": {
    "collapsed": true
   },
   "outputs": [],
   "source": [
    "SVD = TruncatedSVD(200)\n",
    "SVD_tfidf = SVD.fit_transform(X_tfidf)"
   ]
  },
  {
   "cell_type": "code",
   "execution_count": 60,
   "metadata": {
    "scrolled": false
   },
   "outputs": [
    {
     "data": {
      "text/plain": [
       "(0, 0.05)"
      ]
     },
     "execution_count": 60,
     "metadata": {},
     "output_type": "execute_result"
    },
    {
     "data": {
      "image/png": "[encoded data removed]",
      "text/plain": [
       "<matplotlib.figure.Figure at 0x7f4953ba84e0>"
      ]
     },
     "metadata": {},
     "output_type": "display_data"
    }
   ],
   "source": [
    "x = list(range(len(SVD.explained_variance_ratio_)))\n",
    "plt.plot(x, np.cumsum(SVD.explained_variance_ratio_), label='Cumulative Explained Variance', color='black')\n",
    "plt.bar(x, SVD.explained_variance_ratio_)\n",
    "plt.legend()\n",
    "plt.ylim(0,.05)"
   ]
  },
  {
   "cell_type": "code",
   "execution_count": 61,
   "metadata": {
    "scrolled": false
   },
   "outputs": [
    {
     "data": {
      "text/plain": [
       "array([ 0.00473831,  0.00797087,  0.011061  ,  0.01416196,  0.01679716,\n",
       "        0.01915054,  0.02145473,  0.02366732,  0.02583392,  0.02796624,\n",
       "        0.03007116,  0.03215205,  0.03414538,  0.03611678,  0.03807725,\n",
       "        0.0400081 ,  0.04189368,  0.04373646,  0.0455468 ,  0.04730039,\n",
       "        0.04904972,  0.05079182,  0.05251827,  0.05421243,  0.05588473,\n",
       "        0.057542  ,  0.05917819,  0.06077097,  0.06236681,  0.06393589,\n",
       "        0.06548339,  0.0670053 ,  0.06851037,  0.07000858,  0.07149132,\n",
       "        0.07296062,  0.07440801,  0.07583688,  0.07723779,  0.07863519,\n",
       "        0.07999877,  0.08136248,  0.08271535,  0.08406339,  0.08539833,\n",
       "        0.08671842,  0.08803316,  0.08934553,  0.0906451 ,  0.09193547,\n",
       "        0.09321228,  0.09448433,  0.0957499 ,  0.09701289,  0.09827329,\n",
       "        0.09951668,  0.10075071,  0.1019698 ,  0.10318178,  0.10438503,\n",
       "        0.10557742,  0.10676227,  0.10793602,  0.10910462,  0.11026247,\n",
       "        0.11141455,  0.11255258,  0.11368426,  0.11480881,  0.11592235,\n",
       "        0.11702578,  0.11812529,  0.11922334,  0.12031198,  0.12140074,\n",
       "        0.12248748,  0.12356645,  0.12463952,  0.12571018,  0.12676893,\n",
       "        0.12782515,  0.12887446,  0.12991653,  0.1309559 ,  0.13198975,\n",
       "        0.13301489,  0.13403612,  0.13505022,  0.13605335,  0.13704947,\n",
       "        0.1380432 ,  0.1390267 ,  0.14000706,  0.14098294,  0.14195131,\n",
       "        0.14291718,  0.14387891,  0.14483502,  0.14578827,  0.1467374 ,\n",
       "        0.14768391,  0.14862819,  0.1495679 ,  0.15050088,  0.15143142,\n",
       "        0.15235846,  0.1532798 ,  0.15419374,  0.15510752,  0.15601815,\n",
       "        0.15692482,  0.15782154,  0.15871815,  0.15961011,  0.16049899,\n",
       "        0.16138522,  0.16227003,  0.16314992,  0.16402792,  0.16489835,\n",
       "        0.16576334,  0.16662422,  0.16748137,  0.16833489,  0.16918724,\n",
       "        0.17003552,  0.17087984,  0.17172048,  0.17255752,  0.1733908 ,\n",
       "        0.174218  ,  0.1750418 ,  0.17586603,  0.1766889 ,  0.17750762,\n",
       "        0.17831859,  0.17912847,  0.17993616,  0.18073914,  0.18153965,\n",
       "        0.18233861,  0.18313223,  0.18392361,  0.18471156,  0.18549586,\n",
       "        0.18627566,  0.18705393,  0.18782881,  0.18860161,  0.18937207,\n",
       "        0.19013937,  0.19090596,  0.19167041,  0.19243122,  0.19319006,\n",
       "        0.19394643,  0.19470026,  0.19545186,  0.19620232,  0.19695155,\n",
       "        0.19769743,  0.19843834,  0.19917511,  0.19991185,  0.20064701,\n",
       "        0.20137803,  0.20210688,  0.20283509,  0.20355857,  0.20428051,\n",
       "        0.2049972 ,  0.20571341,  0.20642337,  0.20713168,  0.20783828,\n",
       "        0.20854358,  0.20924583,  0.20994413,  0.21064046,  0.21133636,\n",
       "        0.21202682,  0.21271262,  0.21339827,  0.21408023,  0.2147585 ,\n",
       "        0.21543519,  0.21611121,  0.21678427,  0.21745261,  0.21811949,\n",
       "        0.21878301,  0.21944166,  0.22009867,  0.22075273,  0.2214049 ,\n",
       "        0.22205225,  0.22269673,  0.22333468,  0.22396953,  0.22460362])"
      ]
     },
     "execution_count": 61,
     "metadata": {},
     "output_type": "execute_result"
    }
   ],
   "source": [
    "np.cumsum(SVD.explained_variance_ratio_)"
   ]
  },
  {
   "cell_type": "markdown",
   "metadata": {},
   "source": [
    "<s>With 100 SVD n_components, we can only account for 6% of the variance in the data. We need more. \n",
    "With 300 SVD n_components, we can only account for 11% of the variance in the data. **Go back and clean data to see if we get better?**</s><br>\n",
    "With 300 SVD n_components, we can account for 29% of the variance in the data.\n",
    "With 200 SVD n_components, we can account for 22% of the variance in the data. "
   ]
  },
  {
   "cell_type": "code",
   "execution_count": 16,
   "metadata": {
    "collapsed": true
   },
   "outputs": [],
   "source": [
    "def perform_latent_semantic_analysis(n_components, vectorizer):\n",
    "    SVD = TruncatedSVD(n_components)\n",
    "    component_names = [\"component_\"+str(i+1) for i in range(n_components)]\n",
    "    latent_semantic_analysis = pd.DataFrame(SVD.fit_transform(X_tfidf),\n",
    "                                            index = X['cleaned_text'].index,\n",
    "                                            columns = component_names)\n",
    "    vocabulary_expression = pd.DataFrame(SVD.components_,\n",
    "                                         index = component_names,\n",
    "                                         columns = vectorizer.get_feature_names())\n",
    "    return latent_semantic_analysis, vocabulary_expression"
   ]
  },
  {
   "cell_type": "code",
   "execution_count": 48,
   "metadata": {
    "collapsed": true,
    "scrolled": true
   },
   "outputs": [],
   "source": [
    "latent_semantic_analysis, vocabulary_expression = perform_latent_semantic_analysis(3, tfidf)"
   ]
  },
  {
   "cell_type": "code",
   "execution_count": 18,
   "metadata": {},
   "outputs": [
    {
     "data": {
      "text/plain": [
       "array([0, 0, 0, ..., 2, 2, 2])"
      ]
     },
     "execution_count": 18,
     "metadata": {},
     "output_type": "execute_result"
    }
   ],
   "source": [
    "y_le"
   ]
  },
  {
   "cell_type": "code",
   "execution_count": 19,
   "metadata": {
    "collapsed": true
   },
   "outputs": [],
   "source": [
    "latent_semantic_analysis['text'] = X['cleaned_text']\n",
    "latent_semantic_analysis['class'] = y_le"
   ]
  },
  {
   "cell_type": "code",
   "execution_count": 21,
   "metadata": {
    "scrolled": true
   },
   "outputs": [
    {
     "data": {
      "text/html": [
       "<div>\n",
       "<table border=\"1\" class=\"dataframe\">\n",
       "  <thead>\n",
       "    <tr style=\"text-align: right;\">\n",
       "      <th></th>\n",
       "      <th>component_1</th>\n",
       "      <th>component_2</th>\n",
       "      <th>component_3</th>\n",
       "      <th>text</th>\n",
       "      <th>class</th>\n",
       "    </tr>\n",
       "  </thead>\n",
       "  <tbody>\n",
       "    <tr>\n",
       "      <th>25103</th>\n",
       "      <td>0.036475</td>\n",
       "      <td>-0.046663</td>\n",
       "      <td>-0.075772</td>\n",
       "      <td>catch up on last week s episode of the equity ...</td>\n",
       "      <td>0</td>\n",
       "    </tr>\n",
       "    <tr>\n",
       "      <th>83903</th>\n",
       "      <td>0.007324</td>\n",
       "      <td>-0.008988</td>\n",
       "      <td>-0.007981</td>\n",
       "      <td>ft alphaville guest post why iea scenarios sho...</td>\n",
       "      <td>0</td>\n",
       "    </tr>\n",
       "    <tr>\n",
       "      <th>10048</th>\n",
       "      <td>0.036565</td>\n",
       "      <td>-0.043457</td>\n",
       "      <td>-0.023255</td>\n",
       "      <td>jamie oliver about to take stage i think you c...</td>\n",
       "      <td>1</td>\n",
       "    </tr>\n",
       "    <tr>\n",
       "      <th>70859</th>\n",
       "      <td>0.013713</td>\n",
       "      <td>-0.020004</td>\n",
       "      <td>-0.018284</td>\n",
       "      <td>this thai startup wants to turn its users into...</td>\n",
       "      <td>0</td>\n",
       "    </tr>\n",
       "    <tr>\n",
       "      <th>71966</th>\n",
       "      <td>0.010914</td>\n",
       "      <td>-0.014483</td>\n",
       "      <td>-0.018904</td>\n",
       "      <td>13 beauty products or services that are worth ...</td>\n",
       "      <td>0</td>\n",
       "    </tr>\n",
       "    <tr>\n",
       "      <th>34303</th>\n",
       "      <td>0.075677</td>\n",
       "      <td>-0.090003</td>\n",
       "      <td>-0.140216</td>\n",
       "      <td>we re taking a completely new approach to abus...</td>\n",
       "      <td>0</td>\n",
       "    </tr>\n",
       "    <tr>\n",
       "      <th>6993</th>\n",
       "      <td>0.017279</td>\n",
       "      <td>-0.027260</td>\n",
       "      <td>-0.010049</td>\n",
       "      <td>economic growth doesn t always improve well be...</td>\n",
       "      <td>0</td>\n",
       "    </tr>\n",
       "    <tr>\n",
       "      <th>4611</th>\n",
       "      <td>0.195292</td>\n",
       "      <td>-0.116383</td>\n",
       "      <td>0.178553</td>\n",
       "      <td>rt cnnpolitics president trump on the job repo...</td>\n",
       "      <td>0</td>\n",
       "    </tr>\n",
       "    <tr>\n",
       "      <th>56381</th>\n",
       "      <td>0.008814</td>\n",
       "      <td>-0.012495</td>\n",
       "      <td>-0.010974</td>\n",
       "      <td>imagine a stored value card so thin it could b...</td>\n",
       "      <td>0</td>\n",
       "    </tr>\n",
       "    <tr>\n",
       "      <th>33389</th>\n",
       "      <td>0.264698</td>\n",
       "      <td>0.135462</td>\n",
       "      <td>0.018691</td>\n",
       "      <td>rt jayleno the tonightshow with guests jerryse...</td>\n",
       "      <td>0</td>\n",
       "    </tr>\n",
       "  </tbody>\n",
       "</table>\n",
       "</div>"
      ],
      "text/plain": [
       "       component_1  component_2  component_3  \\\n",
       "25103     0.036475    -0.046663    -0.075772   \n",
       "83903     0.007324    -0.008988    -0.007981   \n",
       "10048     0.036565    -0.043457    -0.023255   \n",
       "70859     0.013713    -0.020004    -0.018284   \n",
       "71966     0.010914    -0.014483    -0.018904   \n",
       "34303     0.075677    -0.090003    -0.140216   \n",
       "6993      0.017279    -0.027260    -0.010049   \n",
       "4611      0.195292    -0.116383     0.178553   \n",
       "56381     0.008814    -0.012495    -0.010974   \n",
       "33389     0.264698     0.135462     0.018691   \n",
       "\n",
       "                                                    text  class  \n",
       "25103  catch up on last week s episode of the equity ...      0  \n",
       "83903  ft alphaville guest post why iea scenarios sho...      0  \n",
       "10048  jamie oliver about to take stage i think you c...      1  \n",
       "70859  this thai startup wants to turn its users into...      0  \n",
       "71966  13 beauty products or services that are worth ...      0  \n",
       "34303  we re taking a completely new approach to abus...      0  \n",
       "6993   economic growth doesn t always improve well be...      0  \n",
       "4611   rt cnnpolitics president trump on the job repo...      0  \n",
       "56381  imagine a stored value card so thin it could b...      0  \n",
       "33389  rt jayleno the tonightshow with guests jerryse...      0  "
      ]
     },
     "execution_count": 21,
     "metadata": {},
     "output_type": "execute_result"
    }
   ],
   "source": [
    "latent_semantic_analysis.sample(10)"
   ]
  },
  {
   "cell_type": "code",
   "execution_count": 22,
   "metadata": {},
   "outputs": [
    {
     "data": {
      "text/html": [
       "<div>\n",
       "<table border=\"1\" class=\"dataframe\">\n",
       "  <thead>\n",
       "    <tr style=\"text-align: right;\">\n",
       "      <th></th>\n",
       "      <th>component_1</th>\n",
       "      <th>component_2</th>\n",
       "      <th>component_3</th>\n",
       "    </tr>\n",
       "  </thead>\n",
       "  <tbody>\n",
       "    <tr>\n",
       "      <th>rt</th>\n",
       "      <td>0.861678</td>\n",
       "      <td>0.457639</td>\n",
       "      <td>0.097134</td>\n",
       "    </tr>\n",
       "    <tr>\n",
       "      <th>trump</th>\n",
       "      <td>0.180524</td>\n",
       "      <td>0.414735</td>\n",
       "      <td>0.531287</td>\n",
       "    </tr>\n",
       "    <tr>\n",
       "      <th>new</th>\n",
       "      <td>0.096028</td>\n",
       "      <td>0.176435</td>\n",
       "      <td>0.314188</td>\n",
       "    </tr>\n",
       "    <tr>\n",
       "      <th>president</th>\n",
       "      <td>0.093651</td>\n",
       "      <td>0.303586</td>\n",
       "      <td>0.190468</td>\n",
       "    </tr>\n",
       "    <tr>\n",
       "      <th>just</th>\n",
       "      <td>0.087007</td>\n",
       "      <td>0.159127</td>\n",
       "      <td>0.147654</td>\n",
       "    </tr>\n",
       "    <tr>\n",
       "      <th>amp</th>\n",
       "      <td>0.085620</td>\n",
       "      <td>0.070823</td>\n",
       "      <td>0.153974</td>\n",
       "    </tr>\n",
       "    <tr>\n",
       "      <th>today</th>\n",
       "      <td>0.073437</td>\n",
       "      <td>0.097643</td>\n",
       "      <td>0.141319</td>\n",
       "    </tr>\n",
       "    <tr>\n",
       "      <th>people</th>\n",
       "      <td>0.066038</td>\n",
       "      <td>0.123703</td>\n",
       "      <td>0.118793</td>\n",
       "    </tr>\n",
       "    <tr>\n",
       "      <th>time</th>\n",
       "      <td>0.066005</td>\n",
       "      <td>0.111455</td>\n",
       "      <td>0.153944</td>\n",
       "    </tr>\n",
       "    <tr>\n",
       "      <th>like</th>\n",
       "      <td>0.063773</td>\n",
       "      <td>0.100056</td>\n",
       "      <td>0.146415</td>\n",
       "    </tr>\n",
       "  </tbody>\n",
       "</table>\n",
       "</div>"
      ],
      "text/plain": [
       "           component_1  component_2  component_3\n",
       "rt            0.861678     0.457639     0.097134\n",
       "trump         0.180524     0.414735     0.531287\n",
       "new           0.096028     0.176435     0.314188\n",
       "president     0.093651     0.303586     0.190468\n",
       "just          0.087007     0.159127     0.147654\n",
       "amp           0.085620     0.070823     0.153974\n",
       "today         0.073437     0.097643     0.141319\n",
       "people        0.066038     0.123703     0.118793\n",
       "time          0.066005     0.111455     0.153944\n",
       "like          0.063773     0.100056     0.146415"
      ]
     },
     "execution_count": 22,
     "metadata": {},
     "output_type": "execute_result"
    }
   ],
   "source": [
    "vocabulary_expression.abs().T.sort_values('component_1', ascending=False).head(10)"
   ]
  },
  {
   "cell_type": "code",
   "execution_count": 62,
   "metadata": {},
   "outputs": [
    {
     "name": "stdout",
     "output_type": "stream",
     "text": [
      "[t-SNE] Computing pairwise distances...\n"
     ]
    },
    {
     "ename": "MemoryError",
     "evalue": "",
     "output_type": "error",
     "traceback": [
      "\u001b[0;31m\u001b[0m",
      "\u001b[0;31mMemoryError\u001b[0mTraceback (most recent call last)",
      "\u001b[0;32m<ipython-input-62-2bb40195863d>\u001b[0m in \u001b[0;36m<module>\u001b[0;34m()\u001b[0m\n\u001b[1;32m      2\u001b[0m \u001b[0;34m\u001b[0m\u001b[0m\n\u001b[1;32m      3\u001b[0m \u001b[0mtsne_model\u001b[0m \u001b[0;34m=\u001b[0m \u001b[0mTSNE\u001b[0m\u001b[0;34m(\u001b[0m\u001b[0mn_components\u001b[0m\u001b[0;34m=\u001b[0m\u001b[0;36m2\u001b[0m\u001b[0;34m,\u001b[0m \u001b[0mverbose\u001b[0m\u001b[0;34m=\u001b[0m\u001b[0;36m1\u001b[0m\u001b[0;34m,\u001b[0m \u001b[0mrandom_state\u001b[0m\u001b[0;34m=\u001b[0m\u001b[0;36m42\u001b[0m\u001b[0;34m)\u001b[0m\u001b[0;34m\u001b[0m\u001b[0m\n\u001b[0;32m----> 4\u001b[0;31m \u001b[0mtsne_tfidf\u001b[0m \u001b[0;34m=\u001b[0m \u001b[0mtsne_model\u001b[0m\u001b[0;34m.\u001b[0m\u001b[0mfit_transform\u001b[0m\u001b[0;34m(\u001b[0m\u001b[0mSVD_tfidf\u001b[0m\u001b[0;34m)\u001b[0m\u001b[0;34m\u001b[0m\u001b[0m\n\u001b[0m",
      "\u001b[0;32m/opt/conda/lib/python3.5/site-packages/sklearn/manifold/t_sne.py\u001b[0m in \u001b[0;36mfit_transform\u001b[0;34m(self, X, y)\u001b[0m\n\u001b[1;32m    882\u001b[0m             \u001b[0mEmbedding\u001b[0m \u001b[0mof\u001b[0m \u001b[0mthe\u001b[0m \u001b[0mtraining\u001b[0m \u001b[0mdata\u001b[0m \u001b[0;32min\u001b[0m \u001b[0mlow\u001b[0m\u001b[0;34m-\u001b[0m\u001b[0mdimensional\u001b[0m \u001b[0mspace\u001b[0m\u001b[0;34m.\u001b[0m\u001b[0;34m\u001b[0m\u001b[0m\n\u001b[1;32m    883\u001b[0m         \"\"\"\n\u001b[0;32m--> 884\u001b[0;31m         \u001b[0membedding\u001b[0m \u001b[0;34m=\u001b[0m \u001b[0mself\u001b[0m\u001b[0;34m.\u001b[0m\u001b[0m_fit\u001b[0m\u001b[0;34m(\u001b[0m\u001b[0mX\u001b[0m\u001b[0;34m)\u001b[0m\u001b[0;34m\u001b[0m\u001b[0m\n\u001b[0m\u001b[1;32m    885\u001b[0m         \u001b[0mself\u001b[0m\u001b[0;34m.\u001b[0m\u001b[0membedding_\u001b[0m \u001b[0;34m=\u001b[0m \u001b[0membedding\u001b[0m\u001b[0;34m\u001b[0m\u001b[0m\n\u001b[1;32m    886\u001b[0m         \u001b[0;32mreturn\u001b[0m \u001b[0mself\u001b[0m\u001b[0;34m.\u001b[0m\u001b[0membedding_\u001b[0m\u001b[0;34m\u001b[0m\u001b[0m\n",
      "\u001b[0;32m/opt/conda/lib/python3.5/site-packages/sklearn/manifold/t_sne.py\u001b[0m in \u001b[0;36m_fit\u001b[0;34m(self, X, skip_num_points)\u001b[0m\n\u001b[1;32m    728\u001b[0m             \u001b[0;32mif\u001b[0m \u001b[0mself\u001b[0m\u001b[0;34m.\u001b[0m\u001b[0mmetric\u001b[0m \u001b[0;34m==\u001b[0m \u001b[0;34m\"euclidean\"\u001b[0m\u001b[0;34m:\u001b[0m\u001b[0;34m\u001b[0m\u001b[0m\n\u001b[1;32m    729\u001b[0m                 distances = pairwise_distances(X, metric=self.metric,\n\u001b[0;32m--> 730\u001b[0;31m                                                squared=True)\n\u001b[0m\u001b[1;32m    731\u001b[0m             \u001b[0;32melse\u001b[0m\u001b[0;34m:\u001b[0m\u001b[0;34m\u001b[0m\u001b[0m\n\u001b[1;32m    732\u001b[0m                 \u001b[0mdistances\u001b[0m \u001b[0;34m=\u001b[0m \u001b[0mpairwise_distances\u001b[0m\u001b[0;34m(\u001b[0m\u001b[0mX\u001b[0m\u001b[0;34m,\u001b[0m \u001b[0mmetric\u001b[0m\u001b[0;34m=\u001b[0m\u001b[0mself\u001b[0m\u001b[0;34m.\u001b[0m\u001b[0mmetric\u001b[0m\u001b[0;34m)\u001b[0m\u001b[0;34m\u001b[0m\u001b[0m\n",
      "\u001b[0;32m/opt/conda/lib/python3.5/site-packages/sklearn/metrics/pairwise.py\u001b[0m in \u001b[0;36mpairwise_distances\u001b[0;34m(X, Y, metric, n_jobs, **kwds)\u001b[0m\n\u001b[1;32m   1238\u001b[0m         \u001b[0mfunc\u001b[0m \u001b[0;34m=\u001b[0m \u001b[0mpartial\u001b[0m\u001b[0;34m(\u001b[0m\u001b[0mdistance\u001b[0m\u001b[0;34m.\u001b[0m\u001b[0mcdist\u001b[0m\u001b[0;34m,\u001b[0m \u001b[0mmetric\u001b[0m\u001b[0;34m=\u001b[0m\u001b[0mmetric\u001b[0m\u001b[0;34m,\u001b[0m \u001b[0;34m**\u001b[0m\u001b[0mkwds\u001b[0m\u001b[0;34m)\u001b[0m\u001b[0;34m\u001b[0m\u001b[0m\n\u001b[1;32m   1239\u001b[0m \u001b[0;34m\u001b[0m\u001b[0m\n\u001b[0;32m-> 1240\u001b[0;31m     \u001b[0;32mreturn\u001b[0m \u001b[0m_parallel_pairwise\u001b[0m\u001b[0;34m(\u001b[0m\u001b[0mX\u001b[0m\u001b[0;34m,\u001b[0m \u001b[0mY\u001b[0m\u001b[0;34m,\u001b[0m \u001b[0mfunc\u001b[0m\u001b[0;34m,\u001b[0m \u001b[0mn_jobs\u001b[0m\u001b[0;34m,\u001b[0m \u001b[0;34m**\u001b[0m\u001b[0mkwds\u001b[0m\u001b[0;34m)\u001b[0m\u001b[0;34m\u001b[0m\u001b[0m\n\u001b[0m\u001b[1;32m   1241\u001b[0m \u001b[0;34m\u001b[0m\u001b[0m\n\u001b[1;32m   1242\u001b[0m \u001b[0;34m\u001b[0m\u001b[0m\n",
      "\u001b[0;32m/opt/conda/lib/python3.5/site-packages/sklearn/metrics/pairwise.py\u001b[0m in \u001b[0;36m_parallel_pairwise\u001b[0;34m(X, Y, func, n_jobs, **kwds)\u001b[0m\n\u001b[1;32m   1081\u001b[0m     \u001b[0;32mif\u001b[0m \u001b[0mn_jobs\u001b[0m \u001b[0;34m==\u001b[0m \u001b[0;36m1\u001b[0m\u001b[0;34m:\u001b[0m\u001b[0;34m\u001b[0m\u001b[0m\n\u001b[1;32m   1082\u001b[0m         \u001b[0;31m# Special case to avoid picklability checks in delayed\u001b[0m\u001b[0;34m\u001b[0m\u001b[0;34m\u001b[0m\u001b[0m\n\u001b[0;32m-> 1083\u001b[0;31m         \u001b[0;32mreturn\u001b[0m \u001b[0mfunc\u001b[0m\u001b[0;34m(\u001b[0m\u001b[0mX\u001b[0m\u001b[0;34m,\u001b[0m \u001b[0mY\u001b[0m\u001b[0;34m,\u001b[0m \u001b[0;34m**\u001b[0m\u001b[0mkwds\u001b[0m\u001b[0;34m)\u001b[0m\u001b[0;34m\u001b[0m\u001b[0m\n\u001b[0m\u001b[1;32m   1084\u001b[0m \u001b[0;34m\u001b[0m\u001b[0m\n\u001b[1;32m   1085\u001b[0m     \u001b[0;31m# TODO: in some cases, backend='threading' may be appropriate\u001b[0m\u001b[0;34m\u001b[0m\u001b[0;34m\u001b[0m\u001b[0m\n",
      "\u001b[0;32m/opt/conda/lib/python3.5/site-packages/sklearn/metrics/pairwise.py\u001b[0m in \u001b[0;36meuclidean_distances\u001b[0;34m(X, Y, Y_norm_squared, squared, X_norm_squared)\u001b[0m\n\u001b[1;32m    243\u001b[0m         \u001b[0mYY\u001b[0m \u001b[0;34m=\u001b[0m \u001b[0mrow_norms\u001b[0m\u001b[0;34m(\u001b[0m\u001b[0mY\u001b[0m\u001b[0;34m,\u001b[0m \u001b[0msquared\u001b[0m\u001b[0;34m=\u001b[0m\u001b[0;32mTrue\u001b[0m\u001b[0;34m)\u001b[0m\u001b[0;34m[\u001b[0m\u001b[0mnp\u001b[0m\u001b[0;34m.\u001b[0m\u001b[0mnewaxis\u001b[0m\u001b[0;34m,\u001b[0m \u001b[0;34m:\u001b[0m\u001b[0;34m]\u001b[0m\u001b[0;34m\u001b[0m\u001b[0m\n\u001b[1;32m    244\u001b[0m \u001b[0;34m\u001b[0m\u001b[0m\n\u001b[0;32m--> 245\u001b[0;31m     \u001b[0mdistances\u001b[0m \u001b[0;34m=\u001b[0m \u001b[0msafe_sparse_dot\u001b[0m\u001b[0;34m(\u001b[0m\u001b[0mX\u001b[0m\u001b[0;34m,\u001b[0m \u001b[0mY\u001b[0m\u001b[0;34m.\u001b[0m\u001b[0mT\u001b[0m\u001b[0;34m,\u001b[0m \u001b[0mdense_output\u001b[0m\u001b[0;34m=\u001b[0m\u001b[0;32mTrue\u001b[0m\u001b[0;34m)\u001b[0m\u001b[0;34m\u001b[0m\u001b[0m\n\u001b[0m\u001b[1;32m    246\u001b[0m     \u001b[0mdistances\u001b[0m \u001b[0;34m*=\u001b[0m \u001b[0;34m-\u001b[0m\u001b[0;36m2\u001b[0m\u001b[0;34m\u001b[0m\u001b[0m\n\u001b[1;32m    247\u001b[0m     \u001b[0mdistances\u001b[0m \u001b[0;34m+=\u001b[0m \u001b[0mXX\u001b[0m\u001b[0;34m\u001b[0m\u001b[0m\n",
      "\u001b[0;32m/opt/conda/lib/python3.5/site-packages/sklearn/utils/extmath.py\u001b[0m in \u001b[0;36msafe_sparse_dot\u001b[0;34m(a, b, dense_output)\u001b[0m\n\u001b[1;32m    187\u001b[0m         \u001b[0;32mreturn\u001b[0m \u001b[0mret\u001b[0m\u001b[0;34m\u001b[0m\u001b[0m\n\u001b[1;32m    188\u001b[0m     \u001b[0;32melse\u001b[0m\u001b[0;34m:\u001b[0m\u001b[0;34m\u001b[0m\u001b[0m\n\u001b[0;32m--> 189\u001b[0;31m         \u001b[0;32mreturn\u001b[0m \u001b[0mfast_dot\u001b[0m\u001b[0;34m(\u001b[0m\u001b[0ma\u001b[0m\u001b[0;34m,\u001b[0m \u001b[0mb\u001b[0m\u001b[0;34m)\u001b[0m\u001b[0;34m\u001b[0m\u001b[0m\n\u001b[0m\u001b[1;32m    190\u001b[0m \u001b[0;34m\u001b[0m\u001b[0m\n\u001b[1;32m    191\u001b[0m \u001b[0;34m\u001b[0m\u001b[0m\n",
      "\u001b[0;31mMemoryError\u001b[0m: "
     ]
    }
   ],
   "source": [
    "from sklearn.manifold import TSNE\n",
    "\n",
    "tsne_model = TSNE(n_components=2, verbose=1, random_state=42)\n",
    "tsne_tfidf = tsne_model.fit_transform(SVD_tfidf)"
   ]
  },
  {
   "cell_type": "code",
   "execution_count": 52,
   "metadata": {},
   "outputs": [
    {
     "data": {
      "text/plain": [
       "array([[ 0.04754896, -0.05522032, -0.07211492, ..., -0.00843344,\n",
       "         0.01464794,  0.00303418],\n",
       "       [ 0.02738514, -0.05042999, -0.02913831, ...,  0.00145725,\n",
       "         0.00658705,  0.01036843],\n",
       "       [ 0.02382674, -0.02699551, -0.03085828, ..., -0.01522674,\n",
       "         0.02720996,  0.0608369 ],\n",
       "       ..., \n",
       "       [ 0.02997911, -0.04419137, -0.05679211, ..., -0.01441976,\n",
       "        -0.03469518,  0.00449035],\n",
       "       [ 0.00109189, -0.00219098, -0.00337761, ...,  0.00221918,\n",
       "         0.00118879, -0.00233075],\n",
       "       [ 0.00694163, -0.00918601, -0.00480285, ...,  0.05424309,\n",
       "         0.02660057, -0.01782917]])"
      ]
     },
     "execution_count": 52,
     "metadata": {},
     "output_type": "execute_result"
    }
   ],
   "source": [
    "latent_semantic_analysis"
   ]
  },
  {
   "cell_type": "code",
   "execution_count": 45,
   "metadata": {},
   "outputs": [
    {
     "data": {
      "text/html": [
       "<div>\n",
       "<table border=\"1\" class=\"dataframe\">\n",
       "  <thead>\n",
       "    <tr style=\"text-align: right;\">\n",
       "      <th></th>\n",
       "      <th>00</th>\n",
       "      <th>000</th>\n",
       "      <th>000 jobs</th>\n",
       "      <th>000 people</th>\n",
       "      <th>000 year</th>\n",
       "      <th>02</th>\n",
       "      <th>03</th>\n",
       "      <th>04</th>\n",
       "      <th>05</th>\n",
       "      <th>09</th>\n",
       "      <th>...</th>\n",
       "      <th>yrs making new</th>\n",
       "      <th>ytd</th>\n",
       "      <th>yup</th>\n",
       "      <th>zachbraff</th>\n",
       "      <th>zealand</th>\n",
       "      <th>zelda</th>\n",
       "      <th>zero</th>\n",
       "      <th>zika</th>\n",
       "      <th>zone</th>\n",
       "      <th>zuckerberg</th>\n",
       "    </tr>\n",
       "  </thead>\n",
       "  <tbody>\n",
       "    <tr>\n",
       "      <th>component_1</th>\n",
       "      <td>0.002262</td>\n",
       "      <td>0.021449</td>\n",
       "      <td>0.001379</td>\n",
       "      <td>0.001120</td>\n",
       "      <td>0.001287</td>\n",
       "      <td>0.001562</td>\n",
       "      <td>0.001836</td>\n",
       "      <td>0.000962</td>\n",
       "      <td>0.000919</td>\n",
       "      <td>0.000723</td>\n",
       "      <td>...</td>\n",
       "      <td>0.000417</td>\n",
       "      <td>0.001391</td>\n",
       "      <td>0.000828</td>\n",
       "      <td>0.001763</td>\n",
       "      <td>0.000807</td>\n",
       "      <td>0.000352</td>\n",
       "      <td>0.003675</td>\n",
       "      <td>0.001080</td>\n",
       "      <td>0.000739</td>\n",
       "      <td>0.002987</td>\n",
       "    </tr>\n",
       "    <tr>\n",
       "      <th>component_2</th>\n",
       "      <td>-0.003911</td>\n",
       "      <td>-0.028358</td>\n",
       "      <td>-0.002644</td>\n",
       "      <td>-0.002468</td>\n",
       "      <td>-0.002165</td>\n",
       "      <td>0.000520</td>\n",
       "      <td>0.000301</td>\n",
       "      <td>0.000231</td>\n",
       "      <td>-0.000659</td>\n",
       "      <td>-0.000646</td>\n",
       "      <td>...</td>\n",
       "      <td>-0.001180</td>\n",
       "      <td>-0.002643</td>\n",
       "      <td>-0.000359</td>\n",
       "      <td>0.000740</td>\n",
       "      <td>-0.001823</td>\n",
       "      <td>-0.000905</td>\n",
       "      <td>-0.004450</td>\n",
       "      <td>-0.000272</td>\n",
       "      <td>-0.000556</td>\n",
       "      <td>-0.004137</td>\n",
       "    </tr>\n",
       "    <tr>\n",
       "      <th>component_3</th>\n",
       "      <td>-0.004226</td>\n",
       "      <td>-0.036128</td>\n",
       "      <td>-0.001480</td>\n",
       "      <td>-0.002507</td>\n",
       "      <td>-0.003344</td>\n",
       "      <td>-0.000834</td>\n",
       "      <td>-0.001397</td>\n",
       "      <td>-0.000630</td>\n",
       "      <td>-0.000922</td>\n",
       "      <td>-0.001473</td>\n",
       "      <td>...</td>\n",
       "      <td>-0.002171</td>\n",
       "      <td>-0.005126</td>\n",
       "      <td>-0.000713</td>\n",
       "      <td>-0.000559</td>\n",
       "      <td>-0.001972</td>\n",
       "      <td>-0.001145</td>\n",
       "      <td>-0.004078</td>\n",
       "      <td>-0.000870</td>\n",
       "      <td>-0.000765</td>\n",
       "      <td>-0.004368</td>\n",
       "    </tr>\n",
       "  </tbody>\n",
       "</table>\n",
       "<p>3 rows × 5268 columns</p>\n",
       "</div>"
      ],
      "text/plain": [
       "                   00       000  000 jobs  000 people  000 year        02  \\\n",
       "component_1  0.002262  0.021449  0.001379    0.001120  0.001287  0.001562   \n",
       "component_2 -0.003911 -0.028358 -0.002644   -0.002468 -0.002165  0.000520   \n",
       "component_3 -0.004226 -0.036128 -0.001480   -0.002507 -0.003344 -0.000834   \n",
       "\n",
       "                   03        04        05        09     ...      \\\n",
       "component_1  0.001836  0.000962  0.000919  0.000723     ...       \n",
       "component_2  0.000301  0.000231 -0.000659 -0.000646     ...       \n",
       "component_3 -0.001397 -0.000630 -0.000922 -0.001473     ...       \n",
       "\n",
       "             yrs making new       ytd       yup  zachbraff   zealand  \\\n",
       "component_1        0.000417  0.001391  0.000828   0.001763  0.000807   \n",
       "component_2       -0.001180 -0.002643 -0.000359   0.000740 -0.001823   \n",
       "component_3       -0.002171 -0.005126 -0.000713  -0.000559 -0.001972   \n",
       "\n",
       "                zelda      zero      zika      zone  zuckerberg  \n",
       "component_1  0.000352  0.003675  0.001080  0.000739    0.002987  \n",
       "component_2 -0.000905 -0.004450 -0.000272 -0.000556   -0.004137  \n",
       "component_3 -0.001145 -0.004078 -0.000870 -0.000765   -0.004368  \n",
       "\n",
       "[3 rows x 5268 columns]"
      ]
     },
     "execution_count": 45,
     "metadata": {},
     "output_type": "execute_result"
    }
   ],
   "source": [
    "vocabulary_expression"
   ]
  },
  {
   "cell_type": "code",
   "execution_count": 26,
   "metadata": {},
   "outputs": [
    {
     "ename": "AttributeError",
     "evalue": "inverse_transform not found",
     "output_type": "error",
     "traceback": [
      "\u001b[0;31m\u001b[0m",
      "\u001b[0;31mAttributeError\u001b[0mTraceback (most recent call last)",
      "\u001b[0;32m<ipython-input-26-fbe3b152d857>\u001b[0m in \u001b[0;36m<module>\u001b[0;34m()\u001b[0m\n\u001b[0;32m----> 1\u001b[0;31m \u001b[0mX_tfidf\u001b[0m\u001b[0;34m.\u001b[0m\u001b[0minverse_transform\u001b[0m\u001b[0;34m(\u001b[0m\u001b[0my_le\u001b[0m\u001b[0;34m)\u001b[0m\u001b[0;34m\u001b[0m\u001b[0m\n\u001b[0m",
      "\u001b[0;32m/opt/conda/lib/python3.5/site-packages/scipy/sparse/base.py\u001b[0m in \u001b[0;36m__getattr__\u001b[0;34m(self, attr)\u001b[0m\n\u001b[1;32m    574\u001b[0m             \u001b[0;32mreturn\u001b[0m \u001b[0mself\u001b[0m\u001b[0;34m.\u001b[0m\u001b[0mgetnnz\u001b[0m\u001b[0;34m(\u001b[0m\u001b[0;34m)\u001b[0m\u001b[0;34m\u001b[0m\u001b[0m\n\u001b[1;32m    575\u001b[0m         \u001b[0;32melse\u001b[0m\u001b[0;34m:\u001b[0m\u001b[0;34m\u001b[0m\u001b[0m\n\u001b[0;32m--> 576\u001b[0;31m             \u001b[0;32mraise\u001b[0m \u001b[0mAttributeError\u001b[0m\u001b[0;34m(\u001b[0m\u001b[0mattr\u001b[0m \u001b[0;34m+\u001b[0m \u001b[0;34m\" not found\"\u001b[0m\u001b[0;34m)\u001b[0m\u001b[0;34m\u001b[0m\u001b[0m\n\u001b[0m\u001b[1;32m    577\u001b[0m \u001b[0;34m\u001b[0m\u001b[0m\n\u001b[1;32m    578\u001b[0m     \u001b[0;32mdef\u001b[0m \u001b[0mtranspose\u001b[0m\u001b[0;34m(\u001b[0m\u001b[0mself\u001b[0m\u001b[0;34m,\u001b[0m \u001b[0maxes\u001b[0m\u001b[0;34m=\u001b[0m\u001b[0;32mNone\u001b[0m\u001b[0;34m,\u001b[0m \u001b[0mcopy\u001b[0m\u001b[0;34m=\u001b[0m\u001b[0;32mFalse\u001b[0m\u001b[0;34m)\u001b[0m\u001b[0;34m:\u001b[0m\u001b[0;34m\u001b[0m\u001b[0m\n",
      "\u001b[0;31mAttributeError\u001b[0m: inverse_transform not found"
     ]
    }
   ],
   "source": [
    "X_tfidf.inverse_transform(y_le)"
   ]
  },
  {
   "cell_type": "code",
   "execution_count": null,
   "metadata": {
    "collapsed": true
   },
   "outputs": [],
   "source": []
  }
 ],
 "metadata": {
  "kernelspec": {
   "display_name": "Python 3",
   "language": "python",
   "name": "python3"
  },
  "language_info": {
   "codemirror_mode": {
    "name": "ipython",
    "version": 3
   },
   "file_extension": ".py",
   "mimetype": "text/x-python",
   "name": "python",
   "nbconvert_exporter": "python",
   "pygments_lexer": "ipython3",
   "version": "3.5.2"
  }
 },
 "nbformat": 4,
 "nbformat_minor": 2
}
