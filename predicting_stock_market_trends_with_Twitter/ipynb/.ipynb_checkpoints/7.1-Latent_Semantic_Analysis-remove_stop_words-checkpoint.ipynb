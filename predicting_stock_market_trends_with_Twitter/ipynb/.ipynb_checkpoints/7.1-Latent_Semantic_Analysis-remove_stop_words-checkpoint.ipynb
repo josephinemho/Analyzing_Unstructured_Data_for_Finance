{
 "cells": [
  {
   "cell_type": "markdown",
   "metadata": {},
   "source": [
    "# Part 7 -- LSA\n",
    "\n",
    "Prepare data for **Singular Value Decomposition (SVD)**."
   ]
  },
  {
   "cell_type": "markdown",
   "metadata": {},
   "source": [
    "### Load lib codes:"
   ]
  },
  {
   "cell_type": "code",
   "execution_count": 1,
   "metadata": {
    "scrolled": true
   },
   "outputs": [
    {
     "name": "stdout",
     "output_type": "stream",
     "text": [
      "/home/jovyan/work/Portfolio/predicting_stock_market_trends_with_Twitter/ipynb\r\n"
     ]
    }
   ],
   "source": [
    "!pwd"
   ]
  },
  {
   "cell_type": "code",
   "execution_count": 2,
   "metadata": {},
   "outputs": [],
   "source": [
    "from os import chdir\n",
    "chdir('/home/jovyan/work/Portfolio/predicting_stock_market_trends_with_Twitter/')\n",
    "\n",
    "from lib import *\n",
    "from lib.twitter_keys import my_keys\n",
    "# suppress_warnings()\n",
    "%matplotlib inline\n"
   ]
  },
  {
   "cell_type": "code",
   "execution_count": 9,
   "metadata": {},
   "outputs": [
    {
     "name": "stdout",
     "output_type": "stream",
     "text": [
      "Requirement already satisfied (use --upgrade to upgrade): pymongo in /opt/conda/lib/python3.5/site-packages\r\n",
      "\u001b[33mYou are using pip version 8.1.2, however version 9.0.1 is available.\r\n",
      "You should consider upgrading via the 'pip install --upgrade pip' command.\u001b[0m\r\n"
     ]
    }
   ],
   "source": [
    "!pip install pymongo"
   ]
  },
  {
   "cell_type": "code",
   "execution_count": 122,
   "metadata": {},
   "outputs": [],
   "source": [
    "X = pd.read_pickle('../predicting_stock_market_trends_with_Twitter/data/X.pickle')"
   ]
  },
  {
   "cell_type": "code",
   "execution_count": 11,
   "metadata": {
    "collapsed": true
   },
   "outputs": [],
   "source": [
    "y_le = pd.read_pickle('../predicting_stock_market_trends_with_Twitter/data/y_AAPL_le.pickle')"
   ]
  },
  {
   "cell_type": "markdown",
   "metadata": {},
   "source": [
    "SVD does what you tell it to do, so keep components empty so it does it all. PCA does it all and then returns the important ones to you. Generally, you want to use SVD when you have more columns than rows. "
   ]
  },
  {
   "cell_type": "code",
   "execution_count": 51,
   "metadata": {
    "collapsed": true
   },
   "outputs": [],
   "source": [
    "from sklearn.feature_extraction.text import TfidfVectorizer\n",
    "from sklearn.decomposition import TruncatedSVD"
   ]
  },
  {
   "cell_type": "code",
   "execution_count": 13,
   "metadata": {},
   "outputs": [
    {
     "name": "stdout",
     "output_type": "stream",
     "text": [
      "0:00:06.657367\n"
     ]
    }
   ],
   "source": [
    "start = datetime.now()\n",
    "\n",
    "tfidf = TfidfVectorizer(ngram_range=(1,3), min_df=20, stop_words='english')\n",
    "X_tfidf = tfidf.fit_transform(X['cleaned_text'])\n",
    "\n",
    "end = datetime.now()\n",
    "print(end - start)"
   ]
  },
  {
   "cell_type": "markdown",
   "metadata": {},
   "source": [
    "### Explore TFIDF vectors"
   ]
  },
  {
   "cell_type": "code",
   "execution_count": 14,
   "metadata": {},
   "outputs": [
    {
     "data": {
      "text/plain": [
       "['yrs making new',\n",
       " 'ytd',\n",
       " 'yup',\n",
       " 'zachbraff',\n",
       " 'zealand',\n",
       " 'zelda',\n",
       " 'zero',\n",
       " 'zika',\n",
       " 'zone',\n",
       " 'zuckerberg']"
      ]
     },
     "execution_count": 14,
     "metadata": {},
     "output_type": "execute_result"
    }
   ],
   "source": [
    "tfidf.get_feature_names()[-10:]"
   ]
  },
  {
   "cell_type": "markdown",
   "metadata": {},
   "source": [
    "### Do an SVD with a lot of n_components to see how many you want to assign later:\n",
    "Here, we are going to use SVD to reduce the dimensionality to 50 dimensions first, and then use another dimensionality reduction technique called t-SNE that is particularly suited to visualizing high-dimensional datasets, to further reduce the dimensionality to 2."
   ]
  },
  {
   "cell_type": "code",
   "execution_count": 72,
   "metadata": {
    "collapsed": true
   },
   "outputs": [],
   "source": [
    "from sklearn.decomposition import PCA"
   ]
  },
  {
   "cell_type": "code",
   "execution_count": 119,
   "metadata": {},
   "outputs": [
    {
     "data": {
      "text/plain": [
       "(68006, 5268)"
      ]
     },
     "execution_count": 119,
     "metadata": {},
     "output_type": "execute_result"
    }
   ],
   "source": [
    "X_tfidf.shape"
   ]
  },
  {
   "cell_type": "code",
   "execution_count": null,
   "metadata": {
    "collapsed": true
   },
   "outputs": [],
   "source": []
  },
  {
   "cell_type": "code",
   "execution_count": 73,
   "metadata": {},
   "outputs": [],
   "source": [
    "PCA = PCA(n_components = 50)\n",
    "PCA_tfidf = PCA.fit_transform(X_tfidf.todense())"
   ]
  },
  {
   "cell_type": "code",
   "execution_count": 74,
   "metadata": {},
   "outputs": [],
   "source": [
    "# SVD = TruncatedSVD(n_components = 50)\n",
    "# SVD_tfidf = SVD.fit_transform(X_tfidf.todense())"
   ]
  },
  {
   "cell_type": "code",
   "execution_count": 128,
   "metadata": {
    "collapsed": true
   },
   "outputs": [],
   "source": [
    "SVD = TruncatedSVD(n_components = 50)\n",
    "SVD_tfidf = SVD.fit_transform(X_tfidf[:10000])"
   ]
  },
  {
   "cell_type": "code",
   "execution_count": 129,
   "metadata": {},
   "outputs": [
    {
     "data": {
      "text/plain": [
       "(10000, 50)"
      ]
     },
     "execution_count": 129,
     "metadata": {},
     "output_type": "execute_result"
    }
   ],
   "source": [
    "SVD_tfidf.shape"
   ]
  },
  {
   "cell_type": "code",
   "execution_count": 62,
   "metadata": {
    "scrolled": false
   },
   "outputs": [
    {
     "data": {
      "text/plain": [
       "(0, 0.02)"
      ]
     },
     "execution_count": 62,
     "metadata": {},
     "output_type": "execute_result"
    },
    {
     "data": {
      "image/png": "[encoded data removed]",
      "text/plain": [
       "<matplotlib.figure.Figure at 0x7fded6044748>"
      ]
     },
     "metadata": {},
     "output_type": "display_data"
    }
   ],
   "source": [
    "x = list(range(len(PCA.explained_variance_ratio_)))\n",
    "plt.plot(x, np.cumsum(PCA.explained_variance_ratio_), label='Cumulative Explained Variance', color='black')\n",
    "plt.bar(x, PCA.explained_variance_ratio_)\n",
    "plt.legend()\n",
    "plt.ylim(0,.02)\n",
    "# plt.xlim(-100,4000)"
   ]
  },
  {
   "cell_type": "code",
   "execution_count": 63,
   "metadata": {},
   "outputs": [
    {
     "data": {
      "text/plain": [
       "(0, 0.02)"
      ]
     },
     "execution_count": 63,
     "metadata": {},
     "output_type": "execute_result"
    },
    {
     "data": {
      "image/png": "[encoded data removed]",
      "text/plain": [
       "<matplotlib.figure.Figure at 0x7fdec0f108d0>"
      ]
     },
     "metadata": {},
     "output_type": "display_data"
    }
   ],
   "source": [
    "x = list(range(len(SVD.explained_variance_ratio_)))\n",
    "plt.plot(x, np.cumsum(SVD.explained_variance_ratio_), label='Cumulative Explained Variance', color='black')\n",
    "plt.bar(x, SVD.explained_variance_ratio_)\n",
    "plt.legend()\n",
    "plt.ylim(0,.02)\n",
    "# plt.xlim(-100,4000)"
   ]
  },
  {
   "cell_type": "code",
   "execution_count": 48,
   "metadata": {
    "scrolled": false
   },
   "outputs": [
    {
     "data": {
      "text/plain": [
       "array([ 0.00582138,  0.00946974,  0.01260373,  0.01528474,  0.01765842,\n",
       "        0.01996988,  0.022273  ,  0.02447057,  0.02662678,  0.02875104,\n",
       "        0.03085526,  0.0329165 ,  0.03490785,  0.03687907,  0.03883909,\n",
       "        0.04077048,  0.04263293,  0.04445822,  0.04626556,  0.04802565,\n",
       "        0.04977663,  0.05150371,  0.05320916,  0.05488228,  0.05654336,\n",
       "        0.05820058,  0.05983683,  0.0614369 ,  0.06301206,  0.06456031,\n",
       "        0.06608598,  0.06759358,  0.06909727,  0.07059266,  0.07207502,\n",
       "        0.07354405,  0.07498499,  0.07641411,  0.07781693,  0.07920816,\n",
       "        0.08057334,  0.08193026,  0.08327886,  0.08462004,  0.08594354,\n",
       "        0.08726069,  0.08857409,  0.08987867,  0.09117529,  0.09246279,\n",
       "        0.09373832,  0.09500969,  0.09627437,  0.09753642,  0.09879641,\n",
       "        0.10003533,  0.10126902,  0.10248622,  0.1036982 ,  0.10490238,\n",
       "        0.10608847,  0.10726719,  0.10843979,  0.10960251,  0.11075749,\n",
       "        0.11190557,  0.11304554,  0.11417629,  0.11530171,  0.11641659,\n",
       "        0.11752269,  0.11862416,  0.11972307,  0.12081442,  0.12190311,\n",
       "        0.12298549,  0.12406541,  0.12513829,  0.1262079 ,  0.12726904,\n",
       "        0.12832626,  0.12937768,  0.13042294,  0.13146532,  0.13249951,\n",
       "        0.13352742,  0.13454626,  0.13555535,  0.13656206,  0.13756197,\n",
       "        0.13855967,  0.13954735,  0.14053039,  0.14151005,  0.14248169,\n",
       "        0.14345267,  0.14442194,  0.14538186,  0.14633648,  0.14728875,\n",
       "        0.14823831,  0.14918544,  0.15013046,  0.15107131,  0.15200516,\n",
       "        0.15293568,  0.15385992,  0.15478126,  0.15570148,  0.1566152 ,\n",
       "        0.15752437,  0.15842875,  0.15933168,  0.16023136,  0.16112877,\n",
       "        0.16202286,  0.16291319,  0.16379943,  0.16468216,  0.16556262,\n",
       "        0.16643329,  0.16730296,  0.16817169,  0.16903634,  0.16989513,\n",
       "        0.17075045,  0.17160267,  0.17245401,  0.17330349,  0.17414633,\n",
       "        0.17498581,  0.1758223 ,  0.17665601,  0.17748692,  0.17831246,\n",
       "        0.1791358 ,  0.17995812,  0.18077614,  0.1815907 ,  0.18240053,\n",
       "        0.1832082 ,  0.18401264,  0.184814  ,  0.18561287,  0.18640711,\n",
       "        0.187199  ,  0.18798737,  0.18877214,  0.18955585,  0.19033846,\n",
       "        0.19111699,  0.19189487,  0.19266744,  0.19343892,  0.19420819,\n",
       "        0.19497567,  0.19574081,  0.1965042 ,  0.19726556,  0.19802477,\n",
       "        0.19878257,  0.19953807,  0.20029188,  0.20104458,  0.20179467,\n",
       "        0.20254133,  0.20328734,  0.20402945,  0.20477016,  0.20550775,\n",
       "        0.20624019,  0.20697073,  0.20769832,  0.20842182,  0.20914445,\n",
       "        0.20986482,  0.21058263,  0.21129988,  0.21201312,  0.21272445,\n",
       "        0.21343179,  0.21413873,  0.21484275,  0.21554445,  0.21624204,\n",
       "        0.2169363 ,  0.21762918,  0.21832141,  0.21900796,  0.21969322,\n",
       "        0.2203761 ,  0.2210578 ,  0.22173596,  0.22241248,  0.22308572,\n",
       "        0.22375755,  0.22442287,  0.22508689,  0.22574787,  0.22640608])"
      ]
     },
     "execution_count": 48,
     "metadata": {},
     "output_type": "execute_result"
    }
   ],
   "source": [
    "# np.cumsum(PCA.explained_variance_ratio_)"
   ]
  },
  {
   "cell_type": "code",
   "execution_count": 41,
   "metadata": {},
   "outputs": [
    {
     "data": {
      "text/plain": [
       "array([ 0.00473831,  0.00797087,  0.01106099,  0.01416196,  0.01679716,\n",
       "        0.01915054,  0.02145472,  0.02366732,  0.02583391,  0.02796623,\n",
       "        0.03007116,  0.03215208,  0.03414543,  0.03611682,  0.03807729,\n",
       "        0.04000815,  0.04189375,  0.04373651,  0.04554684,  0.04730044,\n",
       "        0.04904979,  0.05079186,  0.0525183 ,  0.05421246,  0.05588476,\n",
       "        0.05754203,  0.05917822,  0.0607708 ,  0.06236665,  0.06393567,\n",
       "        0.06548315,  0.06700504,  0.06851008,  0.07000825,  0.07149092,\n",
       "        0.0729603 ,  0.07440765,  0.07583667,  0.07723781,  0.07863499,\n",
       "        0.07999862,  0.0813622 ,  0.08271517,  0.0840634 ,  0.08539827,\n",
       "        0.08671815,  0.08803281,  0.08934505,  0.09064466,  0.09193495,\n",
       "        0.09321146,  0.09448333,  0.09574899,  0.09701166,  0.09827194,\n",
       "        0.09951493,  0.10074896,  0.1019685 ,  0.10318043,  0.10438352,\n",
       "        0.10557568,  0.10676011,  0.10793336,  0.10910161,  0.11025896,\n",
       "        0.11141095,  0.11254969,  0.11368098,  0.11480515,  0.11591817,\n",
       "        0.11702224,  0.11811971,  0.1192178 ,  0.12030999,  0.12139797,\n",
       "        0.12248445,  0.12356409,  0.12463899,  0.12570836,  0.12676705,\n",
       "        0.12782298,  0.12887205,  0.12991391,  0.13095369,  0.13198588,\n",
       "        0.13301329,  0.13403552,  0.13504838,  0.13605194,  0.13704748,\n",
       "        0.13804043,  0.13902387,  0.14000545,  0.14098258,  0.14194786,\n",
       "        0.14291244,  0.143874  ,  0.14483093,  0.14578246,  0.14673079,\n",
       "        0.14767882,  0.14861981,  0.14956089,  0.15049552,  0.15142407,\n",
       "        0.15235099,  0.15327267,  0.15419167,  0.15510471,  0.15601343,\n",
       "        0.15691955,  0.15781924,  0.1587149 ,  0.15960704,  0.16049814,\n",
       "        0.16138737,  0.16227131,  0.16315036,  0.1640279 ,  0.16490059,\n",
       "        0.1657675 ,  0.1666303 ,  0.16748882,  0.16834636,  0.16919775,\n",
       "        0.17004237,  0.17088438,  0.17172369,  0.17255821,  0.17339144,\n",
       "        0.17422265,  0.1750516 ,  0.17587576,  0.17669597,  0.17751235,\n",
       "        0.17832558,  0.17913696,  0.17994483,  0.18074631,  0.181547  ,\n",
       "        0.18234311,  0.18313629,  0.18392388,  0.18470869,  0.18549269,\n",
       "        0.18627414,  0.18705465,  0.18783077,  0.18860447,  0.18937336,\n",
       "        0.1901388 ,  0.19090241,  0.1916645 ,  0.19242348,  0.19318047,\n",
       "        0.1939341 ,  0.19468298,  0.19543067,  0.19617541,  0.19691722,\n",
       "        0.19765655,  0.19839388,  0.19912888,  0.19986142,  0.20059268,\n",
       "        0.20131991,  0.20204426,  0.20276719,  0.20348723,  0.20420578,\n",
       "        0.20492252,  0.20563603,  0.20634761,  0.20705734,  0.20776257,\n",
       "        0.20846338,  0.2091632 ,  0.20986222,  0.21055988,  0.2112542 ,\n",
       "        0.21194626,  0.21263556,  0.21332282,  0.21400579,  0.2146864 ,\n",
       "        0.21536178,  0.21603578,  0.21670476,  0.21736996,  0.21803303,\n",
       "        0.21869139,  0.21934725,  0.22000104,  0.22065283,  0.22130158,\n",
       "        0.22194577,  0.22258484,  0.22322111,  0.22385381,  0.22448426])"
      ]
     },
     "execution_count": 41,
     "metadata": {},
     "output_type": "execute_result"
    }
   ],
   "source": [
    "# np.cumsum(SVD.explained_variance_ratio_)"
   ]
  },
  {
   "cell_type": "markdown",
   "metadata": {},
   "source": [
    "<s>With 100 SVD n_components, we can only account for 6% of the variance in the data. We need more. \n",
    "With 300 SVD n_components, we can only account for 11% of the variance in the data. **Go back and clean data to see if we get better?**</s><br>\n",
    "With 300 SVD n_components, we can account for 29% of the variance in the data.\n",
    "With 200 SVD n_components, we can account for 22% of the variance in the data. "
   ]
  },
  {
   "cell_type": "code",
   "execution_count": null,
   "metadata": {
    "collapsed": true
   },
   "outputs": [],
   "source": []
  },
  {
   "cell_type": "code",
   "execution_count": null,
   "metadata": {
    "collapsed": true
   },
   "outputs": [],
   "source": []
  },
  {
   "cell_type": "code",
   "execution_count": 16,
   "metadata": {
    "collapsed": true
   },
   "outputs": [],
   "source": [
    "def perform_latent_semantic_analysis(n_components, vectorizer):\n",
    "    SVD = TruncatedSVD(n_components)\n",
    "    component_names = [\"component_\"+str(i+1) for i in range(n_components)]\n",
    "    latent_semantic_analysis = pd.DataFrame(SVD.fit_transform(X_tfidf),\n",
    "                                            index = X['cleaned_text'].index,\n",
    "                                            columns = component_names)\n",
    "    vocabulary_expression = pd.DataFrame(SVD.components_,\n",
    "                                         index = component_names,\n",
    "                                         columns = vectorizer.get_feature_names())\n",
    "    return latent_semantic_analysis, vocabulary_expression"
   ]
  },
  {
   "cell_type": "code",
   "execution_count": 48,
   "metadata": {
    "collapsed": true,
    "scrolled": true
   },
   "outputs": [],
   "source": [
    "latent_semantic_analysis, vocabulary_expression = perform_latent_semantic_analysis(3, tfidf)"
   ]
  },
  {
   "cell_type": "code",
   "execution_count": 104,
   "metadata": {},
   "outputs": [
    {
     "data": {
      "text/plain": [
       "{0, 1, 2}"
      ]
     },
     "execution_count": 104,
     "metadata": {},
     "output_type": "execute_result"
    }
   ],
   "source": [
    "set(y_le)"
   ]
  },
  {
   "cell_type": "code",
   "execution_count": 19,
   "metadata": {
    "collapsed": true
   },
   "outputs": [],
   "source": [
    "latent_semantic_analysis['text'] = X['cleaned_text']\n",
    "latent_semantic_analysis['class'] = y_le"
   ]
  },
  {
   "cell_type": "code",
   "execution_count": 21,
   "metadata": {
    "scrolled": true
   },
   "outputs": [
    {
     "data": {
      "text/html": [
       "<div>\n",
       "<table border=\"1\" class=\"dataframe\">\n",
       "  <thead>\n",
       "    <tr style=\"text-align: right;\">\n",
       "      <th></th>\n",
       "      <th>component_1</th>\n",
       "      <th>component_2</th>\n",
       "      <th>component_3</th>\n",
       "      <th>text</th>\n",
       "      <th>class</th>\n",
       "    </tr>\n",
       "  </thead>\n",
       "  <tbody>\n",
       "    <tr>\n",
       "      <th>25103</th>\n",
       "      <td>0.036475</td>\n",
       "      <td>-0.046663</td>\n",
       "      <td>-0.075772</td>\n",
       "      <td>catch up on last week s episode of the equity ...</td>\n",
       "      <td>0</td>\n",
       "    </tr>\n",
       "    <tr>\n",
       "      <th>83903</th>\n",
       "      <td>0.007324</td>\n",
       "      <td>-0.008988</td>\n",
       "      <td>-0.007981</td>\n",
       "      <td>ft alphaville guest post why iea scenarios sho...</td>\n",
       "      <td>0</td>\n",
       "    </tr>\n",
       "    <tr>\n",
       "      <th>10048</th>\n",
       "      <td>0.036565</td>\n",
       "      <td>-0.043457</td>\n",
       "      <td>-0.023255</td>\n",
       "      <td>jamie oliver about to take stage i think you c...</td>\n",
       "      <td>1</td>\n",
       "    </tr>\n",
       "    <tr>\n",
       "      <th>70859</th>\n",
       "      <td>0.013713</td>\n",
       "      <td>-0.020004</td>\n",
       "      <td>-0.018284</td>\n",
       "      <td>this thai startup wants to turn its users into...</td>\n",
       "      <td>0</td>\n",
       "    </tr>\n",
       "    <tr>\n",
       "      <th>71966</th>\n",
       "      <td>0.010914</td>\n",
       "      <td>-0.014483</td>\n",
       "      <td>-0.018904</td>\n",
       "      <td>13 beauty products or services that are worth ...</td>\n",
       "      <td>0</td>\n",
       "    </tr>\n",
       "    <tr>\n",
       "      <th>34303</th>\n",
       "      <td>0.075677</td>\n",
       "      <td>-0.090003</td>\n",
       "      <td>-0.140216</td>\n",
       "      <td>we re taking a completely new approach to abus...</td>\n",
       "      <td>0</td>\n",
       "    </tr>\n",
       "    <tr>\n",
       "      <th>6993</th>\n",
       "      <td>0.017279</td>\n",
       "      <td>-0.027260</td>\n",
       "      <td>-0.010049</td>\n",
       "      <td>economic growth doesn t always improve well be...</td>\n",
       "      <td>0</td>\n",
       "    </tr>\n",
       "    <tr>\n",
       "      <th>4611</th>\n",
       "      <td>0.195292</td>\n",
       "      <td>-0.116383</td>\n",
       "      <td>0.178553</td>\n",
       "      <td>rt cnnpolitics president trump on the job repo...</td>\n",
       "      <td>0</td>\n",
       "    </tr>\n",
       "    <tr>\n",
       "      <th>56381</th>\n",
       "      <td>0.008814</td>\n",
       "      <td>-0.012495</td>\n",
       "      <td>-0.010974</td>\n",
       "      <td>imagine a stored value card so thin it could b...</td>\n",
       "      <td>0</td>\n",
       "    </tr>\n",
       "    <tr>\n",
       "      <th>33389</th>\n",
       "      <td>0.264698</td>\n",
       "      <td>0.135462</td>\n",
       "      <td>0.018691</td>\n",
       "      <td>rt jayleno the tonightshow with guests jerryse...</td>\n",
       "      <td>0</td>\n",
       "    </tr>\n",
       "  </tbody>\n",
       "</table>\n",
       "</div>"
      ],
      "text/plain": [
       "       component_1  component_2  component_3  \\\n",
       "25103     0.036475    -0.046663    -0.075772   \n",
       "83903     0.007324    -0.008988    -0.007981   \n",
       "10048     0.036565    -0.043457    -0.023255   \n",
       "70859     0.013713    -0.020004    -0.018284   \n",
       "71966     0.010914    -0.014483    -0.018904   \n",
       "34303     0.075677    -0.090003    -0.140216   \n",
       "6993      0.017279    -0.027260    -0.010049   \n",
       "4611      0.195292    -0.116383     0.178553   \n",
       "56381     0.008814    -0.012495    -0.010974   \n",
       "33389     0.264698     0.135462     0.018691   \n",
       "\n",
       "                                                    text  class  \n",
       "25103  catch up on last week s episode of the equity ...      0  \n",
       "83903  ft alphaville guest post why iea scenarios sho...      0  \n",
       "10048  jamie oliver about to take stage i think you c...      1  \n",
       "70859  this thai startup wants to turn its users into...      0  \n",
       "71966  13 beauty products or services that are worth ...      0  \n",
       "34303  we re taking a completely new approach to abus...      0  \n",
       "6993   economic growth doesn t always improve well be...      0  \n",
       "4611   rt cnnpolitics president trump on the job repo...      0  \n",
       "56381  imagine a stored value card so thin it could b...      0  \n",
       "33389  rt jayleno the tonightshow with guests jerryse...      0  "
      ]
     },
     "execution_count": 21,
     "metadata": {},
     "output_type": "execute_result"
    }
   ],
   "source": [
    "latent_semantic_analysis.sample(10)"
   ]
  },
  {
   "cell_type": "code",
   "execution_count": 22,
   "metadata": {},
   "outputs": [
    {
     "data": {
      "text/html": [
       "<div>\n",
       "<table border=\"1\" class=\"dataframe\">\n",
       "  <thead>\n",
       "    <tr style=\"text-align: right;\">\n",
       "      <th></th>\n",
       "      <th>component_1</th>\n",
       "      <th>component_2</th>\n",
       "      <th>component_3</th>\n",
       "    </tr>\n",
       "  </thead>\n",
       "  <tbody>\n",
       "    <tr>\n",
       "      <th>rt</th>\n",
       "      <td>0.861678</td>\n",
       "      <td>0.457639</td>\n",
       "      <td>0.097134</td>\n",
       "    </tr>\n",
       "    <tr>\n",
       "      <th>trump</th>\n",
       "      <td>0.180524</td>\n",
       "      <td>0.414735</td>\n",
       "      <td>0.531287</td>\n",
       "    </tr>\n",
       "    <tr>\n",
       "      <th>new</th>\n",
       "      <td>0.096028</td>\n",
       "      <td>0.176435</td>\n",
       "      <td>0.314188</td>\n",
       "    </tr>\n",
       "    <tr>\n",
       "      <th>president</th>\n",
       "      <td>0.093651</td>\n",
       "      <td>0.303586</td>\n",
       "      <td>0.190468</td>\n",
       "    </tr>\n",
       "    <tr>\n",
       "      <th>just</th>\n",
       "      <td>0.087007</td>\n",
       "      <td>0.159127</td>\n",
       "      <td>0.147654</td>\n",
       "    </tr>\n",
       "    <tr>\n",
       "      <th>amp</th>\n",
       "      <td>0.085620</td>\n",
       "      <td>0.070823</td>\n",
       "      <td>0.153974</td>\n",
       "    </tr>\n",
       "    <tr>\n",
       "      <th>today</th>\n",
       "      <td>0.073437</td>\n",
       "      <td>0.097643</td>\n",
       "      <td>0.141319</td>\n",
       "    </tr>\n",
       "    <tr>\n",
       "      <th>people</th>\n",
       "      <td>0.066038</td>\n",
       "      <td>0.123703</td>\n",
       "      <td>0.118793</td>\n",
       "    </tr>\n",
       "    <tr>\n",
       "      <th>time</th>\n",
       "      <td>0.066005</td>\n",
       "      <td>0.111455</td>\n",
       "      <td>0.153944</td>\n",
       "    </tr>\n",
       "    <tr>\n",
       "      <th>like</th>\n",
       "      <td>0.063773</td>\n",
       "      <td>0.100056</td>\n",
       "      <td>0.146415</td>\n",
       "    </tr>\n",
       "  </tbody>\n",
       "</table>\n",
       "</div>"
      ],
      "text/plain": [
       "           component_1  component_2  component_3\n",
       "rt            0.861678     0.457639     0.097134\n",
       "trump         0.180524     0.414735     0.531287\n",
       "new           0.096028     0.176435     0.314188\n",
       "president     0.093651     0.303586     0.190468\n",
       "just          0.087007     0.159127     0.147654\n",
       "amp           0.085620     0.070823     0.153974\n",
       "today         0.073437     0.097643     0.141319\n",
       "people        0.066038     0.123703     0.118793\n",
       "time          0.066005     0.111455     0.153944\n",
       "like          0.063773     0.100056     0.146415"
      ]
     },
     "execution_count": 22,
     "metadata": {},
     "output_type": "execute_result"
    }
   ],
   "source": [
    "vocabulary_expression.abs().T.sort_values('component_1', ascending=False).head(10)"
   ]
  },
  {
   "cell_type": "code",
   "execution_count": 87,
   "metadata": {},
   "outputs": [
    {
     "name": "stdout",
     "output_type": "stream",
     "text": [
      "Collecting bhtsne\n",
      "  Downloading bhtsne-0.1.9.tar.gz (86kB)\n",
      "\u001b[K    100% |████████████████████████████████| 92kB 3.3MB/s ta 0:00:011\n",
      "\u001b[?25hRequirement already satisfied (use --upgrade to upgrade): numpy in /opt/conda/lib/python3.5/site-packages (from bhtsne)\n",
      "Requirement already satisfied (use --upgrade to upgrade): cython in /opt/conda/lib/python3.5/site-packages (from bhtsne)\n",
      "Building wheels for collected packages: bhtsne\n",
      "  Running setup.py bdist_wheel for bhtsne ... \u001b[?25ldone\n",
      "\u001b[?25h  Stored in directory: /home/jovyan/.cache/pip/wheels/82/84/9f/71772eb2a4ca43d4d350df06a5cc368ded0fe2c99521c1b783\n",
      "Successfully built bhtsne\n",
      "Installing collected packages: bhtsne\n",
      "Successfully installed bhtsne-0.1.9\n",
      "\u001b[33mYou are using pip version 8.1.2, however version 9.0.1 is available.\n",
      "You should consider upgrading via the 'pip install --upgrade pip' command.\u001b[0m\n"
     ]
    }
   ],
   "source": [
    "!pip install bhtsne"
   ]
  },
  {
   "cell_type": "code",
   "execution_count": 79,
   "metadata": {
    "collapsed": true
   },
   "outputs": [],
   "source": [
    "# from sklearn.manifold import TSNE"
   ]
  },
  {
   "cell_type": "code",
   "execution_count": null,
   "metadata": {
    "collapsed": true
   },
   "outputs": [],
   "source": [
    "from bhtsne import tsne"
   ]
  },
  {
   "cell_type": "code",
   "execution_count": 105,
   "metadata": {
    "scrolled": true
   },
   "outputs": [
    {
     "data": {
      "image/png": "[encoded data removed]",
      "text/plain": [
       "<matplotlib.figure.Figure at 0x7fdec0bfadd8>"
      ]
     },
     "metadata": {},
     "output_type": "display_data"
    }
   ],
   "source": [
    "# # Fit on SVD_tfidf:\n",
    "# TSNE_SVD_tfidf = tsne(SVD_tfidf)\n",
    "# plt.scatter(TSNE_SVD_tfidf[:, 0], TSNE_SVD_tfidf[:, 1], c=y_le)\n",
    "# plt.show()"
   ]
  },
  {
   "cell_type": "code",
   "execution_count": 117,
   "metadata": {},
   "outputs": [
    {
     "data": {
      "image/png": "[encoded data removed]",
      "text/plain": [
       "<matplotlib.figure.Figure at 0x7fdec53bfac8>"
      ]
     },
     "metadata": {},
     "output_type": "display_data"
    }
   ],
   "source": [
    "# # Fit on X_tfidf.data:\n",
    "# TSNE_SVD_tfidf = tsne(SVD_tfidf.data)\n",
    "# plt.scatter(TSNE_SVD_tfidf[:, 0], TSNE_SVD_tfidf[:, 1], c=y_le)\n",
    "# plt.show()"
   ]
  },
  {
   "cell_type": "code",
   "execution_count": 149,
   "metadata": {},
   "outputs": [
    {
     "data": {
      "image/png": "[encoded data removed]",
      "text/plain": [
       "<matplotlib.figure.Figure at 0x7fdec51738d0>"
      ]
     },
     "metadata": {},
     "output_type": "display_data"
    }
   ],
   "source": [
    "# # Fit on X_tfidf[:10000]:\n",
    "# TSNE_SVD_tfidf = tsne(SVD_tfidf)\n",
    "# plt.scatter(TSNE_SVD_tfidf[:, 0], TSNE_SVD_tfidf[:, 1], c=y_le[:10000])\n",
    "# plt.colorbar()\n",
    "# plt.show()"
   ]
  },
  {
   "cell_type": "code",
   "execution_count": null,
   "metadata": {
    "collapsed": true
   },
   "outputs": [],
   "source": []
  },
  {
   "cell_type": "code",
   "execution_count": 152,
   "metadata": {},
   "outputs": [
    {
     "name": "stdout",
     "output_type": "stream",
     "text": [
      "Collecting IPythonBell\n",
      "  Downloading IPythonBell-0.10.tar.gz\n",
      "Building wheels for collected packages: IPythonBell\n",
      "  Running setup.py bdist_wheel for IPythonBell ... \u001b[?25ldone\n",
      "\u001b[?25h  Stored in directory: /home/jovyan/.cache/pip/wheels/45/8c/7d/89462094b75f06725d838f2e97e67dc22479a92dc45f036e26\n",
      "Successfully built IPythonBell\n",
      "Installing collected packages: IPythonBell\n",
      "Successfully installed IPythonBell-0.10\n",
      "\u001b[33mYou are using pip version 8.1.2, however version 9.0.1 is available.\n",
      "You should consider upgrading via the 'pip install --upgrade pip' command.\u001b[0m\n"
     ]
    }
   ],
   "source": [
    "!pip install IPythonBell"
   ]
  },
  {
   "cell_type": "code",
   "execution_count": null,
   "metadata": {
    "collapsed": true
   },
   "outputs": [],
   "source": [
    "%bell print 'hello'"
   ]
  },
  {
   "cell_type": "code",
   "execution_count": 112,
   "metadata": {},
   "outputs": [
    {
     "data": {
      "text/plain": [
       "numpy.ndarray"
      ]
     },
     "execution_count": 112,
     "metadata": {},
     "output_type": "execute_result"
    }
   ],
   "source": [
    "type(SVD_tfidf)"
   ]
  },
  {
   "cell_type": "code",
   "execution_count": 113,
   "metadata": {},
   "outputs": [
    {
     "data": {
      "text/plain": [
       "numpy.ndarray"
      ]
     },
     "execution_count": 113,
     "metadata": {},
     "output_type": "execute_result"
    }
   ],
   "source": [
    "type(X_tfidf.data)"
   ]
  },
  {
   "cell_type": "code",
   "execution_count": 116,
   "metadata": {},
   "outputs": [
    {
     "data": {
      "text/plain": [
       "458191"
      ]
     },
     "execution_count": 116,
     "metadata": {},
     "output_type": "execute_result"
    }
   ],
   "source": [
    "len(X_tfidf.data)"
   ]
  },
  {
   "cell_type": "code",
   "execution_count": 121,
   "metadata": {},
   "outputs": [
    {
     "ename": "IndexError",
     "evalue": "tuple index out of range",
     "output_type": "error",
     "traceback": [
      "\u001b[0;31m---------------------------------------------------------------------------\u001b[0m",
      "\u001b[0;31mIndexError\u001b[0m                                Traceback (most recent call last)",
      "\u001b[0;32m<ipython-input-121-d519e0ed7160>\u001b[0m in \u001b[0;36m<module>\u001b[0;34m()\u001b[0m\n\u001b[1;32m      1\u001b[0m \u001b[0;32mfrom\u001b[0m \u001b[0mbhtsne\u001b[0m \u001b[0;32mimport\u001b[0m \u001b[0mtsne\u001b[0m\u001b[0;34m\u001b[0m\u001b[0m\n\u001b[0;32m----> 2\u001b[0;31m \u001b[0mTSNE_tfidf\u001b[0m \u001b[0;34m=\u001b[0m \u001b[0mtsne\u001b[0m\u001b[0;34m(\u001b[0m\u001b[0mX\u001b[0m\u001b[0;34m[\u001b[0m\u001b[0;34m'cleaned_text'\u001b[0m\u001b[0;34m]\u001b[0m\u001b[0;34m)\u001b[0m\u001b[0;34m\u001b[0m\u001b[0m\n\u001b[0m\u001b[1;32m      3\u001b[0m \u001b[0mplt\u001b[0m\u001b[0;34m.\u001b[0m\u001b[0mscatter\u001b[0m\u001b[0;34m(\u001b[0m\u001b[0mTSNE_tfidf\u001b[0m\u001b[0;34m[\u001b[0m\u001b[0;34m:\u001b[0m\u001b[0;34m,\u001b[0m \u001b[0;36m0\u001b[0m\u001b[0;34m]\u001b[0m\u001b[0;34m,\u001b[0m \u001b[0mTSNE_tfidf\u001b[0m\u001b[0;34m[\u001b[0m\u001b[0;34m:\u001b[0m\u001b[0;34m,\u001b[0m \u001b[0;36m1\u001b[0m\u001b[0;34m]\u001b[0m\u001b[0;34m,\u001b[0m \u001b[0mc\u001b[0m\u001b[0;34m=\u001b[0m\u001b[0my_le\u001b[0m\u001b[0;34m)\u001b[0m\u001b[0;34m\u001b[0m\u001b[0m\n\u001b[1;32m      4\u001b[0m \u001b[0mplt\u001b[0m\u001b[0;34m.\u001b[0m\u001b[0mshow\u001b[0m\u001b[0;34m(\u001b[0m\u001b[0;34m)\u001b[0m\u001b[0;34m\u001b[0m\u001b[0m\n",
      "\u001b[0;32m/opt/conda/lib/python3.5/site-packages/bhtsne/__init__.py\u001b[0m in \u001b[0;36mtsne\u001b[0;34m(data, dimensions, perplexity, theta, rand_seed, seed_positions)\u001b[0m\n\u001b[1;32m     13\u001b[0m         \u001b[0;32mif\u001b[0m \u001b[0mseed_positions\u001b[0m\u001b[0;34m.\u001b[0m\u001b[0mshape\u001b[0m\u001b[0;34m[\u001b[0m\u001b[0;36m0\u001b[0m\u001b[0;34m]\u001b[0m \u001b[0;34m!=\u001b[0m \u001b[0mdata\u001b[0m\u001b[0;34m.\u001b[0m\u001b[0mshape\u001b[0m\u001b[0;34m[\u001b[0m\u001b[0;36m0\u001b[0m\u001b[0;34m]\u001b[0m\u001b[0;34m:\u001b[0m\u001b[0;34m\u001b[0m\u001b[0m\n\u001b[1;32m     14\u001b[0m             \u001b[0;32mraise\u001b[0m \u001b[0mInvalidSeedPositionError\u001b[0m\u001b[0;34m(\u001b[0m\u001b[0;34m\"Seed positions needs to be same number of rows as input matrix\"\u001b[0m\u001b[0;34m)\u001b[0m\u001b[0;34m\u001b[0m\u001b[0m\n\u001b[0;32m---> 15\u001b[0;31m     \u001b[0mY\u001b[0m \u001b[0;34m=\u001b[0m \u001b[0mtsne\u001b[0m\u001b[0;34m.\u001b[0m\u001b[0mrun\u001b[0m\u001b[0;34m(\u001b[0m\u001b[0mdata\u001b[0m\u001b[0;34m,\u001b[0m \u001b[0mdata\u001b[0m\u001b[0;34m.\u001b[0m\u001b[0mshape\u001b[0m\u001b[0;34m[\u001b[0m\u001b[0;36m0\u001b[0m\u001b[0;34m]\u001b[0m\u001b[0;34m,\u001b[0m \u001b[0mdata\u001b[0m\u001b[0;34m.\u001b[0m\u001b[0mshape\u001b[0m\u001b[0;34m[\u001b[0m\u001b[0;36m1\u001b[0m\u001b[0;34m]\u001b[0m\u001b[0;34m,\u001b[0m \u001b[0mdimensions\u001b[0m\u001b[0;34m,\u001b[0m \u001b[0mperplexity\u001b[0m\u001b[0;34m,\u001b[0m \u001b[0mtheta\u001b[0m\u001b[0;34m,\u001b[0m \u001b[0mrand_seed\u001b[0m\u001b[0;34m,\u001b[0m \u001b[0mseed_positions\u001b[0m\u001b[0;34m,\u001b[0m \u001b[0mskip_random_init\u001b[0m\u001b[0;34m)\u001b[0m\u001b[0;34m\u001b[0m\u001b[0m\n\u001b[0m\u001b[1;32m     16\u001b[0m     \u001b[0;32mreturn\u001b[0m \u001b[0mY\u001b[0m\u001b[0;34m\u001b[0m\u001b[0m\n",
      "\u001b[0;31mIndexError\u001b[0m: tuple index out of range"
     ]
    }
   ],
   "source": [
    "from bhtsne import tsne\n",
    "TSNE_tfidf = tsne(X['cleaned_text'])\n",
    "plt.scatter(TSNE_tfidf[:, 0], TSNE_tfidf[:, 1], c=y_le)\n",
    "plt.show()"
   ]
  },
  {
   "cell_type": "code",
   "execution_count": 118,
   "metadata": {},
   "outputs": [
    {
     "ename": "IndexError",
     "evalue": "tuple index out of range",
     "output_type": "error",
     "traceback": [
      "\u001b[0;31m---------------------------------------------------------------------------\u001b[0m",
      "\u001b[0;31mIndexError\u001b[0m                                Traceback (most recent call last)",
      "\u001b[0;32m<ipython-input-118-953b56a6589b>\u001b[0m in \u001b[0;36m<module>\u001b[0;34m()\u001b[0m\n\u001b[1;32m      1\u001b[0m \u001b[0;32mfrom\u001b[0m \u001b[0mbhtsne\u001b[0m \u001b[0;32mimport\u001b[0m \u001b[0mtsne\u001b[0m\u001b[0;34m\u001b[0m\u001b[0m\n\u001b[0;32m----> 2\u001b[0;31m \u001b[0mTSNE_tfidf\u001b[0m \u001b[0;34m=\u001b[0m \u001b[0mtsne\u001b[0m\u001b[0;34m(\u001b[0m\u001b[0mX_tfidf\u001b[0m\u001b[0;34m.\u001b[0m\u001b[0mdata\u001b[0m\u001b[0;34m)\u001b[0m\u001b[0;34m\u001b[0m\u001b[0m\n\u001b[0m\u001b[1;32m      3\u001b[0m \u001b[0mplt\u001b[0m\u001b[0;34m.\u001b[0m\u001b[0mscatter\u001b[0m\u001b[0;34m(\u001b[0m\u001b[0mTSNE_tfidf\u001b[0m\u001b[0;34m[\u001b[0m\u001b[0;34m:\u001b[0m\u001b[0;34m,\u001b[0m \u001b[0;36m0\u001b[0m\u001b[0;34m]\u001b[0m\u001b[0;34m,\u001b[0m \u001b[0mTSNE_tfidf\u001b[0m\u001b[0;34m[\u001b[0m\u001b[0;34m:\u001b[0m\u001b[0;34m,\u001b[0m \u001b[0;36m1\u001b[0m\u001b[0;34m]\u001b[0m\u001b[0;34m,\u001b[0m \u001b[0mc\u001b[0m\u001b[0;34m=\u001b[0m\u001b[0my_le\u001b[0m\u001b[0;34m)\u001b[0m\u001b[0;34m\u001b[0m\u001b[0m\n\u001b[1;32m      4\u001b[0m \u001b[0mplt\u001b[0m\u001b[0;34m.\u001b[0m\u001b[0mshow\u001b[0m\u001b[0;34m(\u001b[0m\u001b[0;34m)\u001b[0m\u001b[0;34m\u001b[0m\u001b[0m\n",
      "\u001b[0;32m/opt/conda/lib/python3.5/site-packages/bhtsne/__init__.py\u001b[0m in \u001b[0;36mtsne\u001b[0;34m(data, dimensions, perplexity, theta, rand_seed, seed_positions)\u001b[0m\n\u001b[1;32m     13\u001b[0m         \u001b[0;32mif\u001b[0m \u001b[0mseed_positions\u001b[0m\u001b[0;34m.\u001b[0m\u001b[0mshape\u001b[0m\u001b[0;34m[\u001b[0m\u001b[0;36m0\u001b[0m\u001b[0;34m]\u001b[0m \u001b[0;34m!=\u001b[0m \u001b[0mdata\u001b[0m\u001b[0;34m.\u001b[0m\u001b[0mshape\u001b[0m\u001b[0;34m[\u001b[0m\u001b[0;36m0\u001b[0m\u001b[0;34m]\u001b[0m\u001b[0;34m:\u001b[0m\u001b[0;34m\u001b[0m\u001b[0m\n\u001b[1;32m     14\u001b[0m             \u001b[0;32mraise\u001b[0m \u001b[0mInvalidSeedPositionError\u001b[0m\u001b[0;34m(\u001b[0m\u001b[0;34m\"Seed positions needs to be same number of rows as input matrix\"\u001b[0m\u001b[0;34m)\u001b[0m\u001b[0;34m\u001b[0m\u001b[0m\n\u001b[0;32m---> 15\u001b[0;31m     \u001b[0mY\u001b[0m \u001b[0;34m=\u001b[0m \u001b[0mtsne\u001b[0m\u001b[0;34m.\u001b[0m\u001b[0mrun\u001b[0m\u001b[0;34m(\u001b[0m\u001b[0mdata\u001b[0m\u001b[0;34m,\u001b[0m \u001b[0mdata\u001b[0m\u001b[0;34m.\u001b[0m\u001b[0mshape\u001b[0m\u001b[0;34m[\u001b[0m\u001b[0;36m0\u001b[0m\u001b[0;34m]\u001b[0m\u001b[0;34m,\u001b[0m \u001b[0mdata\u001b[0m\u001b[0;34m.\u001b[0m\u001b[0mshape\u001b[0m\u001b[0;34m[\u001b[0m\u001b[0;36m1\u001b[0m\u001b[0;34m]\u001b[0m\u001b[0;34m,\u001b[0m \u001b[0mdimensions\u001b[0m\u001b[0;34m,\u001b[0m \u001b[0mperplexity\u001b[0m\u001b[0;34m,\u001b[0m \u001b[0mtheta\u001b[0m\u001b[0;34m,\u001b[0m \u001b[0mrand_seed\u001b[0m\u001b[0;34m,\u001b[0m \u001b[0mseed_positions\u001b[0m\u001b[0;34m,\u001b[0m \u001b[0mskip_random_init\u001b[0m\u001b[0;34m)\u001b[0m\u001b[0;34m\u001b[0m\u001b[0m\n\u001b[0m\u001b[1;32m     16\u001b[0m     \u001b[0;32mreturn\u001b[0m \u001b[0mY\u001b[0m\u001b[0;34m\u001b[0m\u001b[0m\n",
      "\u001b[0;31mIndexError\u001b[0m: tuple index out of range"
     ]
    }
   ],
   "source": [
    "from bhtsne import tsne\n",
    "TSNE_tfidf = tsne(X_tfidf.data)\n",
    "plt.scatter(TSNE_tfidf[:, 0], TSNE_tfidf[:, 1], c=y_le)\n",
    "plt.show()"
   ]
  },
  {
   "cell_type": "code",
   "execution_count": 45,
   "metadata": {},
   "outputs": [
    {
     "data": {
      "text/html": [
       "<div>\n",
       "<table border=\"1\" class=\"dataframe\">\n",
       "  <thead>\n",
       "    <tr style=\"text-align: right;\">\n",
       "      <th></th>\n",
       "      <th>00</th>\n",
       "      <th>000</th>\n",
       "      <th>000 jobs</th>\n",
       "      <th>000 people</th>\n",
       "      <th>000 year</th>\n",
       "      <th>02</th>\n",
       "      <th>03</th>\n",
       "      <th>04</th>\n",
       "      <th>05</th>\n",
       "      <th>09</th>\n",
       "      <th>...</th>\n",
       "      <th>yrs making new</th>\n",
       "      <th>ytd</th>\n",
       "      <th>yup</th>\n",
       "      <th>zachbraff</th>\n",
       "      <th>zealand</th>\n",
       "      <th>zelda</th>\n",
       "      <th>zero</th>\n",
       "      <th>zika</th>\n",
       "      <th>zone</th>\n",
       "      <th>zuckerberg</th>\n",
       "    </tr>\n",
       "  </thead>\n",
       "  <tbody>\n",
       "    <tr>\n",
       "      <th>component_1</th>\n",
       "      <td>0.002262</td>\n",
       "      <td>0.021449</td>\n",
       "      <td>0.001379</td>\n",
       "      <td>0.001120</td>\n",
       "      <td>0.001287</td>\n",
       "      <td>0.001562</td>\n",
       "      <td>0.001836</td>\n",
       "      <td>0.000962</td>\n",
       "      <td>0.000919</td>\n",
       "      <td>0.000723</td>\n",
       "      <td>...</td>\n",
       "      <td>0.000417</td>\n",
       "      <td>0.001391</td>\n",
       "      <td>0.000828</td>\n",
       "      <td>0.001763</td>\n",
       "      <td>0.000807</td>\n",
       "      <td>0.000352</td>\n",
       "      <td>0.003675</td>\n",
       "      <td>0.001080</td>\n",
       "      <td>0.000739</td>\n",
       "      <td>0.002987</td>\n",
       "    </tr>\n",
       "    <tr>\n",
       "      <th>component_2</th>\n",
       "      <td>-0.003911</td>\n",
       "      <td>-0.028358</td>\n",
       "      <td>-0.002644</td>\n",
       "      <td>-0.002468</td>\n",
       "      <td>-0.002165</td>\n",
       "      <td>0.000520</td>\n",
       "      <td>0.000301</td>\n",
       "      <td>0.000231</td>\n",
       "      <td>-0.000659</td>\n",
       "      <td>-0.000646</td>\n",
       "      <td>...</td>\n",
       "      <td>-0.001180</td>\n",
       "      <td>-0.002643</td>\n",
       "      <td>-0.000359</td>\n",
       "      <td>0.000740</td>\n",
       "      <td>-0.001823</td>\n",
       "      <td>-0.000905</td>\n",
       "      <td>-0.004450</td>\n",
       "      <td>-0.000272</td>\n",
       "      <td>-0.000556</td>\n",
       "      <td>-0.004137</td>\n",
       "    </tr>\n",
       "    <tr>\n",
       "      <th>component_3</th>\n",
       "      <td>-0.004226</td>\n",
       "      <td>-0.036128</td>\n",
       "      <td>-0.001480</td>\n",
       "      <td>-0.002507</td>\n",
       "      <td>-0.003344</td>\n",
       "      <td>-0.000834</td>\n",
       "      <td>-0.001397</td>\n",
       "      <td>-0.000630</td>\n",
       "      <td>-0.000922</td>\n",
       "      <td>-0.001473</td>\n",
       "      <td>...</td>\n",
       "      <td>-0.002171</td>\n",
       "      <td>-0.005126</td>\n",
       "      <td>-0.000713</td>\n",
       "      <td>-0.000559</td>\n",
       "      <td>-0.001972</td>\n",
       "      <td>-0.001145</td>\n",
       "      <td>-0.004078</td>\n",
       "      <td>-0.000870</td>\n",
       "      <td>-0.000765</td>\n",
       "      <td>-0.004368</td>\n",
       "    </tr>\n",
       "  </tbody>\n",
       "</table>\n",
       "<p>3 rows × 5268 columns</p>\n",
       "</div>"
      ],
      "text/plain": [
       "                   00       000  000 jobs  000 people  000 year        02  \\\n",
       "component_1  0.002262  0.021449  0.001379    0.001120  0.001287  0.001562   \n",
       "component_2 -0.003911 -0.028358 -0.002644   -0.002468 -0.002165  0.000520   \n",
       "component_3 -0.004226 -0.036128 -0.001480   -0.002507 -0.003344 -0.000834   \n",
       "\n",
       "                   03        04        05        09     ...      \\\n",
       "component_1  0.001836  0.000962  0.000919  0.000723     ...       \n",
       "component_2  0.000301  0.000231 -0.000659 -0.000646     ...       \n",
       "component_3 -0.001397 -0.000630 -0.000922 -0.001473     ...       \n",
       "\n",
       "             yrs making new       ytd       yup  zachbraff   zealand  \\\n",
       "component_1        0.000417  0.001391  0.000828   0.001763  0.000807   \n",
       "component_2       -0.001180 -0.002643 -0.000359   0.000740 -0.001823   \n",
       "component_3       -0.002171 -0.005126 -0.000713  -0.000559 -0.001972   \n",
       "\n",
       "                zelda      zero      zika      zone  zuckerberg  \n",
       "component_1  0.000352  0.003675  0.001080  0.000739    0.002987  \n",
       "component_2 -0.000905 -0.004450 -0.000272 -0.000556   -0.004137  \n",
       "component_3 -0.001145 -0.004078 -0.000870 -0.000765   -0.004368  \n",
       "\n",
       "[3 rows x 5268 columns]"
      ]
     },
     "execution_count": 45,
     "metadata": {},
     "output_type": "execute_result"
    }
   ],
   "source": [
    "vocabulary_expression"
   ]
  },
  {
   "cell_type": "code",
   "execution_count": 26,
   "metadata": {},
   "outputs": [
    {
     "ename": "AttributeError",
     "evalue": "inverse_transform not found",
     "output_type": "error",
     "traceback": [
      "\u001b[0;31m\u001b[0m",
      "\u001b[0;31mAttributeError\u001b[0mTraceback (most recent call last)",
      "\u001b[0;32m<ipython-input-26-fbe3b152d857>\u001b[0m in \u001b[0;36m<module>\u001b[0;34m()\u001b[0m\n\u001b[0;32m----> 1\u001b[0;31m \u001b[0mX_tfidf\u001b[0m\u001b[0;34m.\u001b[0m\u001b[0minverse_transform\u001b[0m\u001b[0;34m(\u001b[0m\u001b[0my_le\u001b[0m\u001b[0;34m)\u001b[0m\u001b[0;34m\u001b[0m\u001b[0m\n\u001b[0m",
      "\u001b[0;32m/opt/conda/lib/python3.5/site-packages/scipy/sparse/base.py\u001b[0m in \u001b[0;36m__getattr__\u001b[0;34m(self, attr)\u001b[0m\n\u001b[1;32m    574\u001b[0m             \u001b[0;32mreturn\u001b[0m \u001b[0mself\u001b[0m\u001b[0;34m.\u001b[0m\u001b[0mgetnnz\u001b[0m\u001b[0;34m(\u001b[0m\u001b[0;34m)\u001b[0m\u001b[0;34m\u001b[0m\u001b[0m\n\u001b[1;32m    575\u001b[0m         \u001b[0;32melse\u001b[0m\u001b[0;34m:\u001b[0m\u001b[0;34m\u001b[0m\u001b[0m\n\u001b[0;32m--> 576\u001b[0;31m             \u001b[0;32mraise\u001b[0m \u001b[0mAttributeError\u001b[0m\u001b[0;34m(\u001b[0m\u001b[0mattr\u001b[0m \u001b[0;34m+\u001b[0m \u001b[0;34m\" not found\"\u001b[0m\u001b[0;34m)\u001b[0m\u001b[0;34m\u001b[0m\u001b[0m\n\u001b[0m\u001b[1;32m    577\u001b[0m \u001b[0;34m\u001b[0m\u001b[0m\n\u001b[1;32m    578\u001b[0m     \u001b[0;32mdef\u001b[0m \u001b[0mtranspose\u001b[0m\u001b[0;34m(\u001b[0m\u001b[0mself\u001b[0m\u001b[0;34m,\u001b[0m \u001b[0maxes\u001b[0m\u001b[0;34m=\u001b[0m\u001b[0;32mNone\u001b[0m\u001b[0;34m,\u001b[0m \u001b[0mcopy\u001b[0m\u001b[0;34m=\u001b[0m\u001b[0;32mFalse\u001b[0m\u001b[0;34m)\u001b[0m\u001b[0;34m:\u001b[0m\u001b[0;34m\u001b[0m\u001b[0m\n",
      "\u001b[0;31mAttributeError\u001b[0m: inverse_transform not found"
     ]
    }
   ],
   "source": [
    "X_tfidf.inverse_transform(y_le)"
   ]
  },
  {
   "cell_type": "code",
   "execution_count": null,
   "metadata": {
    "collapsed": true
   },
   "outputs": [],
   "source": []
  }
 ],
 "metadata": {
  "kernelspec": {
   "display_name": "Python 3",
   "language": "python",
   "name": "python3"
  },
  "language_info": {
   "codemirror_mode": {
    "name": "ipython",
    "version": 3
   },
   "file_extension": ".py",
   "mimetype": "text/x-python",
   "name": "python",
   "nbconvert_exporter": "python",
   "pygments_lexer": "ipython3",
   "version": "3.5.2"
  }
 },
 "nbformat": 4,
 "nbformat_minor": 2
}
