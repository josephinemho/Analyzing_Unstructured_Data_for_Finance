{
 "cells": [
  {
   "cell_type": "markdown",
   "metadata": {},
   "source": [
    "# Part 7 -- LSA\n",
    "\n",
    "Prepare data for **Singular Value Decomposition (SVD)**."
   ]
  },
  {
   "cell_type": "markdown",
   "metadata": {},
   "source": [
    "### Load lib codes:"
   ]
  },
  {
   "cell_type": "code",
   "execution_count": 11,
   "metadata": {
    "scrolled": true
   },
   "outputs": [
    {
     "name": "stdout",
     "output_type": "stream",
     "text": [
      "/home/jovyan/work/Portfolio/predicting_stock_market_trends_with_Twitter\r\n"
     ]
    }
   ],
   "source": [
    "!pwd"
   ]
  },
  {
   "cell_type": "code",
   "execution_count": 12,
   "metadata": {
    "collapsed": true
   },
   "outputs": [],
   "source": [
    "from os import chdir\n",
    "chdir('/home/jovyan/work/Portfolio/predicting_stock_market_trends_with_Twitter/')\n",
    "\n",
    "from lib import *\n",
    "from lib.twitter_keys import my_keys\n",
    "# suppress_warnings()\n",
    "%matplotlib inline\n"
   ]
  },
  {
   "cell_type": "code",
   "execution_count": 13,
   "metadata": {
    "collapsed": true
   },
   "outputs": [],
   "source": [
    "X = pd.read_pickle('../predicting_stock_market_trends_with_Twitter/data/X.pickle')"
   ]
  },
  {
   "cell_type": "code",
   "execution_count": 14,
   "metadata": {
    "collapsed": true
   },
   "outputs": [],
   "source": [
    "y_le = pd.read_pickle('../predicting_stock_market_trends_with_Twitter/data/y_AAPL_le.pickle')"
   ]
  },
  {
   "cell_type": "markdown",
   "metadata": {},
   "source": [
    "SVD does what you tell it to do, so keep components empty so it does it all. PCA does it all and then returns the important ones to you. Generally, you want to use SVD when you have more columns than rows. "
   ]
  },
  {
   "cell_type": "code",
   "execution_count": 15,
   "metadata": {
    "collapsed": true
   },
   "outputs": [],
   "source": [
    "from sklearn.feature_extraction.text import TfidfVectorizer\n",
    "from sklearn.decomposition import TruncatedSVD"
   ]
  },
  {
   "cell_type": "code",
   "execution_count": 115,
   "metadata": {},
   "outputs": [
    {
     "name": "stdout",
     "output_type": "stream",
     "text": [
      "0:00:09.251104\n"
     ]
    }
   ],
   "source": [
    "start = datetime.now()\n",
    "\n",
    "tfidf = TfidfVectorizer(ngram_range=(1,3), min_df=2)\n",
    "X_tfidf = tfidf.fit_transform(X['cleaned_text'])\n",
    "\n",
    "end = datetime.now()\n",
    "print(end - start)"
   ]
  },
  {
   "cell_type": "markdown",
   "metadata": {},
   "source": [
    "### Explore TFIDF vectors"
   ]
  },
  {
   "cell_type": "code",
   "execution_count": 21,
   "metadata": {},
   "outputs": [
    {
     "data": {
      "text/plain": [
       "['édouard',\n",
       " 'édouard louis',\n",
       " 'édouard louis who',\n",
       " 'él',\n",
       " 'élisabeth',\n",
       " 'élisabeth gille',\n",
       " 'élisabeth gille le',\n",
       " '爱彼迎',\n",
       " '爱彼迎 aibiying',\n",
       " '爱彼迎 aibiying which']"
      ]
     },
     "execution_count": 21,
     "metadata": {},
     "output_type": "execute_result"
    }
   ],
   "source": [
    "tfidf.get_feature_names()[-10:]"
   ]
  },
  {
   "cell_type": "markdown",
   "metadata": {},
   "source": [
    "### Do an SVD with a lot of n_components to see how many you want to assign later:"
   ]
  },
  {
   "cell_type": "code",
   "execution_count": 102,
   "metadata": {},
   "outputs": [],
   "source": [
    "SVD = TruncatedSVD(300)\n",
    "latent_semantic_analysis = SVD.fit_transform(X_tfidf)"
   ]
  },
  {
   "cell_type": "code",
   "execution_count": 103,
   "metadata": {
    "scrolled": false
   },
   "outputs": [
    {
     "data": {
      "text/plain": [
       "(0, 0.05)"
      ]
     },
     "execution_count": 103,
     "metadata": {},
     "output_type": "execute_result"
    },
    {
     "data": {
      "image/png": "[encoded data removed]",
      "text/plain": [
       "<matplotlib.figure.Figure at 0x7ff96c8c51d0>"
      ]
     },
     "metadata": {},
     "output_type": "display_data"
    }
   ],
   "source": [
    "x = list(range(len(SVD.explained_variance_ratio_)))\n",
    "plt.plot(x, np.cumsum(SVD.explained_variance_ratio_), label='Cumulative Explained Variance', color='black')\n",
    "plt.bar(x, SVD.explained_variance_ratio_)\n",
    "plt.legend()\n",
    "plt.ylim(0,.05)"
   ]
  },
  {
   "cell_type": "code",
   "execution_count": 98,
   "metadata": {
    "scrolled": false
   },
   "outputs": [
    {
     "data": {
      "text/plain": [
       "array([ 0.00101907,  0.00273266,  0.00407299,  0.00526017,  0.00642892,\n",
       "        0.00746421,  0.0084871 ,  0.00950442,  0.01049954,  0.01147103,\n",
       "        0.01240875,  0.01333355,  0.01424217,  0.0151174 ,  0.015962  ,\n",
       "        0.01677603,  0.01758113,  0.0183554 ,  0.01912292,  0.01987844,\n",
       "        0.02061397,  0.02134232,  0.0220518 ,  0.02275903,  0.02346141,\n",
       "        0.02415756,  0.02483917,  0.02551188,  0.02617342,  0.02682307,\n",
       "        0.02746881,  0.02810318,  0.02872963,  0.02935495,  0.02997542,\n",
       "        0.03058356,  0.03117656,  0.03176268,  0.03234479,  0.03291886,\n",
       "        0.03348805,  0.03405428,  0.03461778,  0.03517304,  0.03572025,\n",
       "        0.03626345,  0.03680085,  0.0373347 ,  0.03786377,  0.03838778,\n",
       "        0.03890645,  0.03942252,  0.03993605,  0.04044423,  0.04095005,\n",
       "        0.04144904,  0.04194647,  0.04244023,  0.0429234 ,  0.04340315,\n",
       "        0.04388164,  0.04435888,  0.04482908,  0.04529398,  0.04575445,\n",
       "        0.0462094 ,  0.046663  ,  0.04711405,  0.04756255,  0.04800756,\n",
       "        0.04845021,  0.04889244,  0.04933066,  0.04976685,  0.05020078,\n",
       "        0.05062855,  0.05105175,  0.05147396,  0.05189473,  0.05231459,\n",
       "        0.05273041,  0.0531427 ,  0.05355092,  0.05395596,  0.05435889,\n",
       "        0.05476048,  0.05515969,  0.05555705,  0.05595141,  0.05634432,\n",
       "        0.05673599,  0.057126  ,  0.05751488,  0.05790081,  0.0582855 ,\n",
       "        0.05866678,  0.05904659,  0.05942311,  0.05979753,  0.06017059,\n",
       "        0.06054126,  0.06091085,  0.0612793 ,  0.06164646,  0.06201089,\n",
       "        0.06237345,  0.06273497,  0.06309575,  0.06345461,  0.06381234,\n",
       "        0.06416797,  0.06451963,  0.06486976,  0.06521694,  0.06556271,\n",
       "        0.06590813,  0.0662521 ,  0.06659351,  0.06693338,  0.06727186,\n",
       "        0.06760942,  0.06794635,  0.06828233,  0.06861656,  0.06895053,\n",
       "        0.06928392,  0.06961502,  0.06994402,  0.07027217,  0.07059963,\n",
       "        0.0709258 ,  0.0712512 ,  0.0715757 ,  0.07189827,  0.07221953,\n",
       "        0.07253995,  0.07285961,  0.07317712,  0.07349381,  0.07380903,\n",
       "        0.07412216,  0.07443355,  0.07474438,  0.07505383,  0.07536187,\n",
       "        0.07566883,  0.07597414,  0.07627775,  0.07658008,  0.07688126,\n",
       "        0.07718058,  0.07747849,  0.07777602,  0.07807166,  0.0783655 ,\n",
       "        0.07865754,  0.07894778,  0.07923687,  0.07952513,  0.07981196,\n",
       "        0.0800967 ,  0.08038013,  0.08066322,  0.08094495,  0.08122566,\n",
       "        0.08150442,  0.08178303,  0.08206059,  0.08233708,  0.08261271,\n",
       "        0.08288758,  0.08316226,  0.08343559,  0.08370707,  0.08397804,\n",
       "        0.08424861,  0.08451887,  0.08478731,  0.08505491,  0.08532119,\n",
       "        0.08558614,  0.08585082,  0.08611482,  0.08637787,  0.08664058,\n",
       "        0.08690191,  0.0871621 ,  0.08742165,  0.08768073,  0.0879392 ,\n",
       "        0.08819746,  0.08845361,  0.08870926,  0.08896417,  0.08921864,\n",
       "        0.08947174,  0.08972455,  0.08997685,  0.09022899,  0.09048027,\n",
       "        0.09073131,  0.09098144,  0.09123068,  0.09147885,  0.09172686,\n",
       "        0.09197414,  0.09222104,  0.09246697,  0.09271242,  0.09295748,\n",
       "        0.09320104,  0.09344425,  0.09368706,  0.09392851,  0.09416981,\n",
       "        0.09440989,  0.09464965,  0.09488898,  0.09512712,  0.09536481,\n",
       "        0.09560194,  0.09583846,  0.09607398,  0.09630941,  0.09654398,\n",
       "        0.09677778,  0.09701131,  0.09724429,  0.09747583,  0.09770628,\n",
       "        0.09793632,  0.09816595,  0.09839486,  0.09862329,  0.09885154,\n",
       "        0.09907937,  0.09930634,  0.09953214,  0.09975767,  0.0999821 ,\n",
       "        0.10020633,  0.10042983,  0.10065265,  0.10087481,  0.10109657,\n",
       "        0.10131802,  0.10153903,  0.10175955,  0.10197901,  0.10219806,\n",
       "        0.10241676,  0.10263455,  0.10285145,  0.10306739,  0.1032831 ,\n",
       "        0.1034984 ,  0.10371286,  0.10392666,  0.10413959,  0.10435178,\n",
       "        0.1045637 ,  0.10477478,  0.10498554,  0.10519591,  0.105406  ,\n",
       "        0.10561546,  0.10582402,  0.10603196,  0.10623892,  0.10644549,\n",
       "        0.1066519 ,  0.10685779,  0.10706289,  0.10726714,  0.10747031,\n",
       "        0.10767297,  0.10787491,  0.1080766 ,  0.10827735,  0.10847786,\n",
       "        0.10867778,  0.10887764,  0.1090762 ,  0.10927332,  0.10946946,\n",
       "        0.10966465,  0.10985946,  0.11005414,  0.11024816,  0.11044133,\n",
       "        0.110634  ,  0.11082605,  0.11101806,  0.11120961,  0.11140033,\n",
       "        0.11159095,  0.11178009,  0.11196802,  0.11215586,  0.11234235])"
      ]
     },
     "execution_count": 98,
     "metadata": {},
     "output_type": "execute_result"
    }
   ],
   "source": [
    "np.cumsum(SVD.explained_variance_ratio_)"
   ]
  },
  {
   "cell_type": "markdown",
   "metadata": {},
   "source": [
    "With 100 SVD n_components, we can only account for 6% of the variance in the data. We need more. \n",
    "With 300 SVD n_components, we can only account for 11% of the variance in the data. **Go back and clean data to see if we get better?**"
   ]
  },
  {
   "cell_type": "code",
   "execution_count": 77,
   "metadata": {},
   "outputs": [],
   "source": [
    "def perform_latent_semantic_analysis(n_components, vectorizer):\n",
    "    SVD = TruncatedSVD(n_components)\n",
    "    component_names = [\"component_\"+str(i+1) for i in range(n_components)]\n",
    "    latent_semantic_analysis = pd.DataFrame(SVD.fit_transform(X_tfidf),\n",
    "                                            index = X['cleaned_text'].index,\n",
    "                                            columns = component_names)\n",
    "    vocabulary_expression = pd.DataFrame(SVD.components_,\n",
    "                                         index = component_names,\n",
    "                                         columns = vectorizer.get_feature_names())\n",
    "    return latent_semantic_analysis, vocabulary_expression"
   ]
  },
  {
   "cell_type": "code",
   "execution_count": 104,
   "metadata": {
    "scrolled": true
   },
   "outputs": [],
   "source": [
    "latent_semantic_analysis, vocabulary_expression = perform_latent_semantic_analysis(3, tfidf)"
   ]
  },
  {
   "cell_type": "code",
   "execution_count": 106,
   "metadata": {},
   "outputs": [
    {
     "data": {
      "text/plain": [
       "array([0, 0, 0, ..., 2, 2, 2])"
      ]
     },
     "execution_count": 106,
     "metadata": {},
     "output_type": "execute_result"
    }
   ],
   "source": [
    "y_le"
   ]
  },
  {
   "cell_type": "code",
   "execution_count": 107,
   "metadata": {},
   "outputs": [],
   "source": [
    "latent_semantic_analysis['text'] = X['cleaned_text']\n",
    "latent_semantic_analysis['class'] = y_le"
   ]
  },
  {
   "cell_type": "code",
   "execution_count": 111,
   "metadata": {
    "scrolled": true
   },
   "outputs": [
    {
     "data": {
      "text/html": [
       "<div>\n",
       "<table border=\"1\" class=\"dataframe\">\n",
       "  <thead>\n",
       "    <tr style=\"text-align: right;\">\n",
       "      <th></th>\n",
       "      <th>component_1</th>\n",
       "      <th>component_2</th>\n",
       "      <th>component_3</th>\n",
       "      <th>text</th>\n",
       "      <th>class</th>\n",
       "    </tr>\n",
       "  </thead>\n",
       "  <tbody>\n",
       "    <tr>\n",
       "      <th>11753</th>\n",
       "      <td>0.109413</td>\n",
       "      <td>0.605966</td>\n",
       "      <td>0.479684</td>\n",
       "      <td>thank you reploubarletta</td>\n",
       "      <td>0</td>\n",
       "    </tr>\n",
       "    <tr>\n",
       "      <th>67071</th>\n",
       "      <td>0.038621</td>\n",
       "      <td>0.011256</td>\n",
       "      <td>-0.022113</td>\n",
       "      <td>scientists have a new solution for bringing cl...</td>\n",
       "      <td>0</td>\n",
       "    </tr>\n",
       "    <tr>\n",
       "      <th>69253</th>\n",
       "      <td>0.069534</td>\n",
       "      <td>-0.018054</td>\n",
       "      <td>-0.003565</td>\n",
       "      <td>nordstrom is selling dirty jeans for 425 and t...</td>\n",
       "      <td>0</td>\n",
       "    </tr>\n",
       "    <tr>\n",
       "      <th>42809</th>\n",
       "      <td>0.049758</td>\n",
       "      <td>-0.029182</td>\n",
       "      <td>0.007163</td>\n",
       "      <td>melania trump hails empowerment of women at sa...</td>\n",
       "      <td>0</td>\n",
       "    </tr>\n",
       "    <tr>\n",
       "      <th>30987</th>\n",
       "      <td>0.016414</td>\n",
       "      <td>0.010983</td>\n",
       "      <td>-0.006945</td>\n",
       "      <td>rcfox4kc i ll buy shares</td>\n",
       "      <td>1</td>\n",
       "    </tr>\n",
       "    <tr>\n",
       "      <th>29199</th>\n",
       "      <td>0.090264</td>\n",
       "      <td>-0.007785</td>\n",
       "      <td>0.002806</td>\n",
       "      <td>seeing with your tongue and hearing with color...</td>\n",
       "      <td>0</td>\n",
       "    </tr>\n",
       "    <tr>\n",
       "      <th>73009</th>\n",
       "      <td>0.041539</td>\n",
       "      <td>-0.000353</td>\n",
       "      <td>-0.010161</td>\n",
       "      <td>join me for a fireside chat at mit classroom 2...</td>\n",
       "      <td>0</td>\n",
       "    </tr>\n",
       "    <tr>\n",
       "      <th>72965</th>\n",
       "      <td>0.039045</td>\n",
       "      <td>-0.010709</td>\n",
       "      <td>0.001030</td>\n",
       "      <td>innovation 50x in companies and government age...</td>\n",
       "      <td>0</td>\n",
       "    </tr>\n",
       "    <tr>\n",
       "      <th>57361</th>\n",
       "      <td>0.047467</td>\n",
       "      <td>0.088516</td>\n",
       "      <td>0.018109</td>\n",
       "      <td>nicoleperlroth nicole do you know what sam ha...</td>\n",
       "      <td>0</td>\n",
       "    </tr>\n",
       "    <tr>\n",
       "      <th>13640</th>\n",
       "      <td>0.062639</td>\n",
       "      <td>-0.046094</td>\n",
       "      <td>0.043386</td>\n",
       "      <td>activism ran in the family of bertrand russell...</td>\n",
       "      <td>1</td>\n",
       "    </tr>\n",
       "  </tbody>\n",
       "</table>\n",
       "</div>"
      ],
      "text/plain": [
       "       component_1  component_2  component_3  \\\n",
       "11753     0.109413     0.605966     0.479684   \n",
       "67071     0.038621     0.011256    -0.022113   \n",
       "69253     0.069534    -0.018054    -0.003565   \n",
       "42809     0.049758    -0.029182     0.007163   \n",
       "30987     0.016414     0.010983    -0.006945   \n",
       "29199     0.090264    -0.007785     0.002806   \n",
       "73009     0.041539    -0.000353    -0.010161   \n",
       "72965     0.039045    -0.010709     0.001030   \n",
       "57361     0.047467     0.088516     0.018109   \n",
       "13640     0.062639    -0.046094     0.043386   \n",
       "\n",
       "                                                    text  class  \n",
       "11753                          thank you reploubarletta       0  \n",
       "67071  scientists have a new solution for bringing cl...      0  \n",
       "69253  nordstrom is selling dirty jeans for 425 and t...      0  \n",
       "42809  melania trump hails empowerment of women at sa...      0  \n",
       "30987                           rcfox4kc i ll buy shares      1  \n",
       "29199  seeing with your tongue and hearing with color...      0  \n",
       "73009  join me for a fireside chat at mit classroom 2...      0  \n",
       "72965  innovation 50x in companies and government age...      0  \n",
       "57361   nicoleperlroth nicole do you know what sam ha...      0  \n",
       "13640  activism ran in the family of bertrand russell...      1  "
      ]
     },
     "execution_count": 111,
     "metadata": {},
     "output_type": "execute_result"
    }
   ],
   "source": [
    "latent_semantic_analysis.sample(10)"
   ]
  },
  {
   "cell_type": "code",
   "execution_count": 112,
   "metadata": {},
   "outputs": [
    {
     "data": {
      "text/html": [
       "<div>\n",
       "<table border=\"1\" class=\"dataframe\">\n",
       "  <thead>\n",
       "    <tr style=\"text-align: right;\">\n",
       "      <th></th>\n",
       "      <th>component_1</th>\n",
       "      <th>component_2</th>\n",
       "      <th>component_3</th>\n",
       "    </tr>\n",
       "  </thead>\n",
       "  <tbody>\n",
       "    <tr>\n",
       "      <th>the</th>\n",
       "      <td>0.408355</td>\n",
       "      <td>0.341664</td>\n",
       "      <td>0.464118</td>\n",
       "    </tr>\n",
       "    <tr>\n",
       "      <th>to</th>\n",
       "      <td>0.294584</td>\n",
       "      <td>0.137377</td>\n",
       "      <td>0.361606</td>\n",
       "    </tr>\n",
       "    <tr>\n",
       "      <th>of</th>\n",
       "      <td>0.226701</td>\n",
       "      <td>0.212221</td>\n",
       "      <td>0.257890</td>\n",
       "    </tr>\n",
       "    <tr>\n",
       "      <th>is</th>\n",
       "      <td>0.200783</td>\n",
       "      <td>0.077377</td>\n",
       "      <td>0.097226</td>\n",
       "    </tr>\n",
       "    <tr>\n",
       "      <th>in</th>\n",
       "      <td>0.200244</td>\n",
       "      <td>0.110726</td>\n",
       "      <td>0.058515</td>\n",
       "    </tr>\n",
       "    <tr>\n",
       "      <th>and</th>\n",
       "      <td>0.183879</td>\n",
       "      <td>0.000980</td>\n",
       "      <td>0.056961</td>\n",
       "    </tr>\n",
       "    <tr>\n",
       "      <th>rt</th>\n",
       "      <td>0.180116</td>\n",
       "      <td>0.035074</td>\n",
       "      <td>0.198512</td>\n",
       "    </tr>\n",
       "    <tr>\n",
       "      <th>you</th>\n",
       "      <td>0.176393</td>\n",
       "      <td>0.627173</td>\n",
       "      <td>0.303188</td>\n",
       "    </tr>\n",
       "    <tr>\n",
       "      <th>for</th>\n",
       "      <td>0.164746</td>\n",
       "      <td>0.036250</td>\n",
       "      <td>0.002635</td>\n",
       "    </tr>\n",
       "    <tr>\n",
       "      <th>on</th>\n",
       "      <td>0.155539</td>\n",
       "      <td>0.042362</td>\n",
       "      <td>0.113807</td>\n",
       "    </tr>\n",
       "  </tbody>\n",
       "</table>\n",
       "</div>"
      ],
      "text/plain": [
       "     component_1  component_2  component_3\n",
       "the     0.408355     0.341664     0.464118\n",
       "to      0.294584     0.137377     0.361606\n",
       "of      0.226701     0.212221     0.257890\n",
       "is      0.200783     0.077377     0.097226\n",
       "in      0.200244     0.110726     0.058515\n",
       "and     0.183879     0.000980     0.056961\n",
       "rt      0.180116     0.035074     0.198512\n",
       "you     0.176393     0.627173     0.303188\n",
       "for     0.164746     0.036250     0.002635\n",
       "on      0.155539     0.042362     0.113807"
      ]
     },
     "execution_count": 112,
     "metadata": {},
     "output_type": "execute_result"
    }
   ],
   "source": [
    "vocabulary_expression.abs().T.sort_values('component_1', ascending=False).head(10)"
   ]
  },
  {
   "cell_type": "code",
   "execution_count": null,
   "metadata": {
    "collapsed": true
   },
   "outputs": [],
   "source": [
    "\n",
    "latent_semantic_analysis['text'] = corpus['text']\n",
    "latent_semantic_analysis['book'] = corpus['book']"
   ]
  },
  {
   "cell_type": "code",
   "execution_count": null,
   "metadata": {
    "collapsed": true
   },
   "outputs": [],
   "source": []
  },
  {
   "cell_type": "code",
   "execution_count": null,
   "metadata": {},
   "outputs": [],
   "source": [
    "y_AAPL_le.inverse_transform(le)"
   ]
  },
  {
   "cell_type": "code",
   "execution_count": null,
   "metadata": {
    "collapsed": true
   },
   "outputs": [],
   "source": []
  }
 ],
 "metadata": {
  "kernelspec": {
   "display_name": "Python 3",
   "language": "python",
   "name": "python3"
  },
  "language_info": {
   "codemirror_mode": {
    "name": "ipython",
    "version": 3
   },
   "file_extension": ".py",
   "mimetype": "text/x-python",
   "name": "python",
   "nbconvert_exporter": "python",
   "pygments_lexer": "ipython3",
   "version": "3.5.2"
  }
 },
 "nbformat": 4,
 "nbformat_minor": 2
}
